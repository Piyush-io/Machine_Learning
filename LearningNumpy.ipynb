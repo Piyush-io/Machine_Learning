{
 "cells": [
  {
   "cell_type": "code",
   "id": "initial_id",
   "metadata": {
    "collapsed": true,
    "ExecuteTime": {
     "end_time": "2024-07-20T06:54:42.627442Z",
     "start_time": "2024-07-20T06:54:42.624708Z"
    }
   },
   "source": "import numpy as np",
   "outputs": [],
   "execution_count": 3
  },
  {
   "metadata": {
    "ExecuteTime": {
     "end_time": "2024-07-20T06:54:42.787337Z",
     "start_time": "2024-07-20T06:54:42.785053Z"
    }
   },
   "cell_type": "code",
   "source": "np.random.seed(seed=1234)",
   "id": "8b2caa63d0f1b431",
   "outputs": [],
   "execution_count": 4
  },
  {
   "metadata": {
    "ExecuteTime": {
     "end_time": "2024-07-20T06:59:15.441971Z",
     "start_time": "2024-07-20T06:59:15.437158Z"
    }
   },
   "cell_type": "code",
   "source": [
    "x = np.array(6)\n",
    "print(\"x : \", x)  # Because it's a scalar\n",
    "print(\"X ndim : \", x.ndim)\n",
    "print(\"X shape : \", x.shape)\n",
    "print(\"X datatype : \", x.dtype)\n",
    "print(\"X size : \", x.size)\n",
    "print(\"\\n\")\n",
    "x = np.array([1, 2, 3])\n",
    "print(\"x : \", x)  # Because it's a 1D array\n",
    "print(\"X ndim : \", x.ndim)\n",
    "print(\"X shape : \", x.shape)\n",
    "print(\"X datatype : \", x.dtype)\n",
    "print(\"X size : \", x.size)"
   ],
   "id": "1be623b771feb108",
   "outputs": [
    {
     "name": "stdout",
     "output_type": "stream",
     "text": [
      "x :  6\n",
      "X ndim :  0\n",
      "X shape :  ()\n",
      "X datatype :  int64\n",
      "X size :  1\n",
      "\n",
      "\n",
      "x :  [1 2 3]\n",
      "X ndim :  1\n",
      "X shape :  (3,)\n",
      "X datatype :  int64\n",
      "X size :  3\n"
     ]
    }
   ],
   "execution_count": 9
  },
  {
   "metadata": {
    "ExecuteTime": {
     "end_time": "2024-07-20T06:59:57.616543Z",
     "start_time": "2024-07-20T06:59:57.611402Z"
    }
   },
   "cell_type": "code",
   "source": [
    "x = np.array([[1, 2, 3], [4, 5, 6]])\n",
    "print(\"x : \", x)  # Because it's a scalar\n",
    "print(\"X ndim : \", x.ndim)\n",
    "print(\"X shape : \", x.shape)\n",
    "print(\"X datatype : \", x.dtype)\n",
    "print(\"X size : \", x.size)"
   ],
   "id": "98c6328bc3f288a1",
   "outputs": [
    {
     "name": "stdout",
     "output_type": "stream",
     "text": [
      "x :  [[1 2 3]\n",
      " [4 5 6]]\n",
      "X ndim :  2\n",
      "X shape :  (2, 3)\n",
      "X datatype :  int64\n",
      "X size :  6\n"
     ]
    }
   ],
   "execution_count": 11
  },
  {
   "metadata": {
    "ExecuteTime": {
     "end_time": "2024-07-20T07:03:25.941235Z",
     "start_time": "2024-07-20T07:03:25.937832Z"
    }
   },
   "cell_type": "code",
   "source": [
    "x = np.array([[[1, 2], [3, 4]], [[5, 6], [7, 8]]])\n",
    "print(\"x:\\n\", x)\n",
    "print(\"x ndim: \", x.ndim)\n",
    "print(\"x shape:\", x.shape)\n",
    "print(\"x size: \", x.size)\n",
    "print(\"x dtype: \", x.dtype)"
   ],
   "id": "612baf8a81737d23",
   "outputs": [
    {
     "name": "stdout",
     "output_type": "stream",
     "text": [
      "x:\n",
      " [[[1 2]\n",
      "  [3 4]]\n",
      "\n",
      " [[5 6]\n",
      "  [7 8]]]\n",
      "x ndim:  3\n",
      "x shape: (2, 2, 2)\n",
      "x size:  8\n",
      "x dtype:  int64\n"
     ]
    }
   ],
   "execution_count": 12
  },
  {
   "metadata": {
    "ExecuteTime": {
     "end_time": "2024-07-20T07:05:15.020855Z",
     "start_time": "2024-07-20T07:05:15.017786Z"
    }
   },
   "cell_type": "code",
   "source": "print(\"np.zeros((2,2)):\\n\", np.zeros((2, 2)))",
   "id": "698db712499fbde4",
   "outputs": [
    {
     "name": "stdout",
     "output_type": "stream",
     "text": [
      "np.zeros((2,2)):\n",
      " [[0. 0.]\n",
      " [0. 0.]]\n"
     ]
    }
   ],
   "execution_count": 13
  },
  {
   "metadata": {
    "ExecuteTime": {
     "end_time": "2024-07-20T07:07:58.255515Z",
     "start_time": "2024-07-20T07:07:58.251009Z"
    }
   },
   "cell_type": "code",
   "source": [
    "print(\"np.zeros((3)):\\n\", np.zeros((3)))\n",
    "print(\"np.ones((2,2))\\n\", np.ones((2, 2)))\n",
    "print(\"np.eyes((2))\\n\", np.eye((2)))\n",
    "print(\"np.random.random((2,2)):\\n\", np.random.random((2, 2)))"
   ],
   "id": "908efd9a48ac02dc",
   "outputs": [
    {
     "name": "stdout",
     "output_type": "stream",
     "text": [
      "np.zeros((3)):\n",
      " [0. 0. 0.]\n",
      "np.ones((2,2))\n",
      " [[1. 1.]\n",
      " [1. 1.]]\n",
      "np.eyes((2))\n",
      " [[1. 0.]\n",
      " [0. 1.]]\n",
      "np.random.random((2,2)):\n",
      " [[0.19151945 0.62210877]\n",
      " [0.43772774 0.78535858]]\n"
     ]
    }
   ],
   "execution_count": 23
  },
  {
   "metadata": {
    "ExecuteTime": {
     "end_time": "2024-07-20T07:08:19.024109Z",
     "start_time": "2024-07-20T07:08:19.021371Z"
    }
   },
   "cell_type": "code",
   "source": [
    "x = np.array([1, 2, 3])\n",
    "print(\"x: \", x)\n",
    "print(\"x[0]: \", x[0])\n",
    "x[0] = 0\n",
    "print(\"x: \", x)"
   ],
   "id": "8002506c946ab7f7",
   "outputs": [
    {
     "name": "stdout",
     "output_type": "stream",
     "text": [
      "x:  [1 2 3]\n",
      "x[0]:  1\n",
      "x:  [0 2 3]\n"
     ]
    }
   ],
   "execution_count": 24
  },
  {
   "metadata": {
    "ExecuteTime": {
     "end_time": "2024-07-20T07:09:19.527829Z",
     "start_time": "2024-07-20T07:09:19.522835Z"
    }
   },
   "cell_type": "code",
   "source": [
    "x = np.array([[1, 2, 3, 4], [5, 6, 7, 8], [9, 10, 11, 12]])\n",
    "print(x)\n",
    "print(\"x column 1: \", x[:, 1])\n",
    "print(\"x row 0: \", x[0, :])\n",
    "print(\"x rows 0,1 & cols 1,2: \\n\", x[0:2, 1:3])"
   ],
   "id": "7e297dfd42716b12",
   "outputs": [
    {
     "name": "stdout",
     "output_type": "stream",
     "text": [
      "[[ 1  2  3  4]\n",
      " [ 5  6  7  8]\n",
      " [ 9 10 11 12]]\n",
      "x column 1:  [ 2  6 10]\n",
      "x row 0:  [1 2 3 4]\n",
      "x rows 0,1 & cols 1,2: \n",
      " [[2 3]\n",
      " [6 7]]\n"
     ]
    }
   ],
   "execution_count": 27
  },
  {
   "metadata": {
    "ExecuteTime": {
     "end_time": "2024-07-20T07:11:06.151456Z",
     "start_time": "2024-07-20T07:11:06.148820Z"
    }
   },
   "cell_type": "code",
   "source": [
    "print(x)\n",
    "rows_to_get = np.array([0, 1, 2])\n",
    "print(\"rows_to_get: \", rows_to_get)\n",
    "cols_to_get = np.array([0, 2, 1])\n",
    "print(\"cols_to_get: \", cols_to_get)\n",
    "print(\"indexed values: \", x[rows_to_get, cols_to_get])  # (0,0) (1,2) (2,1)"
   ],
   "id": "773e1660f00a9e20",
   "outputs": [
    {
     "name": "stdout",
     "output_type": "stream",
     "text": [
      "[[ 1  2  3  4]\n",
      " [ 5  6  7  8]\n",
      " [ 9 10 11 12]]\n",
      "rows_to_get:  [0 1 2]\n",
      "cols_to_get:  [0 2 1]\n",
      "indexed values:  [ 1  7 10]\n"
     ]
    }
   ],
   "execution_count": 28
  },
  {
   "metadata": {
    "ExecuteTime": {
     "end_time": "2024-07-20T07:18:36.033933Z",
     "start_time": "2024-07-20T07:18:36.029987Z"
    }
   },
   "cell_type": "code",
   "source": [
    "# Boolean array indexing\n",
    "x = np.array([[1, 2], [3, 4], [5, 6]])\n",
    "print(\"x:\\n\", x)\n",
    "print(\"x > 2:\\n\", x > 2)\n",
    "print(\"x[x > 2]:\\n\", x[x > 2].reshape(2, 2))\n"
   ],
   "id": "99bdb2252bff77a7",
   "outputs": [
    {
     "name": "stdout",
     "output_type": "stream",
     "text": [
      "x:\n",
      " [[1 2]\n",
      " [3 4]\n",
      " [5 6]]\n",
      "x > 2:\n",
      " [[False False]\n",
      " [ True  True]\n",
      " [ True  True]]\n",
      "x[x > 2]:\n",
      " [[3 4]\n",
      " [5 6]]\n"
     ]
    }
   ],
   "execution_count": 30
  },
  {
   "metadata": {
    "ExecuteTime": {
     "end_time": "2024-07-20T07:19:20.960030Z",
     "start_time": "2024-07-20T07:19:20.956147Z"
    }
   },
   "cell_type": "code",
   "source": [
    "x = np.array([[1, 2], [3, 4]], dtype=np.float64)\n",
    "y = np.array([[1, 2], [3, 4]], dtype=np.float64)\n",
    "print(\"x + y:\\n\", np.add(x, y))  # or x + y\n",
    "print(\"x - y:\\n\", np.subtract(x, y))  # or x - y\n",
    "print(\"x * y:\\n\", np.multiply(x, y))  # or x * y, this is not dot product"
   ],
   "id": "c36643bb3a7fd6d6",
   "outputs": [
    {
     "name": "stdout",
     "output_type": "stream",
     "text": [
      "x + y:\n",
      " [[2. 4.]\n",
      " [6. 8.]]\n",
      "x - y:\n",
      " [[0. 0.]\n",
      " [0. 0.]]\n",
      "x * y:\n",
      " [[ 1.  4.]\n",
      " [ 9. 16.]]\n"
     ]
    }
   ],
   "execution_count": 31
  },
  {
   "metadata": {
    "ExecuteTime": {
     "end_time": "2024-07-20T07:21:23.817222Z",
     "start_time": "2024-07-20T07:21:23.813195Z"
    }
   },
   "cell_type": "code",
   "source": "print(\"Dot product of X and Y : \", x.dot(y))",
   "id": "b067de1ca9281bd6",
   "outputs": [
    {
     "name": "stdout",
     "output_type": "stream",
     "text": [
      "Dot product of X and Y :  [[ 7. 10.]\n",
      " [15. 22.]]\n"
     ]
    }
   ],
   "execution_count": 33
  },
  {
   "metadata": {
    "ExecuteTime": {
     "end_time": "2024-07-20T07:23:37.945685Z",
     "start_time": "2024-07-20T07:23:37.941162Z"
    }
   },
   "cell_type": "code",
   "source": [
    "x = np.array([[1, 2], [3, 4]])\n",
    "print(x)\n",
    "print(\"sum all : \", np.sum(x))\n",
    "print(\"sum along axis 0 : \", np.sum(x, axis=0))\n",
    "print(\"sum along axis 1 : \", np.sum(x, axis=1))"
   ],
   "id": "cad77b1b0692043f",
   "outputs": [
    {
     "name": "stdout",
     "output_type": "stream",
     "text": [
      "[[1 2]\n",
      " [3 4]]\n",
      "sum all :  10\n",
      "sum along axis 0 :  [4 6]\n",
      "sum along axis 1 :  [3 7]\n"
     ]
    }
   ],
   "execution_count": 41
  },
  {
   "metadata": {
    "ExecuteTime": {
     "end_time": "2024-07-20T07:24:13.102488Z",
     "start_time": "2024-07-20T07:24:13.099548Z"
    }
   },
   "cell_type": "code",
   "source": "print(\"min : {} and max : {}\".format(np.min(x), np.max(x)))",
   "id": "ec6999287fe0e7d8",
   "outputs": [
    {
     "name": "stdout",
     "output_type": "stream",
     "text": [
      "min : 1 and max : 4\n"
     ]
    }
   ],
   "execution_count": 42
  },
  {
   "metadata": {
    "ExecuteTime": {
     "end_time": "2024-07-20T07:25:40.761591Z",
     "start_time": "2024-07-20T07:25:40.758787Z"
    }
   },
   "cell_type": "code",
   "source": [
    "x = np.array([[1, 2], [3, 4]])\n",
    "y = np.array(3)\n",
    "z = x + y\n",
    "print(\"z:\\n\", z)"
   ],
   "id": "2a68508d90888816",
   "outputs": [
    {
     "name": "stdout",
     "output_type": "stream",
     "text": [
      "z:\n",
      " [[4 5]\n",
      " [6 7]]\n"
     ]
    }
   ],
   "execution_count": 43
  },
  {
   "metadata": {
    "ExecuteTime": {
     "end_time": "2024-07-20T07:27:50.715946Z",
     "start_time": "2024-07-20T07:27:50.712432Z"
    }
   },
   "cell_type": "code",
   "source": [
    "a = np.array((3, 4, 5))\n",
    "b = np.expand_dims(a, axis=1)\n",
    "c = a + b"
   ],
   "id": "cd1c7db345096530",
   "outputs": [],
   "execution_count": 47
  },
  {
   "metadata": {
    "ExecuteTime": {
     "end_time": "2024-07-20T07:27:50.988773Z",
     "start_time": "2024-07-20T07:27:50.986132Z"
    }
   },
   "cell_type": "code",
   "source": [
    "a.shape\n",
    "b.shape\n",
    "c.shape\n",
    "print(c)"
   ],
   "id": "66cda4554603d860",
   "outputs": [
    {
     "name": "stdout",
     "output_type": "stream",
     "text": [
      "[[ 6  7  8]\n",
      " [ 7  8  9]\n",
      " [ 8  9 10]]\n"
     ]
    }
   ],
   "execution_count": 48
  },
  {
   "metadata": {
    "ExecuteTime": {
     "end_time": "2024-07-20T07:29:08.867111Z",
     "start_time": "2024-07-20T07:29:08.865078Z"
    }
   },
   "cell_type": "code",
   "source": [
    "a = a.reshape(-1, 1)\n",
    "a.shape\n",
    "c = a + b\n",
    "c.shape\n",
    "print(c)"
   ],
   "id": "9cb4a3544d21dbf0",
   "outputs": [
    {
     "name": "stdout",
     "output_type": "stream",
     "text": [
      "[[ 6]\n",
      " [ 8]\n",
      " [10]]\n"
     ]
    }
   ],
   "execution_count": 49
  },
  {
   "metadata": {
    "ExecuteTime": {
     "end_time": "2024-07-20T07:49:13.804664Z",
     "start_time": "2024-07-20T07:49:13.801232Z"
    }
   },
   "cell_type": "code",
   "source": [
    "x = np.array([1, 2, 3, 4, 5, 6])\n",
    "x = x.reshape(6, -1)\n",
    "print(x)"
   ],
   "id": "f059594378a530a1",
   "outputs": [
    {
     "name": "stdout",
     "output_type": "stream",
     "text": [
      "[[1]\n",
      " [2]\n",
      " [3]\n",
      " [4]\n",
      " [5]\n",
      " [6]]\n"
     ]
    }
   ],
   "execution_count": 60
  },
  {
   "metadata": {
    "ExecuteTime": {
     "end_time": "2024-07-20T08:34:09.032213Z",
     "start_time": "2024-07-20T08:34:09.026910Z"
    }
   },
   "cell_type": "code",
   "source": [
    "x = np.array([[[1, 1, 1, 1], [2, 2, 2, 2], [3, 3, 3, 3]],\n",
    "              [[10, 10, 10, 10], [20, 20, 20, 20], [30, 30, 30, 30]]])\n",
    "print(\"x:\\n\", x)\n",
    "print(\"x.shape: \", x.shape)\n",
    "y = np.transpose(x, (1, 0, 2))\n",
    "print(\"y:\\n\", y)\n",
    "print(\"y.shape: \", y.shape)\n",
    "z_correct = np.reshape(y, (y.shape[0], -1))\n",
    "print(\"z_correct:\\n\", z_correct)\n",
    "print(\"z_correct.shape: \", z_correct.shapḛ)"
   ],
   "id": "4bea2716f5c14049",
   "outputs": [
    {
     "name": "stdout",
     "output_type": "stream",
     "text": [
      "x:\n",
      " [[[ 1  1  1  1]\n",
      "  [ 2  2  2  2]\n",
      "  [ 3  3  3  3]]\n",
      "\n",
      " [[10 10 10 10]\n",
      "  [20 20 20 20]\n",
      "  [30 30 30 30]]]\n",
      "x.shape:  (2, 3, 4)\n",
      "y:\n",
      " [[[ 1  1  1  1]\n",
      "  [10 10 10 10]]\n",
      "\n",
      " [[ 2  2  2  2]\n",
      "  [20 20 20 20]]\n",
      "\n",
      " [[ 3  3  3  3]\n",
      "  [30 30 30 30]]]\n",
      "y.shape:  (3, 2, 4)\n",
      "z_correct:\n",
      " [[ 1  1  1  1 10 10 10 10]\n",
      " [ 2  2  2  2 20 20 20 20]\n",
      " [ 3  3  3  3 30 30 30 30]]\n",
      "z_correct.shape:  (3, 8)\n"
     ]
    }
   ],
   "execution_count": 70
  },
  {
   "metadata": {
    "ExecuteTime": {
     "end_time": "2024-07-20T08:37:59.302068Z",
     "start_time": "2024-07-20T08:37:59.299337Z"
    }
   },
   "cell_type": "code",
   "source": [
    "x = np.random.random((2, 3))\n",
    "print(x)\n",
    "print(x.shape)\n",
    "y = np.concatenate([x,x] , axis = 0)\n",
    "print(y)\n",
    "print(y.shape)"
   ],
   "id": "d65529338acf107b",
   "outputs": [
    {
     "name": "stdout",
     "output_type": "stream",
     "text": [
      "[[0.77997581 0.27259261 0.27646426]\n",
      " [0.80187218 0.95813935 0.87593263]]\n",
      "(2, 3)\n",
      "[[0.77997581 0.27259261 0.27646426]\n",
      " [0.80187218 0.95813935 0.87593263]\n",
      " [0.77997581 0.27259261 0.27646426]\n",
      " [0.80187218 0.95813935 0.87593263]]\n",
      "(4, 3)\n"
     ]
    }
   ],
   "execution_count": 71
  },
  {
   "metadata": {
    "ExecuteTime": {
     "end_time": "2024-07-20T08:38:05.016788Z",
     "start_time": "2024-07-20T08:38:05.014368Z"
    }
   },
   "cell_type": "code",
   "source": [
    "x = np.random.random((2, 3))\n",
    "print(x)\n",
    "print(x.shape)\n",
    "y = np.concatenate([x,x] , axis = 1)\n",
    "print(y)\n",
    "print(y.shape)"
   ],
   "id": "b89d441f601ef925",
   "outputs": [
    {
     "name": "stdout",
     "output_type": "stream",
     "text": [
      "[[0.35781727 0.50099513 0.68346294]\n",
      " [0.71270203 0.37025075 0.56119619]]\n",
      "(2, 3)\n",
      "[[0.35781727 0.50099513 0.68346294 0.35781727 0.50099513 0.68346294]\n",
      " [0.71270203 0.37025075 0.56119619 0.71270203 0.37025075 0.56119619]]\n",
      "(2, 6)\n"
     ]
    }
   ],
   "execution_count": 72
  },
  {
   "metadata": {
    "ExecuteTime": {
     "end_time": "2024-07-20T08:43:01.124893Z",
     "start_time": "2024-07-20T08:43:01.121074Z"
    }
   },
   "cell_type": "code",
   "source": [
    "x = np.array([[[1, 1, 1, 1], [2, 2, 2, 2], [3, 3, 3, 3]],\n",
    "              [[10, 10, 10, 10], [20, 20, 20, 20], [30, 30, 30, 30]]])\n",
    "print(x)\n",
    "print(y)"
   ],
   "id": "4898d14151f8713e",
   "outputs": [
    {
     "name": "stdout",
     "output_type": "stream",
     "text": [
      "[[[ 1  1  1  1]\n",
      "  [ 2  2  2  2]\n",
      "  [ 3  3  3  3]]\n",
      "\n",
      " [[10 10 10 10]\n",
      "  [20 20 20 20]\n",
      "  [30 30 30 30]]]\n",
      "[[[10 10 10 10]\n",
      "  [20 20 20 20]\n",
      "  [30 30 30 30]]]\n"
     ]
    }
   ],
   "execution_count": 100
  },
  {
   "metadata": {
    "ExecuteTime": {
     "end_time": "2024-07-20T08:43:01.452025Z",
     "start_time": "2024-07-20T08:43:01.448627Z"
    }
   },
   "cell_type": "code",
   "source": [
    "x,y = np.vsplit(x,2)\n",
    "print(x)\n",
    "print(y)"
   ],
   "id": "d90c275dc2204b8c",
   "outputs": [
    {
     "name": "stdout",
     "output_type": "stream",
     "text": [
      "[[[1 1 1 1]\n",
      "  [2 2 2 2]\n",
      "  [3 3 3 3]]]\n",
      "[[[10 10 10 10]\n",
      "  [20 20 20 20]\n",
      "  [30 30 30 30]]]\n"
     ]
    }
   ],
   "execution_count": 101
  },
  {
   "metadata": {
    "ExecuteTime": {
     "end_time": "2024-07-20T08:43:23.644208Z",
     "start_time": "2024-07-20T08:43:23.631070Z"
    }
   },
   "cell_type": "code",
   "source": [
    "x = np.concatenate([2 ,x,y] , axis = 0)\n",
    "print(x)"
   ],
   "id": "d6b4a34c0a0d5c93",
   "outputs": [
    {
     "ename": "ValueError",
     "evalue": "zero-dimensional arrays cannot be concatenated",
     "output_type": "error",
     "traceback": [
      "\u001B[0;31m---------------------------------------------------------------------------\u001B[0m",
      "\u001B[0;31mValueError\u001B[0m                                Traceback (most recent call last)",
      "Cell \u001B[0;32mIn[103], line 1\u001B[0m\n\u001B[0;32m----> 1\u001B[0m x \u001B[38;5;241m=\u001B[39m np\u001B[38;5;241m.\u001B[39mconcatenate([\u001B[38;5;241m2\u001B[39m ,x,y] , axis \u001B[38;5;241m=\u001B[39m \u001B[38;5;241m0\u001B[39m)\n\u001B[1;32m      2\u001B[0m \u001B[38;5;28mprint\u001B[39m(x)\n",
      "File \u001B[0;32m<__array_function__ internals>:180\u001B[0m, in \u001B[0;36mconcatenate\u001B[0;34m(*args, **kwargs)\u001B[0m\n",
      "\u001B[0;31mValueError\u001B[0m: zero-dimensional arrays cannot be concatenated"
     ]
    }
   ],
   "execution_count": 103
  },
  {
   "metadata": {},
   "cell_type": "code",
   "outputs": [],
   "execution_count": null,
   "source": "",
   "id": "c1d1be65fe5ed45a"
  }
 ],
 "metadata": {
  "kernelspec": {
   "display_name": "Python 3",
   "language": "python",
   "name": "python3"
  },
  "language_info": {
   "codemirror_mode": {
    "name": "ipython",
    "version": 2
   },
   "file_extension": ".py",
   "mimetype": "text/x-python",
   "name": "python",
   "nbconvert_exporter": "python",
   "pygments_lexer": "ipython2",
   "version": "2.7.6"
  }
 },
 "nbformat": 4,
 "nbformat_minor": 5
}
