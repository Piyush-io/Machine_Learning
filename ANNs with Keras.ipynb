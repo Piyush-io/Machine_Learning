{
 "cells": [
  {
   "cell_type": "markdown",
   "metadata": {},
   "source": [
    "**Chapter 10 – Introduction to Artificial Neural Networks with Keras**\n",
    "\n",
    "_This notebook contains all the sample code and solutions to the exercises in chapter 10._"
   ]
  },
  {
   "cell_type": "markdown",
   "metadata": {},
   "source": [
    "<table align=\"left\">\n",
    "  <td>\n",
    "    <a href=\"https://colab.research.google.com/github/ageron/handson-ml2/blob/master/10_neural_nets_with_keras.ipynb\" target=\"_parent\"><img src=\"https://colab.research.google.com/assets/colab-badge.svg\" alt=\"Open In Colab\"/></a>\n",
    "  </td>\n",
    "  <td>\n",
    "    <a target=\"_blank\" href=\"https://kaggle.com/kernels/welcome?src=https://github.com/ageron/handson-ml2/blob/master/10_neural_nets_with_keras.ipynb\"><img src=\"https://kaggle.com/static/images/open-in-kaggle.svg\" /></a>\n",
    "  </td>\n",
    "</table>"
   ]
  },
  {
   "cell_type": "markdown",
   "metadata": {},
   "source": [
    "# Setup"
   ]
  },
  {
   "cell_type": "markdown",
   "metadata": {},
   "source": [
    "First, let's import a few common modules, ensure MatplotLib plots figures inline and prepare a function to save the figures. We also check that Python 3.5 or later is installed (although Python 2.x may work, it is deprecated so we strongly recommend you use Python 3 instead), as well as Scikit-Learn ≥0.20 and TensorFlow ≥2.0."
   ]
  },
  {
   "cell_type": "code",
   "metadata": {
    "ExecuteTime": {
     "end_time": "2024-08-01T14:59:29.379080Z",
     "start_time": "2024-08-01T14:59:27.076738Z"
    }
   },
   "source": [
    "# Python ≥3.5 is required\n",
    "import sys\n",
    "assert sys.version_info >= (3, 5)\n",
    "\n",
    "# Scikit-Learn ≥0.20 is required\n",
    "import sklearn\n",
    "assert sklearn.__version__ >= \"0.20\"\n",
    "\n",
    "try:\n",
    "    # %tensorflow_version only exists in Colab.\n",
    "    %tensorflow_version 2.x\n",
    "except Exception:\n",
    "    pass\n",
    "\n",
    "# TensorFlow ≥2.0 is required\n",
    "import tensorflow as tf\n",
    "assert tf.__version__ >= \"2.0\"\n",
    "\n",
    "# Common imports\n",
    "import numpy as np\n",
    "import os\n",
    "\n",
    "# to make this notebook's output stable across runs\n",
    "np.random.seed(42)\n",
    "\n",
    "# To plot pretty figures\n",
    "%matplotlib inline\n",
    "import matplotlib as mpl\n",
    "import matplotlib.pyplot as plt\n",
    "mpl.rc('axes', labelsize=14)\n",
    "mpl.rc('xtick', labelsize=12)\n",
    "mpl.rc('ytick', labelsize=12)\n",
    "\n",
    "# Where to save the figures\n",
    "PROJECT_ROOT_DIR = \".\"\n",
    "CHAPTER_ID = \"ann\"\n",
    "IMAGES_PATH = os.path.join(PROJECT_ROOT_DIR, \"images\", CHAPTER_ID)\n",
    "os.makedirs(IMAGES_PATH, exist_ok=True)\n",
    "\n",
    "def save_fig(fig_id, tight_layout=True, fig_extension=\"png\", resolution=300):\n",
    "    path = os.path.join(IMAGES_PATH, fig_id + \".\" + fig_extension)\n",
    "    print(\"Saving figure\", fig_id)\n",
    "    if tight_layout:\n",
    "        plt.tight_layout()\n",
    "    plt.savefig(path, format=fig_extension, dpi=resolution)\n"
   ],
   "outputs": [],
   "execution_count": 1
  },
  {
   "cell_type": "markdown",
   "metadata": {},
   "source": [
    "# Perceptrons"
   ]
  },
  {
   "cell_type": "markdown",
   "metadata": {},
   "source": [
    "**Note**: we set `max_iter` and `tol` explicitly to avoid warnings about the fact that their default value will change in future versions of Scikit-Learn."
   ]
  },
  {
   "cell_type": "code",
   "metadata": {
    "ExecuteTime": {
     "end_time": "2024-08-01T14:59:33.335432Z",
     "start_time": "2024-08-01T14:59:32.765486Z"
    }
   },
   "source": [
    "import numpy as np\n",
    "from sklearn.datasets import load_iris\n",
    "from sklearn.linear_model import Perceptron\n",
    "\n",
    "iris = load_iris()\n",
    "X = iris.data[:, (2, 3)]  # petal length, petal width\n",
    "y = (iris.target == 0).astype(np.int)\n",
    "\n",
    "per_clf = Perceptron(max_iter=1000, tol=1e-3, random_state=42)\n",
    "per_clf.fit(X, y)\n",
    "\n",
    "y_pred = per_clf.predict([[2, 0.5]])"
   ],
   "outputs": [
    {
     "name": "stderr",
     "output_type": "stream",
     "text": [
      "/var/folders/pj/9m4hjj3d1mq0s_821c7v7c740000gn/T/ipykernel_93603/1164468759.py:7: DeprecationWarning: `np.int` is a deprecated alias for the builtin `int`. To silence this warning, use `int` by itself. Doing this will not modify any behavior and is safe. When replacing `np.int`, you may wish to use e.g. `np.int64` or `np.int32` to specify the precision. If you wish to review your current use, check the release note link for additional information.\n",
      "Deprecated in NumPy 1.20; for more details and guidance: https://numpy.org/devdocs/release/1.20.0-notes.html#deprecations\n",
      "  y = (iris.target == 0).astype(np.int)\n"
     ]
    }
   ],
   "execution_count": 2
  },
  {
   "cell_type": "code",
   "metadata": {
    "ExecuteTime": {
     "end_time": "2024-08-01T14:59:35.286140Z",
     "start_time": "2024-08-01T14:59:35.282886Z"
    }
   },
   "source": [
    "y_pred"
   ],
   "outputs": [
    {
     "data": {
      "text/plain": [
       "array([1])"
      ]
     },
     "execution_count": 3,
     "metadata": {},
     "output_type": "execute_result"
    }
   ],
   "execution_count": 3
  },
  {
   "cell_type": "code",
   "metadata": {
    "ExecuteTime": {
     "end_time": "2024-08-01T14:59:36.501217Z",
     "start_time": "2024-08-01T14:59:36.151599Z"
    }
   },
   "source": [
    "a = -per_clf.coef_[0][0] / per_clf.coef_[0][1]\n",
    "b = -per_clf.intercept_ / per_clf.coef_[0][1]\n",
    "\n",
    "axes = [0, 5, 0, 2]\n",
    "\n",
    "x0, x1 = np.meshgrid(\n",
    "        np.linspace(axes[0], axes[1], 500).reshape(-1, 1),\n",
    "        np.linspace(axes[2], axes[3], 200).reshape(-1, 1),\n",
    "    )\n",
    "X_new = np.c_[x0.ravel(), x1.ravel()]\n",
    "y_predict = per_clf.predict(X_new)\n",
    "zz = y_predict.reshape(x0.shape)\n",
    "\n",
    "plt.figure(figsize=(10, 4))\n",
    "plt.plot(X[y==0, 0], X[y==0, 1], \"bs\", label=\"Not Iris-Setosa\")\n",
    "plt.plot(X[y==1, 0], X[y==1, 1], \"yo\", label=\"Iris-Setosa\")\n",
    "\n",
    "plt.plot([axes[0], axes[1]], [a * axes[0] + b, a * axes[1] + b], \"k-\", linewidth=3)\n",
    "from matplotlib.colors import ListedColormap\n",
    "custom_cmap = ListedColormap(['#9898ff', '#fafab0'])\n",
    "\n",
    "plt.contourf(x0, x1, zz, cmap=custom_cmap)\n",
    "plt.xlabel(\"Petal length\", fontsize=14)\n",
    "plt.ylabel(\"Petal width\", fontsize=14)\n",
    "plt.legend(loc=\"lower right\", fontsize=14)\n",
    "plt.axis(axes)\n",
    "\n",
    "save_fig(\"perceptron_iris_plot\")\n",
    "plt.show()"
   ],
   "outputs": [
    {
     "name": "stdout",
     "output_type": "stream",
     "text": [
      "Saving figure perceptron_iris_plot\n"
     ]
    },
    {
     "data": {
      "text/plain": [
       "<Figure size 1000x400 with 1 Axes>"
      ],
      "image/png": "[encoded data removed]"
     },
     "metadata": {},
     "output_type": "display_data"
    }
   ],
   "execution_count": 4
  },
  {
   "cell_type": "markdown",
   "metadata": {},
   "source": [
    "# Activation functions"
   ]
  },
  {
   "cell_type": "code",
   "metadata": {
    "ExecuteTime": {
     "end_time": "2024-08-01T14:59:37.687074Z",
     "start_time": "2024-08-01T14:59:37.684636Z"
    }
   },
   "source": [
    "def sigmoid(z):\n",
    "    return 1 / (1 + np.exp(-z))\n",
    "\n",
    "def relu(z):\n",
    "    return np.maximum(0, z)\n",
    "\n",
    "def derivative(f, z, eps=0.000001):\n",
    "    return (f(z + eps) - f(z - eps))/(2 * eps)"
   ],
   "outputs": [],
   "execution_count": 5
  },
  {
   "cell_type": "code",
   "metadata": {
    "ExecuteTime": {
     "end_time": "2024-08-01T14:59:38.592109Z",
     "start_time": "2024-08-01T14:59:38.285178Z"
    }
   },
   "source": [
    "z = np.linspace(-5, 5, 200)\n",
    "\n",
    "plt.figure(figsize=(11,4))\n",
    "\n",
    "plt.subplot(121)\n",
    "plt.plot(z, np.sign(z), \"r-\", linewidth=1, label=\"Step\")\n",
    "plt.plot(z, sigmoid(z), \"g--\", linewidth=2, label=\"Sigmoid\")\n",
    "plt.plot(z, np.tanh(z), \"b-\", linewidth=2, label=\"Tanh\")\n",
    "plt.plot(z, relu(z), \"m-.\", linewidth=2, label=\"ReLU\")\n",
    "plt.grid(True)\n",
    "plt.legend(loc=\"center right\", fontsize=14)\n",
    "plt.title(\"Activation functions\", fontsize=14)\n",
    "plt.axis([-5, 5, -1.2, 1.2])\n",
    "\n",
    "plt.subplot(122)\n",
    "plt.plot(z, derivative(np.sign, z), \"r-\", linewidth=1, label=\"Step\")\n",
    "plt.plot(0, 0, \"ro\", markersize=5)\n",
    "plt.plot(0, 0, \"rx\", markersize=10)\n",
    "plt.plot(z, derivative(sigmoid, z), \"g--\", linewidth=2, label=\"Sigmoid\")\n",
    "plt.plot(z, derivative(np.tanh, z), \"b-\", linewidth=2, label=\"Tanh\")\n",
    "plt.plot(z, derivative(relu, z), \"m-.\", linewidth=2, label=\"ReLU\")\n",
    "plt.grid(True)\n",
    "#plt.legend(loc=\"center right\", fontsize=14)\n",
    "plt.title(\"Derivatives\", fontsize=14)\n",
    "plt.axis([-5, 5, -0.2, 1.2])\n",
    "\n",
    "save_fig(\"activation_functions_plot\")\n",
    "plt.show()"
   ],
   "outputs": [
    {
     "name": "stdout",
     "output_type": "stream",
     "text": [
      "Saving figure activation_functions_plot\n"
     ]
    },
    {
     "data": {
      "text/plain": [
       "<Figure size 1100x400 with 2 Axes>"
      ],
      "image/png": "[encoded data removed]"
     },
     "metadata": {},
     "output_type": "display_data"
    }
   ],
   "execution_count": 6
  },
  {
   "cell_type": "code",
   "metadata": {
    "ExecuteTime": {
     "end_time": "2024-08-01T14:59:38.965238Z",
     "start_time": "2024-08-01T14:59:38.963219Z"
    }
   },
   "source": [
    "def heaviside(z):\n",
    "    return (z >= 0).astype(z.dtype)\n",
    "\n",
    "def mlp_xor(x1, x2, activation=heaviside):\n",
    "    return activation(-activation(x1 + x2 - 1.5) + activation(x1 + x2 - 0.5) - 0.5)"
   ],
   "outputs": [],
   "execution_count": 7
  },
  {
   "cell_type": "code",
   "metadata": {
    "scrolled": true,
    "ExecuteTime": {
     "end_time": "2024-08-01T14:59:39.910162Z",
     "start_time": "2024-08-01T14:59:39.781394Z"
    }
   },
   "source": [
    "x1s = np.linspace(-0.2, 1.2, 100)\n",
    "x2s = np.linspace(-0.2, 1.2, 100)\n",
    "x1, x2 = np.meshgrid(x1s, x2s)\n",
    "\n",
    "z1 = mlp_xor(x1, x2, activation=heaviside)\n",
    "z2 = mlp_xor(x1, x2, activation=sigmoid)\n",
    "\n",
    "plt.figure(figsize=(10,4))\n",
    "\n",
    "plt.subplot(121)\n",
    "plt.contourf(x1, x2, z1)\n",
    "plt.plot([0, 1], [0, 1], \"gs\", markersize=20)\n",
    "plt.plot([0, 1], [1, 0], \"y^\", markersize=20)\n",
    "plt.title(\"Activation function: heaviside\", fontsize=14)\n",
    "plt.grid(True)\n",
    "\n",
    "plt.subplot(122)\n",
    "plt.contourf(x1, x2, z2)\n",
    "plt.plot([0, 1], [0, 1], \"gs\", markersize=20)\n",
    "plt.plot([0, 1], [1, 0], \"y^\", markersize=20)\n",
    "plt.title(\"Activation function: sigmoid\", fontsize=14)\n",
    "plt.grid(True)"
   ],
   "outputs": [
    {
     "data": {
      "text/plain": [
       "<Figure size 1000x400 with 2 Axes>"
      ],
      "image/png": "[encoded data removed]"
     },
     "metadata": {},
     "output_type": "display_data"
    }
   ],
   "execution_count": 8
  },
  {
   "cell_type": "markdown",
   "metadata": {},
   "source": [
    "# Building an Image Classifier"
   ]
  },
  {
   "cell_type": "markdown",
   "metadata": {},
   "source": [
    "First let's import TensorFlow and Keras."
   ]
  },
  {
   "cell_type": "code",
   "metadata": {
    "ExecuteTime": {
     "end_time": "2024-08-01T14:59:42.124925Z",
     "start_time": "2024-08-01T14:59:42.123076Z"
    }
   },
   "source": [
    "import tensorflow as tf\n",
    "from tensorflow import keras"
   ],
   "outputs": [],
   "execution_count": 9
  },
  {
   "cell_type": "code",
   "metadata": {
    "ExecuteTime": {
     "end_time": "2024-08-01T14:59:42.851508Z",
     "start_time": "2024-08-01T14:59:42.849149Z"
    }
   },
   "source": [
    "tf.__version__"
   ],
   "outputs": [
    {
     "data": {
      "text/plain": [
       "'2.12.0'"
      ]
     },
     "execution_count": 10,
     "metadata": {},
     "output_type": "execute_result"
    }
   ],
   "execution_count": 10
  },
  {
   "cell_type": "code",
   "metadata": {
    "ExecuteTime": {
     "end_time": "2024-08-01T14:59:44.103447Z",
     "start_time": "2024-08-01T14:59:44.100644Z"
    }
   },
   "source": [
    "keras.__version__"
   ],
   "outputs": [
    {
     "data": {
      "text/plain": [
       "'2.12.0'"
      ]
     },
     "execution_count": 11,
     "metadata": {},
     "output_type": "execute_result"
    }
   ],
   "execution_count": 11
  },
  {
   "cell_type": "markdown",
   "metadata": {},
   "source": [
    "Let's start by loading the fashion MNIST dataset. Keras has a number of functions to load popular datasets in `keras.datasets`. The dataset is already split for you between a training set and a test set, but it can be useful to split the training set further to have a validation set:"
   ]
  },
  {
   "cell_type": "code",
   "metadata": {
    "ExecuteTime": {
     "end_time": "2024-08-01T14:59:46.643337Z",
     "start_time": "2024-08-01T14:59:46.429166Z"
    }
   },
   "source": [
    "fashion_mnist = keras.datasets.fashion_mnist\n",
    "(X_train_full, y_train_full), (X_test, y_test) = fashion_mnist.load_data()"
   ],
   "outputs": [],
   "execution_count": 12
  },
  {
   "cell_type": "markdown",
   "metadata": {},
   "source": [
    "The training set contains 60,000 grayscale images, each 28x28 pixels:"
   ]
  },
  {
   "cell_type": "code",
   "metadata": {
    "ExecuteTime": {
     "end_time": "2024-08-01T14:59:48.067339Z",
     "start_time": "2024-08-01T14:59:48.064644Z"
    }
   },
   "source": [
    "X_train_full.shape"
   ],
   "outputs": [
    {
     "data": {
      "text/plain": [
       "(60000, 28, 28)"
      ]
     },
     "execution_count": 13,
     "metadata": {},
     "output_type": "execute_result"
    }
   ],
   "execution_count": 13
  },
  {
   "cell_type": "markdown",
   "metadata": {},
   "source": [
    "Each pixel intensity is represented as a byte (0 to 255):"
   ]
  },
  {
   "cell_type": "code",
   "metadata": {
    "ExecuteTime": {
     "end_time": "2024-08-01T14:59:50.047009Z",
     "start_time": "2024-08-01T14:59:50.044815Z"
    }
   },
   "source": [
    "X_train_full.dtype"
   ],
   "outputs": [
    {
     "data": {
      "text/plain": [
       "dtype('uint8')"
      ]
     },
     "execution_count": 14,
     "metadata": {},
     "output_type": "execute_result"
    }
   ],
   "execution_count": 14
  },
  {
   "cell_type": "markdown",
   "metadata": {},
   "source": [
    "Let's split the full training set into a validation set and a (smaller) training set. We also scale the pixel intensities down to the 0-1 range and convert them to floats, by dividing by 255."
   ]
  },
  {
   "cell_type": "code",
   "metadata": {
    "ExecuteTime": {
     "end_time": "2024-08-01T14:59:51.445710Z",
     "start_time": "2024-08-01T14:59:51.367158Z"
    }
   },
   "source": [
    "X_valid, X_train = X_train_full[:5000] / 255., X_train_full[5000:] / 255.\n",
    "y_valid, y_train = y_train_full[:5000], y_train_full[5000:]\n",
    "X_test = X_test / 255."
   ],
   "outputs": [],
   "execution_count": 15
  },
  {
   "cell_type": "markdown",
   "metadata": {},
   "source": [
    "You can plot an image using Matplotlib's `imshow()` function, with a `'binary'`\n",
    " color map:"
   ]
  },
  {
   "cell_type": "code",
   "metadata": {
    "ExecuteTime": {
     "end_time": "2024-08-01T14:59:52.448163Z",
     "start_time": "2024-08-01T14:59:52.429859Z"
    }
   },
   "source": [
    "plt.imshow(X_train[0], cmap=\"binary\")\n",
    "plt.axis('off')\n",
    "plt.show()"
   ],
   "outputs": [
    {
     "data": {
      "text/plain": [
       "<Figure size 640x480 with 1 Axes>"
      ],
      "image/png": "[encoded data removed]"
     },
     "metadata": {},
     "output_type": "display_data"
    }
   ],
   "execution_count": 16
  },
  {
   "cell_type": "markdown",
   "metadata": {},
   "source": [
    "The labels are the class IDs (represented as uint8), from 0 to 9:"
   ]
  },
  {
   "cell_type": "code",
   "metadata": {
    "ExecuteTime": {
     "end_time": "2024-08-01T14:59:53.774252Z",
     "start_time": "2024-08-01T14:59:53.772059Z"
    }
   },
   "source": [
    "y_train"
   ],
   "outputs": [
    {
     "data": {
      "text/plain": [
       "array([4, 0, 7, ..., 3, 0, 5], dtype=uint8)"
      ]
     },
     "execution_count": 17,
     "metadata": {},
     "output_type": "execute_result"
    }
   ],
   "execution_count": 17
  },
  {
   "cell_type": "markdown",
   "metadata": {},
   "source": [
    "Here are the corresponding class names:"
   ]
  },
  {
   "cell_type": "code",
   "metadata": {
    "ExecuteTime": {
     "end_time": "2024-08-01T14:59:54.722600Z",
     "start_time": "2024-08-01T14:59:54.720167Z"
    }
   },
   "source": [
    "class_names = [\"T-shirt/top\", \"Trouser\", \"Pullover\", \"Dress\", \"Coat\",\n",
    "               \"Sandal\", \"Shirt\", \"Sneaker\", \"Bag\", \"Ankle boot\"]"
   ],
   "outputs": [],
   "execution_count": 18
  },
  {
   "cell_type": "markdown",
   "metadata": {},
   "source": [
    "So the first image in the training set is a coat:"
   ]
  },
  {
   "cell_type": "code",
   "metadata": {
    "ExecuteTime": {
     "end_time": "2024-08-01T14:59:55.751248Z",
     "start_time": "2024-08-01T14:59:55.749182Z"
    }
   },
   "source": [
    "class_names[y_train[0]]"
   ],
   "outputs": [
    {
     "data": {
      "text/plain": [
       "'Coat'"
      ]
     },
     "execution_count": 19,
     "metadata": {},
     "output_type": "execute_result"
    }
   ],
   "execution_count": 19
  },
  {
   "cell_type": "markdown",
   "metadata": {},
   "source": [
    "The validation set contains 5,000 images, and the test set contains 10,000 images:"
   ]
  },
  {
   "cell_type": "code",
   "metadata": {
    "ExecuteTime": {
     "end_time": "2024-08-01T14:59:56.647314Z",
     "start_time": "2024-08-01T14:59:56.644835Z"
    }
   },
   "source": [
    "X_valid.shape"
   ],
   "outputs": [
    {
     "data": {
      "text/plain": [
       "(5000, 28, 28)"
      ]
     },
     "execution_count": 20,
     "metadata": {},
     "output_type": "execute_result"
    }
   ],
   "execution_count": 20
  },
  {
   "cell_type": "code",
   "metadata": {
    "ExecuteTime": {
     "end_time": "2024-08-01T14:59:56.968488Z",
     "start_time": "2024-08-01T14:59:56.966249Z"
    }
   },
   "source": [
    "X_test.shape"
   ],
   "outputs": [
    {
     "data": {
      "text/plain": [
       "(10000, 28, 28)"
      ]
     },
     "execution_count": 21,
     "metadata": {},
     "output_type": "execute_result"
    }
   ],
   "execution_count": 21
  },
  {
   "cell_type": "markdown",
   "metadata": {},
   "source": [
    "Let's take a look at a sample of the images in the dataset:"
   ]
  },
  {
   "cell_type": "code",
   "metadata": {
    "ExecuteTime": {
     "end_time": "2024-08-01T14:59:58.207864Z",
     "start_time": "2024-08-01T14:59:57.507727Z"
    }
   },
   "source": [
    "n_rows = 4\n",
    "n_cols = 10\n",
    "plt.figure(figsize=(n_cols * 1.2, n_rows * 1.2))\n",
    "for row in range(n_rows):\n",
    "    for col in range(n_cols):\n",
    "        index = n_cols * row + col\n",
    "        plt.subplot(n_rows, n_cols, index + 1)\n",
    "        plt.imshow(X_train[index], cmap=\"binary\", interpolation=\"nearest\")\n",
    "        plt.axis('off')\n",
    "        plt.title(class_names[y_train[index]], fontsize=12)\n",
    "plt.subplots_adjust(wspace=0.2, hspace=0.5)\n",
    "save_fig('fashion_mnist_plot', tight_layout=False)\n",
    "plt.show()"
   ],
   "outputs": [
    {
     "name": "stdout",
     "output_type": "stream",
     "text": [
      "Saving figure fashion_mnist_plot\n"
     ]
    },
    {
     "data": {
      "text/plain": [
       "<Figure size 1200x480 with 40 Axes>"
      ],
      "image/png": "[encoded data removed]"
     },
     "metadata": {},
     "output_type": "display_data"
    }
   ],
   "execution_count": 22
  },
  {
   "cell_type": "code",
   "metadata": {
    "ExecuteTime": {
     "end_time": "2024-08-01T14:59:58.880524Z",
     "start_time": "2024-08-01T14:59:58.850056Z"
    }
   },
   "source": [
    "model = keras.models.Sequential()\n",
    "model.add(keras.layers.Flatten(input_shape=[28, 28]))\n",
    "model.add(keras.layers.Dense(300, activation=\"relu\"))\n",
    "model.add(keras.layers.Dense(100, activation=\"relu\"))\n",
    "model.add(keras.layers.Dense(10, activation=\"softmax\"))"
   ],
   "outputs": [],
   "execution_count": 23
  },
  {
   "cell_type": "code",
   "metadata": {
    "ExecuteTime": {
     "end_time": "2024-08-01T14:59:59.361437Z",
     "start_time": "2024-08-01T14:59:59.357754Z"
    }
   },
   "source": [
    "keras.backend.clear_session()\n",
    "np.random.seed(42)\n",
    "tf.random.set_seed(42)"
   ],
   "outputs": [],
   "execution_count": 24
  },
  {
   "cell_type": "code",
   "metadata": {
    "ExecuteTime": {
     "end_time": "2024-08-01T14:59:59.882426Z",
     "start_time": "2024-08-01T14:59:59.863599Z"
    }
   },
   "source": [
    "model = keras.models.Sequential([\n",
    "    keras.layers.Flatten(input_shape=[28, 28]),\n",
    "    keras.layers.Dense(300, activation=\"relu\"),\n",
    "    keras.layers.Dense(100, activation=\"relu\"),\n",
    "    keras.layers.Dense(10, activation=\"softmax\")\n",
    "])"
   ],
   "outputs": [],
   "execution_count": 25
  },
  {
   "cell_type": "code",
   "metadata": {
    "ExecuteTime": {
     "end_time": "2024-08-01T15:00:00.292882Z",
     "start_time": "2024-08-01T15:00:00.290271Z"
    }
   },
   "source": [
    "model.layers"
   ],
   "outputs": [
    {
     "data": {
      "text/plain": [
       "[<keras.layers.reshaping.flatten.Flatten at 0x166952bd0>,\n",
       " <keras.layers.core.dense.Dense at 0x166951690>,\n",
       " <keras.layers.core.dense.Dense at 0x166760650>,\n",
       " <keras.layers.core.dense.Dense at 0x16696f590>]"
      ]
     },
     "execution_count": 26,
     "metadata": {},
     "output_type": "execute_result"
    }
   ],
   "execution_count": 26
  },
  {
   "cell_type": "code",
   "metadata": {
    "ExecuteTime": {
     "end_time": "2024-08-01T15:00:00.816066Z",
     "start_time": "2024-08-01T15:00:00.810517Z"
    }
   },
   "source": [
    "model.summary()"
   ],
   "outputs": [
    {
     "name": "stdout",
     "output_type": "stream",
     "text": [
      "Model: \"sequential\"\n",
      "_________________________________________________________________\n",
      " Layer (type)                Output Shape              Param #   \n",
      "=================================================================\n",
      " flatten (Flatten)           (None, 784)               0         \n",
      "                                                                 \n",
      " dense (Dense)               (None, 300)               235500    \n",
      "                                                                 \n",
      " dense_1 (Dense)             (None, 100)               30100     \n",
      "                                                                 \n",
      " dense_2 (Dense)             (None, 10)                1010      \n",
      "                                                                 \n",
      "=================================================================\n",
      "Total params: 266,610\n",
      "Trainable params: 266,610\n",
      "Non-trainable params: 0\n",
      "_________________________________________________________________\n"
     ]
    }
   ],
   "execution_count": 27
  },
  {
   "cell_type": "code",
   "metadata": {
    "ExecuteTime": {
     "end_time": "2024-08-01T15:00:01.588032Z",
     "start_time": "2024-08-01T15:00:01.586101Z"
    }
   },
   "source": [
    "keras.utils.plot_model(model, \"my_fashion_mnist_model.png\", show_shapes=True)"
   ],
   "outputs": [
    {
     "name": "stdout",
     "output_type": "stream",
     "text": [
      "You must install pydot (`pip install pydot`) and install graphviz (see instructions at https://graphviz.gitlab.io/download/) for plot_model to work.\n"
     ]
    }
   ],
   "execution_count": 28
  },
  {
   "cell_type": "code",
   "metadata": {
    "ExecuteTime": {
     "end_time": "2024-08-01T15:00:05.129097Z",
     "start_time": "2024-08-01T15:00:05.126330Z"
    }
   },
   "source": [
    "hidden1 = model.layers[1]\n",
    "hidden1.name"
   ],
   "outputs": [
    {
     "data": {
      "text/plain": [
       "'dense'"
      ]
     },
     "execution_count": 29,
     "metadata": {},
     "output_type": "execute_result"
    }
   ],
   "execution_count": 29
  },
  {
   "cell_type": "code",
   "metadata": {
    "ExecuteTime": {
     "end_time": "2024-08-01T15:00:05.686958Z",
     "start_time": "2024-08-01T15:00:05.684030Z"
    }
   },
   "source": [
    "model.get_layer(hidden1.name) is hidden1"
   ],
   "outputs": [
    {
     "data": {
      "text/plain": [
       "True"
      ]
     },
     "execution_count": 30,
     "metadata": {},
     "output_type": "execute_result"
    }
   ],
   "execution_count": 30
  },
  {
   "cell_type": "code",
   "metadata": {
    "ExecuteTime": {
     "end_time": "2024-08-01T15:00:06.242762Z",
     "start_time": "2024-08-01T15:00:06.239501Z"
    }
   },
   "source": [
    "weights, biases = hidden1.get_weights()"
   ],
   "outputs": [],
   "execution_count": 31
  },
  {
   "cell_type": "code",
   "metadata": {
    "ExecuteTime": {
     "end_time": "2024-08-01T15:00:06.750214Z",
     "start_time": "2024-08-01T15:00:06.747229Z"
    }
   },
   "source": [
    "weights"
   ],
   "outputs": [
    {
     "data": {
      "text/plain": [
       "array([[-0.00974702, -0.05168516,  0.05665921, ...,  0.01749206,\n",
       "        -0.00563101, -0.00029054],\n",
       "       [-0.04994439, -0.05288085, -0.05401134, ...,  0.0578317 ,\n",
       "        -0.05289955, -0.06170251],\n",
       "       [-0.00947123,  0.05224746,  0.01395581, ...,  0.01513963,\n",
       "         0.05433261, -0.01594622],\n",
       "       ...,\n",
       "       [ 0.01241091, -0.03778546, -0.06640029, ...,  0.0250417 ,\n",
       "         0.02748475,  0.03717741],\n",
       "       [ 0.0240578 , -0.00395089, -0.06215722, ...,  0.06627168,\n",
       "         0.0560551 ,  0.01661077],\n",
       "       [-0.01857937,  0.0152199 , -0.07194988, ...,  0.00724278,\n",
       "        -0.01683807,  0.00093141]], dtype=float32)"
      ]
     },
     "execution_count": 32,
     "metadata": {},
     "output_type": "execute_result"
    }
   ],
   "execution_count": 32
  },
  {
   "cell_type": "code",
   "metadata": {
    "ExecuteTime": {
     "end_time": "2024-08-01T15:00:07.303344Z",
     "start_time": "2024-08-01T15:00:07.299924Z"
    }
   },
   "source": [
    "weights.shape"
   ],
   "outputs": [
    {
     "data": {
      "text/plain": [
       "(784, 300)"
      ]
     },
     "execution_count": 33,
     "metadata": {},
     "output_type": "execute_result"
    }
   ],
   "execution_count": 33
  },
  {
   "cell_type": "code",
   "metadata": {
    "ExecuteTime": {
     "end_time": "2024-08-01T15:00:08.367379Z",
     "start_time": "2024-08-01T15:00:08.364318Z"
    }
   },
   "source": [
    "biases"
   ],
   "outputs": [
    {
     "data": {
      "text/plain": [
       "array([0., 0., 0., 0., 0., 0., 0., 0., 0., 0., 0., 0., 0., 0., 0., 0., 0.,\n",
       "       0., 0., 0., 0., 0., 0., 0., 0., 0., 0., 0., 0., 0., 0., 0., 0., 0.,\n",
       "       0., 0., 0., 0., 0., 0., 0., 0., 0., 0., 0., 0., 0., 0., 0., 0., 0.,\n",
       "       0., 0., 0., 0., 0., 0., 0., 0., 0., 0., 0., 0., 0., 0., 0., 0., 0.,\n",
       "       0., 0., 0., 0., 0., 0., 0., 0., 0., 0., 0., 0., 0., 0., 0., 0., 0.,\n",
       "       0., 0., 0., 0., 0., 0., 0., 0., 0., 0., 0., 0., 0., 0., 0., 0., 0.,\n",
       "       0., 0., 0., 0., 0., 0., 0., 0., 0., 0., 0., 0., 0., 0., 0., 0., 0.,\n",
       "       0., 0., 0., 0., 0., 0., 0., 0., 0., 0., 0., 0., 0., 0., 0., 0., 0.,\n",
       "       0., 0., 0., 0., 0., 0., 0., 0., 0., 0., 0., 0., 0., 0., 0., 0., 0.,\n",
       "       0., 0., 0., 0., 0., 0., 0., 0., 0., 0., 0., 0., 0., 0., 0., 0., 0.,\n",
       "       0., 0., 0., 0., 0., 0., 0., 0., 0., 0., 0., 0., 0., 0., 0., 0., 0.,\n",
       "       0., 0., 0., 0., 0., 0., 0., 0., 0., 0., 0., 0., 0., 0., 0., 0., 0.,\n",
       "       0., 0., 0., 0., 0., 0., 0., 0., 0., 0., 0., 0., 0., 0., 0., 0., 0.,\n",
       "       0., 0., 0., 0., 0., 0., 0., 0., 0., 0., 0., 0., 0., 0., 0., 0., 0.,\n",
       "       0., 0., 0., 0., 0., 0., 0., 0., 0., 0., 0., 0., 0., 0., 0., 0., 0.,\n",
       "       0., 0., 0., 0., 0., 0., 0., 0., 0., 0., 0., 0., 0., 0., 0., 0., 0.,\n",
       "       0., 0., 0., 0., 0., 0., 0., 0., 0., 0., 0., 0., 0., 0., 0., 0., 0.,\n",
       "       0., 0., 0., 0., 0., 0., 0., 0., 0., 0., 0.], dtype=float32)"
      ]
     },
     "execution_count": 34,
     "metadata": {},
     "output_type": "execute_result"
    }
   ],
   "execution_count": 34
  },
  {
   "cell_type": "code",
   "metadata": {
    "ExecuteTime": {
     "end_time": "2024-08-01T15:00:09.039888Z",
     "start_time": "2024-08-01T15:00:09.037284Z"
    }
   },
   "source": [
    "biases.shape"
   ],
   "outputs": [
    {
     "data": {
      "text/plain": [
       "(300,)"
      ]
     },
     "execution_count": 35,
     "metadata": {},
     "output_type": "execute_result"
    }
   ],
   "execution_count": 35
  },
  {
   "cell_type": "code",
   "metadata": {
    "ExecuteTime": {
     "end_time": "2024-08-01T15:00:09.614539Z",
     "start_time": "2024-08-01T15:00:09.608766Z"
    }
   },
   "source": [
    "model.compile(loss=\"sparse_categorical_crossentropy\",\n",
    "              optimizer=\"sgd\",\n",
    "              metrics=[\"accuracy\"])"
   ],
   "outputs": [],
   "execution_count": 36
  },
  {
   "cell_type": "markdown",
   "metadata": {},
   "source": [
    "This is equivalent to:"
   ]
  },
  {
   "cell_type": "markdown",
   "metadata": {},
   "source": [
    "```python\n",
    "model.compile(loss=keras.losses.sparse_categorical_crossentropy,\n",
    "              optimizer=keras.optimizers.SGD(),\n",
    "              metrics=[keras.metrics.sparse_categorical_accuracy])\n",
    "```"
   ]
  },
  {
   "cell_type": "code",
   "metadata": {
    "ExecuteTime": {
     "end_time": "2024-08-01T15:00:47.248115Z",
     "start_time": "2024-08-01T15:00:10.272003Z"
    }
   },
   "source": [
    "history = model.fit(X_train, y_train, epochs=30,\n",
    "                    validation_data=(X_valid, y_valid))"
   ],
   "outputs": [
    {
     "name": "stdout",
     "output_type": "stream",
     "text": [
      "Epoch 1/30\n",
      "  64/1719 [>.............................] - ETA: 1s - loss: 1.8575 - accuracy: 0.3896  "
     ]
    },
    {
     "name": "stderr",
     "output_type": "stream",
     "text": [
      "2024-08-01 20:30:10.352908: W tensorflow/tsl/platform/profile_utils/cpu_utils.cc:128] Failed to get CPU frequency: 0 Hz\n"
     ]
    },
    {
     "name": "stdout",
     "output_type": "stream",
     "text": [
      "1719/1719 [==============================] - 1s 803us/step - loss: 0.7083 - accuracy: 0.7655 - val_loss: 0.5151 - val_accuracy: 0.8246\n",
      "Epoch 2/30\n",
      "1719/1719 [==============================] - 1s 709us/step - loss: 0.4840 - accuracy: 0.8308 - val_loss: 0.4302 - val_accuracy: 0.8554\n",
      "Epoch 3/30\n",
      "1719/1719 [==============================] - 1s 712us/step - loss: 0.4392 - accuracy: 0.8451 - val_loss: 0.5100 - val_accuracy: 0.8064\n",
      "Epoch 4/30\n",
      "1719/1719 [==============================] - 1s 708us/step - loss: 0.4134 - accuracy: 0.8561 - val_loss: 0.3899 - val_accuracy: 0.8686\n",
      "Epoch 5/30\n",
      "1719/1719 [==============================] - 1s 719us/step - loss: 0.3950 - accuracy: 0.8614 - val_loss: 0.3765 - val_accuracy: 0.8708\n",
      "Epoch 6/30\n",
      "1719/1719 [==============================] - 1s 697us/step - loss: 0.3761 - accuracy: 0.8673 - val_loss: 0.3697 - val_accuracy: 0.8746\n",
      "Epoch 7/30\n",
      "1719/1719 [==============================] - 1s 734us/step - loss: 0.3638 - accuracy: 0.8718 - val_loss: 0.3651 - val_accuracy: 0.8756\n",
      "Epoch 8/30\n",
      "1719/1719 [==============================] - 1s 695us/step - loss: 0.3516 - accuracy: 0.8756 - val_loss: 0.3897 - val_accuracy: 0.8612\n",
      "Epoch 9/30\n",
      "1719/1719 [==============================] - 1s 697us/step - loss: 0.3411 - accuracy: 0.8804 - val_loss: 0.3527 - val_accuracy: 0.8716\n",
      "Epoch 10/30\n",
      "1719/1719 [==============================] - 1s 732us/step - loss: 0.3317 - accuracy: 0.8821 - val_loss: 0.3434 - val_accuracy: 0.8774\n",
      "Epoch 11/30\n",
      "1719/1719 [==============================] - 1s 709us/step - loss: 0.3227 - accuracy: 0.8849 - val_loss: 0.3389 - val_accuracy: 0.8804\n",
      "Epoch 12/30\n",
      "1719/1719 [==============================] - 1s 706us/step - loss: 0.3137 - accuracy: 0.8882 - val_loss: 0.3292 - val_accuracy: 0.8814\n",
      "Epoch 13/30\n",
      "1719/1719 [==============================] - 1s 704us/step - loss: 0.3064 - accuracy: 0.8908 - val_loss: 0.3237 - val_accuracy: 0.8886\n",
      "Epoch 14/30\n",
      "1719/1719 [==============================] - 1s 711us/step - loss: 0.3004 - accuracy: 0.8928 - val_loss: 0.3431 - val_accuracy: 0.8766\n",
      "Epoch 15/30\n",
      "1719/1719 [==============================] - 1s 721us/step - loss: 0.2929 - accuracy: 0.8948 - val_loss: 0.3252 - val_accuracy: 0.8818\n",
      "Epoch 16/30\n",
      "1719/1719 [==============================] - 1s 722us/step - loss: 0.2877 - accuracy: 0.8987 - val_loss: 0.3076 - val_accuracy: 0.8918\n",
      "Epoch 17/30\n",
      "1719/1719 [==============================] - 1s 718us/step - loss: 0.2820 - accuracy: 0.8990 - val_loss: 0.3602 - val_accuracy: 0.8728\n",
      "Epoch 18/30\n",
      "1719/1719 [==============================] - 1s 718us/step - loss: 0.2754 - accuracy: 0.9013 - val_loss: 0.3170 - val_accuracy: 0.8896\n",
      "Epoch 19/30\n",
      "1719/1719 [==============================] - 1s 710us/step - loss: 0.2709 - accuracy: 0.9033 - val_loss: 0.3071 - val_accuracy: 0.8902\n",
      "Epoch 20/30\n",
      "1719/1719 [==============================] - 1s 718us/step - loss: 0.2655 - accuracy: 0.9053 - val_loss: 0.3261 - val_accuracy: 0.8856\n",
      "Epoch 21/30\n",
      "1719/1719 [==============================] - 1s 720us/step - loss: 0.2603 - accuracy: 0.9069 - val_loss: 0.3037 - val_accuracy: 0.8946\n",
      "Epoch 22/30\n",
      "1719/1719 [==============================] - 1s 707us/step - loss: 0.2559 - accuracy: 0.9076 - val_loss: 0.2952 - val_accuracy: 0.8950\n",
      "Epoch 23/30\n",
      "1719/1719 [==============================] - 1s 699us/step - loss: 0.2513 - accuracy: 0.9100 - val_loss: 0.2964 - val_accuracy: 0.8932\n",
      "Epoch 24/30\n",
      "1719/1719 [==============================] - 1s 710us/step - loss: 0.2471 - accuracy: 0.9109 - val_loss: 0.3005 - val_accuracy: 0.8900\n",
      "Epoch 25/30\n",
      "1719/1719 [==============================] - 1s 708us/step - loss: 0.2424 - accuracy: 0.9127 - val_loss: 0.2975 - val_accuracy: 0.8946\n",
      "Epoch 26/30\n",
      "1719/1719 [==============================] - 1s 695us/step - loss: 0.2387 - accuracy: 0.9146 - val_loss: 0.3013 - val_accuracy: 0.8912\n",
      "Epoch 27/30\n",
      "1719/1719 [==============================] - 1s 697us/step - loss: 0.2347 - accuracy: 0.9169 - val_loss: 0.2905 - val_accuracy: 0.8998\n",
      "Epoch 28/30\n",
      "1719/1719 [==============================] - 1s 694us/step - loss: 0.2314 - accuracy: 0.9174 - val_loss: 0.2993 - val_accuracy: 0.8924\n",
      "Epoch 29/30\n",
      "1719/1719 [==============================] - 1s 697us/step - loss: 0.2265 - accuracy: 0.9196 - val_loss: 0.3022 - val_accuracy: 0.8938\n",
      "Epoch 30/30\n",
      "1719/1719 [==============================] - 1s 706us/step - loss: 0.2227 - accuracy: 0.9201 - val_loss: 0.3029 - val_accuracy: 0.8942\n"
     ]
    }
   ],
   "execution_count": 37
  },
  {
   "cell_type": "code",
   "metadata": {
    "ExecuteTime": {
     "end_time": "2024-08-01T15:00:47.251689Z",
     "start_time": "2024-08-01T15:00:47.249055Z"
    }
   },
   "source": [
    "history.params"
   ],
   "outputs": [
    {
     "data": {
      "text/plain": [
       "{'verbose': 1, 'epochs': 30, 'steps': 1719}"
      ]
     },
     "execution_count": 38,
     "metadata": {},
     "output_type": "execute_result"
    }
   ],
   "execution_count": 38
  },
  {
   "cell_type": "code",
   "metadata": {
    "ExecuteTime": {
     "end_time": "2024-08-01T15:00:47.253732Z",
     "start_time": "2024-08-01T15:00:47.252192Z"
    }
   },
   "source": [
    "print(history.epoch)"
   ],
   "outputs": [
    {
     "name": "stdout",
     "output_type": "stream",
     "text": [
      "[0, 1, 2, 3, 4, 5, 6, 7, 8, 9, 10, 11, 12, 13, 14, 15, 16, 17, 18, 19, 20, 21, 22, 23, 24, 25, 26, 27, 28, 29]\n"
     ]
    }
   ],
   "execution_count": 39
  },
  {
   "cell_type": "code",
   "metadata": {
    "ExecuteTime": {
     "end_time": "2024-08-01T15:00:47.256946Z",
     "start_time": "2024-08-01T15:00:47.254827Z"
    }
   },
   "source": [
    "history.history.keys()"
   ],
   "outputs": [
    {
     "data": {
      "text/plain": [
       "dict_keys(['loss', 'accuracy', 'val_loss', 'val_accuracy'])"
      ]
     },
     "execution_count": 40,
     "metadata": {},
     "output_type": "execute_result"
    }
   ],
   "execution_count": 40
  },
  {
   "cell_type": "code",
   "metadata": {
    "ExecuteTime": {
     "end_time": "2024-08-01T15:00:47.476845Z",
     "start_time": "2024-08-01T15:00:47.257420Z"
    }
   },
   "source": [
    "import pandas as pd\n",
    "\n",
    "pd.DataFrame(history.history).plot(figsize=(8, 5))\n",
    "plt.grid(True)\n",
    "plt.gca().set_ylim(0, 1)\n",
    "save_fig(\"keras_learning_curves_plot\")\n",
    "plt.show()"
   ],
   "outputs": [
    {
     "name": "stdout",
     "output_type": "stream",
     "text": [
      "Saving figure keras_learning_curves_plot\n"
     ]
    },
    {
     "data": {
      "text/plain": [
       "<Figure size 800x500 with 1 Axes>"
      ],
      "image/png": "[encoded data removed]"
     },
     "metadata": {},
     "output_type": "display_data"
    }
   ],
   "execution_count": 41
  },
  {
   "cell_type": "code",
   "metadata": {
    "ExecuteTime": {
     "end_time": "2024-08-01T15:00:47.700413Z",
     "start_time": "2024-08-01T15:00:47.477882Z"
    }
   },
   "source": [
    "model.evaluate(X_test, y_test)"
   ],
   "outputs": [
    {
     "name": "stdout",
     "output_type": "stream",
     "text": [
      "313/313 [==============================] - 0s 588us/step - loss: 0.3382 - accuracy: 0.8803\n"
     ]
    },
    {
     "data": {
      "text/plain": [
       "[0.33815670013427734, 0.880299985408783]"
      ]
     },
     "execution_count": 42,
     "metadata": {},
     "output_type": "execute_result"
    }
   ],
   "execution_count": 42
  },
  {
   "cell_type": "code",
   "metadata": {
    "ExecuteTime": {
     "end_time": "2024-08-01T15:01:04.007297Z",
     "start_time": "2024-08-01T15:01:03.959091Z"
    }
   },
   "source": [
    "X_new = X_test[:3]\n",
    "y_proba = model.predict(X_new)\n",
    "y_proba.round(2)"
   ],
   "outputs": [
    {
     "name": "stdout",
     "output_type": "stream",
     "text": [
      "1/1 [==============================] - 0s 30ms/step\n"
     ]
    },
    {
     "data": {
      "text/plain": [
       "array([[0.  , 0.  , 0.  , 0.  , 0.  , 0.01, 0.  , 0.02, 0.  , 0.97],\n",
       "       [0.  , 0.  , 0.99, 0.  , 0.01, 0.  , 0.  , 0.  , 0.  , 0.  ],\n",
       "       [0.  , 1.  , 0.  , 0.  , 0.  , 0.  , 0.  , 0.  , 0.  , 0.  ]],\n",
       "      dtype=float32)"
      ]
     },
     "execution_count": 43,
     "metadata": {},
     "output_type": "execute_result"
    }
   ],
   "execution_count": 43
  },
  {
   "cell_type": "markdown",
   "metadata": {},
   "source": [
    "**Warning**: `model.predict_classes(X_new)` is deprecated. It is replaced with `np.argmax(model.predict(X_new), axis=-1)`."
   ]
  },
  {
   "cell_type": "code",
   "metadata": {
    "ExecuteTime": {
     "end_time": "2024-08-01T15:01:05.285706Z",
     "start_time": "2024-08-01T15:01:05.265066Z"
    }
   },
   "source": [
    "#y_pred = model.predict_classes(X_new) # deprecated\n",
    "y_pred = np.argmax(model.predict(X_new), axis=-1)\n",
    "y_pred"
   ],
   "outputs": [
    {
     "name": "stdout",
     "output_type": "stream",
     "text": [
      "1/1 [==============================] - 0s 7ms/step\n"
     ]
    },
    {
     "data": {
      "text/plain": [
       "array([9, 2, 1])"
      ]
     },
     "execution_count": 44,
     "metadata": {},
     "output_type": "execute_result"
    }
   ],
   "execution_count": 44
  },
  {
   "cell_type": "code",
   "metadata": {
    "ExecuteTime": {
     "end_time": "2024-08-01T15:01:05.882254Z",
     "start_time": "2024-08-01T15:01:05.879694Z"
    }
   },
   "source": [
    "np.array(class_names)[y_pred]"
   ],
   "outputs": [
    {
     "data": {
      "text/plain": [
       "array(['Ankle boot', 'Pullover', 'Trouser'], dtype='<U11')"
      ]
     },
     "execution_count": 45,
     "metadata": {},
     "output_type": "execute_result"
    }
   ],
   "execution_count": 45
  },
  {
   "cell_type": "code",
   "metadata": {
    "ExecuteTime": {
     "end_time": "2024-08-01T15:01:06.420605Z",
     "start_time": "2024-08-01T15:01:06.417943Z"
    }
   },
   "source": [
    "y_new = y_test[:3]\n",
    "y_new"
   ],
   "outputs": [
    {
     "data": {
      "text/plain": [
       "array([9, 2, 1], dtype=uint8)"
      ]
     },
     "execution_count": 46,
     "metadata": {},
     "output_type": "execute_result"
    }
   ],
   "execution_count": 46
  },
  {
   "cell_type": "code",
   "metadata": {
    "ExecuteTime": {
     "end_time": "2024-08-01T15:01:07.095489Z",
     "start_time": "2024-08-01T15:01:06.981866Z"
    }
   },
   "source": [
    "plt.figure(figsize=(7.2, 2.4))\n",
    "for index, image in enumerate(X_new):\n",
    "    plt.subplot(1, 3, index + 1)\n",
    "    plt.imshow(image, cmap=\"binary\", interpolation=\"nearest\")\n",
    "    plt.axis('off')\n",
    "    plt.title(class_names[y_test[index]], fontsize=12)\n",
    "plt.subplots_adjust(wspace=0.2, hspace=0.5)\n",
    "save_fig('fashion_mnist_images_plot', tight_layout=False)\n",
    "plt.show()"
   ],
   "outputs": [
    {
     "name": "stdout",
     "output_type": "stream",
     "text": [
      "Saving figure fashion_mnist_images_plot\n"
     ]
    },
    {
     "data": {
      "text/plain": [
       "<Figure size 720x240 with 3 Axes>"
      ],
      "image/png": "[encoded data removed]"
     },
     "metadata": {},
     "output_type": "display_data"
    }
   ],
   "execution_count": 47
  },
  {
   "cell_type": "markdown",
   "metadata": {},
   "source": [
    "# Regression MLP"
   ]
  },
  {
   "cell_type": "markdown",
   "metadata": {},
   "source": [
    "Let's load, split and scale the California housing dataset (the original one, not the modified one as in chapter 2):"
   ]
  },
  {
   "cell_type": "code",
   "metadata": {
    "ExecuteTime": {
     "end_time": "2024-08-01T15:01:11.090002Z",
     "start_time": "2024-08-01T15:01:08.901323Z"
    }
   },
   "source": [
    "from sklearn.datasets import fetch_california_housing\n",
    "from sklearn.model_selection import train_test_split\n",
    "from sklearn.preprocessing import StandardScaler\n",
    "\n",
    "housing = fetch_california_housing()\n",
    "\n",
    "X_train_full, X_test, y_train_full, y_test = train_test_split(housing.data, housing.target, random_state=42)\n",
    "X_train, X_valid, y_train, y_valid = train_test_split(X_train_full, y_train_full, random_state=42)\n",
    "\n",
    "scaler = StandardScaler()\n",
    "X_train = scaler.fit_transform(X_train)\n",
    "X_valid = scaler.transform(X_valid)\n",
    "X_test = scaler.transform(X_test)"
   ],
   "outputs": [],
   "execution_count": 48
  },
  {
   "cell_type": "code",
   "metadata": {
    "ExecuteTime": {
     "end_time": "2024-08-01T15:01:17.034481Z",
     "start_time": "2024-08-01T15:01:17.031315Z"
    }
   },
   "source": [
    "np.random.seed(42)\n",
    "tf.random.set_seed(42)"
   ],
   "outputs": [],
   "execution_count": 49
  },
  {
   "cell_type": "code",
   "metadata": {
    "ExecuteTime": {
     "end_time": "2024-08-01T15:01:19.870302Z",
     "start_time": "2024-08-01T15:01:17.460620Z"
    }
   },
   "source": [
    "model = keras.models.Sequential([\n",
    "    keras.layers.Dense(30, activation=\"relu\", input_shape=X_train.shape[1:]),\n",
    "    keras.layers.Dense(1)\n",
    "])\n",
    "model.compile(loss=\"mean_squared_error\", optimizer=keras.optimizers.SGD(learning_rate=1e-3))\n",
    "history = model.fit(X_train, y_train, epochs=20, validation_data=(X_valid, y_valid))\n",
    "mse_test = model.evaluate(X_test, y_test)\n",
    "X_new = X_test[:3]\n",
    "y_pred = model.predict(X_new)"
   ],
   "outputs": [
    {
     "name": "stderr",
     "output_type": "stream",
     "text": [
      "WARNING:absl:At this time, the v2.11+ optimizer `tf.keras.optimizers.SGD` runs slowly on M1/M2 Macs, please use the legacy Keras optimizer instead, located at `tf.keras.optimizers.legacy.SGD`.\n",
      "WARNING:absl:There is a known slowdown when using v2.11+ Keras optimizers on M1/M2 Macs. Falling back to the legacy Keras optimizer, i.e., `tf.keras.optimizers.legacy.SGD`.\n"
     ]
    },
    {
     "name": "stdout",
     "output_type": "stream",
     "text": [
      "Epoch 1/20\n",
      "363/363 [==============================] - 0s 410us/step - loss: 1.8623 - val_loss: 1.7498\n",
      "Epoch 2/20\n",
      "363/363 [==============================] - 0s 300us/step - loss: 0.7262 - val_loss: 0.8189\n",
      "Epoch 3/20\n",
      "363/363 [==============================] - 0s 296us/step - loss: 0.6338 - val_loss: 0.6015\n",
      "Epoch 4/20\n",
      "363/363 [==============================] - 0s 293us/step - loss: 0.5927 - val_loss: 0.5665\n",
      "Epoch 5/20\n",
      "363/363 [==============================] - 0s 301us/step - loss: 0.5629 - val_loss: 0.5226\n",
      "Epoch 6/20\n",
      "363/363 [==============================] - 0s 294us/step - loss: 0.5357 - val_loss: 0.5057\n",
      "Epoch 7/20\n",
      "363/363 [==============================] - 0s 298us/step - loss: 0.5142 - val_loss: 0.4814\n",
      "Epoch 8/20\n",
      "363/363 [==============================] - 0s 299us/step - loss: 0.4956 - val_loss: 0.4652\n",
      "Epoch 9/20\n",
      "363/363 [==============================] - 0s 295us/step - loss: 0.4801 - val_loss: 0.4524\n",
      "Epoch 10/20\n",
      "363/363 [==============================] - 0s 290us/step - loss: 0.4674 - val_loss: 0.4419\n",
      "Epoch 11/20\n",
      "363/363 [==============================] - 0s 294us/step - loss: 0.4575 - val_loss: 0.4392\n",
      "Epoch 12/20\n",
      "363/363 [==============================] - 0s 300us/step - loss: 0.4491 - val_loss: 0.4299\n",
      "Epoch 13/20\n",
      "363/363 [==============================] - 0s 299us/step - loss: 0.4424 - val_loss: 0.4301\n",
      "Epoch 14/20\n",
      "363/363 [==============================] - 0s 294us/step - loss: 0.4367 - val_loss: 0.4227\n",
      "Epoch 15/20\n",
      "363/363 [==============================] - 0s 294us/step - loss: 0.4317 - val_loss: 0.4231\n",
      "Epoch 16/20\n",
      "363/363 [==============================] - 0s 294us/step - loss: 0.4277 - val_loss: 0.4190\n",
      "Epoch 17/20\n",
      "363/363 [==============================] - 0s 310us/step - loss: 0.4244 - val_loss: 0.4259\n",
      "Epoch 18/20\n",
      "363/363 [==============================] - 0s 302us/step - loss: 0.4215 - val_loss: 0.4278\n",
      "Epoch 19/20\n",
      "363/363 [==============================] - 0s 294us/step - loss: 0.4184 - val_loss: 0.4160\n",
      "Epoch 20/20\n",
      "363/363 [==============================] - 0s 297us/step - loss: 0.4163 - val_loss: 0.4354\n",
      "162/162 [==============================] - 0s 196us/step - loss: 0.4138\n",
      "1/1 [==============================] - 0s 16ms/step\n"
     ]
    }
   ],
   "execution_count": 50
  },
  {
   "cell_type": "code",
   "metadata": {
    "ExecuteTime": {
     "end_time": "2024-08-01T15:01:20.748503Z",
     "start_time": "2024-08-01T15:01:20.708139Z"
    }
   },
   "source": [
    "plt.plot(pd.DataFrame(history.history))\n",
    "plt.grid(True)\n",
    "plt.gca().set_ylim(0, 1)\n",
    "plt.show()"
   ],
   "outputs": [
    {
     "data": {
      "text/plain": [
       "<Figure size 640x480 with 1 Axes>"
      ],
      "image/png": "[encoded data removed]"
     },
     "metadata": {},
     "output_type": "display_data"
    }
   ],
   "execution_count": 51
  },
  {
   "cell_type": "code",
   "metadata": {
    "ExecuteTime": {
     "end_time": "2024-08-01T15:01:21.512092Z",
     "start_time": "2024-08-01T15:01:21.509620Z"
    }
   },
   "source": [
    "y_pred"
   ],
   "outputs": [
    {
     "data": {
      "text/plain": [
       "array([[0.50116515],\n",
       "       [1.7205828 ],\n",
       "       [3.318912  ]], dtype=float32)"
      ]
     },
     "execution_count": 52,
     "metadata": {},
     "output_type": "execute_result"
    }
   ],
   "execution_count": 52
  },
  {
   "cell_type": "markdown",
   "metadata": {},
   "source": [
    "# Functional API"
   ]
  },
  {
   "cell_type": "markdown",
   "metadata": {},
   "source": [
    "Not all neural network models are simply sequential. Some may have complex topologies. Some may have multiple inputs and/or multiple outputs. For example, a Wide & Deep neural network (see [paper](https://ai.google/research/pubs/pub45413)) connects all or part of the inputs directly to the output layer."
   ]
  },
  {
   "cell_type": "code",
   "metadata": {
    "ExecuteTime": {
     "end_time": "2024-08-01T15:01:23.123274Z",
     "start_time": "2024-08-01T15:01:23.120180Z"
    }
   },
   "source": [
    "np.random.seed(42)\n",
    "tf.random.set_seed(42)"
   ],
   "outputs": [],
   "execution_count": 53
  },
  {
   "cell_type": "code",
   "metadata": {
    "ExecuteTime": {
     "end_time": "2024-08-01T15:01:23.710944Z",
     "start_time": "2024-08-01T15:01:23.693383Z"
    }
   },
   "source": [
    "input_ = keras.layers.Input(shape=X_train.shape[1:])\n",
    "hidden1 = keras.layers.Dense(30, activation=\"relu\")(input_)\n",
    "hidden2 = keras.layers.Dense(30, activation=\"relu\")(hidden1)\n",
    "concat = keras.layers.concatenate([input_, hidden2])\n",
    "output = keras.layers.Dense(1)(concat)\n",
    "model = keras.models.Model(inputs=[input_], outputs=[output])"
   ],
   "outputs": [],
   "execution_count": 54
  },
  {
   "cell_type": "code",
   "metadata": {
    "ExecuteTime": {
     "end_time": "2024-08-01T15:01:24.272918Z",
     "start_time": "2024-08-01T15:01:24.267716Z"
    }
   },
   "source": [
    "model.summary()"
   ],
   "outputs": [
    {
     "name": "stdout",
     "output_type": "stream",
     "text": [
      "Model: \"model\"\n",
      "__________________________________________________________________________________________________\n",
      " Layer (type)                   Output Shape         Param #     Connected to                     \n",
      "==================================================================================================\n",
      " input_1 (InputLayer)           [(None, 8)]          0           []                               \n",
      "                                                                                                  \n",
      " dense_5 (Dense)                (None, 30)           270         ['input_1[0][0]']                \n",
      "                                                                                                  \n",
      " dense_6 (Dense)                (None, 30)           930         ['dense_5[0][0]']                \n",
      "                                                                                                  \n",
      " concatenate (Concatenate)      (None, 38)           0           ['input_1[0][0]',                \n",
      "                                                                  'dense_6[0][0]']                \n",
      "                                                                                                  \n",
      " dense_7 (Dense)                (None, 1)            39          ['concatenate[0][0]']            \n",
      "                                                                                                  \n",
      "==================================================================================================\n",
      "Total params: 1,239\n",
      "Trainable params: 1,239\n",
      "Non-trainable params: 0\n",
      "__________________________________________________________________________________________________\n"
     ]
    }
   ],
   "execution_count": 55
  },
  {
   "cell_type": "code",
   "metadata": {
    "ExecuteTime": {
     "end_time": "2024-08-01T15:01:27.709517Z",
     "start_time": "2024-08-01T15:01:25.144151Z"
    }
   },
   "source": [
    "model.compile(loss=\"mean_squared_error\", optimizer=keras.optimizers.SGD(learning_rate=1e-3))\n",
    "history = model.fit(X_train, y_train, epochs=20,\n",
    "                    validation_data=(X_valid, y_valid))\n",
    "mse_test = model.evaluate(X_test, y_test)\n",
    "y_pred = model.predict(X_new)"
   ],
   "outputs": [
    {
     "name": "stderr",
     "output_type": "stream",
     "text": [
      "WARNING:absl:At this time, the v2.11+ optimizer `tf.keras.optimizers.SGD` runs slowly on M1/M2 Macs, please use the legacy Keras optimizer instead, located at `tf.keras.optimizers.legacy.SGD`.\n",
      "WARNING:absl:There is a known slowdown when using v2.11+ Keras optimizers on M1/M2 Macs. Falling back to the legacy Keras optimizer, i.e., `tf.keras.optimizers.legacy.SGD`.\n"
     ]
    },
    {
     "name": "stdout",
     "output_type": "stream",
     "text": [
      "Epoch 1/20\n",
      "363/363 [==============================] - 0s 444us/step - loss: 1.9490 - val_loss: 4.0700\n",
      "Epoch 2/20\n",
      "363/363 [==============================] - 0s 337us/step - loss: 0.8182 - val_loss: 4.5347\n",
      "Epoch 3/20\n",
      "363/363 [==============================] - 0s 325us/step - loss: 0.7818 - val_loss: 1.5755\n",
      "Epoch 4/20\n",
      "363/363 [==============================] - 0s 315us/step - loss: 0.6851 - val_loss: 0.7315\n",
      "Epoch 5/20\n",
      "363/363 [==============================] - 0s 310us/step - loss: 0.6514 - val_loss: 0.7833\n",
      "Epoch 6/20\n",
      "363/363 [==============================] - 0s 313us/step - loss: 0.6162 - val_loss: 0.7164\n",
      "Epoch 7/20\n",
      "363/363 [==============================] - 0s 305us/step - loss: 0.5951 - val_loss: 0.5798\n",
      "Epoch 8/20\n",
      "363/363 [==============================] - 0s 310us/step - loss: 0.5734 - val_loss: 0.5725\n",
      "Epoch 9/20\n",
      "363/363 [==============================] - 0s 322us/step - loss: 0.5537 - val_loss: 0.5537\n",
      "Epoch 10/20\n",
      "363/363 [==============================] - 0s 308us/step - loss: 0.5380 - val_loss: 0.6172\n",
      "Epoch 11/20\n",
      "363/363 [==============================] - 0s 310us/step - loss: 0.5260 - val_loss: 0.7109\n",
      "Epoch 12/20\n",
      "363/363 [==============================] - 0s 330us/step - loss: 0.5131 - val_loss: 0.8986\n",
      "Epoch 13/20\n",
      "363/363 [==============================] - 0s 315us/step - loss: 0.5064 - val_loss: 0.4817\n",
      "Epoch 14/20\n",
      "363/363 [==============================] - 0s 320us/step - loss: 0.4930 - val_loss: 0.4878\n",
      "Epoch 15/20\n",
      "363/363 [==============================] - 0s 323us/step - loss: 0.4844 - val_loss: 0.4488\n",
      "Epoch 16/20\n",
      "363/363 [==============================] - 0s 309us/step - loss: 0.4762 - val_loss: 0.4773\n",
      "Epoch 17/20\n",
      "363/363 [==============================] - 0s 316us/step - loss: 0.4695 - val_loss: 0.4356\n",
      "Epoch 18/20\n",
      "363/363 [==============================] - 0s 312us/step - loss: 0.4634 - val_loss: 0.4312\n",
      "Epoch 19/20\n",
      "363/363 [==============================] - 0s 316us/step - loss: 0.4567 - val_loss: 0.4912\n",
      "Epoch 20/20\n",
      "363/363 [==============================] - 0s 311us/step - loss: 0.4527 - val_loss: 0.4217\n",
      "162/162 [==============================] - 0s 205us/step - loss: 0.4519\n",
      "1/1 [==============================] - 0s 18ms/step\n"
     ]
    }
   ],
   "execution_count": 56
  },
  {
   "cell_type": "markdown",
   "metadata": {},
   "source": [
    "What if you want to send different subsets of input features through the wide or deep paths? We will send 5 features (features 0 to 4), and 6 through the deep path (features 2 to 7). Note that 3 features will go through both (features 2, 3 and 4)."
   ]
  },
  {
   "cell_type": "code",
   "metadata": {
    "ExecuteTime": {
     "end_time": "2024-08-01T15:01:29.519245Z",
     "start_time": "2024-08-01T15:01:29.515753Z"
    }
   },
   "source": [
    "np.random.seed(42)\n",
    "tf.random.set_seed(42)"
   ],
   "outputs": [],
   "execution_count": 57
  },
  {
   "cell_type": "code",
   "metadata": {
    "ExecuteTime": {
     "end_time": "2024-08-01T15:01:30.409464Z",
     "start_time": "2024-08-01T15:01:30.391177Z"
    }
   },
   "source": [
    "input_A = keras.layers.Input(shape=[5], name=\"wide_input\")\n",
    "input_B = keras.layers.Input(shape=[6], name=\"deep_input\")\n",
    "hidden1 = keras.layers.Dense(30, activation=\"relu\")(input_B)\n",
    "hidden2 = keras.layers.Dense(30, activation=\"relu\")(hidden1)\n",
    "concat = keras.layers.concatenate([input_A, hidden2])\n",
    "output = keras.layers.Dense(1, name=\"output\")(concat)\n",
    "model = keras.models.Model(inputs=[input_A, input_B], outputs=[output])"
   ],
   "outputs": [],
   "execution_count": 58
  },
  {
   "cell_type": "code",
   "metadata": {
    "ExecuteTime": {
     "end_time": "2024-08-01T15:01:38.215693Z",
     "start_time": "2024-08-01T15:01:35.558180Z"
    }
   },
   "source": [
    "model.compile(loss=\"mse\", optimizer=keras.optimizers.SGD(learning_rate=1e-3))\n",
    "\n",
    "X_train_A, X_train_B = X_train[:, :5], X_train[:, 2:]\n",
    "X_valid_A, X_valid_B = X_valid[:, :5], X_valid[:, 2:]\n",
    "X_test_A, X_test_B = X_test[:, :5], X_test[:, 2:]\n",
    "X_new_A, X_new_B = X_test_A[:3], X_test_B[:3]\n",
    "\n",
    "history = model.fit((X_train_A, X_train_B), y_train, epochs=20,\n",
    "                    validation_data=((X_valid_A, X_valid_B), y_valid))\n",
    "mse_test = model.evaluate((X_test_A, X_test_B), y_test)\n",
    "y_pred = model.predict((X_new_A, X_new_B))"
   ],
   "outputs": [
    {
     "name": "stderr",
     "output_type": "stream",
     "text": [
      "WARNING:absl:At this time, the v2.11+ optimizer `tf.keras.optimizers.SGD` runs slowly on M1/M2 Macs, please use the legacy Keras optimizer instead, located at `tf.keras.optimizers.legacy.SGD`.\n",
      "WARNING:absl:There is a known slowdown when using v2.11+ Keras optimizers on M1/M2 Macs. Falling back to the legacy Keras optimizer, i.e., `tf.keras.optimizers.legacy.SGD`.\n"
     ]
    },
    {
     "name": "stdout",
     "output_type": "stream",
     "text": [
      "Epoch 1/20\n",
      "363/363 [==============================] - 0s 463us/step - loss: 2.3586 - val_loss: 1.1261\n",
      "Epoch 2/20\n",
      "363/363 [==============================] - 0s 350us/step - loss: 0.7134 - val_loss: 0.6770\n",
      "Epoch 3/20\n",
      "363/363 [==============================] - 0s 327us/step - loss: 0.6499 - val_loss: 0.6217\n",
      "Epoch 4/20\n",
      "363/363 [==============================] - 0s 327us/step - loss: 0.6162 - val_loss: 0.5813\n",
      "Epoch 5/20\n",
      "363/363 [==============================] - 0s 339us/step - loss: 0.5939 - val_loss: 0.5628\n",
      "Epoch 6/20\n",
      "363/363 [==============================] - 0s 343us/step - loss: 0.5696 - val_loss: 0.5339\n",
      "Epoch 7/20\n",
      "363/363 [==============================] - 0s 326us/step - loss: 0.5516 - val_loss: 0.5396\n",
      "Epoch 8/20\n",
      "363/363 [==============================] - 0s 331us/step - loss: 0.5331 - val_loss: 0.5168\n",
      "Epoch 9/20\n",
      "363/363 [==============================] - 0s 320us/step - loss: 0.5159 - val_loss: 0.4831\n",
      "Epoch 10/20\n",
      "363/363 [==============================] - 0s 321us/step - loss: 0.5018 - val_loss: 0.4944\n",
      "Epoch 11/20\n",
      "363/363 [==============================] - 0s 322us/step - loss: 0.4888 - val_loss: 0.4513\n",
      "Epoch 12/20\n",
      "363/363 [==============================] - 0s 328us/step - loss: 0.4785 - val_loss: 0.4564\n",
      "Epoch 13/20\n",
      "363/363 [==============================] - 0s 325us/step - loss: 0.4696 - val_loss: 0.4502\n",
      "Epoch 14/20\n",
      "363/363 [==============================] - 0s 320us/step - loss: 0.4627 - val_loss: 0.4296\n",
      "Epoch 15/20\n",
      "363/363 [==============================] - 0s 321us/step - loss: 0.4559 - val_loss: 0.4267\n",
      "Epoch 16/20\n",
      "363/363 [==============================] - 0s 321us/step - loss: 0.4505 - val_loss: 0.4230\n",
      "Epoch 17/20\n",
      "363/363 [==============================] - 0s 344us/step - loss: 0.4455 - val_loss: 0.4115\n",
      "Epoch 18/20\n",
      "363/363 [==============================] - 0s 330us/step - loss: 0.4424 - val_loss: 0.4094\n",
      "Epoch 19/20\n",
      "363/363 [==============================] - 0s 323us/step - loss: 0.4381 - val_loss: 0.4053\n",
      "Epoch 20/20\n",
      "363/363 [==============================] - 0s 320us/step - loss: 0.4355 - val_loss: 0.4201\n",
      "162/162 [==============================] - 0s 224us/step - loss: 0.4340\n",
      "1/1 [==============================] - 0s 21ms/step\n"
     ]
    }
   ],
   "execution_count": 59
  },
  {
   "cell_type": "markdown",
   "metadata": {},
   "source": [
    "Adding an auxiliary output for regularization:"
   ]
  },
  {
   "cell_type": "code",
   "metadata": {
    "ExecuteTime": {
     "end_time": "2024-08-01T15:01:39.077954Z",
     "start_time": "2024-08-01T15:01:39.074896Z"
    }
   },
   "source": [
    "np.random.seed(42)\n",
    "tf.random.set_seed(42)"
   ],
   "outputs": [],
   "execution_count": 60
  },
  {
   "cell_type": "code",
   "metadata": {
    "ExecuteTime": {
     "end_time": "2024-08-01T15:01:39.649300Z",
     "start_time": "2024-08-01T15:01:39.629186Z"
    }
   },
   "source": [
    "input_A = keras.layers.Input(shape=[5], name=\"wide_input\")\n",
    "input_B = keras.layers.Input(shape=[6], name=\"deep_input\")\n",
    "hidden1 = keras.layers.Dense(30, activation=\"relu\")(input_B)\n",
    "hidden2 = keras.layers.Dense(30, activation=\"relu\")(hidden1)\n",
    "concat = keras.layers.concatenate([input_A, hidden2])\n",
    "output = keras.layers.Dense(1, name=\"main_output\")(concat)\n",
    "aux_output = keras.layers.Dense(1, name=\"aux_output\")(hidden2)\n",
    "model = keras.models.Model(inputs=[input_A, input_B],\n",
    "                           outputs=[output, aux_output])"
   ],
   "outputs": [],
   "execution_count": 61
  },
  {
   "cell_type": "code",
   "metadata": {
    "ExecuteTime": {
     "end_time": "2024-08-01T15:01:40.209740Z",
     "start_time": "2024-08-01T15:01:40.203382Z"
    }
   },
   "source": [
    "model.compile(loss=[\"mse\", \"mse\"], loss_weights=[0.9, 0.1], optimizer=keras.optimizers.SGD(learning_rate=1e-3))"
   ],
   "outputs": [
    {
     "name": "stderr",
     "output_type": "stream",
     "text": [
      "WARNING:absl:At this time, the v2.11+ optimizer `tf.keras.optimizers.SGD` runs slowly on M1/M2 Macs, please use the legacy Keras optimizer instead, located at `tf.keras.optimizers.legacy.SGD`.\n",
      "WARNING:absl:There is a known slowdown when using v2.11+ Keras optimizers on M1/M2 Macs. Falling back to the legacy Keras optimizer, i.e., `tf.keras.optimizers.legacy.SGD`.\n"
     ]
    }
   ],
   "execution_count": 62
  },
  {
   "cell_type": "code",
   "metadata": {
    "ExecuteTime": {
     "end_time": "2024-08-01T15:01:46.066458Z",
     "start_time": "2024-08-01T15:01:42.981246Z"
    }
   },
   "source": [
    "history = model.fit([X_train_A, X_train_B], [y_train, y_train], epochs=20,\n",
    "                    validation_data=([X_valid_A, X_valid_B], [y_valid, y_valid]))"
   ],
   "outputs": [
    {
     "name": "stdout",
     "output_type": "stream",
     "text": [
      "Epoch 1/20\n",
      "363/363 [==============================] - 0s 559us/step - loss: 2.5940 - main_output_loss: 2.3753 - aux_output_loss: 4.5621 - val_loss: 2.4281 - val_main_output_loss: 2.2675 - val_aux_output_loss: 3.8736\n",
      "Epoch 2/20\n",
      "363/363 [==============================] - 0s 388us/step - loss: 1.1467 - main_output_loss: 0.9449 - aux_output_loss: 2.9633 - val_loss: 1.2142 - val_main_output_loss: 0.9680 - val_aux_output_loss: 3.4299\n",
      "Epoch 3/20\n",
      "363/363 [==============================] - 0s 381us/step - loss: 0.9123 - main_output_loss: 0.7784 - aux_output_loss: 2.1173 - val_loss: 0.9615 - val_main_output_loss: 0.7041 - val_aux_output_loss: 3.2788\n",
      "Epoch 4/20\n",
      "363/363 [==============================] - 0s 381us/step - loss: 0.8067 - main_output_loss: 0.7066 - aux_output_loss: 1.7080 - val_loss: 0.8888 - val_main_output_loss: 0.6465 - val_aux_output_loss: 3.0696\n",
      "Epoch 5/20\n",
      "363/363 [==============================] - 0s 400us/step - loss: 0.7456 - main_output_loss: 0.6613 - aux_output_loss: 1.5047 - val_loss: 0.8267 - val_main_output_loss: 0.6134 - val_aux_output_loss: 2.7470\n",
      "Epoch 6/20\n",
      "363/363 [==============================] - 0s 382us/step - loss: 0.7032 - main_output_loss: 0.6258 - aux_output_loss: 1.3999 - val_loss: 0.7785 - val_main_output_loss: 0.5981 - val_aux_output_loss: 2.4020\n",
      "Epoch 7/20\n",
      "363/363 [==============================] - 0s 394us/step - loss: 0.6708 - main_output_loss: 0.5969 - aux_output_loss: 1.3361 - val_loss: 0.7376 - val_main_output_loss: 0.5905 - val_aux_output_loss: 2.0610\n",
      "Epoch 8/20\n",
      "363/363 [==============================] - 0s 405us/step - loss: 0.6442 - main_output_loss: 0.5726 - aux_output_loss: 1.2887 - val_loss: 0.6763 - val_main_output_loss: 0.5556 - val_aux_output_loss: 1.7627\n",
      "Epoch 9/20\n",
      "363/363 [==============================] - 0s 386us/step - loss: 0.6205 - main_output_loss: 0.5502 - aux_output_loss: 1.2535 - val_loss: 0.6360 - val_main_output_loss: 0.5370 - val_aux_output_loss: 1.5270\n",
      "Epoch 10/20\n",
      "363/363 [==============================] - 0s 388us/step - loss: 0.6001 - main_output_loss: 0.5311 - aux_output_loss: 1.2212 - val_loss: 0.6150 - val_main_output_loss: 0.5328 - val_aux_output_loss: 1.3541\n",
      "Epoch 11/20\n",
      "363/363 [==============================] - 0s 393us/step - loss: 0.5832 - main_output_loss: 0.5155 - aux_output_loss: 1.1928 - val_loss: 0.5613 - val_main_output_loss: 0.4854 - val_aux_output_loss: 1.2437\n",
      "Epoch 12/20\n",
      "363/363 [==============================] - 0s 391us/step - loss: 0.5682 - main_output_loss: 0.5016 - aux_output_loss: 1.1678 - val_loss: 0.5529 - val_main_output_loss: 0.4857 - val_aux_output_loss: 1.1577\n",
      "Epoch 13/20\n",
      "363/363 [==============================] - 0s 396us/step - loss: 0.5556 - main_output_loss: 0.4903 - aux_output_loss: 1.1433 - val_loss: 0.5271 - val_main_output_loss: 0.4617 - val_aux_output_loss: 1.1151\n",
      "Epoch 14/20\n",
      "363/363 [==============================] - 0s 396us/step - loss: 0.5448 - main_output_loss: 0.4809 - aux_output_loss: 1.1205 - val_loss: 0.5107 - val_main_output_loss: 0.4459 - val_aux_output_loss: 1.0944\n",
      "Epoch 15/20\n",
      "363/363 [==============================] - 0s 381us/step - loss: 0.5354 - main_output_loss: 0.4726 - aux_output_loss: 1.0997 - val_loss: 0.5006 - val_main_output_loss: 0.4351 - val_aux_output_loss: 1.0897\n",
      "Epoch 16/20\n",
      "363/363 [==============================] - 0s 380us/step - loss: 0.5275 - main_output_loss: 0.4661 - aux_output_loss: 1.0804 - val_loss: 0.4947 - val_main_output_loss: 0.4278 - val_aux_output_loss: 1.0963\n",
      "Epoch 17/20\n",
      "363/363 [==============================] - 0s 393us/step - loss: 0.5206 - main_output_loss: 0.4604 - aux_output_loss: 1.0625 - val_loss: 0.4909 - val_main_output_loss: 0.4220 - val_aux_output_loss: 1.1103\n",
      "Epoch 18/20\n",
      "363/363 [==============================] - 0s 386us/step - loss: 0.5149 - main_output_loss: 0.4561 - aux_output_loss: 1.0445 - val_loss: 0.4898 - val_main_output_loss: 0.4191 - val_aux_output_loss: 1.1263\n",
      "Epoch 19/20\n",
      "363/363 [==============================] - 0s 382us/step - loss: 0.5091 - main_output_loss: 0.4514 - aux_output_loss: 1.0284 - val_loss: 0.4891 - val_main_output_loss: 0.4159 - val_aux_output_loss: 1.1480\n",
      "Epoch 20/20\n",
      "363/363 [==============================] - 0s 388us/step - loss: 0.5051 - main_output_loss: 0.4487 - aux_output_loss: 1.0127 - val_loss: 0.4947 - val_main_output_loss: 0.4215 - val_aux_output_loss: 1.1540\n"
     ]
    }
   ],
   "execution_count": 63
  },
  {
   "cell_type": "code",
   "metadata": {
    "ExecuteTime": {
     "end_time": "2024-08-01T15:01:47.292002Z",
     "start_time": "2024-08-01T15:01:47.190152Z"
    }
   },
   "source": [
    "total_loss, main_loss, aux_loss = model.evaluate(\n",
    "    [X_test_A, X_test_B], [y_test, y_test])\n",
    "y_pred_main, y_pred_aux = model.predict([X_new_A, X_new_B])"
   ],
   "outputs": [
    {
     "name": "stdout",
     "output_type": "stream",
     "text": [
      "162/162 [==============================] - 0s 258us/step - loss: 0.4979 - main_output_loss: 0.4439 - aux_output_loss: 0.9845\n",
      "WARNING:tensorflow:5 out of the last 6 calls to <function Model.make_predict_function.<locals>.predict_function at 0x1624aab60> triggered tf.function retracing. Tracing is expensive and the excessive number of tracings could be due to (1) creating @tf.function repeatedly in a loop, (2) passing tensors with different shapes, (3) passing Python objects instead of tensors. For (1), please define your @tf.function outside of the loop. For (2), @tf.function has reduce_retracing=True option that can avoid unnecessary retracing. For (3), please refer to https://www.tensorflow.org/guide/function#controlling_retracing and https://www.tensorflow.org/api_docs/python/tf/function for  more details.\n"
     ]
    },
    {
     "name": "stderr",
     "output_type": "stream",
     "text": [
      "WARNING:tensorflow:5 out of the last 6 calls to <function Model.make_predict_function.<locals>.predict_function at 0x1624aab60> triggered tf.function retracing. Tracing is expensive and the excessive number of tracings could be due to (1) creating @tf.function repeatedly in a loop, (2) passing tensors with different shapes, (3) passing Python objects instead of tensors. For (1), please define your @tf.function outside of the loop. For (2), @tf.function has reduce_retracing=True option that can avoid unnecessary retracing. For (3), please refer to https://www.tensorflow.org/guide/function#controlling_retracing and https://www.tensorflow.org/api_docs/python/tf/function for  more details.\n"
     ]
    },
    {
     "name": "stdout",
     "output_type": "stream",
     "text": [
      "1/1 [==============================] - 0s 22ms/step\n"
     ]
    }
   ],
   "execution_count": 64
  },
  {
   "cell_type": "markdown",
   "metadata": {},
   "source": [
    "# The subclassing API"
   ]
  },
  {
   "cell_type": "code",
   "metadata": {
    "ExecuteTime": {
     "end_time": "2024-08-01T15:01:49.241333Z",
     "start_time": "2024-08-01T15:01:49.235957Z"
    }
   },
   "source": [
    "class WideAndDeepModel(keras.models.Model):\n",
    "    def __init__(self, units=30, activation=\"relu\", **kwargs):\n",
    "        super().__init__(**kwargs)\n",
    "        self.hidden1 = keras.layers.Dense(units, activation=activation)\n",
    "        self.hidden2 = keras.layers.Dense(units, activation=activation)\n",
    "        self.main_output = keras.layers.Dense(1)\n",
    "        self.aux_output = keras.layers.Dense(1)\n",
    "        \n",
    "    def call(self, inputs):\n",
    "        input_A, input_B = inputs\n",
    "        hidden1 = self.hidden1(input_B)\n",
    "        hidden2 = self.hidden2(hidden1)\n",
    "        concat = keras.layers.concatenate([input_A, hidden2])\n",
    "        main_output = self.main_output(concat)\n",
    "        aux_output = self.aux_output(hidden2)\n",
    "        return main_output, aux_output\n",
    "\n",
    "model = WideAndDeepModel(30, activation=\"relu\")"
   ],
   "outputs": [],
   "execution_count": 65
  },
  {
   "cell_type": "code",
   "metadata": {
    "ExecuteTime": {
     "end_time": "2024-08-01T15:01:51.648686Z",
     "start_time": "2024-08-01T15:01:49.905232Z"
    }
   },
   "source": [
    "model.compile(loss=\"mse\", loss_weights=[0.9, 0.1], optimizer=keras.optimizers.SGD(learning_rate=1e-3))\n",
    "history = model.fit((X_train_A, X_train_B), (y_train, y_train), epochs=10,\n",
    "                    validation_data=((X_valid_A, X_valid_B), (y_valid, y_valid)))\n",
    "total_loss, main_loss, aux_loss = model.evaluate((X_test_A, X_test_B), (y_test, y_test))\n",
    "y_pred_main, y_pred_aux = model.predict((X_new_A, X_new_B))"
   ],
   "outputs": [
    {
     "name": "stderr",
     "output_type": "stream",
     "text": [
      "WARNING:absl:At this time, the v2.11+ optimizer `tf.keras.optimizers.SGD` runs slowly on M1/M2 Macs, please use the legacy Keras optimizer instead, located at `tf.keras.optimizers.legacy.SGD`.\n",
      "WARNING:absl:There is a known slowdown when using v2.11+ Keras optimizers on M1/M2 Macs. Falling back to the legacy Keras optimizer, i.e., `tf.keras.optimizers.legacy.SGD`.\n"
     ]
    },
    {
     "name": "stdout",
     "output_type": "stream",
     "text": [
      "Epoch 1/10\n",
      "363/363 [==============================] - 0s 582us/step - loss: 2.6098 - output_1_loss: 2.3587 - output_2_loss: 4.8696 - val_loss: 1.6805 - val_output_1_loss: 1.4861 - val_output_2_loss: 3.4309\n",
      "Epoch 2/10\n",
      "363/363 [==============================] - 0s 370us/step - loss: 1.0628 - output_1_loss: 0.8751 - output_2_loss: 2.7523 - val_loss: 0.9467 - val_output_1_loss: 0.8138 - val_output_2_loss: 2.1427\n",
      "Epoch 3/10\n",
      "363/363 [==============================] - 0s 370us/step - loss: 0.8262 - output_1_loss: 0.7053 - output_2_loss: 1.9138 - val_loss: 0.7614 - val_output_1_loss: 0.6605 - val_output_2_loss: 1.6700\n",
      "Epoch 4/10\n",
      "363/363 [==============================] - 0s 380us/step - loss: 0.7413 - output_1_loss: 0.6483 - output_2_loss: 1.5784 - val_loss: 0.7002 - val_output_1_loss: 0.6134 - val_output_2_loss: 1.4807\n",
      "Epoch 5/10\n",
      "363/363 [==============================] - 0s 372us/step - loss: 0.6973 - output_1_loss: 0.6165 - output_2_loss: 1.4239 - val_loss: 0.6572 - val_output_1_loss: 0.5755 - val_output_2_loss: 1.3918\n",
      "Epoch 6/10\n",
      "363/363 [==============================] - 0s 374us/step - loss: 0.6651 - output_1_loss: 0.5907 - output_2_loss: 1.3348 - val_loss: 0.6328 - val_output_1_loss: 0.5546 - val_output_2_loss: 1.3364\n",
      "Epoch 7/10\n",
      "363/363 [==============================] - 0s 378us/step - loss: 0.6404 - output_1_loss: 0.5698 - output_2_loss: 1.2763 - val_loss: 0.6094 - val_output_1_loss: 0.5331 - val_output_2_loss: 1.2964\n",
      "Epoch 8/10\n",
      "363/363 [==============================] - 0s 401us/step - loss: 0.6187 - output_1_loss: 0.5510 - output_2_loss: 1.2280 - val_loss: 0.5909 - val_output_1_loss: 0.5160 - val_output_2_loss: 1.2648\n",
      "Epoch 9/10\n",
      "363/363 [==============================] - 0s 375us/step - loss: 0.5988 - output_1_loss: 0.5335 - output_2_loss: 1.1866 - val_loss: 0.5717 - val_output_1_loss: 0.4990 - val_output_2_loss: 1.2255\n",
      "Epoch 10/10\n",
      "363/363 [==============================] - 0s 376us/step - loss: 0.5802 - output_1_loss: 0.5173 - output_2_loss: 1.1461 - val_loss: 0.5529 - val_output_1_loss: 0.4827 - val_output_2_loss: 1.1852\n",
      "162/162 [==============================] - 0s 251us/step - loss: 0.5665 - output_1_loss: 0.5064 - output_2_loss: 1.1074\n",
      "WARNING:tensorflow:6 out of the last 7 calls to <function Model.make_predict_function.<locals>.predict_function at 0x166900a40> triggered tf.function retracing. Tracing is expensive and the excessive number of tracings could be due to (1) creating @tf.function repeatedly in a loop, (2) passing tensors with different shapes, (3) passing Python objects instead of tensors. For (1), please define your @tf.function outside of the loop. For (2), @tf.function has reduce_retracing=True option that can avoid unnecessary retracing. For (3), please refer to https://www.tensorflow.org/guide/function#controlling_retracing and https://www.tensorflow.org/api_docs/python/tf/function for  more details.\n"
     ]
    },
    {
     "name": "stderr",
     "output_type": "stream",
     "text": [
      "WARNING:tensorflow:6 out of the last 7 calls to <function Model.make_predict_function.<locals>.predict_function at 0x166900a40> triggered tf.function retracing. Tracing is expensive and the excessive number of tracings could be due to (1) creating @tf.function repeatedly in a loop, (2) passing tensors with different shapes, (3) passing Python objects instead of tensors. For (1), please define your @tf.function outside of the loop. For (2), @tf.function has reduce_retracing=True option that can avoid unnecessary retracing. For (3), please refer to https://www.tensorflow.org/guide/function#controlling_retracing and https://www.tensorflow.org/api_docs/python/tf/function for  more details.\n"
     ]
    },
    {
     "name": "stdout",
     "output_type": "stream",
     "text": [
      "1/1 [==============================] - 0s 23ms/step\n"
     ]
    }
   ],
   "execution_count": 66
  },
  {
   "cell_type": "markdown",
   "metadata": {},
   "source": [
    "# Saving and Restoring"
   ]
  },
  {
   "cell_type": "code",
   "metadata": {
    "ExecuteTime": {
     "end_time": "2024-08-01T15:01:54.355417Z",
     "start_time": "2024-08-01T15:01:54.350938Z"
    }
   },
   "source": [
    "np.random.seed(42)\n",
    "tf.random.set_seed(42)"
   ],
   "outputs": [],
   "execution_count": 67
  },
  {
   "cell_type": "code",
   "metadata": {
    "ExecuteTime": {
     "end_time": "2024-08-01T15:01:54.893278Z",
     "start_time": "2024-08-01T15:01:54.877613Z"
    }
   },
   "source": [
    "model = keras.models.Sequential([\n",
    "    keras.layers.Dense(30, activation=\"relu\", input_shape=[8]),\n",
    "    keras.layers.Dense(30, activation=\"relu\"),\n",
    "    keras.layers.Dense(1)\n",
    "])    "
   ],
   "outputs": [],
   "execution_count": 68
  },
  {
   "cell_type": "code",
   "metadata": {
    "ExecuteTime": {
     "end_time": "2024-08-01T15:01:56.669505Z",
     "start_time": "2024-08-01T15:01:55.319630Z"
    }
   },
   "source": [
    "model.compile(loss=\"mse\", optimizer=keras.optimizers.SGD(learning_rate=1e-3))\n",
    "history = model.fit(X_train, y_train, epochs=10, validation_data=(X_valid, y_valid))\n",
    "mse_test = model.evaluate(X_test, y_test)"
   ],
   "outputs": [
    {
     "name": "stderr",
     "output_type": "stream",
     "text": [
      "WARNING:absl:At this time, the v2.11+ optimizer `tf.keras.optimizers.SGD` runs slowly on M1/M2 Macs, please use the legacy Keras optimizer instead, located at `tf.keras.optimizers.legacy.SGD`.\n",
      "WARNING:absl:There is a known slowdown when using v2.11+ Keras optimizers on M1/M2 Macs. Falling back to the legacy Keras optimizer, i.e., `tf.keras.optimizers.legacy.SGD`.\n"
     ]
    },
    {
     "name": "stdout",
     "output_type": "stream",
     "text": [
      "Epoch 1/10\n",
      "363/363 [==============================] - 0s 430us/step - loss: 2.1168 - val_loss: 1.6094\n",
      "Epoch 2/10\n",
      "363/363 [==============================] - 0s 313us/step - loss: 0.7861 - val_loss: 0.8127\n",
      "Epoch 3/10\n",
      "363/363 [==============================] - 0s 303us/step - loss: 0.6709 - val_loss: 0.6130\n",
      "Epoch 4/10\n",
      "363/363 [==============================] - 0s 305us/step - loss: 0.6221 - val_loss: 0.5841\n",
      "Epoch 5/10\n",
      "363/363 [==============================] - 0s 325us/step - loss: 0.5914 - val_loss: 0.5693\n",
      "Epoch 6/10\n",
      "363/363 [==============================] - 0s 322us/step - loss: 0.5668 - val_loss: 0.5505\n",
      "Epoch 7/10\n",
      "363/363 [==============================] - 0s 307us/step - loss: 0.5468 - val_loss: 0.5349\n",
      "Epoch 8/10\n",
      "363/363 [==============================] - 0s 306us/step - loss: 0.5293 - val_loss: 0.5143\n",
      "Epoch 9/10\n",
      "363/363 [==============================] - 0s 322us/step - loss: 0.5141 - val_loss: 0.4931\n",
      "Epoch 10/10\n",
      "363/363 [==============================] - 0s 309us/step - loss: 0.5004 - val_loss: 0.4767\n",
      "162/162 [==============================] - 0s 204us/step - loss: 0.4811\n"
     ]
    }
   ],
   "execution_count": 69
  },
  {
   "cell_type": "code",
   "metadata": {
    "ExecuteTime": {
     "end_time": "2024-08-01T15:01:57.425726Z",
     "start_time": "2024-08-01T15:01:57.417493Z"
    }
   },
   "source": [
    "model.save(\"my_keras_model.h5\")"
   ],
   "outputs": [],
   "execution_count": 70
  },
  {
   "cell_type": "code",
   "metadata": {
    "ExecuteTime": {
     "end_time": "2024-08-01T15:01:57.933776Z",
     "start_time": "2024-08-01T15:01:57.915782Z"
    }
   },
   "source": [
    "model = keras.models.load_model(\"my_keras_model.h5\")"
   ],
   "outputs": [],
   "execution_count": 71
  },
  {
   "cell_type": "code",
   "metadata": {
    "ExecuteTime": {
     "end_time": "2024-08-01T15:01:58.412430Z",
     "start_time": "2024-08-01T15:01:58.379980Z"
    }
   },
   "source": [
    "model.predict(X_new)"
   ],
   "outputs": [
    {
     "name": "stdout",
     "output_type": "stream",
     "text": [
      "1/1 [==============================] - 0s 17ms/step\n"
     ]
    },
    {
     "data": {
      "text/plain": [
       "array([[0.68875915],\n",
       "       [1.4731556 ],\n",
       "       [3.0589128 ]], dtype=float32)"
      ]
     },
     "execution_count": 72,
     "metadata": {},
     "output_type": "execute_result"
    }
   ],
   "execution_count": 72
  },
  {
   "cell_type": "code",
   "metadata": {
    "ExecuteTime": {
     "end_time": "2024-08-01T15:01:59.370226Z",
     "start_time": "2024-08-01T15:01:59.355950Z"
    }
   },
   "source": [
    "model.save_weights(\"my_keras_weights.ckpt\")"
   ],
   "outputs": [],
   "execution_count": 73
  },
  {
   "cell_type": "code",
   "metadata": {
    "ExecuteTime": {
     "end_time": "2024-08-01T15:01:59.855817Z",
     "start_time": "2024-08-01T15:01:59.849917Z"
    }
   },
   "source": [
    "model.load_weights(\"my_keras_weights.ckpt\")"
   ],
   "outputs": [
    {
     "data": {
      "text/plain": [
       "<tensorflow.python.checkpoint.checkpoint.CheckpointLoadStatus at 0x30b3b7850>"
      ]
     },
     "execution_count": 74,
     "metadata": {},
     "output_type": "execute_result"
    }
   ],
   "execution_count": 74
  },
  {
   "cell_type": "markdown",
   "metadata": {},
   "source": [
    "# Using Callbacks during Training"
   ]
  },
  {
   "cell_type": "code",
   "metadata": {
    "ExecuteTime": {
     "end_time": "2024-08-01T15:02:00.786625Z",
     "start_time": "2024-08-01T15:02:00.781217Z"
    }
   },
   "source": [
    "keras.backend.clear_session()\n",
    "np.random.seed(42)\n",
    "tf.random.set_seed(42)"
   ],
   "outputs": [],
   "execution_count": 75
  },
  {
   "cell_type": "code",
   "metadata": {
    "ExecuteTime": {
     "end_time": "2024-08-01T15:02:01.408414Z",
     "start_time": "2024-08-01T15:02:01.392076Z"
    }
   },
   "source": [
    "model = keras.models.Sequential([\n",
    "    keras.layers.Dense(30, activation=\"relu\", input_shape=[8]),\n",
    "    keras.layers.Dense(30, activation=\"relu\"),\n",
    "    keras.layers.Dense(1)\n",
    "])    "
   ],
   "outputs": [],
   "execution_count": 76
  },
  {
   "cell_type": "code",
   "metadata": {
    "ExecuteTime": {
     "end_time": "2024-08-01T15:02:26.658585Z",
     "start_time": "2024-08-01T15:02:25.264209Z"
    }
   },
   "source": [
    "model.compile(loss=\"mse\", optimizer=keras.optimizers.SGD(learning_rate=1e-3))\n",
    "checkpoint_cb = keras.callbacks.ModelCheckpoint(\"my_keras_model.h5\", save_best_only=True)\n",
    "history = model.fit(X_train, y_train, epochs=10,\n",
    "                    validation_data=(X_valid, y_valid),\n",
    "                    callbacks=[checkpoint_cb])\n",
    "model = keras.models.load_model(\"my_keras_model.h5\") # rollback to best model\n",
    "mse_test = model.evaluate(X_test, y_test)"
   ],
   "outputs": [
    {
     "name": "stderr",
     "output_type": "stream",
     "text": [
      "WARNING:absl:At this time, the v2.11+ optimizer `tf.keras.optimizers.SGD` runs slowly on M1/M2 Macs, please use the legacy Keras optimizer instead, located at `tf.keras.optimizers.legacy.SGD`.\n",
      "WARNING:absl:There is a known slowdown when using v2.11+ Keras optimizers on M1/M2 Macs. Falling back to the legacy Keras optimizer, i.e., `tf.keras.optimizers.legacy.SGD`.\n"
     ]
    },
    {
     "name": "stdout",
     "output_type": "stream",
     "text": [
      "Epoch 1/10\n",
      "363/363 [==============================] - 0s 410us/step - loss: 0.4690 - val_loss: 0.4334\n",
      "Epoch 2/10\n",
      "363/363 [==============================] - 0s 317us/step - loss: 0.4563 - val_loss: 0.4316\n",
      "Epoch 3/10\n",
      "363/363 [==============================] - 0s 302us/step - loss: 0.4456 - val_loss: 0.4367\n",
      "Epoch 4/10\n",
      "363/363 [==============================] - 0s 315us/step - loss: 0.4344 - val_loss: 0.4585\n",
      "Epoch 5/10\n",
      "363/363 [==============================] - 0s 311us/step - loss: 0.4281 - val_loss: 0.4045\n",
      "Epoch 6/10\n",
      "363/363 [==============================] - 0s 301us/step - loss: 0.4196 - val_loss: 0.4547\n",
      "Epoch 7/10\n",
      "363/363 [==============================] - 0s 300us/step - loss: 0.4153 - val_loss: 0.4214\n",
      "Epoch 8/10\n",
      "363/363 [==============================] - 0s 323us/step - loss: 0.4098 - val_loss: 0.3807\n",
      "Epoch 9/10\n",
      "363/363 [==============================] - 0s 367us/step - loss: 0.4047 - val_loss: 0.4193\n",
      "Epoch 10/10\n",
      "363/363 [==============================] - 0s 331us/step - loss: 0.4010 - val_loss: 0.4126\n",
      "162/162 [==============================] - 0s 215us/step - loss: 0.4065\n"
     ]
    }
   ],
   "execution_count": 78
  },
  {
   "cell_type": "code",
   "metadata": {
    "ExecuteTime": {
     "end_time": "2024-08-01T15:02:31.431757Z",
     "start_time": "2024-08-01T15:02:27.497895Z"
    }
   },
   "source": [
    "model.compile(loss=\"mse\", optimizer=keras.optimizers.SGD(learning_rate=1e-3))\n",
    "early_stopping_cb = keras.callbacks.EarlyStopping(patience=10,\n",
    "                                                  restore_best_weights=True)\n",
    "history = model.fit(X_train, y_train, epochs=100,\n",
    "                    validation_data=(X_valid, y_valid),\n",
    "                    callbacks=[checkpoint_cb, early_stopping_cb])\n",
    "mse_test = model.evaluate(X_test, y_test)"
   ],
   "outputs": [
    {
     "name": "stderr",
     "output_type": "stream",
     "text": [
      "WARNING:absl:At this time, the v2.11+ optimizer `tf.keras.optimizers.SGD` runs slowly on M1/M2 Macs, please use the legacy Keras optimizer instead, located at `tf.keras.optimizers.legacy.SGD`.\n",
      "WARNING:absl:There is a known slowdown when using v2.11+ Keras optimizers on M1/M2 Macs. Falling back to the legacy Keras optimizer, i.e., `tf.keras.optimizers.legacy.SGD`.\n"
     ]
    },
    {
     "name": "stdout",
     "output_type": "stream",
     "text": [
      "Epoch 1/100\n",
      "363/363 [==============================] - 0s 429us/step - loss: 0.4050 - val_loss: 0.4010\n",
      "Epoch 2/100\n",
      "363/363 [==============================] - 0s 310us/step - loss: 0.4014 - val_loss: 0.4397\n",
      "Epoch 3/100\n",
      "363/363 [==============================] - 0s 301us/step - loss: 0.3983 - val_loss: 0.4265\n",
      "Epoch 4/100\n",
      "363/363 [==============================] - 0s 311us/step - loss: 0.3936 - val_loss: 0.4243\n",
      "Epoch 5/100\n",
      "363/363 [==============================] - 0s 321us/step - loss: 0.3920 - val_loss: 0.3772\n",
      "Epoch 6/100\n",
      "363/363 [==============================] - 0s 302us/step - loss: 0.3876 - val_loss: 0.4488\n",
      "Epoch 7/100\n",
      "363/363 [==============================] - 0s 300us/step - loss: 0.3863 - val_loss: 0.4125\n",
      "Epoch 8/100\n",
      "363/363 [==============================] - 0s 316us/step - loss: 0.3836 - val_loss: 0.3658\n",
      "Epoch 9/100\n",
      "363/363 [==============================] - 0s 303us/step - loss: 0.3807 - val_loss: 0.4271\n",
      "Epoch 10/100\n",
      "363/363 [==============================] - 0s 302us/step - loss: 0.3789 - val_loss: 0.4306\n",
      "Epoch 11/100\n",
      "363/363 [==============================] - 0s 303us/step - loss: 0.3770 - val_loss: 0.3846\n",
      "Epoch 12/100\n",
      "363/363 [==============================] - 0s 309us/step - loss: 0.3750 - val_loss: 0.4726\n",
      "Epoch 13/100\n",
      "363/363 [==============================] - 0s 312us/step - loss: 0.3739 - val_loss: 0.3847\n",
      "Epoch 14/100\n",
      "363/363 [==============================] - 0s 305us/step - loss: 0.3722 - val_loss: 0.3965\n",
      "Epoch 15/100\n",
      "363/363 [==============================] - 0s 312us/step - loss: 0.3708 - val_loss: 0.3806\n",
      "Epoch 16/100\n",
      "363/363 [==============================] - 0s 314us/step - loss: 0.3690 - val_loss: 0.3650\n",
      "Epoch 17/100\n",
      "363/363 [==============================] - 0s 302us/step - loss: 0.3674 - val_loss: 0.4514\n",
      "Epoch 18/100\n",
      "363/363 [==============================] - 0s 352us/step - loss: 0.3670 - val_loss: 0.4035\n",
      "Epoch 19/100\n",
      "363/363 [==============================] - 0s 317us/step - loss: 0.3650 - val_loss: 0.3960\n",
      "Epoch 20/100\n",
      "363/363 [==============================] - 0s 302us/step - loss: 0.3640 - val_loss: 0.4857\n",
      "Epoch 21/100\n",
      "363/363 [==============================] - 0s 303us/step - loss: 0.3629 - val_loss: 0.4270\n",
      "Epoch 22/100\n",
      "363/363 [==============================] - 0s 313us/step - loss: 0.3618 - val_loss: 0.4893\n",
      "Epoch 23/100\n",
      "363/363 [==============================] - 0s 315us/step - loss: 0.3605 - val_loss: 0.3548\n",
      "Epoch 24/100\n",
      "363/363 [==============================] - 0s 310us/step - loss: 0.3596 - val_loss: 0.4308\n",
      "Epoch 25/100\n",
      "363/363 [==============================] - 0s 306us/step - loss: 0.3582 - val_loss: 0.4844\n",
      "Epoch 26/100\n",
      "363/363 [==============================] - 0s 305us/step - loss: 0.3577 - val_loss: 0.4569\n",
      "Epoch 27/100\n",
      "363/363 [==============================] - 0s 313us/step - loss: 0.3570 - val_loss: 0.3580\n",
      "Epoch 28/100\n",
      "363/363 [==============================] - 0s 305us/step - loss: 0.3560 - val_loss: 0.4436\n",
      "Epoch 29/100\n",
      "363/363 [==============================] - 0s 304us/step - loss: 0.3553 - val_loss: 0.3805\n",
      "Epoch 30/100\n",
      "363/363 [==============================] - 0s 305us/step - loss: 0.3543 - val_loss: 0.4407\n",
      "Epoch 31/100\n",
      "363/363 [==============================] - 0s 311us/step - loss: 0.3530 - val_loss: 0.3861\n",
      "Epoch 32/100\n",
      "363/363 [==============================] - 0s 306us/step - loss: 0.3526 - val_loss: 0.4382\n",
      "Epoch 33/100\n",
      "363/363 [==============================] - 0s 306us/step - loss: 0.3523 - val_loss: 0.3589\n",
      "162/162 [==============================] - 0s 204us/step - loss: 0.3594\n"
     ]
    }
   ],
   "execution_count": 79
  },
  {
   "cell_type": "code",
   "metadata": {
    "ExecuteTime": {
     "end_time": "2024-08-01T15:02:32.324676Z",
     "start_time": "2024-08-01T15:02:32.322811Z"
    }
   },
   "source": [
    "class PrintValTrainRatioCallback(keras.callbacks.Callback):\n",
    "    def on_epoch_end(self, epoch, logs):\n",
    "        print(\"\\nval/train: {:.2f}\".format(logs[\"val_loss\"] / logs[\"loss\"]))"
   ],
   "outputs": [],
   "execution_count": 80
  },
  {
   "cell_type": "code",
   "metadata": {
    "ExecuteTime": {
     "end_time": "2024-08-01T15:02:33.080879Z",
     "start_time": "2024-08-01T15:02:32.927031Z"
    }
   },
   "source": [
    "val_train_ratio_cb = PrintValTrainRatioCallback()\n",
    "history = model.fit(X_train, y_train, epochs=1,\n",
    "                    validation_data=(X_valid, y_valid),\n",
    "                    callbacks=[val_train_ratio_cb])"
   ],
   "outputs": [
    {
     "name": "stdout",
     "output_type": "stream",
     "text": [
      "206/363 [================>.............] - ETA: 0s - loss: 0.3655\n",
      "val/train: 1.16\n",
      "363/363 [==============================] - 0s 364us/step - loss: 0.3595 - val_loss: 0.4169\n"
     ]
    }
   ],
   "execution_count": 81
  },
  {
   "cell_type": "markdown",
   "metadata": {},
   "source": [
    "# TensorBoard"
   ]
  },
  {
   "cell_type": "code",
   "metadata": {
    "ExecuteTime": {
     "end_time": "2024-08-01T15:02:34.345083Z",
     "start_time": "2024-08-01T15:02:34.343422Z"
    }
   },
   "source": [
    "root_logdir = os.path.join(os.curdir, \"my_logs\")"
   ],
   "outputs": [],
   "execution_count": 82
  },
  {
   "cell_type": "code",
   "metadata": {
    "ExecuteTime": {
     "end_time": "2024-08-01T15:02:34.804823Z",
     "start_time": "2024-08-01T15:02:34.802120Z"
    }
   },
   "source": [
    "def get_run_logdir():\n",
    "    import time\n",
    "    run_id = time.strftime(\"run_%Y_%m_%d-%H_%M_%S\")\n",
    "    return os.path.join(root_logdir, run_id)\n",
    "\n",
    "run_logdir = get_run_logdir()\n",
    "run_logdir"
   ],
   "outputs": [
    {
     "data": {
      "text/plain": [
       "'./my_logs/run_2024_08_01-20_32_34'"
      ]
     },
     "execution_count": 83,
     "metadata": {},
     "output_type": "execute_result"
    }
   ],
   "execution_count": 83
  },
  {
   "cell_type": "code",
   "metadata": {
    "ExecuteTime": {
     "end_time": "2024-08-01T15:02:35.397820Z",
     "start_time": "2024-08-01T15:02:35.392549Z"
    }
   },
   "source": [
    "keras.backend.clear_session()\n",
    "np.random.seed(42)\n",
    "tf.random.set_seed(42)"
   ],
   "outputs": [],
   "execution_count": 84
  },
  {
   "cell_type": "code",
   "metadata": {
    "ExecuteTime": {
     "end_time": "2024-08-01T15:02:35.759132Z",
     "start_time": "2024-08-01T15:02:35.740034Z"
    }
   },
   "source": [
    "model = keras.models.Sequential([\n",
    "    keras.layers.Dense(30, activation=\"relu\", input_shape=[8]),\n",
    "    keras.layers.Dense(30, activation=\"relu\"),\n",
    "    keras.layers.Dense(1)\n",
    "])    \n",
    "model.compile(loss=\"mse\", optimizer=keras.optimizers.SGD(learning_rate=1e-3))"
   ],
   "outputs": [
    {
     "name": "stderr",
     "output_type": "stream",
     "text": [
      "WARNING:absl:At this time, the v2.11+ optimizer `tf.keras.optimizers.SGD` runs slowly on M1/M2 Macs, please use the legacy Keras optimizer instead, located at `tf.keras.optimizers.legacy.SGD`.\n",
      "WARNING:absl:There is a known slowdown when using v2.11+ Keras optimizers on M1/M2 Macs. Falling back to the legacy Keras optimizer, i.e., `tf.keras.optimizers.legacy.SGD`.\n"
     ]
    }
   ],
   "execution_count": 85
  },
  {
   "cell_type": "code",
   "metadata": {
    "ExecuteTime": {
     "end_time": "2024-08-01T15:02:40.019095Z",
     "start_time": "2024-08-01T15:02:36.201275Z"
    }
   },
   "source": [
    "tensorboard_cb = keras.callbacks.TensorBoard(run_logdir)\n",
    "history = model.fit(X_train, y_train, epochs=30,\n",
    "                    validation_data=(X_valid, y_valid),\n",
    "                    callbacks=[checkpoint_cb, tensorboard_cb])"
   ],
   "outputs": [
    {
     "name": "stdout",
     "output_type": "stream",
     "text": [
      "Epoch 1/30\n",
      "363/363 [==============================] - 0s 452us/step - loss: 1.2778 - val_loss: 1.0499\n",
      "Epoch 2/30\n",
      "363/363 [==============================] - 0s 329us/step - loss: 0.6775 - val_loss: 0.6213\n",
      "Epoch 3/30\n",
      "363/363 [==============================] - 0s 328us/step - loss: 0.6113 - val_loss: 0.5673\n",
      "Epoch 4/30\n",
      "363/363 [==============================] - 0s 324us/step - loss: 0.5670 - val_loss: 0.5298\n",
      "Epoch 5/30\n",
      "363/363 [==============================] - 0s 334us/step - loss: 0.5340 - val_loss: 0.5110\n",
      "Epoch 6/30\n",
      "363/363 [==============================] - 0s 325us/step - loss: 0.5073 - val_loss: 0.4715\n",
      "Epoch 7/30\n",
      "363/363 [==============================] - 0s 338us/step - loss: 0.4877 - val_loss: 0.4562\n",
      "Epoch 8/30\n",
      "363/363 [==============================] - 0s 326us/step - loss: 0.4723 - val_loss: 0.4603\n",
      "Epoch 9/30\n",
      "363/363 [==============================] - 0s 336us/step - loss: 0.4593 - val_loss: 0.4317\n",
      "Epoch 10/30\n",
      "363/363 [==============================] - 0s 330us/step - loss: 0.4490 - val_loss: 0.4247\n",
      "Epoch 11/30\n",
      "363/363 [==============================] - 0s 332us/step - loss: 0.4407 - val_loss: 0.4131\n",
      "Epoch 12/30\n",
      "363/363 [==============================] - 0s 331us/step - loss: 0.4333 - val_loss: 0.4495\n",
      "Epoch 13/30\n",
      "363/363 [==============================] - 0s 335us/step - loss: 0.4275 - val_loss: 0.4074\n",
      "Epoch 14/30\n",
      "363/363 [==============================] - 0s 341us/step - loss: 0.4220 - val_loss: 0.4026\n",
      "Epoch 15/30\n",
      "363/363 [==============================] - 0s 333us/step - loss: 0.4173 - val_loss: 0.4098\n",
      "Epoch 16/30\n",
      "363/363 [==============================] - 0s 342us/step - loss: 0.4133 - val_loss: 0.3897\n",
      "Epoch 17/30\n",
      "363/363 [==============================] - 0s 330us/step - loss: 0.4095 - val_loss: 0.4247\n",
      "Epoch 18/30\n",
      "363/363 [==============================] - 0s 338us/step - loss: 0.4066 - val_loss: 0.3886\n",
      "Epoch 19/30\n",
      "363/363 [==============================] - 0s 333us/step - loss: 0.4030 - val_loss: 0.3860\n",
      "Epoch 20/30\n",
      "363/363 [==============================] - 0s 331us/step - loss: 0.4004 - val_loss: 0.4459\n",
      "Epoch 21/30\n",
      "363/363 [==============================] - 0s 331us/step - loss: 0.3982 - val_loss: 0.3937\n",
      "Epoch 22/30\n",
      "363/363 [==============================] - 0s 336us/step - loss: 0.3957 - val_loss: 0.4117\n",
      "Epoch 23/30\n",
      "363/363 [==============================] - 0s 333us/step - loss: 0.3936 - val_loss: 0.3984\n",
      "Epoch 24/30\n",
      "363/363 [==============================] - 0s 330us/step - loss: 0.3916 - val_loss: 0.3911\n",
      "Epoch 25/30\n",
      "363/363 [==============================] - 0s 331us/step - loss: 0.3897 - val_loss: 0.3785\n",
      "Epoch 26/30\n",
      "363/363 [==============================] - 0s 363us/step - loss: 0.3879 - val_loss: 0.3853\n",
      "Epoch 27/30\n",
      "363/363 [==============================] - 0s 332us/step - loss: 0.3865 - val_loss: 0.3832\n",
      "Epoch 28/30\n",
      "363/363 [==============================] - 0s 331us/step - loss: 0.3848 - val_loss: 0.3835\n",
      "Epoch 29/30\n",
      "363/363 [==============================] - 0s 331us/step - loss: 0.3835 - val_loss: 0.3646\n",
      "Epoch 30/30\n",
      "363/363 [==============================] - 0s 343us/step - loss: 0.3816 - val_loss: 0.3992\n"
     ]
    }
   ],
   "execution_count": 86
  },
  {
   "cell_type": "markdown",
   "metadata": {},
   "source": [
    "To start the TensorBoard server, one option is to open a terminal, if needed activate the virtualenv where you installed TensorBoard, go to this notebook's directory, then type:\n",
    "\n",
    "```bash\n",
    "$ tensorboard --logdir=./my_logs --port=6006\n",
    "```\n",
    "\n",
    "You can then open your web browser to [localhost:6006](http://localhost:6006) and use TensorBoard. Once you are done, press Ctrl-C in the terminal window, this will shutdown the TensorBoard server.\n",
    "\n",
    "Alternatively, you can load TensorBoard's Jupyter extension and run it like this:"
   ]
  },
  {
   "cell_type": "code",
   "metadata": {
    "ExecuteTime": {
     "end_time": "2024-08-01T15:02:45.282863Z",
     "start_time": "2024-08-01T15:02:41.727025Z"
    }
   },
   "source": [
    "%load_ext tensorboard\n",
    "%tensorboard --logdir=./my_logs --port=6006"
   ],
   "outputs": [
    {
     "data": {
      "text/plain": [
       "<IPython.core.display.HTML object>"
      ],
      "text/html": [
       "\n",
       "      <iframe id=\"tensorboard-frame-451ceaca4a14446f\" width=\"100%\" height=\"800\" frameborder=\"0\">\n",
       "      </iframe>\n",
       "      <script>\n",
       "        (function() {\n",
       "          const frame = document.getElementById(\"tensorboard-frame-451ceaca4a14446f\");\n",
       "          const url = new URL(\"/\", window.location);\n",
       "          const port = 6006;\n",
       "          if (port) {\n",
       "            url.port = port;\n",
       "          }\n",
       "          frame.src = url;\n",
       "        })();\n",
       "      </script>\n",
       "    "
      ]
     },
     "metadata": {},
     "output_type": "display_data"
    }
   ],
   "execution_count": 87
  },
  {
   "cell_type": "code",
   "metadata": {
    "ExecuteTime": {
     "end_time": "2024-08-01T15:02:50.335885Z",
     "start_time": "2024-08-01T15:02:50.332319Z"
    }
   },
   "source": [
    "run_logdir2 = get_run_logdir()\n",
    "run_logdir2"
   ],
   "outputs": [
    {
     "data": {
      "text/plain": [
       "'./my_logs/run_2024_08_01-20_32_50'"
      ]
     },
     "execution_count": 88,
     "metadata": {},
     "output_type": "execute_result"
    }
   ],
   "execution_count": 88
  },
  {
   "cell_type": "code",
   "metadata": {
    "ExecuteTime": {
     "end_time": "2024-08-01T15:02:51.080891Z",
     "start_time": "2024-08-01T15:02:51.075926Z"
    }
   },
   "source": [
    "keras.backend.clear_session()\n",
    "np.random.seed(42)\n",
    "tf.random.set_seed(42)"
   ],
   "outputs": [],
   "execution_count": 89
  },
  {
   "cell_type": "code",
   "metadata": {
    "ExecuteTime": {
     "end_time": "2024-08-01T15:03:11.134607Z",
     "start_time": "2024-08-01T15:03:11.121819Z"
    }
   },
   "source": [
    "model = keras.models.Sequential([\n",
    "    keras.layers.Dense(30, activation=\"relu\", input_shape=[8]),\n",
    "    keras.layers.Dense(30, activation=\"relu\"),\n",
    "    keras.layers.Dense(1)\n",
    "])    \n",
    "model.compile(loss=\"mse\", optimizer=keras.optimizers.legacy.SGD(learning_rate=0.05))"
   ],
   "outputs": [],
   "execution_count": 92
  },
  {
   "cell_type": "code",
   "metadata": {
    "ExecuteTime": {
     "end_time": "2024-08-01T15:03:15.813501Z",
     "start_time": "2024-08-01T15:03:11.961498Z"
    }
   },
   "source": [
    "tensorboard_cb = keras.callbacks.TensorBoard(run_logdir2)\n",
    "history = model.fit(X_train, y_train, epochs=30,\n",
    "                    validation_data=(X_valid, y_valid),\n",
    "                    callbacks=[checkpoint_cb, tensorboard_cb])"
   ],
   "outputs": [
    {
     "name": "stdout",
     "output_type": "stream",
     "text": [
      "Epoch 1/30\n",
      "363/363 [==============================] - 0s 445us/step - loss: 0.6442 - val_loss: 913.5782\n",
      "Epoch 2/30\n",
      "363/363 [==============================] - 0s 343us/step - loss: 0.5119 - val_loss: 0.3373\n",
      "Epoch 3/30\n",
      "363/363 [==============================] - 0s 328us/step - loss: 0.3731 - val_loss: 0.3206\n",
      "Epoch 4/30\n",
      "363/363 [==============================] - 0s 328us/step - loss: 0.3566 - val_loss: 0.3224\n",
      "Epoch 5/30\n",
      "363/363 [==============================] - 0s 330us/step - loss: 0.3511 - val_loss: 0.3185\n",
      "Epoch 6/30\n",
      "363/363 [==============================] - 0s 360us/step - loss: 0.3392 - val_loss: 0.3344\n",
      "Epoch 7/30\n",
      "363/363 [==============================] - 0s 341us/step - loss: 0.3283 - val_loss: 0.3127\n",
      "Epoch 8/30\n",
      "363/363 [==============================] - 0s 328us/step - loss: 0.3237 - val_loss: 0.2918\n",
      "Epoch 9/30\n",
      "363/363 [==============================] - 0s 330us/step - loss: 0.3175 - val_loss: 0.2933\n",
      "Epoch 10/30\n",
      "363/363 [==============================] - 0s 328us/step - loss: 0.3128 - val_loss: 0.2984\n",
      "Epoch 11/30\n",
      "363/363 [==============================] - 0s 334us/step - loss: 0.3144 - val_loss: 0.3068\n",
      "Epoch 12/30\n",
      "363/363 [==============================] - 0s 335us/step - loss: 0.3093 - val_loss: 0.3009\n",
      "Epoch 13/30\n",
      "363/363 [==============================] - 0s 331us/step - loss: 0.3026 - val_loss: 0.2889\n",
      "Epoch 14/30\n",
      "363/363 [==============================] - 0s 329us/step - loss: 0.3035 - val_loss: 0.3533\n",
      "Epoch 15/30\n",
      "363/363 [==============================] - 0s 372us/step - loss: 0.2996 - val_loss: 0.3070\n",
      "Epoch 16/30\n",
      "363/363 [==============================] - 0s 331us/step - loss: 0.2982 - val_loss: 0.3475\n",
      "Epoch 17/30\n",
      "363/363 [==============================] - 0s 331us/step - loss: 0.2956 - val_loss: 0.3891\n",
      "Epoch 18/30\n",
      "363/363 [==============================] - 0s 335us/step - loss: 0.3009 - val_loss: 0.3788\n",
      "Epoch 19/30\n",
      "363/363 [==============================] - 0s 339us/step - loss: 0.2980 - val_loss: 0.2816\n",
      "Epoch 20/30\n",
      "363/363 [==============================] - 0s 332us/step - loss: 0.2955 - val_loss: 0.3132\n",
      "Epoch 21/30\n",
      "363/363 [==============================] - 0s 338us/step - loss: 0.2897 - val_loss: 0.3123\n",
      "Epoch 22/30\n",
      "363/363 [==============================] - 0s 338us/step - loss: 0.2890 - val_loss: 0.2962\n",
      "Epoch 23/30\n",
      "363/363 [==============================] - 0s 337us/step - loss: 0.2876 - val_loss: 0.3053\n",
      "Epoch 24/30\n",
      "363/363 [==============================] - 0s 361us/step - loss: 0.2864 - val_loss: 0.2946\n",
      "Epoch 25/30\n",
      "363/363 [==============================] - 0s 342us/step - loss: 0.2863 - val_loss: 0.2670\n",
      "Epoch 26/30\n",
      "363/363 [==============================] - 0s 334us/step - loss: 0.2865 - val_loss: 0.2679\n",
      "Epoch 27/30\n",
      "363/363 [==============================] - 0s 328us/step - loss: 0.2831 - val_loss: 0.2736\n",
      "Epoch 28/30\n",
      "363/363 [==============================] - 0s 338us/step - loss: 0.2827 - val_loss: 0.2863\n",
      "Epoch 29/30\n",
      "363/363 [==============================] - 0s 340us/step - loss: 0.2834 - val_loss: 0.4023\n",
      "Epoch 30/30\n",
      "363/363 [==============================] - 0s 343us/step - loss: 0.2897 - val_loss: 0.3231\n"
     ]
    }
   ],
   "execution_count": 93
  },
  {
   "cell_type": "markdown",
   "metadata": {},
   "source": [
    "Notice how TensorBoard now sees two runs, and you can compare the learning curves."
   ]
  },
  {
   "cell_type": "markdown",
   "metadata": {},
   "source": [
    "Check out the other available logging options:"
   ]
  },
  {
   "cell_type": "code",
   "metadata": {
    "ExecuteTime": {
     "end_time": "2024-08-01T15:03:19.676602Z",
     "start_time": "2024-08-01T15:03:19.674238Z"
    }
   },
   "source": [
    "help(keras.callbacks.TensorBoard.__init__)"
   ],
   "outputs": [
    {
     "name": "stdout",
     "output_type": "stream",
     "text": [
      "Help on function __init__ in module keras.callbacks:\n",
      "\n",
      "__init__(self, log_dir='logs', histogram_freq=0, write_graph=True, write_images=False, write_steps_per_second=False, update_freq='epoch', profile_batch=0, embeddings_freq=0, embeddings_metadata=None, **kwargs)\n",
      "    Initialize self.  See help(type(self)) for accurate signature.\n",
      "\n"
     ]
    }
   ],
   "execution_count": 94
  },
  {
   "cell_type": "markdown",
   "metadata": {},
   "source": [
    "# Hyperparameter Tuning"
   ]
  },
  {
   "cell_type": "code",
   "metadata": {
    "ExecuteTime": {
     "end_time": "2024-08-01T15:03:21.852068Z",
     "start_time": "2024-08-01T15:03:21.847433Z"
    }
   },
   "source": [
    "keras.backend.clear_session()\n",
    "np.random.seed(42)\n",
    "tf.random.set_seed(42)"
   ],
   "outputs": [],
   "execution_count": 95
  },
  {
   "cell_type": "code",
   "metadata": {
    "ExecuteTime": {
     "end_time": "2024-08-01T15:03:22.521839Z",
     "start_time": "2024-08-01T15:03:22.519608Z"
    }
   },
   "source": [
    "def build_model(n_hidden=1, n_neurons=30, learning_rate=3e-3, input_shape=[8]):\n",
    "    model = keras.models.Sequential()\n",
    "    model.add(keras.layers.InputLayer(input_shape=input_shape))\n",
    "    for layer in range(n_hidden):\n",
    "        model.add(keras.layers.Dense(n_neurons, activation=\"relu\"))\n",
    "    model.add(keras.layers.Dense(1))\n",
    "    optimizer = keras.optimizers.SGD(learning_rate=learning_rate)\n",
    "    model.compile(loss=\"mse\", optimizer=optimizer)\n",
    "    return model"
   ],
   "outputs": [],
   "execution_count": 96
  },
  {
   "cell_type": "code",
   "metadata": {
    "ExecuteTime": {
     "end_time": "2024-08-01T15:03:23.056629Z",
     "start_time": "2024-08-01T15:03:23.054724Z"
    }
   },
   "source": [
    "keras_reg = keras.wrappers.scikit_learn.KerasRegressor(build_model)"
   ],
   "outputs": [
    {
     "name": "stderr",
     "output_type": "stream",
     "text": [
      "/var/folders/pj/9m4hjj3d1mq0s_821c7v7c740000gn/T/ipykernel_93603/4087176523.py:1: DeprecationWarning: KerasRegressor is deprecated, use Sci-Keras (https://github.com/adriangb/scikeras) instead. See https://www.adriangb.com/scikeras/stable/migration.html for help migrating.\n",
      "  keras_reg = keras.wrappers.scikit_learn.KerasRegressor(build_model)\n"
     ]
    }
   ],
   "execution_count": 97
  },
  {
   "cell_type": "code",
   "metadata": {
    "ExecuteTime": {
     "end_time": "2024-08-01T15:03:25.673560Z",
     "start_time": "2024-08-01T15:03:23.402515Z"
    }
   },
   "source": [
    "keras_reg.fit(X_train, y_train, epochs=100,\n",
    "              validation_data=(X_valid, y_valid),\n",
    "              callbacks=[keras.callbacks.EarlyStopping(patience=10)])"
   ],
   "outputs": [
    {
     "name": "stderr",
     "output_type": "stream",
     "text": [
      "WARNING:absl:At this time, the v2.11+ optimizer `tf.keras.optimizers.SGD` runs slowly on M1/M2 Macs, please use the legacy Keras optimizer instead, located at `tf.keras.optimizers.legacy.SGD`.\n",
      "WARNING:absl:There is a known slowdown when using v2.11+ Keras optimizers on M1/M2 Macs. Falling back to the legacy Keras optimizer, i.e., `tf.keras.optimizers.legacy.SGD`.\n"
     ]
    },
    {
     "name": "stdout",
     "output_type": "stream",
     "text": [
      "Epoch 1/100\n",
      "363/363 [==============================] - 0s 411us/step - loss: 1.2186 - val_loss: 0.6483\n",
      "Epoch 2/100\n",
      "363/363 [==============================] - 0s 306us/step - loss: 0.6173 - val_loss: 0.7410\n",
      "Epoch 3/100\n",
      "363/363 [==============================] - 0s 301us/step - loss: 0.5425 - val_loss: 0.5440\n",
      "Epoch 4/100\n",
      "363/363 [==============================] - 0s 322us/step - loss: 0.4822 - val_loss: 0.4453\n",
      "Epoch 5/100\n",
      "363/363 [==============================] - 0s 300us/step - loss: 0.4527 - val_loss: 0.4573\n",
      "Epoch 6/100\n",
      "363/363 [==============================] - 0s 298us/step - loss: 0.4331 - val_loss: 0.4046\n",
      "Epoch 7/100\n",
      "363/363 [==============================] - 0s 300us/step - loss: 0.4233 - val_loss: 0.4030\n",
      "Epoch 8/100\n",
      "363/363 [==============================] - 0s 304us/step - loss: 0.4155 - val_loss: 0.3876\n",
      "Epoch 9/100\n",
      "363/363 [==============================] - 0s 302us/step - loss: 0.4102 - val_loss: 0.3821\n",
      "Epoch 10/100\n",
      "363/363 [==============================] - 0s 298us/step - loss: 0.4054 - val_loss: 0.4321\n",
      "Epoch 11/100\n",
      "363/363 [==============================] - 0s 299us/step - loss: 0.4037 - val_loss: 0.8424\n",
      "Epoch 12/100\n",
      "363/363 [==============================] - 0s 302us/step - loss: 0.4021 - val_loss: 1.5054\n",
      "Epoch 13/100\n",
      "363/363 [==============================] - 0s 332us/step - loss: 0.4093 - val_loss: 1.1810\n",
      "Epoch 14/100\n",
      "363/363 [==============================] - 0s 300us/step - loss: 0.3975 - val_loss: 0.7859\n",
      "Epoch 15/100\n",
      "363/363 [==============================] - 0s 312us/step - loss: 0.3959 - val_loss: 0.8848\n",
      "Epoch 16/100\n",
      "363/363 [==============================] - 0s 302us/step - loss: 0.3915 - val_loss: 0.5778\n",
      "Epoch 17/100\n",
      "363/363 [==============================] - 0s 304us/step - loss: 0.3903 - val_loss: 0.3930\n",
      "Epoch 18/100\n",
      "363/363 [==============================] - 0s 302us/step - loss: 0.3868 - val_loss: 0.4002\n",
      "Epoch 19/100\n",
      "363/363 [==============================] - 0s 300us/step - loss: 0.3859 - val_loss: 0.4127\n"
     ]
    },
    {
     "data": {
      "text/plain": [
       "<keras.callbacks.History at 0x166229810>"
      ]
     },
     "execution_count": 98,
     "metadata": {},
     "output_type": "execute_result"
    }
   ],
   "execution_count": 98
  },
  {
   "cell_type": "code",
   "metadata": {
    "ExecuteTime": {
     "end_time": "2024-08-01T15:03:28.047305Z",
     "start_time": "2024-08-01T15:03:27.987013Z"
    }
   },
   "source": [
    "mse_test = keras_reg.score(X_test, y_test)"
   ],
   "outputs": [
    {
     "name": "stdout",
     "output_type": "stream",
     "text": [
      "162/162 [==============================] - 0s 212us/step - loss: 0.3751\n"
     ]
    }
   ],
   "execution_count": 99
  },
  {
   "cell_type": "code",
   "metadata": {
    "ExecuteTime": {
     "end_time": "2024-08-01T15:03:28.742959Z",
     "start_time": "2024-08-01T15:03:28.712476Z"
    }
   },
   "source": [
    "y_pred = keras_reg.predict(X_new)"
   ],
   "outputs": [
    {
     "name": "stdout",
     "output_type": "stream",
     "text": [
      "1/1 [==============================] - 0s 16ms/step\n"
     ]
    }
   ],
   "execution_count": 100
  },
  {
   "cell_type": "code",
   "metadata": {
    "ExecuteTime": {
     "end_time": "2024-08-01T15:03:29.433198Z",
     "start_time": "2024-08-01T15:03:29.430086Z"
    }
   },
   "source": [
    "np.random.seed(42)\n",
    "tf.random.set_seed(42)"
   ],
   "outputs": [],
   "execution_count": 101
  },
  {
   "cell_type": "markdown",
   "metadata": {},
   "source": [
    "**Warning**: the following cell crashes at the end of training. This seems to be caused by [Keras issue #13586](https://github.com/keras-team/keras/issues/13586), which was triggered by a recent change in Scikit-Learn. [Pull Request #13598](https://github.com/keras-team/keras/pull/13598) seems to fix the issue, so this problem should be resolved soon. In the meantime, I've added `.tolist()` and `.rvs(1000).tolist()` as workarounds."
   ]
  },
  {
   "cell_type": "code",
   "metadata": {
    "ExecuteTime": {
     "end_time": "2024-08-01T15:04:54.583065Z",
     "start_time": "2024-08-01T15:04:20.269377Z"
    }
   },
   "source": [
    "from scipy.stats import reciprocal\n",
    "from sklearn.model_selection import RandomizedSearchCV\n",
    "\n",
    "param_distribs = {\n",
    "    \"n_hidden\": [0, 1, 2, 3],\n",
    "    \"n_neurons\": np.arange(1, 100)               .tolist(),\n",
    "    \"learning_rate\": reciprocal(3e-4, 3e-2)      .rvs(1000).tolist(),\n",
    "}\n",
    "\n",
    "rnd_search_cv = RandomizedSearchCV(keras_reg, param_distribs, n_iter=10, cv=3, verbose=2)\n",
    "rnd_search_cv.fit(X_train, y_train, epochs=100,\n",
    "                  validation_data=(X_valid, y_valid),\n",
    "                  callbacks=[keras.callbacks.EarlyStopping(patience=10)])"
   ],
   "outputs": [
    {
     "name": "stderr",
     "output_type": "stream",
     "text": [
      "WARNING:absl:At this time, the v2.11+ optimizer `tf.keras.optimizers.SGD` runs slowly on M1/M2 Macs, please use the legacy Keras optimizer instead, located at `tf.keras.optimizers.legacy.SGD`.\n",
      "WARNING:absl:There is a known slowdown when using v2.11+ Keras optimizers on M1/M2 Macs. Falling back to the legacy Keras optimizer, i.e., `tf.keras.optimizers.legacy.SGD`.\n"
     ]
    },
    {
     "name": "stdout",
     "output_type": "stream",
     "text": [
      "Fitting 3 folds for each of 10 candidates, totalling 30 fits\n",
      "Epoch 1/100\n",
      "242/242 [==============================] - 0s 524us/step - loss: 1.2509 - val_loss: 3.8756\n",
      "Epoch 2/100\n",
      "242/242 [==============================] - 0s 342us/step - loss: 0.6429 - val_loss: 24.0481\n",
      "Epoch 3/100\n",
      "242/242 [==============================] - 0s 346us/step - loss: 0.6801 - val_loss: 1.1184\n",
      "Epoch 4/100\n",
      "242/242 [==============================] - 0s 338us/step - loss: 0.4682 - val_loss: 0.4186\n",
      "Epoch 5/100\n",
      "242/242 [==============================] - 0s 347us/step - loss: 0.4333 - val_loss: 0.3937\n",
      "Epoch 6/100\n",
      "242/242 [==============================] - 0s 353us/step - loss: 0.4227 - val_loss: 0.3960\n",
      "Epoch 7/100\n",
      "242/242 [==============================] - 0s 346us/step - loss: 0.4179 - val_loss: 0.3957\n",
      "Epoch 8/100\n",
      "242/242 [==============================] - 0s 339us/step - loss: 0.4069 - val_loss: 0.3992\n",
      "Epoch 9/100\n",
      "242/242 [==============================] - 0s 338us/step - loss: 0.4004 - val_loss: 0.4072\n",
      "Epoch 10/100\n",
      "242/242 [==============================] - 0s 341us/step - loss: 0.3959 - val_loss: 0.3973\n",
      "Epoch 11/100\n",
      "242/242 [==============================] - 0s 344us/step - loss: 0.3909 - val_loss: 0.3998\n",
      "Epoch 12/100\n",
      "242/242 [==============================] - 0s 340us/step - loss: 0.3862 - val_loss: 0.3967\n",
      "Epoch 13/100\n",
      "242/242 [==============================] - 0s 343us/step - loss: 0.3811 - val_loss: 0.3917\n",
      "Epoch 14/100\n",
      "242/242 [==============================] - 0s 339us/step - loss: 0.3787 - val_loss: 0.3905\n",
      "Epoch 15/100\n",
      "242/242 [==============================] - 0s 346us/step - loss: 0.3750 - val_loss: 0.3843\n",
      "Epoch 16/100\n",
      "242/242 [==============================] - 0s 335us/step - loss: 0.3730 - val_loss: 0.3801\n",
      "Epoch 17/100\n",
      "242/242 [==============================] - 0s 381us/step - loss: 0.3703 - val_loss: 0.3749\n",
      "Epoch 18/100\n",
      "242/242 [==============================] - 0s 352us/step - loss: 0.3708 - val_loss: 0.3771\n",
      "Epoch 19/100\n",
      "242/242 [==============================] - 0s 342us/step - loss: 0.3687 - val_loss: 0.3749\n",
      "Epoch 20/100\n",
      "242/242 [==============================] - 0s 339us/step - loss: 0.3643 - val_loss: 0.3729\n",
      "Epoch 21/100\n",
      "242/242 [==============================] - 0s 344us/step - loss: 0.3695 - val_loss: 0.3763\n",
      "Epoch 22/100\n",
      "242/242 [==============================] - 0s 345us/step - loss: 0.3638 - val_loss: 0.3676\n",
      "Epoch 23/100\n",
      "242/242 [==============================] - 0s 343us/step - loss: 0.3603 - val_loss: 0.3764\n",
      "Epoch 24/100\n",
      "242/242 [==============================] - 0s 339us/step - loss: 0.3618 - val_loss: 0.3666\n",
      "Epoch 25/100\n",
      "242/242 [==============================] - 0s 353us/step - loss: 0.3569 - val_loss: 0.3689\n",
      "Epoch 26/100\n",
      "242/242 [==============================] - 0s 340us/step - loss: 0.3581 - val_loss: 0.3596\n",
      "Epoch 27/100\n",
      "242/242 [==============================] - 0s 340us/step - loss: 0.3608 - val_loss: 0.3594\n",
      "Epoch 28/100\n",
      "242/242 [==============================] - 0s 339us/step - loss: 0.3630 - val_loss: 0.3607\n",
      "Epoch 29/100\n",
      "242/242 [==============================] - 0s 344us/step - loss: 0.3518 - val_loss: 0.3568\n",
      "Epoch 30/100\n",
      "242/242 [==============================] - 0s 349us/step - loss: 0.3517 - val_loss: 0.3552\n",
      "Epoch 31/100\n",
      "242/242 [==============================] - 0s 342us/step - loss: 0.3520 - val_loss: 0.3510\n",
      "Epoch 32/100\n",
      "242/242 [==============================] - 0s 341us/step - loss: 0.3516 - val_loss: 0.3510\n",
      "Epoch 33/100\n",
      "242/242 [==============================] - 0s 340us/step - loss: 0.3491 - val_loss: 0.3547\n",
      "Epoch 34/100\n",
      "242/242 [==============================] - 0s 353us/step - loss: 0.3475 - val_loss: 0.3519\n",
      "Epoch 35/100\n",
      "242/242 [==============================] - 0s 339us/step - loss: 0.3463 - val_loss: 0.3515\n",
      "Epoch 36/100\n",
      "242/242 [==============================] - 0s 352us/step - loss: 0.3449 - val_loss: 0.3558\n",
      "Epoch 37/100\n",
      "242/242 [==============================] - 0s 344us/step - loss: 0.3437 - val_loss: 0.3453\n",
      "Epoch 38/100\n",
      "242/242 [==============================] - 0s 338us/step - loss: 0.3428 - val_loss: 0.3564\n",
      "Epoch 39/100\n",
      "242/242 [==============================] - 0s 337us/step - loss: 0.3425 - val_loss: 0.3521\n",
      "Epoch 40/100\n",
      "242/242 [==============================] - 0s 341us/step - loss: 0.3417 - val_loss: 0.3507\n",
      "Epoch 41/100\n",
      "242/242 [==============================] - 0s 337us/step - loss: 0.3479 - val_loss: 0.3462\n",
      "Epoch 42/100\n",
      "242/242 [==============================] - 0s 354us/step - loss: 0.3437 - val_loss: 0.3447\n",
      "Epoch 43/100\n",
      "242/242 [==============================] - 0s 356us/step - loss: 0.3431 - val_loss: 0.3447\n",
      "Epoch 44/100\n",
      "242/242 [==============================] - 0s 575us/step - loss: 0.3387 - val_loss: 0.3494\n",
      "Epoch 45/100\n",
      "242/242 [==============================] - 0s 781us/step - loss: 0.3418 - val_loss: 0.3411\n",
      "Epoch 46/100\n",
      "242/242 [==============================] - 0s 728us/step - loss: 0.3404 - val_loss: 0.3486\n",
      "Epoch 47/100\n",
      "242/242 [==============================] - 0s 517us/step - loss: 0.3368 - val_loss: 0.3456\n",
      "Epoch 48/100\n",
      "242/242 [==============================] - 0s 391us/step - loss: 0.3420 - val_loss: 0.3492\n",
      "Epoch 49/100\n",
      "242/242 [==============================] - 0s 355us/step - loss: 0.3435 - val_loss: 0.3369\n",
      "Epoch 50/100\n",
      "242/242 [==============================] - 0s 359us/step - loss: 0.3395 - val_loss: 0.3473\n",
      "Epoch 51/100\n",
      "242/242 [==============================] - 0s 346us/step - loss: 0.3354 - val_loss: 0.3615\n",
      "Epoch 52/100\n",
      "242/242 [==============================] - 0s 338us/step - loss: 0.3345 - val_loss: 0.3384\n",
      "Epoch 53/100\n",
      "242/242 [==============================] - 0s 363us/step - loss: 0.3340 - val_loss: 0.3430\n",
      "Epoch 54/100\n",
      "242/242 [==============================] - 0s 360us/step - loss: 0.3332 - val_loss: 0.3352\n",
      "Epoch 55/100\n",
      "242/242 [==============================] - 0s 343us/step - loss: 0.3331 - val_loss: 0.3394\n",
      "Epoch 56/100\n",
      "242/242 [==============================] - 0s 350us/step - loss: 0.3318 - val_loss: 0.3359\n",
      "Epoch 57/100\n",
      "242/242 [==============================] - 0s 349us/step - loss: 0.3303 - val_loss: 0.3372\n",
      "Epoch 58/100\n",
      "242/242 [==============================] - 0s 340us/step - loss: 0.3318 - val_loss: 0.3412\n",
      "Epoch 59/100\n",
      "242/242 [==============================] - 0s 339us/step - loss: 0.3335 - val_loss: 0.3355\n",
      "Epoch 60/100\n",
      "242/242 [==============================] - 0s 340us/step - loss: 0.3294 - val_loss: 0.3350\n",
      "Epoch 61/100\n",
      "242/242 [==============================] - 0s 341us/step - loss: 0.3302 - val_loss: 0.3344\n",
      "Epoch 62/100\n",
      "242/242 [==============================] - 0s 356us/step - loss: 0.3283 - val_loss: 0.3445\n",
      "Epoch 63/100\n",
      "242/242 [==============================] - 0s 347us/step - loss: 0.3295 - val_loss: 0.3337\n",
      "Epoch 64/100\n",
      "242/242 [==============================] - 0s 342us/step - loss: 0.3281 - val_loss: 0.3385\n",
      "Epoch 65/100\n",
      "242/242 [==============================] - 0s 344us/step - loss: 0.3276 - val_loss: 0.3338\n",
      "Epoch 66/100\n",
      "242/242 [==============================] - 0s 345us/step - loss: 0.3315 - val_loss: 0.3227\n",
      "Epoch 67/100\n",
      "242/242 [==============================] - 0s 340us/step - loss: 0.3262 - val_loss: 0.3287\n",
      "Epoch 68/100\n",
      "242/242 [==============================] - 0s 341us/step - loss: 0.3259 - val_loss: 0.3232\n",
      "Epoch 69/100\n",
      "242/242 [==============================] - 0s 349us/step - loss: 0.3245 - val_loss: 0.3311\n",
      "Epoch 70/100\n",
      "242/242 [==============================] - 0s 341us/step - loss: 0.3260 - val_loss: 0.3278\n",
      "Epoch 71/100\n",
      "242/242 [==============================] - 0s 339us/step - loss: 0.3246 - val_loss: 0.3194\n",
      "Epoch 72/100\n",
      "242/242 [==============================] - 0s 351us/step - loss: 0.3235 - val_loss: 0.3346\n",
      "Epoch 73/100\n",
      "242/242 [==============================] - 0s 341us/step - loss: 0.3239 - val_loss: 0.3842\n",
      "Epoch 74/100\n",
      "242/242 [==============================] - 0s 336us/step - loss: 0.3231 - val_loss: 0.5366\n",
      "Epoch 75/100\n",
      "242/242 [==============================] - 0s 349us/step - loss: 0.3236 - val_loss: 0.3346\n",
      "Epoch 76/100\n",
      "242/242 [==============================] - 0s 347us/step - loss: 0.3214 - val_loss: 0.3442\n",
      "Epoch 77/100\n",
      "242/242 [==============================] - 0s 341us/step - loss: 0.3224 - val_loss: 0.3227\n",
      "Epoch 78/100\n",
      "242/242 [==============================] - 0s 342us/step - loss: 0.3199 - val_loss: 0.3390\n",
      "Epoch 79/100\n",
      "242/242 [==============================] - 0s 339us/step - loss: 0.3196 - val_loss: 0.3409\n",
      "Epoch 80/100\n",
      "242/242 [==============================] - 0s 340us/step - loss: 0.3198 - val_loss: 0.3402\n",
      "Epoch 81/100\n",
      "242/242 [==============================] - 0s 345us/step - loss: 0.3196 - val_loss: 0.3334\n",
      "121/121 [==============================] - 0s 212us/step - loss: 0.3556\n"
     ]
    },
    {
     "name": "stderr",
     "output_type": "stream",
     "text": [
      "WARNING:absl:At this time, the v2.11+ optimizer `tf.keras.optimizers.SGD` runs slowly on M1/M2 Macs, please use the legacy Keras optimizer instead, located at `tf.keras.optimizers.legacy.SGD`.\n",
      "WARNING:absl:There is a known slowdown when using v2.11+ Keras optimizers on M1/M2 Macs. Falling back to the legacy Keras optimizer, i.e., `tf.keras.optimizers.legacy.SGD`.\n"
     ]
    },
    {
     "name": "stdout",
     "output_type": "stream",
     "text": [
      "[CV] END learning_rate=0.008171782257177473, n_hidden=1, n_neurons=28; total time=   7.3s\n",
      "Epoch 1/100\n",
      "242/242 [==============================] - 0s 505us/step - loss: 0.9672 - val_loss: 1.2496\n",
      "Epoch 2/100\n",
      "242/242 [==============================] - 0s 337us/step - loss: 0.5288 - val_loss: 1.3404\n",
      "Epoch 3/100\n",
      "242/242 [==============================] - 0s 335us/step - loss: 0.4687 - val_loss: 0.7756\n",
      "Epoch 4/100\n",
      "242/242 [==============================] - 0s 339us/step - loss: 0.4398 - val_loss: 0.5213\n",
      "Epoch 5/100\n",
      "242/242 [==============================] - 0s 348us/step - loss: 0.4194 - val_loss: 0.3947\n",
      "Epoch 6/100\n",
      "242/242 [==============================] - 0s 342us/step - loss: 0.4076 - val_loss: 0.4007\n",
      "Epoch 7/100\n",
      "242/242 [==============================] - 0s 337us/step - loss: 0.4006 - val_loss: 0.5907\n",
      "Epoch 8/100\n",
      "242/242 [==============================] - 0s 349us/step - loss: 0.3945 - val_loss: 0.6852\n",
      "Epoch 9/100\n",
      "242/242 [==============================] - 0s 350us/step - loss: 0.3896 - val_loss: 0.9463\n",
      "Epoch 10/100\n",
      "242/242 [==============================] - 0s 346us/step - loss: 0.3869 - val_loss: 0.7777\n",
      "Epoch 11/100\n",
      "242/242 [==============================] - 0s 366us/step - loss: 0.3828 - val_loss: 0.9246\n",
      "Epoch 12/100\n",
      "242/242 [==============================] - 0s 344us/step - loss: 0.3791 - val_loss: 1.0152\n",
      "Epoch 13/100\n",
      "242/242 [==============================] - 0s 342us/step - loss: 0.3770 - val_loss: 1.1868\n",
      "Epoch 14/100\n",
      "242/242 [==============================] - 0s 338us/step - loss: 0.3752 - val_loss: 1.1092\n",
      "Epoch 15/100\n",
      "242/242 [==============================] - 0s 349us/step - loss: 0.3728 - val_loss: 1.0907\n",
      "121/121 [==============================] - 0s 203us/step - loss: 0.3918\n"
     ]
    },
    {
     "name": "stderr",
     "output_type": "stream",
     "text": [
      "WARNING:absl:At this time, the v2.11+ optimizer `tf.keras.optimizers.SGD` runs slowly on M1/M2 Macs, please use the legacy Keras optimizer instead, located at `tf.keras.optimizers.legacy.SGD`.\n",
      "WARNING:absl:There is a known slowdown when using v2.11+ Keras optimizers on M1/M2 Macs. Falling back to the legacy Keras optimizer, i.e., `tf.keras.optimizers.legacy.SGD`.\n"
     ]
    },
    {
     "name": "stdout",
     "output_type": "stream",
     "text": [
      "[CV] END learning_rate=0.008171782257177473, n_hidden=1, n_neurons=28; total time=   1.4s\n",
      "Epoch 1/100\n",
      "242/242 [==============================] - 0s 496us/step - loss: 1.0747 - val_loss: 9.9071\n",
      "Epoch 2/100\n",
      "242/242 [==============================] - 0s 348us/step - loss: 0.5940 - val_loss: 8.4639\n",
      "Epoch 3/100\n",
      "242/242 [==============================] - 0s 333us/step - loss: 0.5434 - val_loss: 24.2085\n",
      "Epoch 4/100\n",
      "242/242 [==============================] - 0s 334us/step - loss: 0.8136 - val_loss: 8.2037\n",
      "Epoch 5/100\n",
      "242/242 [==============================] - 0s 341us/step - loss: 0.4844 - val_loss: 1.8202\n",
      "Epoch 6/100\n",
      "242/242 [==============================] - 0s 349us/step - loss: 0.4400 - val_loss: 0.4256\n",
      "Epoch 7/100\n",
      "242/242 [==============================] - 0s 349us/step - loss: 0.4185 - val_loss: 0.3941\n",
      "Epoch 8/100\n",
      "242/242 [==============================] - 0s 564us/step - loss: 0.4219 - val_loss: 0.3881\n",
      "Epoch 9/100\n",
      "242/242 [==============================] - 0s 2ms/step - loss: 0.4091 - val_loss: 0.3950\n",
      "Epoch 10/100\n",
      "242/242 [==============================] - 0s 2ms/step - loss: 0.3968 - val_loss: 0.3826\n",
      "Epoch 11/100\n",
      "242/242 [==============================] - 0s 1ms/step - loss: 0.3955 - val_loss: 0.3963\n",
      "Epoch 12/100\n",
      "242/242 [==============================] - 0s 1ms/step - loss: 0.3911 - val_loss: 0.4006\n",
      "Epoch 13/100\n",
      "242/242 [==============================] - 0s 2ms/step - loss: 0.3855 - val_loss: 0.3763\n",
      "Epoch 14/100\n",
      "242/242 [==============================] - 0s 2ms/step - loss: 0.3856 - val_loss: 0.3854\n",
      "Epoch 15/100\n",
      "242/242 [==============================] - 0s 1ms/step - loss: 0.3789 - val_loss: 0.3762\n",
      "Epoch 16/100\n",
      "242/242 [==============================] - 0s 1ms/step - loss: 0.3759 - val_loss: 0.3815\n",
      "Epoch 17/100\n",
      "242/242 [==============================] - 0s 1ms/step - loss: 0.3770 - val_loss: 0.3759\n",
      "Epoch 18/100\n",
      "242/242 [==============================] - 0s 2ms/step - loss: 0.3759 - val_loss: 0.3972\n",
      "Epoch 19/100\n",
      "242/242 [==============================] - 0s 1ms/step - loss: 0.3696 - val_loss: 0.3901\n",
      "Epoch 20/100\n",
      "242/242 [==============================] - 0s 381us/step - loss: 0.3674 - val_loss: 0.3662\n",
      "Epoch 21/100\n",
      "242/242 [==============================] - 0s 344us/step - loss: 0.3669 - val_loss: 0.3781\n",
      "Epoch 22/100\n",
      "242/242 [==============================] - 0s 342us/step - loss: 0.3694 - val_loss: 0.3553\n",
      "Epoch 23/100\n",
      "242/242 [==============================] - 0s 334us/step - loss: 0.3652 - val_loss: 0.3698\n",
      "Epoch 24/100\n",
      "242/242 [==============================] - 0s 342us/step - loss: 0.3619 - val_loss: 0.3745\n",
      "Epoch 25/100\n",
      "242/242 [==============================] - 0s 337us/step - loss: 0.3610 - val_loss: 0.3632\n",
      "Epoch 26/100\n",
      "242/242 [==============================] - 0s 331us/step - loss: 0.3597 - val_loss: 0.3587\n",
      "Epoch 27/100\n",
      "242/242 [==============================] - 0s 350us/step - loss: 0.3580 - val_loss: 0.3745\n",
      "Epoch 28/100\n",
      "242/242 [==============================] - 0s 334us/step - loss: 0.3575 - val_loss: 0.3626\n",
      "Epoch 29/100\n",
      "242/242 [==============================] - 0s 341us/step - loss: 0.3999 - val_loss: 0.3598\n",
      "Epoch 30/100\n",
      "242/242 [==============================] - 0s 337us/step - loss: 0.3655 - val_loss: 0.3590\n",
      "Epoch 31/100\n",
      "242/242 [==============================] - 0s 335us/step - loss: 0.3566 - val_loss: 0.3511\n",
      "Epoch 32/100\n",
      "242/242 [==============================] - 0s 333us/step - loss: 0.3547 - val_loss: 0.3500\n",
      "Epoch 33/100\n",
      "242/242 [==============================] - 0s 347us/step - loss: 0.3535 - val_loss: 0.3602\n",
      "Epoch 34/100\n",
      "242/242 [==============================] - 0s 331us/step - loss: 0.3546 - val_loss: 0.3505\n",
      "Epoch 35/100\n",
      "242/242 [==============================] - 0s 329us/step - loss: 0.3537 - val_loss: 0.3442\n",
      "Epoch 36/100\n",
      "242/242 [==============================] - 0s 332us/step - loss: 0.3510 - val_loss: 0.3456\n",
      "Epoch 37/100\n",
      "242/242 [==============================] - 0s 332us/step - loss: 0.3493 - val_loss: 0.3512\n",
      "Epoch 38/100\n",
      "242/242 [==============================] - 0s 333us/step - loss: 0.3503 - val_loss: 0.3673\n",
      "Epoch 39/100\n",
      "242/242 [==============================] - 0s 332us/step - loss: 0.3480 - val_loss: 0.3325\n",
      "Epoch 40/100\n",
      "242/242 [==============================] - 0s 358us/step - loss: 0.3469 - val_loss: 0.3461\n",
      "Epoch 41/100\n",
      "242/242 [==============================] - 0s 320us/step - loss: 0.3467 - val_loss: 0.3502\n",
      "Epoch 42/100\n",
      "242/242 [==============================] - 0s 321us/step - loss: 0.3465 - val_loss: 0.3561\n",
      "Epoch 43/100\n",
      "242/242 [==============================] - 0s 330us/step - loss: 0.3456 - val_loss: 0.3328\n",
      "Epoch 44/100\n",
      "242/242 [==============================] - 0s 331us/step - loss: 0.3443 - val_loss: 0.3477\n",
      "Epoch 45/100\n",
      "242/242 [==============================] - 0s 339us/step - loss: 0.3455 - val_loss: 0.3374\n",
      "Epoch 46/100\n",
      "242/242 [==============================] - 0s 371us/step - loss: 0.3431 - val_loss: 0.3533\n",
      "Epoch 47/100\n",
      "242/242 [==============================] - 0s 341us/step - loss: 0.3415 - val_loss: 0.3267\n",
      "Epoch 48/100\n",
      "242/242 [==============================] - 0s 340us/step - loss: 0.3416 - val_loss: 0.3241\n",
      "Epoch 49/100\n",
      "242/242 [==============================] - 0s 340us/step - loss: 0.3404 - val_loss: 0.3468\n",
      "Epoch 50/100\n",
      "242/242 [==============================] - 0s 356us/step - loss: 0.3403 - val_loss: 0.3393\n",
      "Epoch 51/100\n",
      "242/242 [==============================] - 0s 379us/step - loss: 0.3396 - val_loss: 0.3459\n",
      "Epoch 52/100\n",
      "242/242 [==============================] - 0s 409us/step - loss: 0.3397 - val_loss: 0.3425\n",
      "Epoch 53/100\n",
      "242/242 [==============================] - 0s 366us/step - loss: 0.3395 - val_loss: 0.3271\n",
      "Epoch 54/100\n",
      "242/242 [==============================] - 0s 332us/step - loss: 0.3388 - val_loss: 0.3297\n",
      "Epoch 55/100\n",
      "242/242 [==============================] - 0s 333us/step - loss: 0.3373 - val_loss: 0.3259\n",
      "Epoch 56/100\n",
      "242/242 [==============================] - 0s 332us/step - loss: 0.3376 - val_loss: 0.3333\n",
      "Epoch 57/100\n",
      "242/242 [==============================] - 0s 335us/step - loss: 0.3372 - val_loss: 0.3464\n",
      "Epoch 58/100\n",
      "242/242 [==============================] - 0s 346us/step - loss: 0.3382 - val_loss: 0.3273\n",
      "121/121 [==============================] - 0s 212us/step - loss: 0.3363\n"
     ]
    },
    {
     "name": "stderr",
     "output_type": "stream",
     "text": [
      "WARNING:absl:At this time, the v2.11+ optimizer `tf.keras.optimizers.SGD` runs slowly on M1/M2 Macs, please use the legacy Keras optimizer instead, located at `tf.keras.optimizers.legacy.SGD`.\n",
      "WARNING:absl:There is a known slowdown when using v2.11+ Keras optimizers on M1/M2 Macs. Falling back to the legacy Keras optimizer, i.e., `tf.keras.optimizers.legacy.SGD`.\n"
     ]
    },
    {
     "name": "stdout",
     "output_type": "stream",
     "text": [
      "[CV] END learning_rate=0.008171782257177473, n_hidden=1, n_neurons=28; total time=   8.2s\n",
      "Epoch 1/100\n",
      "242/242 [==============================] - 0s 539us/step - loss: 0.6173 - val_loss: 3.8468\n",
      "Epoch 2/100\n",
      "242/242 [==============================] - 0s 362us/step - loss: 0.4349 - val_loss: 0.7543\n",
      "Epoch 3/100\n",
      "242/242 [==============================] - 0s 357us/step - loss: 0.3857 - val_loss: 0.4785\n",
      "Epoch 4/100\n",
      "242/242 [==============================] - 0s 383us/step - loss: 0.3640 - val_loss: 0.3753\n",
      "Epoch 5/100\n",
      "242/242 [==============================] - 0s 360us/step - loss: 0.3550 - val_loss: 0.3619\n",
      "Epoch 6/100\n",
      "242/242 [==============================] - 0s 364us/step - loss: 0.3455 - val_loss: 0.3646\n",
      "Epoch 7/100\n",
      "242/242 [==============================] - 0s 359us/step - loss: 0.3444 - val_loss: 0.3560\n",
      "Epoch 8/100\n",
      "242/242 [==============================] - 0s 360us/step - loss: 0.3361 - val_loss: 0.4467\n",
      "Epoch 9/100\n",
      "242/242 [==============================] - 0s 356us/step - loss: 0.3315 - val_loss: 0.3493\n",
      "Epoch 10/100\n",
      "242/242 [==============================] - 0s 384us/step - loss: 0.3285 - val_loss: 0.3675\n",
      "Epoch 11/100\n",
      "242/242 [==============================] - 0s 361us/step - loss: 0.3296 - val_loss: 0.3196\n",
      "Epoch 12/100\n",
      "242/242 [==============================] - 0s 362us/step - loss: 0.3207 - val_loss: 0.3468\n",
      "Epoch 13/100\n",
      "242/242 [==============================] - 0s 364us/step - loss: 0.3157 - val_loss: 0.3527\n",
      "Epoch 14/100\n",
      "242/242 [==============================] - 0s 361us/step - loss: 0.3148 - val_loss: 0.3516\n",
      "Epoch 15/100\n",
      "242/242 [==============================] - 0s 361us/step - loss: 0.3099 - val_loss: 0.3390\n",
      "Epoch 16/100\n",
      "242/242 [==============================] - 0s 376us/step - loss: 0.3084 - val_loss: 0.3561\n",
      "Epoch 17/100\n",
      "242/242 [==============================] - 0s 363us/step - loss: 0.3055 - val_loss: 0.3356\n",
      "Epoch 18/100\n",
      "242/242 [==============================] - 0s 361us/step - loss: 0.3054 - val_loss: 0.3728\n",
      "Epoch 19/100\n",
      "242/242 [==============================] - 0s 381us/step - loss: 0.3026 - val_loss: 0.3441\n",
      "Epoch 20/100\n",
      "242/242 [==============================] - 0s 396us/step - loss: 0.3004 - val_loss: 0.3174\n",
      "Epoch 21/100\n",
      "242/242 [==============================] - 0s 390us/step - loss: 0.2988 - val_loss: 0.8445\n",
      "Epoch 22/100\n",
      "242/242 [==============================] - 0s 406us/step - loss: 0.3224 - val_loss: 1.4857\n",
      "Epoch 23/100\n",
      "242/242 [==============================] - 0s 364us/step - loss: 0.3171 - val_loss: 0.5838\n",
      "Epoch 24/100\n",
      "242/242 [==============================] - 0s 365us/step - loss: 0.3127 - val_loss: 1.2685\n",
      "Epoch 25/100\n",
      "242/242 [==============================] - 0s 361us/step - loss: 0.3088 - val_loss: 0.3068\n",
      "Epoch 26/100\n",
      "242/242 [==============================] - 0s 362us/step - loss: 0.2952 - val_loss: 0.2991\n",
      "Epoch 27/100\n",
      "242/242 [==============================] - 0s 381us/step - loss: 0.2941 - val_loss: 0.3016\n",
      "Epoch 28/100\n",
      "242/242 [==============================] - 0s 412us/step - loss: 0.2920 - val_loss: 0.2976\n",
      "Epoch 29/100\n",
      "242/242 [==============================] - 0s 383us/step - loss: 0.2906 - val_loss: 0.3091\n",
      "Epoch 30/100\n",
      "242/242 [==============================] - 0s 376us/step - loss: 0.2862 - val_loss: 0.3298\n",
      "Epoch 31/100\n",
      "242/242 [==============================] - 0s 362us/step - loss: 0.2873 - val_loss: 0.3137\n",
      "Epoch 32/100\n",
      "242/242 [==============================] - 0s 369us/step - loss: 0.2862 - val_loss: 0.3060\n",
      "Epoch 33/100\n",
      "242/242 [==============================] - 0s 373us/step - loss: 0.2828 - val_loss: 0.3192\n",
      "Epoch 34/100\n",
      "242/242 [==============================] - 0s 362us/step - loss: 0.2821 - val_loss: 0.3268\n",
      "Epoch 35/100\n",
      "242/242 [==============================] - 0s 372us/step - loss: 0.2795 - val_loss: 0.3434\n",
      "Epoch 36/100\n",
      "242/242 [==============================] - 0s 366us/step - loss: 0.2784 - val_loss: 0.3674\n",
      "Epoch 37/100\n",
      "242/242 [==============================] - 0s 375us/step - loss: 0.2787 - val_loss: 0.2852\n",
      "Epoch 38/100\n",
      "242/242 [==============================] - 0s 417us/step - loss: 0.2772 - val_loss: 0.3420\n",
      "Epoch 39/100\n",
      "242/242 [==============================] - 0s 413us/step - loss: 0.2768 - val_loss: 0.3087\n",
      "Epoch 40/100\n",
      "242/242 [==============================] - 0s 366us/step - loss: 0.2764 - val_loss: 0.3285\n",
      "Epoch 41/100\n",
      "242/242 [==============================] - 0s 359us/step - loss: 0.2746 - val_loss: 0.2797\n",
      "Epoch 42/100\n",
      "242/242 [==============================] - 0s 363us/step - loss: 0.2723 - val_loss: 0.3155\n",
      "Epoch 43/100\n",
      "242/242 [==============================] - 0s 361us/step - loss: 0.2750 - val_loss: 0.2740\n",
      "Epoch 44/100\n",
      "242/242 [==============================] - 0s 372us/step - loss: 0.2735 - val_loss: 0.3534\n",
      "Epoch 45/100\n",
      "242/242 [==============================] - 0s 367us/step - loss: 0.2813 - val_loss: 0.2759\n",
      "Epoch 46/100\n",
      "242/242 [==============================] - 0s 363us/step - loss: 0.2751 - val_loss: 0.2962\n",
      "Epoch 47/100\n",
      "242/242 [==============================] - 0s 375us/step - loss: 0.2721 - val_loss: 0.3035\n",
      "Epoch 48/100\n",
      "242/242 [==============================] - 0s 361us/step - loss: 0.2725 - val_loss: 0.3039\n",
      "Epoch 49/100\n",
      "242/242 [==============================] - 0s 360us/step - loss: 0.2701 - val_loss: 0.2969\n",
      "Epoch 50/100\n",
      "242/242 [==============================] - 0s 383us/step - loss: 0.2694 - val_loss: 0.3159\n",
      "Epoch 51/100\n",
      "242/242 [==============================] - 0s 361us/step - loss: 0.2678 - val_loss: 0.3311\n",
      "Epoch 52/100\n",
      "242/242 [==============================] - 0s 362us/step - loss: 0.2664 - val_loss: 0.3178\n",
      "Epoch 53/100\n",
      "242/242 [==============================] - 0s 361us/step - loss: 0.2670 - val_loss: 0.2979\n",
      "121/121 [==============================] - 0s 211us/step - loss: 0.3014\n"
     ]
    },
    {
     "name": "stderr",
     "output_type": "stream",
     "text": [
      "WARNING:absl:At this time, the v2.11+ optimizer `tf.keras.optimizers.SGD` runs slowly on M1/M2 Macs, please use the legacy Keras optimizer instead, located at `tf.keras.optimizers.legacy.SGD`.\n",
      "WARNING:absl:There is a known slowdown when using v2.11+ Keras optimizers on M1/M2 Macs. Falling back to the legacy Keras optimizer, i.e., `tf.keras.optimizers.legacy.SGD`.\n"
     ]
    },
    {
     "name": "stdout",
     "output_type": "stream",
     "text": [
      "[CV] END learning_rate=0.020037703497088895, n_hidden=3, n_neurons=29; total time=   5.0s\n",
      "Epoch 1/100\n",
      "242/242 [==============================] - 0s 550us/step - loss: 0.7353 - val_loss: 0.8876\n",
      "Epoch 2/100\n",
      "242/242 [==============================] - 0s 364us/step - loss: 0.4447 - val_loss: 0.4175\n",
      "Epoch 3/100\n",
      "242/242 [==============================] - 0s 361us/step - loss: 0.3929 - val_loss: 0.4658\n",
      "Epoch 4/100\n",
      "242/242 [==============================] - 0s 360us/step - loss: 0.3767 - val_loss: 0.3567\n",
      "Epoch 5/100\n",
      "242/242 [==============================] - 0s 375us/step - loss: 0.3650 - val_loss: 0.3725\n",
      "Epoch 6/100\n",
      "242/242 [==============================] - 0s 372us/step - loss: 0.3574 - val_loss: 0.3537\n",
      "Epoch 7/100\n",
      "242/242 [==============================] - 0s 370us/step - loss: 0.3504 - val_loss: 0.3672\n",
      "Epoch 8/100\n",
      "242/242 [==============================] - 0s 367us/step - loss: 0.3494 - val_loss: 0.4072\n",
      "Epoch 9/100\n",
      "242/242 [==============================] - 0s 373us/step - loss: 0.3418 - val_loss: 0.3751\n",
      "Epoch 10/100\n",
      "242/242 [==============================] - 0s 370us/step - loss: 0.3381 - val_loss: 0.3293\n",
      "Epoch 11/100\n",
      "242/242 [==============================] - 0s 368us/step - loss: 0.3316 - val_loss: 0.3647\n",
      "Epoch 12/100\n",
      "242/242 [==============================] - 0s 378us/step - loss: 0.3276 - val_loss: 0.3283\n",
      "Epoch 13/100\n",
      "242/242 [==============================] - 0s 370us/step - loss: 0.3239 - val_loss: 0.3838\n",
      "Epoch 14/100\n",
      "242/242 [==============================] - 0s 362us/step - loss: 0.3231 - val_loss: 0.3893\n",
      "Epoch 15/100\n",
      "242/242 [==============================] - 0s 377us/step - loss: 0.3216 - val_loss: 0.5228\n",
      "Epoch 16/100\n",
      "242/242 [==============================] - 0s 359us/step - loss: 0.3160 - val_loss: 0.3571\n",
      "Epoch 17/100\n",
      "242/242 [==============================] - 0s 377us/step - loss: 0.3146 - val_loss: 0.3030\n",
      "Epoch 18/100\n",
      "242/242 [==============================] - 0s 383us/step - loss: 0.3136 - val_loss: 0.3382\n",
      "Epoch 19/100\n",
      "242/242 [==============================] - 0s 365us/step - loss: 0.3108 - val_loss: 0.3710\n",
      "Epoch 20/100\n",
      "242/242 [==============================] - 0s 365us/step - loss: 0.3077 - val_loss: 0.3067\n",
      "Epoch 21/100\n",
      "242/242 [==============================] - 0s 374us/step - loss: 0.3068 - val_loss: 0.2968\n",
      "Epoch 22/100\n",
      "242/242 [==============================] - 0s 393us/step - loss: 0.3067 - val_loss: 0.3095\n",
      "Epoch 23/100\n",
      "242/242 [==============================] - 0s 418us/step - loss: 0.3015 - val_loss: 0.3450\n",
      "Epoch 24/100\n",
      "242/242 [==============================] - 0s 384us/step - loss: 0.3061 - val_loss: 0.3068\n",
      "Epoch 25/100\n",
      "242/242 [==============================] - 0s 369us/step - loss: 0.3011 - val_loss: 0.3507\n",
      "Epoch 26/100\n",
      "242/242 [==============================] - 0s 368us/step - loss: 0.3002 - val_loss: 0.3016\n",
      "Epoch 27/100\n",
      "242/242 [==============================] - 0s 368us/step - loss: 0.3002 - val_loss: 0.2958\n",
      "Epoch 28/100\n",
      "242/242 [==============================] - 0s 366us/step - loss: 0.2976 - val_loss: 0.3246\n",
      "Epoch 29/100\n",
      "242/242 [==============================] - 0s 381us/step - loss: 0.2973 - val_loss: 0.2856\n",
      "Epoch 30/100\n",
      "242/242 [==============================] - 0s 366us/step - loss: 0.2986 - val_loss: 0.3082\n",
      "Epoch 31/100\n",
      "242/242 [==============================] - 0s 363us/step - loss: 0.2932 - val_loss: 0.2961\n",
      "Epoch 32/100\n",
      "242/242 [==============================] - 0s 366us/step - loss: 0.2905 - val_loss: 0.3187\n",
      "Epoch 33/100\n",
      "242/242 [==============================] - 0s 356us/step - loss: 0.2896 - val_loss: 0.2909\n",
      "Epoch 34/100\n",
      "242/242 [==============================] - 0s 360us/step - loss: 0.2870 - val_loss: 0.3496\n",
      "Epoch 35/100\n",
      "242/242 [==============================] - 0s 386us/step - loss: 0.2855 - val_loss: 0.3371\n",
      "Epoch 36/100\n",
      "242/242 [==============================] - 0s 400us/step - loss: 0.2860 - val_loss: 0.5153\n",
      "Epoch 37/100\n",
      "242/242 [==============================] - 0s 407us/step - loss: 0.2834 - val_loss: 0.3985\n",
      "Epoch 38/100\n",
      "242/242 [==============================] - 0s 367us/step - loss: 0.2845 - val_loss: 0.3594\n",
      "Epoch 39/100\n",
      "242/242 [==============================] - 0s 370us/step - loss: 0.2853 - val_loss: 0.4666\n",
      "121/121 [==============================] - 0s 216us/step - loss: 0.3433\n"
     ]
    },
    {
     "name": "stderr",
     "output_type": "stream",
     "text": [
      "WARNING:absl:At this time, the v2.11+ optimizer `tf.keras.optimizers.SGD` runs slowly on M1/M2 Macs, please use the legacy Keras optimizer instead, located at `tf.keras.optimizers.legacy.SGD`.\n",
      "WARNING:absl:There is a known slowdown when using v2.11+ Keras optimizers on M1/M2 Macs. Falling back to the legacy Keras optimizer, i.e., `tf.keras.optimizers.legacy.SGD`.\n"
     ]
    },
    {
     "name": "stdout",
     "output_type": "stream",
     "text": [
      "[CV] END learning_rate=0.020037703497088895, n_hidden=3, n_neurons=29; total time=   3.8s\n",
      "Epoch 1/100\n",
      "242/242 [==============================] - 0s 570us/step - loss: 0.7868 - val_loss: 4.5779\n",
      "Epoch 2/100\n",
      "242/242 [==============================] - 0s 381us/step - loss: 0.4360 - val_loss: 2.0465\n",
      "Epoch 3/100\n",
      "242/242 [==============================] - 0s 373us/step - loss: 0.3971 - val_loss: 0.5922\n",
      "Epoch 4/100\n",
      "242/242 [==============================] - 0s 376us/step - loss: 0.3734 - val_loss: 0.3964\n",
      "Epoch 5/100\n",
      "242/242 [==============================] - 0s 380us/step - loss: 0.3627 - val_loss: 0.3457\n",
      "Epoch 6/100\n",
      "242/242 [==============================] - 0s 367us/step - loss: 0.3563 - val_loss: 0.3709\n",
      "Epoch 7/100\n",
      "242/242 [==============================] - 0s 365us/step - loss: 0.3496 - val_loss: 0.3562\n",
      "Epoch 8/100\n",
      "242/242 [==============================] - 0s 371us/step - loss: 0.3456 - val_loss: 0.3452\n",
      "Epoch 9/100\n",
      "242/242 [==============================] - 0s 384us/step - loss: 0.3397 - val_loss: 0.3489\n",
      "Epoch 10/100\n",
      "242/242 [==============================] - 0s 386us/step - loss: 0.3392 - val_loss: 0.3174\n",
      "Epoch 11/100\n",
      "242/242 [==============================] - 0s 409us/step - loss: 0.3346 - val_loss: 0.3722\n",
      "Epoch 12/100\n",
      "242/242 [==============================] - 0s 401us/step - loss: 0.3316 - val_loss: 0.3169\n",
      "Epoch 13/100\n",
      "242/242 [==============================] - 0s 392us/step - loss: 0.3289 - val_loss: 0.3324\n",
      "Epoch 14/100\n",
      "242/242 [==============================] - 0s 370us/step - loss: 0.3263 - val_loss: 0.3697\n",
      "Epoch 15/100\n",
      "242/242 [==============================] - 0s 368us/step - loss: 0.3256 - val_loss: 0.3078\n",
      "Epoch 16/100\n",
      "242/242 [==============================] - 0s 375us/step - loss: 0.3217 - val_loss: 0.3405\n",
      "Epoch 17/100\n",
      "242/242 [==============================] - 0s 368us/step - loss: 0.3205 - val_loss: 0.3232\n",
      "Epoch 18/100\n",
      "242/242 [==============================] - 0s 375us/step - loss: 0.3166 - val_loss: 0.3364\n",
      "Epoch 19/100\n",
      "242/242 [==============================] - 0s 367us/step - loss: 0.3163 - val_loss: 0.3510\n",
      "Epoch 20/100\n",
      "242/242 [==============================] - 0s 373us/step - loss: 0.3147 - val_loss: 0.3342\n",
      "Epoch 21/100\n",
      "242/242 [==============================] - 0s 376us/step - loss: 0.3127 - val_loss: 0.3439\n",
      "Epoch 22/100\n",
      "242/242 [==============================] - 0s 398us/step - loss: 0.3114 - val_loss: 0.3010\n",
      "Epoch 23/100\n",
      "242/242 [==============================] - 0s 370us/step - loss: 0.3070 - val_loss: 0.3236\n",
      "Epoch 24/100\n",
      "242/242 [==============================] - 0s 371us/step - loss: 0.3053 - val_loss: 0.3309\n",
      "Epoch 25/100\n",
      "242/242 [==============================] - 0s 376us/step - loss: 0.3037 - val_loss: 0.2993\n",
      "Epoch 26/100\n",
      "242/242 [==============================] - 0s 373us/step - loss: 0.3030 - val_loss: 0.2964\n",
      "Epoch 27/100\n",
      "242/242 [==============================] - 0s 371us/step - loss: 0.2988 - val_loss: 0.3485\n",
      "Epoch 28/100\n",
      "242/242 [==============================] - 0s 379us/step - loss: 0.2998 - val_loss: 0.2954\n",
      "Epoch 29/100\n",
      "242/242 [==============================] - 0s 382us/step - loss: 0.2986 - val_loss: 0.3541\n",
      "Epoch 30/100\n",
      "242/242 [==============================] - 0s 370us/step - loss: 0.2996 - val_loss: 0.3291\n",
      "Epoch 31/100\n",
      "242/242 [==============================] - 0s 370us/step - loss: 0.2951 - val_loss: 0.3085\n",
      "Epoch 32/100\n",
      "242/242 [==============================] - 0s 381us/step - loss: 0.2931 - val_loss: 0.3260\n",
      "Epoch 33/100\n",
      "242/242 [==============================] - 0s 380us/step - loss: 0.2973 - val_loss: 0.3258\n",
      "Epoch 34/100\n",
      "242/242 [==============================] - 0s 387us/step - loss: 0.2933 - val_loss: 0.3110\n",
      "Epoch 35/100\n",
      "242/242 [==============================] - 0s 370us/step - loss: 0.2908 - val_loss: 0.2975\n",
      "Epoch 36/100\n",
      "242/242 [==============================] - 0s 373us/step - loss: 0.2875 - val_loss: 0.3338\n",
      "Epoch 37/100\n",
      "242/242 [==============================] - 0s 375us/step - loss: 0.2880 - val_loss: 0.3375\n",
      "Epoch 38/100\n",
      "242/242 [==============================] - 0s 366us/step - loss: 0.2884 - val_loss: 0.4449\n",
      "121/121 [==============================] - 0s 218us/step - loss: 0.2942\n"
     ]
    },
    {
     "name": "stderr",
     "output_type": "stream",
     "text": [
      "WARNING:absl:At this time, the v2.11+ optimizer `tf.keras.optimizers.SGD` runs slowly on M1/M2 Macs, please use the legacy Keras optimizer instead, located at `tf.keras.optimizers.legacy.SGD`.\n",
      "WARNING:absl:There is a known slowdown when using v2.11+ Keras optimizers on M1/M2 Macs. Falling back to the legacy Keras optimizer, i.e., `tf.keras.optimizers.legacy.SGD`.\n"
     ]
    },
    {
     "name": "stdout",
     "output_type": "stream",
     "text": [
      "[CV] END learning_rate=0.020037703497088895, n_hidden=3, n_neurons=29; total time=   3.7s\n",
      "Epoch 1/100\n",
      "242/242 [==============================] - 0s 565us/step - loss: 0.6844 - val_loss: 1.9351\n",
      "Epoch 2/100\n",
      "242/242 [==============================] - 0s 395us/step - loss: 0.4322 - val_loss: 0.9593\n",
      "Epoch 3/100\n",
      "242/242 [==============================] - 0s 392us/step - loss: 0.4081 - val_loss: 6.0306\n",
      "Epoch 4/100\n",
      "242/242 [==============================] - 0s 407us/step - loss: 0.3695 - val_loss: 7.3462\n",
      "Epoch 5/100\n",
      "242/242 [==============================] - 0s 387us/step - loss: 0.4283 - val_loss: 3.2241\n",
      "Epoch 6/100\n",
      "242/242 [==============================] - 0s 386us/step - loss: 0.3832 - val_loss: 2.4368\n",
      "Epoch 7/100\n",
      "242/242 [==============================] - 0s 388us/step - loss: 0.3888 - val_loss: 6.4452\n",
      "Epoch 8/100\n",
      "242/242 [==============================] - 0s 392us/step - loss: 0.4038 - val_loss: 0.4281\n",
      "Epoch 9/100\n",
      "242/242 [==============================] - 0s 397us/step - loss: 0.3328 - val_loss: 0.3453\n",
      "Epoch 10/100\n",
      "242/242 [==============================] - 0s 401us/step - loss: 0.3249 - val_loss: 0.3108\n",
      "Epoch 11/100\n",
      "242/242 [==============================] - 0s 401us/step - loss: 0.3213 - val_loss: 0.3221\n",
      "Epoch 12/100\n",
      "242/242 [==============================] - 0s 392us/step - loss: 0.3138 - val_loss: 0.3303\n",
      "Epoch 13/100\n",
      "242/242 [==============================] - 0s 389us/step - loss: 0.3070 - val_loss: 0.3373\n",
      "Epoch 14/100\n",
      "242/242 [==============================] - 0s 422us/step - loss: 0.3036 - val_loss: 0.3234\n",
      "Epoch 15/100\n",
      "242/242 [==============================] - 0s 414us/step - loss: 0.2990 - val_loss: 0.3200\n",
      "Epoch 16/100\n",
      "242/242 [==============================] - 0s 396us/step - loss: 0.2953 - val_loss: 0.3280\n",
      "Epoch 17/100\n",
      "242/242 [==============================] - 0s 394us/step - loss: 0.2933 - val_loss: 0.2981\n",
      "Epoch 18/100\n",
      "242/242 [==============================] - 0s 391us/step - loss: 0.2912 - val_loss: 0.3211\n",
      "Epoch 19/100\n",
      "242/242 [==============================] - 0s 389us/step - loss: 0.2880 - val_loss: 0.3454\n",
      "Epoch 20/100\n",
      "242/242 [==============================] - 0s 399us/step - loss: 0.2898 - val_loss: 0.2773\n",
      "Epoch 21/100\n",
      "242/242 [==============================] - 0s 405us/step - loss: 0.2861 - val_loss: 0.3221\n",
      "Epoch 22/100\n",
      "242/242 [==============================] - 0s 390us/step - loss: 0.2827 - val_loss: 0.3560\n",
      "Epoch 23/100\n",
      "242/242 [==============================] - 0s 390us/step - loss: 0.2797 - val_loss: 0.3202\n",
      "Epoch 24/100\n",
      "242/242 [==============================] - 0s 392us/step - loss: 0.2821 - val_loss: 0.3588\n",
      "Epoch 25/100\n",
      "242/242 [==============================] - 0s 392us/step - loss: 0.2752 - val_loss: 0.2923\n",
      "Epoch 26/100\n",
      "242/242 [==============================] - 0s 402us/step - loss: 0.2723 - val_loss: 0.3026\n",
      "Epoch 27/100\n",
      "242/242 [==============================] - 0s 391us/step - loss: 0.2728 - val_loss: 0.2997\n",
      "Epoch 28/100\n",
      "242/242 [==============================] - 0s 392us/step - loss: 0.2723 - val_loss: 0.2753\n",
      "Epoch 29/100\n",
      "242/242 [==============================] - 0s 393us/step - loss: 0.2701 - val_loss: 0.2901\n",
      "Epoch 30/100\n",
      "242/242 [==============================] - 0s 397us/step - loss: 0.2667 - val_loss: 0.3206\n",
      "Epoch 31/100\n",
      "242/242 [==============================] - 0s 419us/step - loss: 0.2672 - val_loss: 0.2751\n",
      "Epoch 32/100\n",
      "242/242 [==============================] - 0s 391us/step - loss: 0.2672 - val_loss: 0.2801\n",
      "Epoch 33/100\n",
      "242/242 [==============================] - 0s 399us/step - loss: 0.2628 - val_loss: 0.2845\n",
      "Epoch 34/100\n",
      "242/242 [==============================] - 0s 397us/step - loss: 0.2612 - val_loss: 0.2812\n",
      "Epoch 35/100\n",
      "242/242 [==============================] - 0s 406us/step - loss: 0.2595 - val_loss: 0.2808\n",
      "Epoch 36/100\n",
      "242/242 [==============================] - 0s 412us/step - loss: 0.2578 - val_loss: 0.3290\n",
      "Epoch 37/100\n",
      "242/242 [==============================] - 0s 430us/step - loss: 0.2587 - val_loss: 0.2802\n",
      "Epoch 38/100\n",
      "242/242 [==============================] - 0s 398us/step - loss: 0.2578 - val_loss: 0.3274\n",
      "Epoch 39/100\n",
      "194/242 [=======================>......] - ETA: 0s - loss: 0.2523"
     ]
    },
    {
     "ename": "KeyboardInterrupt",
     "evalue": "",
     "output_type": "error",
     "traceback": [
      "\u001B[0;31m---------------------------------------------------------------------------\u001B[0m",
      "\u001B[0;31mKeyboardInterrupt\u001B[0m                         Traceback (most recent call last)",
      "Cell \u001B[0;32mIn[103], line 11\u001B[0m\n\u001B[1;32m      4\u001B[0m param_distribs \u001B[38;5;241m=\u001B[39m {\n\u001B[1;32m      5\u001B[0m     \u001B[38;5;124m\"\u001B[39m\u001B[38;5;124mn_hidden\u001B[39m\u001B[38;5;124m\"\u001B[39m: [\u001B[38;5;241m0\u001B[39m, \u001B[38;5;241m1\u001B[39m, \u001B[38;5;241m2\u001B[39m, \u001B[38;5;241m3\u001B[39m],\n\u001B[1;32m      6\u001B[0m     \u001B[38;5;124m\"\u001B[39m\u001B[38;5;124mn_neurons\u001B[39m\u001B[38;5;124m\"\u001B[39m: np\u001B[38;5;241m.\u001B[39marange(\u001B[38;5;241m1\u001B[39m, \u001B[38;5;241m100\u001B[39m)               \u001B[38;5;241m.\u001B[39mtolist(),\n\u001B[1;32m      7\u001B[0m     \u001B[38;5;124m\"\u001B[39m\u001B[38;5;124mlearning_rate\u001B[39m\u001B[38;5;124m\"\u001B[39m: reciprocal(\u001B[38;5;241m3e-4\u001B[39m, \u001B[38;5;241m3e-2\u001B[39m)      \u001B[38;5;241m.\u001B[39mrvs(\u001B[38;5;241m1000\u001B[39m)\u001B[38;5;241m.\u001B[39mtolist(),\n\u001B[1;32m      8\u001B[0m }\n\u001B[1;32m     10\u001B[0m rnd_search_cv \u001B[38;5;241m=\u001B[39m RandomizedSearchCV(keras_reg, param_distribs, n_iter\u001B[38;5;241m=\u001B[39m\u001B[38;5;241m10\u001B[39m, cv\u001B[38;5;241m=\u001B[39m\u001B[38;5;241m3\u001B[39m, verbose\u001B[38;5;241m=\u001B[39m\u001B[38;5;241m2\u001B[39m)\n\u001B[0;32m---> 11\u001B[0m rnd_search_cv\u001B[38;5;241m.\u001B[39mfit(X_train, y_train, epochs\u001B[38;5;241m=\u001B[39m\u001B[38;5;241m100\u001B[39m,\n\u001B[1;32m     12\u001B[0m                   validation_data\u001B[38;5;241m=\u001B[39m(X_valid, y_valid),\n\u001B[1;32m     13\u001B[0m                   callbacks\u001B[38;5;241m=\u001B[39m[keras\u001B[38;5;241m.\u001B[39mcallbacks\u001B[38;5;241m.\u001B[39mEarlyStopping(patience\u001B[38;5;241m=\u001B[39m\u001B[38;5;241m10\u001B[39m)])\n",
      "File \u001B[0;32m/opt/anaconda3/lib/python3.11/site-packages/sklearn/model_selection/_search.py:874\u001B[0m, in \u001B[0;36mBaseSearchCV.fit\u001B[0;34m(self, X, y, groups, **fit_params)\u001B[0m\n\u001B[1;32m    868\u001B[0m     results \u001B[38;5;241m=\u001B[39m \u001B[38;5;28mself\u001B[39m\u001B[38;5;241m.\u001B[39m_format_results(\n\u001B[1;32m    869\u001B[0m         all_candidate_params, n_splits, all_out, all_more_results\n\u001B[1;32m    870\u001B[0m     )\n\u001B[1;32m    872\u001B[0m     \u001B[38;5;28;01mreturn\u001B[39;00m results\n\u001B[0;32m--> 874\u001B[0m \u001B[38;5;28mself\u001B[39m\u001B[38;5;241m.\u001B[39m_run_search(evaluate_candidates)\n\u001B[1;32m    876\u001B[0m \u001B[38;5;66;03m# multimetric is determined here because in the case of a callable\u001B[39;00m\n\u001B[1;32m    877\u001B[0m \u001B[38;5;66;03m# self.scoring the return type is only known after calling\u001B[39;00m\n\u001B[1;32m    878\u001B[0m first_test_score \u001B[38;5;241m=\u001B[39m all_out[\u001B[38;5;241m0\u001B[39m][\u001B[38;5;124m\"\u001B[39m\u001B[38;5;124mtest_scores\u001B[39m\u001B[38;5;124m\"\u001B[39m]\n",
      "File \u001B[0;32m/opt/anaconda3/lib/python3.11/site-packages/sklearn/model_selection/_search.py:1768\u001B[0m, in \u001B[0;36mRandomizedSearchCV._run_search\u001B[0;34m(self, evaluate_candidates)\u001B[0m\n\u001B[1;32m   1766\u001B[0m \u001B[38;5;28;01mdef\u001B[39;00m \u001B[38;5;21m_run_search\u001B[39m(\u001B[38;5;28mself\u001B[39m, evaluate_candidates):\n\u001B[1;32m   1767\u001B[0m \u001B[38;5;250m    \u001B[39m\u001B[38;5;124;03m\"\"\"Search n_iter candidates from param_distributions\"\"\"\u001B[39;00m\n\u001B[0;32m-> 1768\u001B[0m     evaluate_candidates(\n\u001B[1;32m   1769\u001B[0m         ParameterSampler(\n\u001B[1;32m   1770\u001B[0m             \u001B[38;5;28mself\u001B[39m\u001B[38;5;241m.\u001B[39mparam_distributions, \u001B[38;5;28mself\u001B[39m\u001B[38;5;241m.\u001B[39mn_iter, random_state\u001B[38;5;241m=\u001B[39m\u001B[38;5;28mself\u001B[39m\u001B[38;5;241m.\u001B[39mrandom_state\n\u001B[1;32m   1771\u001B[0m         )\n\u001B[1;32m   1772\u001B[0m     )\n",
      "File \u001B[0;32m/opt/anaconda3/lib/python3.11/site-packages/sklearn/model_selection/_search.py:821\u001B[0m, in \u001B[0;36mBaseSearchCV.fit.<locals>.evaluate_candidates\u001B[0;34m(candidate_params, cv, more_results)\u001B[0m\n\u001B[1;32m    813\u001B[0m \u001B[38;5;28;01mif\u001B[39;00m \u001B[38;5;28mself\u001B[39m\u001B[38;5;241m.\u001B[39mverbose \u001B[38;5;241m>\u001B[39m \u001B[38;5;241m0\u001B[39m:\n\u001B[1;32m    814\u001B[0m     \u001B[38;5;28mprint\u001B[39m(\n\u001B[1;32m    815\u001B[0m         \u001B[38;5;124m\"\u001B[39m\u001B[38;5;124mFitting \u001B[39m\u001B[38;5;132;01m{0}\u001B[39;00m\u001B[38;5;124m folds for each of \u001B[39m\u001B[38;5;132;01m{1}\u001B[39;00m\u001B[38;5;124m candidates,\u001B[39m\u001B[38;5;124m\"\u001B[39m\n\u001B[1;32m    816\u001B[0m         \u001B[38;5;124m\"\u001B[39m\u001B[38;5;124m totalling \u001B[39m\u001B[38;5;132;01m{2}\u001B[39;00m\u001B[38;5;124m fits\u001B[39m\u001B[38;5;124m\"\u001B[39m\u001B[38;5;241m.\u001B[39mformat(\n\u001B[1;32m    817\u001B[0m             n_splits, n_candidates, n_candidates \u001B[38;5;241m*\u001B[39m n_splits\n\u001B[1;32m    818\u001B[0m         )\n\u001B[1;32m    819\u001B[0m     )\n\u001B[0;32m--> 821\u001B[0m out \u001B[38;5;241m=\u001B[39m parallel(\n\u001B[1;32m    822\u001B[0m     delayed(_fit_and_score)(\n\u001B[1;32m    823\u001B[0m         clone(base_estimator),\n\u001B[1;32m    824\u001B[0m         X,\n\u001B[1;32m    825\u001B[0m         y,\n\u001B[1;32m    826\u001B[0m         train\u001B[38;5;241m=\u001B[39mtrain,\n\u001B[1;32m    827\u001B[0m         test\u001B[38;5;241m=\u001B[39mtest,\n\u001B[1;32m    828\u001B[0m         parameters\u001B[38;5;241m=\u001B[39mparameters,\n\u001B[1;32m    829\u001B[0m         split_progress\u001B[38;5;241m=\u001B[39m(split_idx, n_splits),\n\u001B[1;32m    830\u001B[0m         candidate_progress\u001B[38;5;241m=\u001B[39m(cand_idx, n_candidates),\n\u001B[1;32m    831\u001B[0m         \u001B[38;5;241m*\u001B[39m\u001B[38;5;241m*\u001B[39mfit_and_score_kwargs,\n\u001B[1;32m    832\u001B[0m     )\n\u001B[1;32m    833\u001B[0m     \u001B[38;5;28;01mfor\u001B[39;00m (cand_idx, parameters), (split_idx, (train, test)) \u001B[38;5;129;01min\u001B[39;00m product(\n\u001B[1;32m    834\u001B[0m         \u001B[38;5;28menumerate\u001B[39m(candidate_params), \u001B[38;5;28menumerate\u001B[39m(cv\u001B[38;5;241m.\u001B[39msplit(X, y, groups))\n\u001B[1;32m    835\u001B[0m     )\n\u001B[1;32m    836\u001B[0m )\n\u001B[1;32m    838\u001B[0m \u001B[38;5;28;01mif\u001B[39;00m \u001B[38;5;28mlen\u001B[39m(out) \u001B[38;5;241m<\u001B[39m \u001B[38;5;241m1\u001B[39m:\n\u001B[1;32m    839\u001B[0m     \u001B[38;5;28;01mraise\u001B[39;00m \u001B[38;5;167;01mValueError\u001B[39;00m(\n\u001B[1;32m    840\u001B[0m         \u001B[38;5;124m\"\u001B[39m\u001B[38;5;124mNo fits were performed. \u001B[39m\u001B[38;5;124m\"\u001B[39m\n\u001B[1;32m    841\u001B[0m         \u001B[38;5;124m\"\u001B[39m\u001B[38;5;124mWas the CV iterator empty? \u001B[39m\u001B[38;5;124m\"\u001B[39m\n\u001B[1;32m    842\u001B[0m         \u001B[38;5;124m\"\u001B[39m\u001B[38;5;124mWere there no candidates?\u001B[39m\u001B[38;5;124m\"\u001B[39m\n\u001B[1;32m    843\u001B[0m     )\n",
      "File \u001B[0;32m/opt/anaconda3/lib/python3.11/site-packages/sklearn/utils/parallel.py:63\u001B[0m, in \u001B[0;36mParallel.__call__\u001B[0;34m(self, iterable)\u001B[0m\n\u001B[1;32m     58\u001B[0m config \u001B[38;5;241m=\u001B[39m get_config()\n\u001B[1;32m     59\u001B[0m iterable_with_config \u001B[38;5;241m=\u001B[39m (\n\u001B[1;32m     60\u001B[0m     (_with_config(delayed_func, config), args, kwargs)\n\u001B[1;32m     61\u001B[0m     \u001B[38;5;28;01mfor\u001B[39;00m delayed_func, args, kwargs \u001B[38;5;129;01min\u001B[39;00m iterable\n\u001B[1;32m     62\u001B[0m )\n\u001B[0;32m---> 63\u001B[0m \u001B[38;5;28;01mreturn\u001B[39;00m \u001B[38;5;28msuper\u001B[39m()\u001B[38;5;241m.\u001B[39m\u001B[38;5;21m__call__\u001B[39m(iterable_with_config)\n",
      "File \u001B[0;32m/opt/anaconda3/lib/python3.11/site-packages/joblib/parallel.py:1088\u001B[0m, in \u001B[0;36mParallel.__call__\u001B[0;34m(self, iterable)\u001B[0m\n\u001B[1;32m   1085\u001B[0m \u001B[38;5;28;01mif\u001B[39;00m \u001B[38;5;28mself\u001B[39m\u001B[38;5;241m.\u001B[39mdispatch_one_batch(iterator):\n\u001B[1;32m   1086\u001B[0m     \u001B[38;5;28mself\u001B[39m\u001B[38;5;241m.\u001B[39m_iterating \u001B[38;5;241m=\u001B[39m \u001B[38;5;28mself\u001B[39m\u001B[38;5;241m.\u001B[39m_original_iterator \u001B[38;5;129;01mis\u001B[39;00m \u001B[38;5;129;01mnot\u001B[39;00m \u001B[38;5;28;01mNone\u001B[39;00m\n\u001B[0;32m-> 1088\u001B[0m \u001B[38;5;28;01mwhile\u001B[39;00m \u001B[38;5;28mself\u001B[39m\u001B[38;5;241m.\u001B[39mdispatch_one_batch(iterator):\n\u001B[1;32m   1089\u001B[0m     \u001B[38;5;28;01mpass\u001B[39;00m\n\u001B[1;32m   1091\u001B[0m \u001B[38;5;28;01mif\u001B[39;00m pre_dispatch \u001B[38;5;241m==\u001B[39m \u001B[38;5;124m\"\u001B[39m\u001B[38;5;124mall\u001B[39m\u001B[38;5;124m\"\u001B[39m \u001B[38;5;129;01mor\u001B[39;00m n_jobs \u001B[38;5;241m==\u001B[39m \u001B[38;5;241m1\u001B[39m:\n\u001B[1;32m   1092\u001B[0m     \u001B[38;5;66;03m# The iterable was consumed all at once by the above for loop.\u001B[39;00m\n\u001B[1;32m   1093\u001B[0m     \u001B[38;5;66;03m# No need to wait for async callbacks to trigger to\u001B[39;00m\n\u001B[1;32m   1094\u001B[0m     \u001B[38;5;66;03m# consumption.\u001B[39;00m\n",
      "File \u001B[0;32m/opt/anaconda3/lib/python3.11/site-packages/joblib/parallel.py:901\u001B[0m, in \u001B[0;36mParallel.dispatch_one_batch\u001B[0;34m(self, iterator)\u001B[0m\n\u001B[1;32m    899\u001B[0m     \u001B[38;5;28;01mreturn\u001B[39;00m \u001B[38;5;28;01mFalse\u001B[39;00m\n\u001B[1;32m    900\u001B[0m \u001B[38;5;28;01melse\u001B[39;00m:\n\u001B[0;32m--> 901\u001B[0m     \u001B[38;5;28mself\u001B[39m\u001B[38;5;241m.\u001B[39m_dispatch(tasks)\n\u001B[1;32m    902\u001B[0m     \u001B[38;5;28;01mreturn\u001B[39;00m \u001B[38;5;28;01mTrue\u001B[39;00m\n",
      "File \u001B[0;32m/opt/anaconda3/lib/python3.11/site-packages/joblib/parallel.py:819\u001B[0m, in \u001B[0;36mParallel._dispatch\u001B[0;34m(self, batch)\u001B[0m\n\u001B[1;32m    817\u001B[0m \u001B[38;5;28;01mwith\u001B[39;00m \u001B[38;5;28mself\u001B[39m\u001B[38;5;241m.\u001B[39m_lock:\n\u001B[1;32m    818\u001B[0m     job_idx \u001B[38;5;241m=\u001B[39m \u001B[38;5;28mlen\u001B[39m(\u001B[38;5;28mself\u001B[39m\u001B[38;5;241m.\u001B[39m_jobs)\n\u001B[0;32m--> 819\u001B[0m     job \u001B[38;5;241m=\u001B[39m \u001B[38;5;28mself\u001B[39m\u001B[38;5;241m.\u001B[39m_backend\u001B[38;5;241m.\u001B[39mapply_async(batch, callback\u001B[38;5;241m=\u001B[39mcb)\n\u001B[1;32m    820\u001B[0m     \u001B[38;5;66;03m# A job can complete so quickly than its callback is\u001B[39;00m\n\u001B[1;32m    821\u001B[0m     \u001B[38;5;66;03m# called before we get here, causing self._jobs to\u001B[39;00m\n\u001B[1;32m    822\u001B[0m     \u001B[38;5;66;03m# grow. To ensure correct results ordering, .insert is\u001B[39;00m\n\u001B[1;32m    823\u001B[0m     \u001B[38;5;66;03m# used (rather than .append) in the following line\u001B[39;00m\n\u001B[1;32m    824\u001B[0m     \u001B[38;5;28mself\u001B[39m\u001B[38;5;241m.\u001B[39m_jobs\u001B[38;5;241m.\u001B[39minsert(job_idx, job)\n",
      "File \u001B[0;32m/opt/anaconda3/lib/python3.11/site-packages/joblib/_parallel_backends.py:208\u001B[0m, in \u001B[0;36mSequentialBackend.apply_async\u001B[0;34m(self, func, callback)\u001B[0m\n\u001B[1;32m    206\u001B[0m \u001B[38;5;28;01mdef\u001B[39;00m \u001B[38;5;21mapply_async\u001B[39m(\u001B[38;5;28mself\u001B[39m, func, callback\u001B[38;5;241m=\u001B[39m\u001B[38;5;28;01mNone\u001B[39;00m):\n\u001B[1;32m    207\u001B[0m \u001B[38;5;250m    \u001B[39m\u001B[38;5;124;03m\"\"\"Schedule a func to be run\"\"\"\u001B[39;00m\n\u001B[0;32m--> 208\u001B[0m     result \u001B[38;5;241m=\u001B[39m ImmediateResult(func)\n\u001B[1;32m    209\u001B[0m     \u001B[38;5;28;01mif\u001B[39;00m callback:\n\u001B[1;32m    210\u001B[0m         callback(result)\n",
      "File \u001B[0;32m/opt/anaconda3/lib/python3.11/site-packages/joblib/_parallel_backends.py:597\u001B[0m, in \u001B[0;36mImmediateResult.__init__\u001B[0;34m(self, batch)\u001B[0m\n\u001B[1;32m    594\u001B[0m \u001B[38;5;28;01mdef\u001B[39;00m \u001B[38;5;21m__init__\u001B[39m(\u001B[38;5;28mself\u001B[39m, batch):\n\u001B[1;32m    595\u001B[0m     \u001B[38;5;66;03m# Don't delay the application, to avoid keeping the input\u001B[39;00m\n\u001B[1;32m    596\u001B[0m     \u001B[38;5;66;03m# arguments in memory\u001B[39;00m\n\u001B[0;32m--> 597\u001B[0m     \u001B[38;5;28mself\u001B[39m\u001B[38;5;241m.\u001B[39mresults \u001B[38;5;241m=\u001B[39m batch()\n",
      "File \u001B[0;32m/opt/anaconda3/lib/python3.11/site-packages/joblib/parallel.py:288\u001B[0m, in \u001B[0;36mBatchedCalls.__call__\u001B[0;34m(self)\u001B[0m\n\u001B[1;32m    284\u001B[0m \u001B[38;5;28;01mdef\u001B[39;00m \u001B[38;5;21m__call__\u001B[39m(\u001B[38;5;28mself\u001B[39m):\n\u001B[1;32m    285\u001B[0m     \u001B[38;5;66;03m# Set the default nested backend to self._backend but do not set the\u001B[39;00m\n\u001B[1;32m    286\u001B[0m     \u001B[38;5;66;03m# change the default number of processes to -1\u001B[39;00m\n\u001B[1;32m    287\u001B[0m     \u001B[38;5;28;01mwith\u001B[39;00m parallel_backend(\u001B[38;5;28mself\u001B[39m\u001B[38;5;241m.\u001B[39m_backend, n_jobs\u001B[38;5;241m=\u001B[39m\u001B[38;5;28mself\u001B[39m\u001B[38;5;241m.\u001B[39m_n_jobs):\n\u001B[0;32m--> 288\u001B[0m         \u001B[38;5;28;01mreturn\u001B[39;00m [func(\u001B[38;5;241m*\u001B[39margs, \u001B[38;5;241m*\u001B[39m\u001B[38;5;241m*\u001B[39mkwargs)\n\u001B[1;32m    289\u001B[0m                 \u001B[38;5;28;01mfor\u001B[39;00m func, args, kwargs \u001B[38;5;129;01min\u001B[39;00m \u001B[38;5;28mself\u001B[39m\u001B[38;5;241m.\u001B[39mitems]\n",
      "File \u001B[0;32m/opt/anaconda3/lib/python3.11/site-packages/joblib/parallel.py:288\u001B[0m, in \u001B[0;36m<listcomp>\u001B[0;34m(.0)\u001B[0m\n\u001B[1;32m    284\u001B[0m \u001B[38;5;28;01mdef\u001B[39;00m \u001B[38;5;21m__call__\u001B[39m(\u001B[38;5;28mself\u001B[39m):\n\u001B[1;32m    285\u001B[0m     \u001B[38;5;66;03m# Set the default nested backend to self._backend but do not set the\u001B[39;00m\n\u001B[1;32m    286\u001B[0m     \u001B[38;5;66;03m# change the default number of processes to -1\u001B[39;00m\n\u001B[1;32m    287\u001B[0m     \u001B[38;5;28;01mwith\u001B[39;00m parallel_backend(\u001B[38;5;28mself\u001B[39m\u001B[38;5;241m.\u001B[39m_backend, n_jobs\u001B[38;5;241m=\u001B[39m\u001B[38;5;28mself\u001B[39m\u001B[38;5;241m.\u001B[39m_n_jobs):\n\u001B[0;32m--> 288\u001B[0m         \u001B[38;5;28;01mreturn\u001B[39;00m [func(\u001B[38;5;241m*\u001B[39margs, \u001B[38;5;241m*\u001B[39m\u001B[38;5;241m*\u001B[39mkwargs)\n\u001B[1;32m    289\u001B[0m                 \u001B[38;5;28;01mfor\u001B[39;00m func, args, kwargs \u001B[38;5;129;01min\u001B[39;00m \u001B[38;5;28mself\u001B[39m\u001B[38;5;241m.\u001B[39mitems]\n",
      "File \u001B[0;32m/opt/anaconda3/lib/python3.11/site-packages/sklearn/utils/parallel.py:123\u001B[0m, in \u001B[0;36m_FuncWrapper.__call__\u001B[0;34m(self, *args, **kwargs)\u001B[0m\n\u001B[1;32m    121\u001B[0m     config \u001B[38;5;241m=\u001B[39m {}\n\u001B[1;32m    122\u001B[0m \u001B[38;5;28;01mwith\u001B[39;00m config_context(\u001B[38;5;241m*\u001B[39m\u001B[38;5;241m*\u001B[39mconfig):\n\u001B[0;32m--> 123\u001B[0m     \u001B[38;5;28;01mreturn\u001B[39;00m \u001B[38;5;28mself\u001B[39m\u001B[38;5;241m.\u001B[39mfunction(\u001B[38;5;241m*\u001B[39margs, \u001B[38;5;241m*\u001B[39m\u001B[38;5;241m*\u001B[39mkwargs)\n",
      "File \u001B[0;32m/opt/anaconda3/lib/python3.11/site-packages/sklearn/model_selection/_validation.py:686\u001B[0m, in \u001B[0;36m_fit_and_score\u001B[0;34m(estimator, X, y, scorer, train, test, verbose, parameters, fit_params, return_train_score, return_parameters, return_n_test_samples, return_times, return_estimator, split_progress, candidate_progress, error_score)\u001B[0m\n\u001B[1;32m    684\u001B[0m         estimator\u001B[38;5;241m.\u001B[39mfit(X_train, \u001B[38;5;241m*\u001B[39m\u001B[38;5;241m*\u001B[39mfit_params)\n\u001B[1;32m    685\u001B[0m     \u001B[38;5;28;01melse\u001B[39;00m:\n\u001B[0;32m--> 686\u001B[0m         estimator\u001B[38;5;241m.\u001B[39mfit(X_train, y_train, \u001B[38;5;241m*\u001B[39m\u001B[38;5;241m*\u001B[39mfit_params)\n\u001B[1;32m    688\u001B[0m \u001B[38;5;28;01mexcept\u001B[39;00m \u001B[38;5;167;01mException\u001B[39;00m:\n\u001B[1;32m    689\u001B[0m     \u001B[38;5;66;03m# Note fit time as time until error\u001B[39;00m\n\u001B[1;32m    690\u001B[0m     fit_time \u001B[38;5;241m=\u001B[39m time\u001B[38;5;241m.\u001B[39mtime() \u001B[38;5;241m-\u001B[39m start_time\n",
      "File \u001B[0;32m/opt/anaconda3/lib/python3.11/site-packages/keras/wrappers/scikit_learn.py:175\u001B[0m, in \u001B[0;36mBaseWrapper.fit\u001B[0;34m(self, x, y, **kwargs)\u001B[0m\n\u001B[1;32m    172\u001B[0m fit_args \u001B[38;5;241m=\u001B[39m copy\u001B[38;5;241m.\u001B[39mdeepcopy(\u001B[38;5;28mself\u001B[39m\u001B[38;5;241m.\u001B[39mfilter_sk_params(Sequential\u001B[38;5;241m.\u001B[39mfit))\n\u001B[1;32m    173\u001B[0m fit_args\u001B[38;5;241m.\u001B[39mupdate(kwargs)\n\u001B[0;32m--> 175\u001B[0m history \u001B[38;5;241m=\u001B[39m \u001B[38;5;28mself\u001B[39m\u001B[38;5;241m.\u001B[39mmodel\u001B[38;5;241m.\u001B[39mfit(x, y, \u001B[38;5;241m*\u001B[39m\u001B[38;5;241m*\u001B[39mfit_args)\n\u001B[1;32m    177\u001B[0m \u001B[38;5;28;01mreturn\u001B[39;00m history\n",
      "File \u001B[0;32m/opt/anaconda3/lib/python3.11/site-packages/keras/utils/traceback_utils.py:65\u001B[0m, in \u001B[0;36mfilter_traceback.<locals>.error_handler\u001B[0;34m(*args, **kwargs)\u001B[0m\n\u001B[1;32m     63\u001B[0m filtered_tb \u001B[38;5;241m=\u001B[39m \u001B[38;5;28;01mNone\u001B[39;00m\n\u001B[1;32m     64\u001B[0m \u001B[38;5;28;01mtry\u001B[39;00m:\n\u001B[0;32m---> 65\u001B[0m     \u001B[38;5;28;01mreturn\u001B[39;00m fn(\u001B[38;5;241m*\u001B[39margs, \u001B[38;5;241m*\u001B[39m\u001B[38;5;241m*\u001B[39mkwargs)\n\u001B[1;32m     66\u001B[0m \u001B[38;5;28;01mexcept\u001B[39;00m \u001B[38;5;167;01mException\u001B[39;00m \u001B[38;5;28;01mas\u001B[39;00m e:\n\u001B[1;32m     67\u001B[0m     filtered_tb \u001B[38;5;241m=\u001B[39m _process_traceback_frames(e\u001B[38;5;241m.\u001B[39m__traceback__)\n",
      "File \u001B[0;32m/opt/anaconda3/lib/python3.11/site-packages/keras/engine/training.py:1729\u001B[0m, in \u001B[0;36mModel.fit\u001B[0;34m(self, x, y, batch_size, epochs, verbose, callbacks, validation_split, validation_data, shuffle, class_weight, sample_weight, initial_epoch, steps_per_epoch, validation_steps, validation_batch_size, validation_freq, max_queue_size, workers, use_multiprocessing)\u001B[0m\n\u001B[1;32m   1714\u001B[0m \u001B[38;5;28;01mif\u001B[39;00m \u001B[38;5;28mgetattr\u001B[39m(\u001B[38;5;28mself\u001B[39m, \u001B[38;5;124m\"\u001B[39m\u001B[38;5;124m_eval_data_handler\u001B[39m\u001B[38;5;124m\"\u001B[39m, \u001B[38;5;28;01mNone\u001B[39;00m) \u001B[38;5;129;01mis\u001B[39;00m \u001B[38;5;28;01mNone\u001B[39;00m:\n\u001B[1;32m   1715\u001B[0m     \u001B[38;5;28mself\u001B[39m\u001B[38;5;241m.\u001B[39m_eval_data_handler \u001B[38;5;241m=\u001B[39m data_adapter\u001B[38;5;241m.\u001B[39mget_data_handler(\n\u001B[1;32m   1716\u001B[0m         x\u001B[38;5;241m=\u001B[39mval_x,\n\u001B[1;32m   1717\u001B[0m         y\u001B[38;5;241m=\u001B[39mval_y,\n\u001B[0;32m   (...)\u001B[0m\n\u001B[1;32m   1727\u001B[0m         steps_per_execution\u001B[38;5;241m=\u001B[39m\u001B[38;5;28mself\u001B[39m\u001B[38;5;241m.\u001B[39m_steps_per_execution,\n\u001B[1;32m   1728\u001B[0m     )\n\u001B[0;32m-> 1729\u001B[0m val_logs \u001B[38;5;241m=\u001B[39m \u001B[38;5;28mself\u001B[39m\u001B[38;5;241m.\u001B[39mevaluate(\n\u001B[1;32m   1730\u001B[0m     x\u001B[38;5;241m=\u001B[39mval_x,\n\u001B[1;32m   1731\u001B[0m     y\u001B[38;5;241m=\u001B[39mval_y,\n\u001B[1;32m   1732\u001B[0m     sample_weight\u001B[38;5;241m=\u001B[39mval_sample_weight,\n\u001B[1;32m   1733\u001B[0m     batch_size\u001B[38;5;241m=\u001B[39mvalidation_batch_size \u001B[38;5;129;01mor\u001B[39;00m batch_size,\n\u001B[1;32m   1734\u001B[0m     steps\u001B[38;5;241m=\u001B[39mvalidation_steps,\n\u001B[1;32m   1735\u001B[0m     callbacks\u001B[38;5;241m=\u001B[39mcallbacks,\n\u001B[1;32m   1736\u001B[0m     max_queue_size\u001B[38;5;241m=\u001B[39mmax_queue_size,\n\u001B[1;32m   1737\u001B[0m     workers\u001B[38;5;241m=\u001B[39mworkers,\n\u001B[1;32m   1738\u001B[0m     use_multiprocessing\u001B[38;5;241m=\u001B[39muse_multiprocessing,\n\u001B[1;32m   1739\u001B[0m     return_dict\u001B[38;5;241m=\u001B[39m\u001B[38;5;28;01mTrue\u001B[39;00m,\n\u001B[1;32m   1740\u001B[0m     _use_cached_eval_dataset\u001B[38;5;241m=\u001B[39m\u001B[38;5;28;01mTrue\u001B[39;00m,\n\u001B[1;32m   1741\u001B[0m )\n\u001B[1;32m   1742\u001B[0m val_logs \u001B[38;5;241m=\u001B[39m {\n\u001B[1;32m   1743\u001B[0m     \u001B[38;5;124m\"\u001B[39m\u001B[38;5;124mval_\u001B[39m\u001B[38;5;124m\"\u001B[39m \u001B[38;5;241m+\u001B[39m name: val \u001B[38;5;28;01mfor\u001B[39;00m name, val \u001B[38;5;129;01min\u001B[39;00m val_logs\u001B[38;5;241m.\u001B[39mitems()\n\u001B[1;32m   1744\u001B[0m }\n\u001B[1;32m   1745\u001B[0m epoch_logs\u001B[38;5;241m.\u001B[39mupdate(val_logs)\n",
      "File \u001B[0;32m/opt/anaconda3/lib/python3.11/site-packages/keras/utils/traceback_utils.py:65\u001B[0m, in \u001B[0;36mfilter_traceback.<locals>.error_handler\u001B[0;34m(*args, **kwargs)\u001B[0m\n\u001B[1;32m     63\u001B[0m filtered_tb \u001B[38;5;241m=\u001B[39m \u001B[38;5;28;01mNone\u001B[39;00m\n\u001B[1;32m     64\u001B[0m \u001B[38;5;28;01mtry\u001B[39;00m:\n\u001B[0;32m---> 65\u001B[0m     \u001B[38;5;28;01mreturn\u001B[39;00m fn(\u001B[38;5;241m*\u001B[39margs, \u001B[38;5;241m*\u001B[39m\u001B[38;5;241m*\u001B[39mkwargs)\n\u001B[1;32m     66\u001B[0m \u001B[38;5;28;01mexcept\u001B[39;00m \u001B[38;5;167;01mException\u001B[39;00m \u001B[38;5;28;01mas\u001B[39;00m e:\n\u001B[1;32m     67\u001B[0m     filtered_tb \u001B[38;5;241m=\u001B[39m _process_traceback_frames(e\u001B[38;5;241m.\u001B[39m__traceback__)\n",
      "File \u001B[0;32m/opt/anaconda3/lib/python3.11/site-packages/keras/engine/training.py:2064\u001B[0m, in \u001B[0;36mModel.evaluate\u001B[0;34m(self, x, y, batch_size, verbose, sample_weight, steps, callbacks, max_queue_size, workers, use_multiprocessing, return_dict, **kwargs)\u001B[0m\n\u001B[1;32m   2062\u001B[0m \u001B[38;5;28mself\u001B[39m\u001B[38;5;241m.\u001B[39m_test_counter\u001B[38;5;241m.\u001B[39massign(\u001B[38;5;241m0\u001B[39m)\n\u001B[1;32m   2063\u001B[0m callbacks\u001B[38;5;241m.\u001B[39mon_test_begin()\n\u001B[0;32m-> 2064\u001B[0m \u001B[38;5;28;01mfor\u001B[39;00m _, iterator \u001B[38;5;129;01min\u001B[39;00m data_handler\u001B[38;5;241m.\u001B[39menumerate_epochs():  \u001B[38;5;66;03m# Single epoch.\u001B[39;00m\n\u001B[1;32m   2065\u001B[0m     \u001B[38;5;28mself\u001B[39m\u001B[38;5;241m.\u001B[39mreset_metrics()\n\u001B[1;32m   2066\u001B[0m     \u001B[38;5;28;01mwith\u001B[39;00m data_handler\u001B[38;5;241m.\u001B[39mcatch_stop_iteration():\n",
      "File \u001B[0;32m/opt/anaconda3/lib/python3.11/site-packages/keras/engine/data_adapter.py:1305\u001B[0m, in \u001B[0;36mDataHandler.enumerate_epochs\u001B[0;34m(self)\u001B[0m\n\u001B[1;32m   1303\u001B[0m \u001B[38;5;250m\u001B[39m\u001B[38;5;124;03m\"\"\"Yields `(epoch, tf.data.Iterator)`.\"\"\"\u001B[39;00m\n\u001B[1;32m   1304\u001B[0m \u001B[38;5;28;01mwith\u001B[39;00m \u001B[38;5;28mself\u001B[39m\u001B[38;5;241m.\u001B[39m_truncate_execution_to_epoch():\n\u001B[0;32m-> 1305\u001B[0m     data_iterator \u001B[38;5;241m=\u001B[39m \u001B[38;5;28miter\u001B[39m(\u001B[38;5;28mself\u001B[39m\u001B[38;5;241m.\u001B[39m_dataset)\n\u001B[1;32m   1306\u001B[0m     \u001B[38;5;28;01mfor\u001B[39;00m epoch \u001B[38;5;129;01min\u001B[39;00m \u001B[38;5;28mrange\u001B[39m(\u001B[38;5;28mself\u001B[39m\u001B[38;5;241m.\u001B[39m_initial_epoch, \u001B[38;5;28mself\u001B[39m\u001B[38;5;241m.\u001B[39m_epochs):\n\u001B[1;32m   1307\u001B[0m         \u001B[38;5;28;01mif\u001B[39;00m \u001B[38;5;28mself\u001B[39m\u001B[38;5;241m.\u001B[39m_insufficient_data:  \u001B[38;5;66;03m# Set by `catch_stop_iteration`.\u001B[39;00m\n",
      "File \u001B[0;32m/opt/anaconda3/lib/python3.11/site-packages/tensorflow/python/data/ops/dataset_ops.py:505\u001B[0m, in \u001B[0;36mDatasetV2.__iter__\u001B[0;34m(self)\u001B[0m\n\u001B[1;32m    503\u001B[0m \u001B[38;5;28;01mif\u001B[39;00m context\u001B[38;5;241m.\u001B[39mexecuting_eagerly() \u001B[38;5;129;01mor\u001B[39;00m ops\u001B[38;5;241m.\u001B[39minside_function():\n\u001B[1;32m    504\u001B[0m   \u001B[38;5;28;01mwith\u001B[39;00m ops\u001B[38;5;241m.\u001B[39mcolocate_with(\u001B[38;5;28mself\u001B[39m\u001B[38;5;241m.\u001B[39m_variant_tensor):\n\u001B[0;32m--> 505\u001B[0m     \u001B[38;5;28;01mreturn\u001B[39;00m iterator_ops\u001B[38;5;241m.\u001B[39mOwnedIterator(\u001B[38;5;28mself\u001B[39m)\n\u001B[1;32m    506\u001B[0m \u001B[38;5;28;01melse\u001B[39;00m:\n\u001B[1;32m    507\u001B[0m   \u001B[38;5;28;01mraise\u001B[39;00m \u001B[38;5;167;01mRuntimeError\u001B[39;00m(\u001B[38;5;124m\"\u001B[39m\u001B[38;5;124m`tf.data.Dataset` only supports Python-style \u001B[39m\u001B[38;5;124m\"\u001B[39m\n\u001B[1;32m    508\u001B[0m                      \u001B[38;5;124m\"\u001B[39m\u001B[38;5;124miteration in eager mode or within tf.function.\u001B[39m\u001B[38;5;124m\"\u001B[39m)\n",
      "File \u001B[0;32m/opt/anaconda3/lib/python3.11/site-packages/tensorflow/python/data/ops/iterator_ops.py:713\u001B[0m, in \u001B[0;36mOwnedIterator.__init__\u001B[0;34m(self, dataset, components, element_spec)\u001B[0m\n\u001B[1;32m    709\u001B[0m   \u001B[38;5;28;01mif\u001B[39;00m (components \u001B[38;5;129;01mis\u001B[39;00m \u001B[38;5;129;01mnot\u001B[39;00m \u001B[38;5;28;01mNone\u001B[39;00m \u001B[38;5;129;01mor\u001B[39;00m element_spec \u001B[38;5;129;01mis\u001B[39;00m \u001B[38;5;129;01mnot\u001B[39;00m \u001B[38;5;28;01mNone\u001B[39;00m):\n\u001B[1;32m    710\u001B[0m     \u001B[38;5;28;01mraise\u001B[39;00m \u001B[38;5;167;01mValueError\u001B[39;00m(\n\u001B[1;32m    711\u001B[0m         \u001B[38;5;124m\"\u001B[39m\u001B[38;5;124mWhen `dataset` is provided, `element_spec` and `components` must \u001B[39m\u001B[38;5;124m\"\u001B[39m\n\u001B[1;32m    712\u001B[0m         \u001B[38;5;124m\"\u001B[39m\u001B[38;5;124mnot be specified.\u001B[39m\u001B[38;5;124m\"\u001B[39m)\n\u001B[0;32m--> 713\u001B[0m   \u001B[38;5;28mself\u001B[39m\u001B[38;5;241m.\u001B[39m_create_iterator(dataset)\n\u001B[1;32m    715\u001B[0m \u001B[38;5;28mself\u001B[39m\u001B[38;5;241m.\u001B[39m_get_next_call_count \u001B[38;5;241m=\u001B[39m \u001B[38;5;241m0\u001B[39m\n",
      "File \u001B[0;32m/opt/anaconda3/lib/python3.11/site-packages/tensorflow/python/data/ops/iterator_ops.py:752\u001B[0m, in \u001B[0;36mOwnedIterator._create_iterator\u001B[0;34m(self, dataset)\u001B[0m\n\u001B[1;32m    749\u001B[0m   \u001B[38;5;28;01massert\u001B[39;00m \u001B[38;5;28mlen\u001B[39m(fulltype\u001B[38;5;241m.\u001B[39margs[\u001B[38;5;241m0\u001B[39m]\u001B[38;5;241m.\u001B[39margs[\u001B[38;5;241m0\u001B[39m]\u001B[38;5;241m.\u001B[39margs) \u001B[38;5;241m==\u001B[39m \u001B[38;5;28mlen\u001B[39m(\n\u001B[1;32m    750\u001B[0m       \u001B[38;5;28mself\u001B[39m\u001B[38;5;241m.\u001B[39m_flat_output_types)\n\u001B[1;32m    751\u001B[0m   \u001B[38;5;28mself\u001B[39m\u001B[38;5;241m.\u001B[39m_iterator_resource\u001B[38;5;241m.\u001B[39mop\u001B[38;5;241m.\u001B[39mexperimental_set_type(fulltype)\n\u001B[0;32m--> 752\u001B[0m gen_dataset_ops\u001B[38;5;241m.\u001B[39mmake_iterator(ds_variant, \u001B[38;5;28mself\u001B[39m\u001B[38;5;241m.\u001B[39m_iterator_resource)\n",
      "File \u001B[0;32m/opt/anaconda3/lib/python3.11/site-packages/tensorflow/python/ops/gen_dataset_ops.py:3408\u001B[0m, in \u001B[0;36mmake_iterator\u001B[0;34m(dataset, iterator, name)\u001B[0m\n\u001B[1;32m   3406\u001B[0m \u001B[38;5;28;01mif\u001B[39;00m tld\u001B[38;5;241m.\u001B[39mis_eager:\n\u001B[1;32m   3407\u001B[0m   \u001B[38;5;28;01mtry\u001B[39;00m:\n\u001B[0;32m-> 3408\u001B[0m     _result \u001B[38;5;241m=\u001B[39m pywrap_tfe\u001B[38;5;241m.\u001B[39mTFE_Py_FastPathExecute(\n\u001B[1;32m   3409\u001B[0m       _ctx, \u001B[38;5;124m\"\u001B[39m\u001B[38;5;124mMakeIterator\u001B[39m\u001B[38;5;124m\"\u001B[39m, name, dataset, iterator)\n\u001B[1;32m   3410\u001B[0m     \u001B[38;5;28;01mreturn\u001B[39;00m _result\n\u001B[1;32m   3411\u001B[0m   \u001B[38;5;28;01mexcept\u001B[39;00m _core\u001B[38;5;241m.\u001B[39m_NotOkStatusException \u001B[38;5;28;01mas\u001B[39;00m e:\n",
      "\u001B[0;31mKeyboardInterrupt\u001B[0m: "
     ]
    }
   ],
   "execution_count": 103
  },
  {
   "cell_type": "code",
   "metadata": {
    "ExecuteTime": {
     "end_time": "2024-08-01T15:04:56.298495Z",
     "start_time": "2024-08-01T15:04:56.288920Z"
    }
   },
   "source": [
    "rnd_search_cv.best_params_"
   ],
   "outputs": [
    {
     "ename": "AttributeError",
     "evalue": "'RandomizedSearchCV' object has no attribute 'best_params_'",
     "output_type": "error",
     "traceback": [
      "\u001B[0;31m---------------------------------------------------------------------------\u001B[0m",
      "\u001B[0;31mAttributeError\u001B[0m                            Traceback (most recent call last)",
      "Cell \u001B[0;32mIn[104], line 1\u001B[0m\n\u001B[0;32m----> 1\u001B[0m rnd_search_cv\u001B[38;5;241m.\u001B[39mbest_params_\n",
      "\u001B[0;31mAttributeError\u001B[0m: 'RandomizedSearchCV' object has no attribute 'best_params_'"
     ]
    }
   ],
   "execution_count": 104
  },
  {
   "cell_type": "code",
   "metadata": {
    "ExecuteTime": {
     "end_time": "2024-08-01T15:04:57.286384Z",
     "start_time": "2024-08-01T15:04:57.276675Z"
    }
   },
   "source": [
    "rnd_search_cv.best_score_"
   ],
   "outputs": [
    {
     "ename": "AttributeError",
     "evalue": "'RandomizedSearchCV' object has no attribute 'best_score_'",
     "output_type": "error",
     "traceback": [
      "\u001B[0;31m---------------------------------------------------------------------------\u001B[0m",
      "\u001B[0;31mAttributeError\u001B[0m                            Traceback (most recent call last)",
      "Cell \u001B[0;32mIn[105], line 1\u001B[0m\n\u001B[0;32m----> 1\u001B[0m rnd_search_cv\u001B[38;5;241m.\u001B[39mbest_score_\n",
      "\u001B[0;31mAttributeError\u001B[0m: 'RandomizedSearchCV' object has no attribute 'best_score_'"
     ]
    }
   ],
   "execution_count": 105
  },
  {
   "cell_type": "code",
   "metadata": {
    "ExecuteTime": {
     "end_time": "2024-08-01T15:04:57.564936Z",
     "start_time": "2024-08-01T15:04:57.555356Z"
    }
   },
   "source": [
    "rnd_search_cv.best_estimator_"
   ],
   "outputs": [
    {
     "ename": "AttributeError",
     "evalue": "'RandomizedSearchCV' object has no attribute 'best_estimator_'",
     "output_type": "error",
     "traceback": [
      "\u001B[0;31m---------------------------------------------------------------------------\u001B[0m",
      "\u001B[0;31mAttributeError\u001B[0m                            Traceback (most recent call last)",
      "Cell \u001B[0;32mIn[106], line 1\u001B[0m\n\u001B[0;32m----> 1\u001B[0m rnd_search_cv\u001B[38;5;241m.\u001B[39mbest_estimator_\n",
      "\u001B[0;31mAttributeError\u001B[0m: 'RandomizedSearchCV' object has no attribute 'best_estimator_'"
     ]
    }
   ],
   "execution_count": 106
  },
  {
   "cell_type": "code",
   "metadata": {
    "ExecuteTime": {
     "end_time": "2024-08-01T15:04:57.921111Z",
     "start_time": "2024-08-01T15:04:57.851690Z"
    }
   },
   "source": [
    "rnd_search_cv.score(X_test, y_test)"
   ],
   "outputs": [
    {
     "ename": "NotFittedError",
     "evalue": "This RandomizedSearchCV instance is not fitted yet. Call 'fit' with appropriate arguments before using this estimator.",
     "output_type": "error",
     "traceback": [
      "\u001B[0;31m---------------------------------------------------------------------------\u001B[0m",
      "\u001B[0;31mNotFittedError\u001B[0m                            Traceback (most recent call last)",
      "Cell \u001B[0;32mIn[107], line 1\u001B[0m\n\u001B[0;32m----> 1\u001B[0m rnd_search_cv\u001B[38;5;241m.\u001B[39mscore(X_test, y_test)\n",
      "File \u001B[0;32m/opt/anaconda3/lib/python3.11/site-packages/sklearn/model_selection/_search.py:436\u001B[0m, in \u001B[0;36mBaseSearchCV.score\u001B[0;34m(self, X, y)\u001B[0m\n\u001B[1;32m    413\u001B[0m \u001B[38;5;250m\u001B[39m\u001B[38;5;124;03m\"\"\"Return the score on the given data, if the estimator has been refit.\u001B[39;00m\n\u001B[1;32m    414\u001B[0m \n\u001B[1;32m    415\u001B[0m \u001B[38;5;124;03mThis uses the score defined by ``scoring`` where provided, and the\u001B[39;00m\n\u001B[0;32m   (...)\u001B[0m\n\u001B[1;32m    433\u001B[0m \u001B[38;5;124;03m    ``best_estimator_.score`` method otherwise.\u001B[39;00m\n\u001B[1;32m    434\u001B[0m \u001B[38;5;124;03m\"\"\"\u001B[39;00m\n\u001B[1;32m    435\u001B[0m _check_refit(\u001B[38;5;28mself\u001B[39m, \u001B[38;5;124m\"\u001B[39m\u001B[38;5;124mscore\u001B[39m\u001B[38;5;124m\"\u001B[39m)\n\u001B[0;32m--> 436\u001B[0m check_is_fitted(\u001B[38;5;28mself\u001B[39m)\n\u001B[1;32m    437\u001B[0m \u001B[38;5;28;01mif\u001B[39;00m \u001B[38;5;28mself\u001B[39m\u001B[38;5;241m.\u001B[39mscorer_ \u001B[38;5;129;01mis\u001B[39;00m \u001B[38;5;28;01mNone\u001B[39;00m:\n\u001B[1;32m    438\u001B[0m     \u001B[38;5;28;01mraise\u001B[39;00m \u001B[38;5;167;01mValueError\u001B[39;00m(\n\u001B[1;32m    439\u001B[0m         \u001B[38;5;124m\"\u001B[39m\u001B[38;5;124mNo score function explicitly defined, \u001B[39m\u001B[38;5;124m\"\u001B[39m\n\u001B[1;32m    440\u001B[0m         \u001B[38;5;124m\"\u001B[39m\u001B[38;5;124mand the estimator doesn\u001B[39m\u001B[38;5;124m'\u001B[39m\u001B[38;5;124mt provide one \u001B[39m\u001B[38;5;132;01m%s\u001B[39;00m\u001B[38;5;124m\"\u001B[39m\n\u001B[1;32m    441\u001B[0m         \u001B[38;5;241m%\u001B[39m \u001B[38;5;28mself\u001B[39m\u001B[38;5;241m.\u001B[39mbest_estimator_\n\u001B[1;32m    442\u001B[0m     )\n",
      "File \u001B[0;32m/opt/anaconda3/lib/python3.11/site-packages/sklearn/utils/validation.py:1390\u001B[0m, in \u001B[0;36mcheck_is_fitted\u001B[0;34m(estimator, attributes, msg, all_or_any)\u001B[0m\n\u001B[1;32m   1385\u001B[0m     fitted \u001B[38;5;241m=\u001B[39m [\n\u001B[1;32m   1386\u001B[0m         v \u001B[38;5;28;01mfor\u001B[39;00m v \u001B[38;5;129;01min\u001B[39;00m \u001B[38;5;28mvars\u001B[39m(estimator) \u001B[38;5;28;01mif\u001B[39;00m v\u001B[38;5;241m.\u001B[39mendswith(\u001B[38;5;124m\"\u001B[39m\u001B[38;5;124m_\u001B[39m\u001B[38;5;124m\"\u001B[39m) \u001B[38;5;129;01mand\u001B[39;00m \u001B[38;5;129;01mnot\u001B[39;00m v\u001B[38;5;241m.\u001B[39mstartswith(\u001B[38;5;124m\"\u001B[39m\u001B[38;5;124m__\u001B[39m\u001B[38;5;124m\"\u001B[39m)\n\u001B[1;32m   1387\u001B[0m     ]\n\u001B[1;32m   1389\u001B[0m \u001B[38;5;28;01mif\u001B[39;00m \u001B[38;5;129;01mnot\u001B[39;00m fitted:\n\u001B[0;32m-> 1390\u001B[0m     \u001B[38;5;28;01mraise\u001B[39;00m NotFittedError(msg \u001B[38;5;241m%\u001B[39m {\u001B[38;5;124m\"\u001B[39m\u001B[38;5;124mname\u001B[39m\u001B[38;5;124m\"\u001B[39m: \u001B[38;5;28mtype\u001B[39m(estimator)\u001B[38;5;241m.\u001B[39m\u001B[38;5;18m__name__\u001B[39m})\n",
      "\u001B[0;31mNotFittedError\u001B[0m: This RandomizedSearchCV instance is not fitted yet. Call 'fit' with appropriate arguments before using this estimator."
     ]
    }
   ],
   "execution_count": 107
  },
  {
   "cell_type": "code",
   "metadata": {
    "ExecuteTime": {
     "end_time": "2024-08-01T15:04:58.134107Z",
     "start_time": "2024-08-01T15:04:58.125328Z"
    }
   },
   "source": [
    "model = rnd_search_cv.best_estimator_.model\n",
    "model"
   ],
   "outputs": [
    {
     "ename": "AttributeError",
     "evalue": "'RandomizedSearchCV' object has no attribute 'best_estimator_'",
     "output_type": "error",
     "traceback": [
      "\u001B[0;31m---------------------------------------------------------------------------\u001B[0m",
      "\u001B[0;31mAttributeError\u001B[0m                            Traceback (most recent call last)",
      "Cell \u001B[0;32mIn[108], line 1\u001B[0m\n\u001B[0;32m----> 1\u001B[0m model \u001B[38;5;241m=\u001B[39m rnd_search_cv\u001B[38;5;241m.\u001B[39mbest_estimator_\u001B[38;5;241m.\u001B[39mmodel\n\u001B[1;32m      2\u001B[0m model\n",
      "\u001B[0;31mAttributeError\u001B[0m: 'RandomizedSearchCV' object has no attribute 'best_estimator_'"
     ]
    }
   ],
   "execution_count": 108
  },
  {
   "cell_type": "code",
   "metadata": {
    "scrolled": true,
    "ExecuteTime": {
     "end_time": "2024-08-01T15:04:58.653710Z",
     "start_time": "2024-08-01T15:04:58.584449Z"
    }
   },
   "source": [
    "model.evaluate(X_test, y_test)"
   ],
   "outputs": [
    {
     "name": "stdout",
     "output_type": "stream",
     "text": [
      "162/162 [==============================] - 0s 229us/step - loss: 0.3021\n"
     ]
    },
    {
     "data": {
      "text/plain": [
       "0.3020971715450287"
      ]
     },
     "execution_count": 109,
     "metadata": {},
     "output_type": "execute_result"
    }
   ],
   "execution_count": 109
  },
  {
   "cell_type": "markdown",
   "metadata": {},
   "source": [
    "# Exercise solutions"
   ]
  },
  {
   "cell_type": "markdown",
   "metadata": {},
   "source": [
    "## 1. to 9."
   ]
  },
  {
   "cell_type": "markdown",
   "metadata": {},
   "source": [
    "See appendix A."
   ]
  },
  {
   "cell_type": "markdown",
   "metadata": {},
   "source": [
    "## 10."
   ]
  },
  {
   "cell_type": "markdown",
   "metadata": {},
   "source": [
    "*Exercise: Train a deep MLP on the MNIST dataset (you can load it using `keras.datasets.mnist.load_data()`. See if you can get over 98% precision. Try searching for the optimal learning rate by using the approach presented in this chapter (i.e., by growing the learning rate exponentially, plotting the loss, and finding the point where the loss shoots up). Try adding all the bells and whistles—save checkpoints, use early stopping, and plot learning curves using TensorBoard.*"
   ]
  },
  {
   "cell_type": "markdown",
   "metadata": {},
   "source": [
    "Let's load the dataset:"
   ]
  },
  {
   "cell_type": "code",
   "metadata": {
    "ExecuteTime": {
     "end_time": "2024-08-01T15:05:05.401744Z",
     "start_time": "2024-08-01T15:05:01.238694Z"
    }
   },
   "source": [
    "(X_train_full, y_train_full), (X_test, y_test) = keras.datasets.mnist.load_data()"
   ],
   "outputs": [
    {
     "name": "stdout",
     "output_type": "stream",
     "text": [
      "Downloading data from https://storage.googleapis.com/tensorflow/tf-keras-datasets/mnist.npz\n",
      "11490434/11490434 [==============================] - 3s 0us/step\n"
     ]
    }
   ],
   "execution_count": 110
  },
  {
   "cell_type": "markdown",
   "metadata": {},
   "source": [
    "Just like for the Fashion MNIST dataset, the MNIST training set contains 60,000 grayscale images, each 28x28 pixels:"
   ]
  },
  {
   "cell_type": "code",
   "metadata": {
    "ExecuteTime": {
     "end_time": "2024-08-01T15:05:05.404781Z",
     "start_time": "2024-08-01T15:05:05.402708Z"
    }
   },
   "source": [
    "X_train_full.shape"
   ],
   "outputs": [
    {
     "data": {
      "text/plain": [
       "(60000, 28, 28)"
      ]
     },
     "execution_count": 111,
     "metadata": {},
     "output_type": "execute_result"
    }
   ],
   "execution_count": 111
  },
  {
   "cell_type": "markdown",
   "metadata": {},
   "source": [
    "Each pixel intensity is also represented as a byte (0 to 255):"
   ]
  },
  {
   "cell_type": "code",
   "metadata": {
    "ExecuteTime": {
     "end_time": "2024-08-01T15:05:06.622457Z",
     "start_time": "2024-08-01T15:05:06.620167Z"
    }
   },
   "source": [
    "X_train_full.dtype"
   ],
   "outputs": [
    {
     "data": {
      "text/plain": [
       "dtype('uint8')"
      ]
     },
     "execution_count": 112,
     "metadata": {},
     "output_type": "execute_result"
    }
   ],
   "execution_count": 112
  },
  {
   "cell_type": "markdown",
   "metadata": {},
   "source": [
    "Let's split the full training set into a validation set and a (smaller) training set. We also scale the pixel intensities down to the 0-1 range and convert them to floats, by dividing by 255, just like we did for Fashion MNIST:"
   ]
  },
  {
   "cell_type": "code",
   "metadata": {
    "ExecuteTime": {
     "end_time": "2024-08-01T15:05:07.577976Z",
     "start_time": "2024-08-01T15:05:07.519427Z"
    }
   },
   "source": [
    "X_valid, X_train = X_train_full[:5000] / 255., X_train_full[5000:] / 255.\n",
    "y_valid, y_train = y_train_full[:5000], y_train_full[5000:]\n",
    "X_test = X_test / 255."
   ],
   "outputs": [],
   "execution_count": 113
  },
  {
   "cell_type": "markdown",
   "metadata": {},
   "source": [
    "Let's plot an image using Matplotlib's `imshow()` function, with a `'binary'`\n",
    " color map:"
   ]
  },
  {
   "cell_type": "code",
   "metadata": {
    "ExecuteTime": {
     "end_time": "2024-08-01T15:05:08.855654Z",
     "start_time": "2024-08-01T15:05:08.832093Z"
    }
   },
   "source": [
    "plt.imshow(X_train[0], cmap=\"binary\")\n",
    "plt.axis('off')\n",
    "plt.show()"
   ],
   "outputs": [
    {
     "data": {
      "text/plain": [
       "<Figure size 640x480 with 1 Axes>"
      ],
      "image/png": "[encoded data removed]"
     },
     "metadata": {},
     "output_type": "display_data"
    }
   ],
   "execution_count": 114
  },
  {
   "cell_type": "markdown",
   "metadata": {},
   "source": [
    "The labels are the class IDs (represented as uint8), from 0 to 9. Conveniently, the class IDs correspond to the digits represented in the images, so we don't need a `class_names` array:"
   ]
  },
  {
   "cell_type": "code",
   "metadata": {
    "ExecuteTime": {
     "end_time": "2024-08-01T15:05:10.077855Z",
     "start_time": "2024-08-01T15:05:10.075514Z"
    }
   },
   "source": [
    "y_train"
   ],
   "outputs": [
    {
     "data": {
      "text/plain": [
       "array([7, 3, 4, ..., 5, 6, 8], dtype=uint8)"
      ]
     },
     "execution_count": 115,
     "metadata": {},
     "output_type": "execute_result"
    }
   ],
   "execution_count": 115
  },
  {
   "cell_type": "markdown",
   "metadata": {},
   "source": [
    "The validation set contains 5,000 images, and the test set contains 10,000 images:"
   ]
  },
  {
   "cell_type": "code",
   "metadata": {
    "ExecuteTime": {
     "end_time": "2024-08-01T15:05:11.034491Z",
     "start_time": "2024-08-01T15:05:11.031834Z"
    }
   },
   "source": [
    "X_valid.shape"
   ],
   "outputs": [
    {
     "data": {
      "text/plain": [
       "(5000, 28, 28)"
      ]
     },
     "execution_count": 116,
     "metadata": {},
     "output_type": "execute_result"
    }
   ],
   "execution_count": 116
  },
  {
   "cell_type": "code",
   "metadata": {
    "ExecuteTime": {
     "end_time": "2024-08-01T15:05:11.507168Z",
     "start_time": "2024-08-01T15:05:11.504961Z"
    }
   },
   "source": [
    "X_test.shape"
   ],
   "outputs": [
    {
     "data": {
      "text/plain": [
       "(10000, 28, 28)"
      ]
     },
     "execution_count": 117,
     "metadata": {},
     "output_type": "execute_result"
    }
   ],
   "execution_count": 117
  },
  {
   "cell_type": "markdown",
   "metadata": {},
   "source": [
    "Let's take a look at a sample of the images in the dataset:"
   ]
  },
  {
   "cell_type": "code",
   "metadata": {
    "ExecuteTime": {
     "end_time": "2024-08-01T15:05:12.954370Z",
     "start_time": "2024-08-01T15:05:12.366819Z"
    }
   },
   "source": [
    "n_rows = 4\n",
    "n_cols = 10\n",
    "plt.figure(figsize=(n_cols * 1.2, n_rows * 1.2))\n",
    "for row in range(n_rows):\n",
    "    for col in range(n_cols):\n",
    "        index = n_cols * row + col\n",
    "        plt.subplot(n_rows, n_cols, index + 1)\n",
    "        plt.imshow(X_train[index], cmap=\"binary\", interpolation=\"nearest\")\n",
    "        plt.axis('off')\n",
    "        plt.title(y_train[index], fontsize=12)\n",
    "plt.subplots_adjust(wspace=0.2, hspace=0.5)\n",
    "plt.show()"
   ],
   "outputs": [
    {
     "data": {
      "text/plain": [
       "<Figure size 1200x480 with 40 Axes>"
      ],
      "image/png": "[encoded data removed]"
     },
     "metadata": {},
     "output_type": "display_data"
    }
   ],
   "execution_count": 118
  },
  {
   "cell_type": "markdown",
   "metadata": {},
   "source": [
    "Let's build a simple dense network and find the optimal learning rate. We will need a callback to grow the learning rate at each iteration. It will also record the learning rate and the loss at each iteration:"
   ]
  },
  {
   "cell_type": "code",
   "metadata": {
    "ExecuteTime": {
     "end_time": "2024-08-01T15:05:13.954715Z",
     "start_time": "2024-08-01T15:05:13.952513Z"
    }
   },
   "source": [
    "K = keras.backend\n",
    "\n",
    "class ExponentialLearningRate(keras.callbacks.Callback):\n",
    "    def __init__(self, factor):\n",
    "        self.factor = factor\n",
    "        self.rates = []\n",
    "        self.losses = []\n",
    "    def on_batch_end(self, batch, logs):\n",
    "        self.rates.append(K.get_value(self.model.optimizer.learning_rate))\n",
    "        self.losses.append(logs[\"loss\"])\n",
    "        K.set_value(self.model.optimizer.learning_rate, self.model.optimizer.learning_rate * self.factor)"
   ],
   "outputs": [],
   "execution_count": 119
  },
  {
   "cell_type": "code",
   "metadata": {
    "ExecuteTime": {
     "end_time": "2024-08-01T15:05:14.517139Z",
     "start_time": "2024-08-01T15:05:14.508168Z"
    }
   },
   "source": [
    "keras.backend.clear_session()\n",
    "np.random.seed(42)\n",
    "tf.random.set_seed(42)"
   ],
   "outputs": [],
   "execution_count": 120
  },
  {
   "cell_type": "code",
   "metadata": {
    "ExecuteTime": {
     "end_time": "2024-08-01T15:05:14.897509Z",
     "start_time": "2024-08-01T15:05:14.879559Z"
    }
   },
   "source": [
    "model = keras.models.Sequential([\n",
    "    keras.layers.Flatten(input_shape=[28, 28]),\n",
    "    keras.layers.Dense(300, activation=\"relu\"),\n",
    "    keras.layers.Dense(100, activation=\"relu\"),\n",
    "    keras.layers.Dense(10, activation=\"softmax\")\n",
    "])"
   ],
   "outputs": [],
   "execution_count": 121
  },
  {
   "cell_type": "markdown",
   "metadata": {},
   "source": [
    "We will start with a small learning rate of 1e-3, and grow it by 0.5% at each iteration:"
   ]
  },
  {
   "cell_type": "code",
   "metadata": {
    "ExecuteTime": {
     "end_time": "2024-08-01T15:05:15.731011Z",
     "start_time": "2024-08-01T15:05:15.724956Z"
    }
   },
   "source": [
    "model.compile(loss=\"sparse_categorical_crossentropy\",\n",
    "              optimizer=keras.optimizers.SGD(learning_rate=1e-3),\n",
    "              metrics=[\"accuracy\"])\n",
    "expon_lr = ExponentialLearningRate(factor=1.005)"
   ],
   "outputs": [
    {
     "name": "stderr",
     "output_type": "stream",
     "text": [
      "WARNING:absl:At this time, the v2.11+ optimizer `tf.keras.optimizers.SGD` runs slowly on M1/M2 Macs, please use the legacy Keras optimizer instead, located at `tf.keras.optimizers.legacy.SGD`.\n",
      "WARNING:absl:There is a known slowdown when using v2.11+ Keras optimizers on M1/M2 Macs. Falling back to the legacy Keras optimizer, i.e., `tf.keras.optimizers.legacy.SGD`.\n"
     ]
    }
   ],
   "execution_count": 122
  },
  {
   "cell_type": "markdown",
   "metadata": {},
   "source": [
    "Now let's train the model for just 1 epoch:"
   ]
  },
  {
   "cell_type": "code",
   "metadata": {
    "ExecuteTime": {
     "end_time": "2024-08-01T15:05:18.326839Z",
     "start_time": "2024-08-01T15:05:16.688969Z"
    }
   },
   "source": [
    "history = model.fit(X_train, y_train, epochs=1,\n",
    "                    validation_data=(X_valid, y_valid),\n",
    "                    callbacks=[expon_lr])"
   ],
   "outputs": [
    {
     "name": "stdout",
     "output_type": "stream",
     "text": [
      "1719/1719 [==============================] - 2s 862us/step - loss: 599294791313784832.0000 - accuracy: 0.5968 - val_loss: 2.3911 - val_accuracy: 0.1126\n"
     ]
    }
   ],
   "execution_count": 123
  },
  {
   "cell_type": "markdown",
   "metadata": {},
   "source": [
    "We can now plot the loss as a function of the learning rate:"
   ]
  },
  {
   "cell_type": "code",
   "metadata": {
    "ExecuteTime": {
     "end_time": "2024-08-01T15:05:19.903802Z",
     "start_time": "2024-08-01T15:05:19.756863Z"
    }
   },
   "source": [
    "plt.plot(expon_lr.rates, expon_lr.losses)\n",
    "plt.gca().set_xscale('log')\n",
    "plt.hlines(min(expon_lr.losses), min(expon_lr.rates), max(expon_lr.rates))\n",
    "plt.axis([min(expon_lr.rates), max(expon_lr.rates), 0, expon_lr.losses[0]])\n",
    "plt.grid()\n",
    "plt.xlabel(\"Learning rate\")\n",
    "plt.ylabel(\"Loss\")"
   ],
   "outputs": [
    {
     "data": {
      "text/plain": [
       "Text(0, 0.5, 'Loss')"
      ]
     },
     "execution_count": 124,
     "metadata": {},
     "output_type": "execute_result"
    },
    {
     "data": {
      "text/plain": [
       "<Figure size 640x480 with 1 Axes>"
      ],
      "image/png": "[encoded data removed]"
     },
     "metadata": {},
     "output_type": "display_data"
    }
   ],
   "execution_count": 124
  },
  {
   "cell_type": "markdown",
   "metadata": {},
   "source": [
    "The loss starts shooting back up violently when the learning rate goes over 6e-1, so let's try using half of that, at 3e-1:"
   ]
  },
  {
   "cell_type": "code",
   "metadata": {
    "ExecuteTime": {
     "end_time": "2024-08-01T15:05:21.132896Z",
     "start_time": "2024-08-01T15:05:21.128672Z"
    }
   },
   "source": [
    "keras.backend.clear_session()\n",
    "np.random.seed(42)\n",
    "tf.random.set_seed(42)"
   ],
   "outputs": [],
   "execution_count": 125
  },
  {
   "cell_type": "code",
   "metadata": {
    "ExecuteTime": {
     "end_time": "2024-08-01T15:05:21.607643Z",
     "start_time": "2024-08-01T15:05:21.589662Z"
    }
   },
   "source": [
    "model = keras.models.Sequential([\n",
    "    keras.layers.Flatten(input_shape=[28, 28]),\n",
    "    keras.layers.Dense(300, activation=\"relu\"),\n",
    "    keras.layers.Dense(100, activation=\"relu\"),\n",
    "    keras.layers.Dense(10, activation=\"softmax\")\n",
    "])"
   ],
   "outputs": [],
   "execution_count": 126
  },
  {
   "cell_type": "code",
   "metadata": {
    "ExecuteTime": {
     "end_time": "2024-08-01T15:05:21.964987Z",
     "start_time": "2024-08-01T15:05:21.958590Z"
    }
   },
   "source": [
    "model.compile(loss=\"sparse_categorical_crossentropy\",\n",
    "              optimizer=keras.optimizers.SGD(learning_rate=3e-1),\n",
    "              metrics=[\"accuracy\"])"
   ],
   "outputs": [
    {
     "name": "stderr",
     "output_type": "stream",
     "text": [
      "WARNING:absl:At this time, the v2.11+ optimizer `tf.keras.optimizers.SGD` runs slowly on M1/M2 Macs, please use the legacy Keras optimizer instead, located at `tf.keras.optimizers.legacy.SGD`.\n",
      "WARNING:absl:There is a known slowdown when using v2.11+ Keras optimizers on M1/M2 Macs. Falling back to the legacy Keras optimizer, i.e., `tf.keras.optimizers.legacy.SGD`.\n"
     ]
    }
   ],
   "execution_count": 127
  },
  {
   "cell_type": "code",
   "metadata": {
    "ExecuteTime": {
     "end_time": "2024-08-01T15:05:22.295130Z",
     "start_time": "2024-08-01T15:05:22.292637Z"
    }
   },
   "source": [
    "run_index = 1 # increment this at every run\n",
    "run_logdir = os.path.join(os.curdir, \"my_mnist_logs\", \"run_{:03d}\".format(run_index))\n",
    "run_logdir"
   ],
   "outputs": [
    {
     "data": {
      "text/plain": [
       "'./my_mnist_logs/run_001'"
      ]
     },
     "execution_count": 128,
     "metadata": {},
     "output_type": "execute_result"
    }
   ],
   "execution_count": 128
  },
  {
   "cell_type": "code",
   "metadata": {
    "ExecuteTime": {
     "end_time": "2024-08-01T15:05:53.771238Z",
     "start_time": "2024-08-01T15:05:22.716435Z"
    }
   },
   "source": [
    "early_stopping_cb = keras.callbacks.EarlyStopping(patience=20)\n",
    "checkpoint_cb = keras.callbacks.ModelCheckpoint(\"my_mnist_model.h5\", save_best_only=True)\n",
    "tensorboard_cb = keras.callbacks.TensorBoard(run_logdir)\n",
    "\n",
    "history = model.fit(X_train, y_train, epochs=100,\n",
    "                    validation_data=(X_valid, y_valid),\n",
    "                    callbacks=[checkpoint_cb, early_stopping_cb, tensorboard_cb])"
   ],
   "outputs": [
    {
     "name": "stdout",
     "output_type": "stream",
     "text": [
      "Epoch 1/100\n",
      "1719/1719 [==============================] - 1s 781us/step - loss: 0.2323 - accuracy: 0.9278 - val_loss: 0.1154 - val_accuracy: 0.9646\n",
      "Epoch 2/100\n",
      "1719/1719 [==============================] - 1s 728us/step - loss: 0.0936 - accuracy: 0.9713 - val_loss: 0.0941 - val_accuracy: 0.9750\n",
      "Epoch 3/100\n",
      "1719/1719 [==============================] - 1s 734us/step - loss: 0.0656 - accuracy: 0.9789 - val_loss: 0.0729 - val_accuracy: 0.9774\n",
      "Epoch 4/100\n",
      "1719/1719 [==============================] - 1s 726us/step - loss: 0.0474 - accuracy: 0.9850 - val_loss: 0.0712 - val_accuracy: 0.9806\n",
      "Epoch 5/100\n",
      "1719/1719 [==============================] - 1s 734us/step - loss: 0.0349 - accuracy: 0.9890 - val_loss: 0.0779 - val_accuracy: 0.9792\n",
      "Epoch 6/100\n",
      "1719/1719 [==============================] - 1s 728us/step - loss: 0.0270 - accuracy: 0.9913 - val_loss: 0.0775 - val_accuracy: 0.9796\n",
      "Epoch 7/100\n",
      "1719/1719 [==============================] - 1s 728us/step - loss: 0.0245 - accuracy: 0.9917 - val_loss: 0.0821 - val_accuracy: 0.9806\n",
      "Epoch 8/100\n",
      "1719/1719 [==============================] - 1s 734us/step - loss: 0.0148 - accuracy: 0.9950 - val_loss: 0.0862 - val_accuracy: 0.9816\n",
      "Epoch 9/100\n",
      "1719/1719 [==============================] - 1s 743us/step - loss: 0.0153 - accuracy: 0.9950 - val_loss: 0.0864 - val_accuracy: 0.9806\n",
      "Epoch 10/100\n",
      "1719/1719 [==============================] - 1s 752us/step - loss: 0.0102 - accuracy: 0.9963 - val_loss: 0.0815 - val_accuracy: 0.9834\n",
      "Epoch 11/100\n",
      "1719/1719 [==============================] - 1s 758us/step - loss: 0.0139 - accuracy: 0.9953 - val_loss: 0.1045 - val_accuracy: 0.9790\n",
      "Epoch 12/100\n",
      "1719/1719 [==============================] - 1s 759us/step - loss: 0.0105 - accuracy: 0.9965 - val_loss: 0.1100 - val_accuracy: 0.9774\n",
      "Epoch 13/100\n",
      "1719/1719 [==============================] - 1s 752us/step - loss: 0.0110 - accuracy: 0.9964 - val_loss: 0.0930 - val_accuracy: 0.9816\n",
      "Epoch 14/100\n",
      "1719/1719 [==============================] - 1s 768us/step - loss: 0.0067 - accuracy: 0.9979 - val_loss: 0.0973 - val_accuracy: 0.9814\n",
      "Epoch 15/100\n",
      "1719/1719 [==============================] - 1s 759us/step - loss: 0.0020 - accuracy: 0.9995 - val_loss: 0.0871 - val_accuracy: 0.9842\n",
      "Epoch 16/100\n",
      "1719/1719 [==============================] - 1s 743us/step - loss: 0.0016 - accuracy: 0.9995 - val_loss: 0.0968 - val_accuracy: 0.9836\n",
      "Epoch 17/100\n",
      "1719/1719 [==============================] - 1s 764us/step - loss: 0.0013 - accuracy: 0.9996 - val_loss: 0.1000 - val_accuracy: 0.9846\n",
      "Epoch 18/100\n",
      "1719/1719 [==============================] - 1s 747us/step - loss: 3.3956e-04 - accuracy: 0.9999 - val_loss: 0.1000 - val_accuracy: 0.9858\n",
      "Epoch 19/100\n",
      "1719/1719 [==============================] - 1s 760us/step - loss: 1.1458e-04 - accuracy: 1.0000 - val_loss: 0.1002 - val_accuracy: 0.9836\n",
      "Epoch 20/100\n",
      "1719/1719 [==============================] - 1s 753us/step - loss: 7.3399e-05 - accuracy: 1.0000 - val_loss: 0.1004 - val_accuracy: 0.9842\n",
      "Epoch 21/100\n",
      "1719/1719 [==============================] - 1s 757us/step - loss: 6.1311e-05 - accuracy: 1.0000 - val_loss: 0.1005 - val_accuracy: 0.9848\n",
      "Epoch 22/100\n",
      "1719/1719 [==============================] - 1s 755us/step - loss: 5.3414e-05 - accuracy: 1.0000 - val_loss: 0.1009 - val_accuracy: 0.9848\n",
      "Epoch 23/100\n",
      "1719/1719 [==============================] - 1s 741us/step - loss: 4.7910e-05 - accuracy: 1.0000 - val_loss: 0.1013 - val_accuracy: 0.9846\n",
      "Epoch 24/100\n",
      "1719/1719 [==============================] - 1s 743us/step - loss: 4.3414e-05 - accuracy: 1.0000 - val_loss: 0.1016 - val_accuracy: 0.9850\n"
     ]
    }
   ],
   "execution_count": 129
  },
  {
   "cell_type": "code",
   "metadata": {
    "ExecuteTime": {
     "end_time": "2024-08-01T15:05:53.994257Z",
     "start_time": "2024-08-01T15:05:53.772102Z"
    }
   },
   "source": [
    "model = keras.models.load_model(\"my_mnist_model.h5\") # rollback to best model\n",
    "model.evaluate(X_test, y_test)"
   ],
   "outputs": [
    {
     "name": "stdout",
     "output_type": "stream",
     "text": [
      "313/313 [==============================] - 0s 403us/step - loss: 0.0664 - accuracy: 0.9798\n"
     ]
    },
    {
     "data": {
      "text/plain": [
       "[0.06641758978366852, 0.9797999858856201]"
      ]
     },
     "execution_count": 130,
     "metadata": {},
     "output_type": "execute_result"
    }
   ],
   "execution_count": 130
  },
  {
   "cell_type": "markdown",
   "metadata": {},
   "source": [
    "We got over 98% accuracy. Finally, let's look at the learning curves using TensorBoard:"
   ]
  },
  {
   "cell_type": "code",
   "execution_count": 128,
   "metadata": {},
   "outputs": [
    {
     "data": {
      "text/html": [
       "\n",
       "      <iframe id=\"tensorboard-frame-27a48e88c728a23e\" width=\"100%\" height=\"800\" frameborder=\"0\">\n",
       "      </iframe>\n",
       "      <script>\n",
       "        (function() {\n",
       "          const frame = document.getElementById(\"tensorboard-frame-27a48e88c728a23e\");\n",
       "          const url = new URL(\"/\", window.location);\n",
       "          const port = 6006;\n",
       "          if (port) {\n",
       "            url.port = port;\n",
       "          }\n",
       "          frame.src = url;\n",
       "        })();\n",
       "      </script>\n",
       "    "
      ],
      "text/plain": [
       "<IPython.core.display.HTML object>"
      ]
     },
     "metadata": {},
     "output_type": "display_data"
    }
   ],
   "source": [
    "%tensorboard --logdir=./my_mnist_logs --port=6006"
   ]
  },
  {
   "cell_type": "code",
   "execution_count": null,
   "metadata": {},
   "outputs": [],
   "source": []
  }
 ],
 "metadata": {
  "kernelspec": {
   "display_name": "Python 3",
   "language": "python",
   "name": "python3"
  },
  "language_info": {
   "codemirror_mode": {
    "name": "ipython",
    "version": 3
   },
   "file_extension": ".py",
   "mimetype": "text/x-python",
   "name": "python",
   "nbconvert_exporter": "python",
   "pygments_lexer": "ipython3",
   "version": "3.7.10"
  },
  "nav_menu": {
   "height": "264px",
   "width": "369px"
  },
  "toc": {
   "navigate_menu": true,
   "number_sections": true,
   "sideBar": true,
   "threshold": 6,
   "toc_cell": false,
   "toc_section_display": "block",
   "toc_window_display": false
  }
 },
 "nbformat": 4,
 "nbformat_minor": 4
}
