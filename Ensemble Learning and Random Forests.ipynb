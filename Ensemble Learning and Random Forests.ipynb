{
 "cells": [
  {
   "cell_type": "code",
   "execution_count": 1,
   "id": "initial_id",
   "metadata": {
    "collapsed": true,
    "ExecuteTime": {
     "end_time": "2024-03-07T11:36:16.218732Z",
     "start_time": "2024-03-07T11:36:13.727118Z"
    }
   },
   "outputs": [],
   "source": [
    "import sys\n",
    "assert sys.version_info >= (3, 5)\n",
    "\n",
    "# Scikit-Learn ≥0.20 is required\n",
    "import sklearn\n",
    "assert sklearn.__version__ >= \"0.20\"\n",
    "\n",
    "# Common imports\n",
    "import numpy as np\n",
    "import os\n",
    "\n",
    "# to make this notebook's output stable across runs\n",
    "np.random.seed(42)\n",
    "\n",
    "# To plot pretty figures\n",
    "%matplotlib inline\n",
    "import matplotlib as mpl\n",
    "import matplotlib.pyplot as plt\n",
    "mpl.rc('axes', labelsize=14)\n",
    "mpl.rc('xtick', labelsize=12)\n",
    "mpl.rc('ytick', labelsize=12)\n",
    "\n",
    "# Where to save the figures\n",
    "PROJECT_ROOT_DIR = \".\"\n",
    "CHAPTER_ID = \"ensembles\"\n",
    "IMAGES_PATH = os.path.join(PROJECT_ROOT_DIR, \"images\", CHAPTER_ID)\n",
    "os.makedirs(IMAGES_PATH, exist_ok=True)\n",
    "\n",
    "def save_fig(fig_id, tight_layout=True, fig_extension=\"png\", resolution=300):\n",
    "    path = os.path.join(IMAGES_PATH, fig_id + \".\" + fig_extension)\n",
    "    print(\"Saving figure\", fig_id)\n",
    "    if tight_layout:\n",
    "        plt.tight_layout()\n",
    "    plt.savefig(path, format=fig_extension, dpi=resolution)"
   ]
  },
  {
   "cell_type": "code",
   "outputs": [],
   "source": [
    "from sklearn.model_selection import train_test_split\n",
    "from sklearn.datasets import make_moons\n",
    "\n",
    "X, y = make_moons(n_samples=500, noise=0.30, random_state=42)\n",
    "X_train, X_test, y_train, y_test = train_test_split(X, y, random_state=42)"
   ],
   "metadata": {
    "collapsed": false,
    "ExecuteTime": {
     "end_time": "2024-03-07T11:38:50.749954Z",
     "start_time": "2024-03-07T11:38:50.307070Z"
    }
   },
   "id": "219f2182b6d8e490",
   "execution_count": 2
  },
  {
   "cell_type": "code",
   "outputs": [
    {
     "data": {
      "text/plain": "VotingClassifier(estimators=[('LR', LogisticRegression(random_state=42)),\n                             ('rf', RandomForestClassifier(random_state=42)),\n                             ('svc', SVC(probability=True, random_state=42))])",
      "text/html": "<style>#sk-container-id-2 {color: black;}#sk-container-id-2 pre{padding: 0;}#sk-container-id-2 div.sk-toggleable {background-color: white;}#sk-container-id-2 label.sk-toggleable__label {cursor: pointer;display: block;width: 100%;margin-bottom: 0;padding: 0.3em;box-sizing: border-box;text-align: center;}#sk-container-id-2 label.sk-toggleable__label-arrow:before {content: \"▸\";float: left;margin-right: 0.25em;color: #696969;}#sk-container-id-2 label.sk-toggleable__label-arrow:hover:before {color: black;}#sk-container-id-2 div.sk-estimator:hover label.sk-toggleable__label-arrow:before {color: black;}#sk-container-id-2 div.sk-toggleable__content {max-height: 0;max-width: 0;overflow: hidden;text-align: left;background-color: #f0f8ff;}#sk-container-id-2 div.sk-toggleable__content pre {margin: 0.2em;color: black;border-radius: 0.25em;background-color: #f0f8ff;}#sk-container-id-2 input.sk-toggleable__control:checked~div.sk-toggleable__content {max-height: 200px;max-width: 100%;overflow: auto;}#sk-container-id-2 input.sk-toggleable__control:checked~label.sk-toggleable__label-arrow:before {content: \"▾\";}#sk-container-id-2 div.sk-estimator input.sk-toggleable__control:checked~label.sk-toggleable__label {background-color: #d4ebff;}#sk-container-id-2 div.sk-label input.sk-toggleable__control:checked~label.sk-toggleable__label {background-color: #d4ebff;}#sk-container-id-2 input.sk-hidden--visually {border: 0;clip: rect(1px 1px 1px 1px);clip: rect(1px, 1px, 1px, 1px);height: 1px;margin: -1px;overflow: hidden;padding: 0;position: absolute;width: 1px;}#sk-container-id-2 div.sk-estimator {font-family: monospace;background-color: #f0f8ff;border: 1px dotted black;border-radius: 0.25em;box-sizing: border-box;margin-bottom: 0.5em;}#sk-container-id-2 div.sk-estimator:hover {background-color: #d4ebff;}#sk-container-id-2 div.sk-parallel-item::after {content: \"\";width: 100%;border-bottom: 1px solid gray;flex-grow: 1;}#sk-container-id-2 div.sk-label:hover label.sk-toggleable__label {background-color: #d4ebff;}#sk-container-id-2 div.sk-serial::before {content: \"\";position: absolute;border-left: 1px solid gray;box-sizing: border-box;top: 0;bottom: 0;left: 50%;z-index: 0;}#sk-container-id-2 div.sk-serial {display: flex;flex-direction: column;align-items: center;background-color: white;padding-right: 0.2em;padding-left: 0.2em;position: relative;}#sk-container-id-2 div.sk-item {position: relative;z-index: 1;}#sk-container-id-2 div.sk-parallel {display: flex;align-items: stretch;justify-content: center;background-color: white;position: relative;}#sk-container-id-2 div.sk-item::before, #sk-container-id-2 div.sk-parallel-item::before {content: \"\";position: absolute;border-left: 1px solid gray;box-sizing: border-box;top: 0;bottom: 0;left: 50%;z-index: -1;}#sk-container-id-2 div.sk-parallel-item {display: flex;flex-direction: column;z-index: 1;position: relative;background-color: white;}#sk-container-id-2 div.sk-parallel-item:first-child::after {align-self: flex-end;width: 50%;}#sk-container-id-2 div.sk-parallel-item:last-child::after {align-self: flex-start;width: 50%;}#sk-container-id-2 div.sk-parallel-item:only-child::after {width: 0;}#sk-container-id-2 div.sk-dashed-wrapped {border: 1px dashed gray;margin: 0 0.4em 0.5em 0.4em;box-sizing: border-box;padding-bottom: 0.4em;background-color: white;}#sk-container-id-2 div.sk-label label {font-family: monospace;font-weight: bold;display: inline-block;line-height: 1.2em;}#sk-container-id-2 div.sk-label-container {text-align: center;}#sk-container-id-2 div.sk-container {/* jupyter's `normalize.less` sets `[hidden] { display: none; }` but bootstrap.min.css set `[hidden] { display: none !important; }` so we also need the `!important` here to be able to override the default hidden behavior on the sphinx rendered scikit-learn.org. See: https://github.com/scikit-learn/scikit-learn/issues/21755 */display: inline-block !important;position: relative;}#sk-container-id-2 div.sk-text-repr-fallback {display: none;}</style><div id=\"sk-container-id-2\" class=\"sk-top-container\"><div class=\"sk-text-repr-fallback\"><pre>VotingClassifier(estimators=[(&#x27;LR&#x27;, LogisticRegression(random_state=42)),\n                             (&#x27;rf&#x27;, RandomForestClassifier(random_state=42)),\n                             (&#x27;svc&#x27;, SVC(probability=True, random_state=42))])</pre><b>In a Jupyter environment, please rerun this cell to show the HTML representation or trust the notebook. <br />On GitHub, the HTML representation is unable to render, please try loading this page with nbviewer.org.</b></div><div class=\"sk-container\" hidden><div class=\"sk-item sk-dashed-wrapped\"><div class=\"sk-label-container\"><div class=\"sk-label sk-toggleable\"><input class=\"sk-toggleable__control sk-hidden--visually\" id=\"sk-estimator-id-5\" type=\"checkbox\" ><label for=\"sk-estimator-id-5\" class=\"sk-toggleable__label sk-toggleable__label-arrow\">VotingClassifier</label><div class=\"sk-toggleable__content\"><pre>VotingClassifier(estimators=[(&#x27;LR&#x27;, LogisticRegression(random_state=42)),\n                             (&#x27;rf&#x27;, RandomForestClassifier(random_state=42)),\n                             (&#x27;svc&#x27;, SVC(probability=True, random_state=42))])</pre></div></div></div><div class=\"sk-parallel\"><div class=\"sk-parallel-item\"><div class=\"sk-item\"><div class=\"sk-label-container\"><div class=\"sk-label sk-toggleable\"><label>LR</label></div></div><div class=\"sk-serial\"><div class=\"sk-item\"><div class=\"sk-estimator sk-toggleable\"><input class=\"sk-toggleable__control sk-hidden--visually\" id=\"sk-estimator-id-6\" type=\"checkbox\" ><label for=\"sk-estimator-id-6\" class=\"sk-toggleable__label sk-toggleable__label-arrow\">LogisticRegression</label><div class=\"sk-toggleable__content\"><pre>LogisticRegression(random_state=42)</pre></div></div></div></div></div></div><div class=\"sk-parallel-item\"><div class=\"sk-item\"><div class=\"sk-label-container\"><div class=\"sk-label sk-toggleable\"><label>rf</label></div></div><div class=\"sk-serial\"><div class=\"sk-item\"><div class=\"sk-estimator sk-toggleable\"><input class=\"sk-toggleable__control sk-hidden--visually\" id=\"sk-estimator-id-7\" type=\"checkbox\" ><label for=\"sk-estimator-id-7\" class=\"sk-toggleable__label sk-toggleable__label-arrow\">RandomForestClassifier</label><div class=\"sk-toggleable__content\"><pre>RandomForestClassifier(random_state=42)</pre></div></div></div></div></div></div><div class=\"sk-parallel-item\"><div class=\"sk-item\"><div class=\"sk-label-container\"><div class=\"sk-label sk-toggleable\"><label>svc</label></div></div><div class=\"sk-serial\"><div class=\"sk-item\"><div class=\"sk-estimator sk-toggleable\"><input class=\"sk-toggleable__control sk-hidden--visually\" id=\"sk-estimator-id-8\" type=\"checkbox\" ><label for=\"sk-estimator-id-8\" class=\"sk-toggleable__label sk-toggleable__label-arrow\">SVC</label><div class=\"sk-toggleable__content\"><pre>SVC(probability=True, random_state=42)</pre></div></div></div></div></div></div></div></div></div></div>"
     },
     "execution_count": 11,
     "metadata": {},
     "output_type": "execute_result"
    }
   ],
   "source": [
    "\n",
    "from sklearn.ensemble import RandomForestClassifier\n",
    "from sklearn.ensemble import VotingClassifier\n",
    "from sklearn.linear_model import LogisticRegression\n",
    "from sklearn.svm import SVC\n",
    "\n",
    "log_clf = LogisticRegression(solver='lbfgs', random_state=42)\n",
    "rnd_clf = RandomForestClassifier(n_estimators=100 , random_state=42)\n",
    "svc_clf = SVC(gamma = \"scale\" , random_state = 42, probability = True)\n",
    "voting_clf = VotingClassifier(\n",
    "    estimators=[('LR', log_clf), ('rf' , rnd_clf), ('svc' , svc_clf)],\n",
    "    voting = \"hard\"\n",
    ")\n",
    "voting_clf.fit(X_train, y_train)"
   ],
   "metadata": {
    "collapsed": false,
    "ExecuteTime": {
     "end_time": "2024-03-07T11:54:18.051749Z",
     "start_time": "2024-03-07T11:54:17.978132Z"
    }
   },
   "id": "66f38d462cc881d8",
   "execution_count": 11
  },
  {
   "cell_type": "code",
   "outputs": [
    {
     "name": "stdout",
     "output_type": "stream",
     "text": [
      "LogisticRegression 0.864\n",
      "RandomForestClassifier 0.896\n",
      "SVC 0.896\n",
      "VotingClassifier 0.912\n"
     ]
    }
   ],
   "source": [
    "from sklearn.metrics import accuracy_score\n",
    "for clf in (log_clf, rnd_clf, svc_clf , voting_clf):\n",
    "    clf.fit(X_train, y_train)\n",
    "    y_pred = clf.predict(X_test)\n",
    "    print(clf.__class__.__name__, accuracy_score(y_test, y_pred))"
   ],
   "metadata": {
    "collapsed": false,
    "ExecuteTime": {
     "end_time": "2024-03-07T11:54:19.646309Z",
     "start_time": "2024-03-07T11:54:19.520806Z"
    }
   },
   "id": "5884ecc8f51b5752",
   "execution_count": 12
  },
  {
   "cell_type": "code",
   "outputs": [],
   "source": [
    "voting_clf = VotingClassifier(\n",
    "    estimators=[('LR', log_clf), ('rf' , rnd_clf), ('svc' , svc_clf)],\n",
    "    voting = \"soft\"\n",
    ")"
   ],
   "metadata": {
    "collapsed": false,
    "ExecuteTime": {
     "end_time": "2024-03-07T11:54:20.497737Z",
     "start_time": "2024-03-07T11:54:20.493778Z"
    }
   },
   "id": "b19d8591bbb3800f",
   "execution_count": 13
  },
  {
   "cell_type": "code",
   "outputs": [
    {
     "name": "stdout",
     "output_type": "stream",
     "text": [
      "LogisticRegression 0.864\n",
      "RandomForestClassifier 0.896\n",
      "SVC 0.896\n",
      "VotingClassifier 0.92\n"
     ]
    }
   ],
   "source": [
    "from sklearn.metrics import accuracy_score\n",
    "for clf in (log_clf, rnd_clf, svc_clf , voting_clf):\n",
    "    clf.fit(X_train, y_train)\n",
    "    y_pred = clf.predict(X_test)\n",
    "    print(clf.__class__.__name__, accuracy_score(y_test, y_pred))"
   ],
   "metadata": {
    "collapsed": false,
    "ExecuteTime": {
     "end_time": "2024-03-07T11:54:21.481823Z",
     "start_time": "2024-03-07T11:54:21.355889Z"
    }
   },
   "id": "828a28ce023ecae2",
   "execution_count": 14
  },
  {
   "cell_type": "code",
   "outputs": [],
   "source": [
    "from sklearn.ensemble import BaggingClassifier\n",
    "from sklearn.tree import DecisionTreeClassifier\n",
    "\n",
    "bag_clf = BaggingClassifier(\n",
    "    DecisionTreeClassifier() , n_estimators= 500 , max_samples= 100 , bootstrap= True , n_jobs=-1 )\n",
    "bag_clf.fit(X_train, y_train)\n",
    "y_pred = bag_clf.predict(X_test)"
   ],
   "metadata": {
    "collapsed": false,
    "ExecuteTime": {
     "end_time": "2024-03-07T12:12:34.018856Z",
     "start_time": "2024-03-07T12:12:32.796958Z"
    }
   },
   "id": "cb619dd7b1033aaf",
   "execution_count": 15
  },
  {
   "cell_type": "code",
   "outputs": [
    {
     "name": "stdout",
     "output_type": "stream",
     "text": [
      "0.904\n"
     ]
    }
   ],
   "source": [
    "print(accuracy_score(y_test, y_pred))"
   ],
   "metadata": {
    "collapsed": false,
    "ExecuteTime": {
     "end_time": "2024-03-07T12:12:39.008283Z",
     "start_time": "2024-03-07T12:12:39.002840Z"
    }
   },
   "id": "507f28660a146d66",
   "execution_count": 16
  },
  {
   "cell_type": "code",
   "outputs": [
    {
     "name": "stdout",
     "output_type": "stream",
     "text": [
      "0.856\n"
     ]
    }
   ],
   "source": [
    "tree_clf = DecisionTreeClassifier(random_state= 42)\n",
    "tree_clf.fit(X_train, y_train)\n",
    "y_pred_tree = tree_clf.predict(X_test)\n",
    "print(accuracy_score(y_test, y_pred_tree))"
   ],
   "metadata": {
    "collapsed": false,
    "ExecuteTime": {
     "end_time": "2024-03-07T12:13:19.169477Z",
     "start_time": "2024-03-07T12:13:19.163362Z"
    }
   },
   "id": "24ba63e1c211a05a",
   "execution_count": 17
  },
  {
   "cell_type": "code",
   "outputs": [
    {
     "data": {
      "text/plain": "0.8986666666666666"
     },
     "execution_count": 25,
     "metadata": {},
     "output_type": "execute_result"
    }
   ],
   "source": [
    "bag_clf = BaggingClassifier(\n",
    "    DecisionTreeClassifier(), n_estimators=500,\n",
    "    bootstrap=True, oob_score=True, random_state=40)\n",
    "bag_clf.fit(X_train, y_train)\n",
    "bag_clf.oob_score_"
   ],
   "metadata": {
    "collapsed": false,
    "ExecuteTime": {
     "end_time": "2024-03-07T13:22:32.005268Z",
     "start_time": "2024-03-07T13:22:31.598382Z"
    }
   },
   "id": "c6d707b2582bccf1",
   "execution_count": 25
  },
  {
   "cell_type": "code",
   "outputs": [
    {
     "data": {
      "text/plain": "0.912"
     },
     "execution_count": 23,
     "metadata": {},
     "output_type": "execute_result"
    }
   ],
   "source": [
    "y_pred = bag_clf.predict(X_test)\n",
    "accuracy_score(y_test , y_pred)"
   ],
   "metadata": {
    "collapsed": false,
    "ExecuteTime": {
     "end_time": "2024-03-07T13:20:24.469647Z",
     "start_time": "2024-03-07T13:20:24.410412Z"
    }
   },
   "id": "92aa77d207a53810",
   "execution_count": 23
  },
  {
   "cell_type": "code",
   "outputs": [
    {
     "data": {
      "text/plain": "array([[0.32275132, 0.67724868],\n       [0.34117647, 0.65882353],\n       [1.        , 0.        ],\n       [0.        , 1.        ],\n       [0.        , 1.        ],\n       [0.09497207, 0.90502793],\n       [0.31147541, 0.68852459],\n       [0.01754386, 0.98245614],\n       [0.97109827, 0.02890173],\n       [0.97765363, 0.02234637],\n       [0.74404762, 0.25595238],\n       [0.        , 1.        ],\n       [0.7173913 , 0.2826087 ],\n       [0.85026738, 0.14973262],\n       [0.97222222, 0.02777778],\n       [0.0625    , 0.9375    ],\n       [0.        , 1.        ],\n       [0.97837838, 0.02162162],\n       [0.94642857, 0.05357143],\n       [1.        , 0.        ],\n       [0.01704545, 0.98295455],\n       [0.39473684, 0.60526316],\n       [0.88700565, 0.11299435],\n       [1.        , 0.        ],\n       [0.97790055, 0.02209945],\n       [0.        , 1.        ],\n       [0.99428571, 0.00571429],\n       [1.        , 0.        ],\n       [0.        , 1.        ],\n       [0.62569832, 0.37430168],\n       [0.        , 1.        ],\n       [1.        , 0.        ],\n       [0.        , 1.        ],\n       [0.        , 1.        ],\n       [0.13402062, 0.86597938],\n       [1.        , 0.        ],\n       [0.        , 1.        ],\n       [0.38251366, 0.61748634],\n       [0.        , 1.        ],\n       [1.        , 0.        ],\n       [0.27093596, 0.72906404],\n       [0.34146341, 0.65853659],\n       [1.        , 0.        ],\n       [1.        , 0.        ],\n       [0.        , 1.        ],\n       [1.        , 0.        ],\n       [1.        , 0.        ],\n       [0.        , 1.        ],\n       [1.        , 0.        ],\n       [0.00531915, 0.99468085],\n       [0.98843931, 0.01156069],\n       [0.91428571, 0.08571429],\n       [0.97282609, 0.02717391],\n       [0.98019802, 0.01980198],\n       [0.        , 1.        ],\n       [0.07361963, 0.92638037],\n       [0.98019802, 0.01980198],\n       [0.0052356 , 0.9947644 ],\n       [0.        , 1.        ],\n       [0.        , 1.        ],\n       [0.97790055, 0.02209945],\n       [0.8       , 0.2       ],\n       [0.42424242, 0.57575758],\n       [1.        , 0.        ],\n       [0.        , 1.        ],\n       [0.66477273, 0.33522727],\n       [1.        , 0.        ],\n       [1.        , 0.        ],\n       [0.86781609, 0.13218391],\n       [1.        , 0.        ],\n       [0.56725146, 0.43274854],\n       [0.16304348, 0.83695652],\n       [0.66492147, 0.33507853],\n       [0.91709845, 0.08290155],\n       [0.        , 1.        ],\n       [0.16759777, 0.83240223],\n       [0.87434555, 0.12565445],\n       [1.        , 0.        ],\n       [0.        , 1.        ],\n       [0.995     , 0.005     ],\n       [0.        , 1.        ],\n       [0.07878788, 0.92121212],\n       [0.05418719, 0.94581281],\n       [0.29015544, 0.70984456],\n       [1.        , 0.        ],\n       [0.        , 1.        ],\n       [0.83040936, 0.16959064],\n       [0.01092896, 0.98907104],\n       [0.        , 1.        ],\n       [0.        , 1.        ],\n       [0.21465969, 0.78534031],\n       [1.        , 0.        ],\n       [0.        , 1.        ],\n       [0.        , 1.        ],\n       [0.        , 1.        ],\n       [0.94660194, 0.05339806],\n       [0.77094972, 0.22905028],\n       [0.        , 1.        ],\n       [1.        , 0.        ],\n       [0.16574586, 0.83425414],\n       [0.65306122, 0.34693878],\n       [0.        , 1.        ],\n       [0.02564103, 0.97435897],\n       [0.50555556, 0.49444444],\n       [1.        , 0.        ],\n       [0.03208556, 0.96791444],\n       [0.99435028, 0.00564972],\n       [0.23699422, 0.76300578],\n       [0.49509804, 0.50490196],\n       [0.9947644 , 0.0052356 ],\n       [0.00555556, 0.99444444],\n       [0.98963731, 0.01036269],\n       [0.26153846, 0.73846154],\n       [0.92972973, 0.07027027],\n       [1.        , 0.        ],\n       [1.        , 0.        ],\n       [0.        , 1.        ],\n       [0.        , 1.        ],\n       [0.80113636, 0.19886364],\n       [1.        , 0.        ],\n       [0.0106383 , 0.9893617 ],\n       [1.        , 0.        ],\n       [1.        , 0.        ],\n       [1.        , 0.        ],\n       [0.98181818, 0.01818182],\n       [1.        , 0.        ],\n       [0.01036269, 0.98963731],\n       [0.97752809, 0.02247191],\n       [0.99453552, 0.00546448],\n       [0.01960784, 0.98039216],\n       [0.17857143, 0.82142857],\n       [0.98387097, 0.01612903],\n       [0.29533679, 0.70466321],\n       [0.98295455, 0.01704545],\n       [0.        , 1.        ],\n       [0.00561798, 0.99438202],\n       [0.75690608, 0.24309392],\n       [0.38624339, 0.61375661],\n       [0.40625   , 0.59375   ],\n       [0.87368421, 0.12631579],\n       [0.92462312, 0.07537688],\n       [0.05181347, 0.94818653],\n       [0.82802548, 0.17197452],\n       [0.01546392, 0.98453608],\n       [0.        , 1.        ],\n       [0.02298851, 0.97701149],\n       [0.9726776 , 0.0273224 ],\n       [1.        , 0.        ],\n       [1.        , 0.        ],\n       [0.01041667, 0.98958333],\n       [0.        , 1.        ],\n       [0.03804348, 0.96195652],\n       [0.02040816, 0.97959184],\n       [1.        , 0.        ],\n       [1.        , 0.        ],\n       [0.94915254, 0.05084746],\n       [1.        , 0.        ],\n       [1.        , 0.        ],\n       [0.99462366, 0.00537634],\n       [0.        , 1.        ],\n       [0.39378238, 0.60621762],\n       [0.33152174, 0.66847826],\n       [0.00609756, 0.99390244],\n       [0.        , 1.        ],\n       [0.3172043 , 0.6827957 ],\n       [1.        , 0.        ],\n       [1.        , 0.        ],\n       [0.        , 1.        ],\n       [1.        , 0.        ],\n       [0.00588235, 0.99411765],\n       [0.        , 1.        ],\n       [0.98924731, 0.01075269],\n       [0.        , 1.        ],\n       [0.        , 1.        ],\n       [1.        , 0.        ],\n       [0.        , 1.        ],\n       [0.62893082, 0.37106918],\n       [0.92344498, 0.07655502],\n       [0.        , 1.        ],\n       [0.99526066, 0.00473934],\n       [1.        , 0.        ],\n       [0.98888889, 0.01111111],\n       [0.        , 1.        ],\n       [0.        , 1.        ],\n       [1.        , 0.        ],\n       [0.06989247, 0.93010753],\n       [1.        , 0.        ],\n       [0.03608247, 0.96391753],\n       [0.        , 1.        ],\n       [1.        , 0.        ],\n       [0.        , 1.        ],\n       [0.02185792, 0.97814208],\n       [1.        , 0.        ],\n       [0.95808383, 0.04191617],\n       [0.78362573, 0.21637427],\n       [0.56650246, 0.43349754],\n       [0.        , 1.        ],\n       [0.18023256, 0.81976744],\n       [1.        , 0.        ],\n       [0.93121693, 0.06878307],\n       [0.97175141, 0.02824859],\n       [1.        , 0.        ],\n       [0.00531915, 0.99468085],\n       [0.        , 1.        ],\n       [0.43010753, 0.56989247],\n       [0.85858586, 0.14141414],\n       [0.        , 1.        ],\n       [0.        , 1.        ],\n       [1.        , 0.        ],\n       [0.00558659, 0.99441341],\n       [0.        , 1.        ],\n       [0.96923077, 0.03076923],\n       [0.        , 1.        ],\n       [0.21649485, 0.78350515],\n       [0.        , 1.        ],\n       [1.        , 0.        ],\n       [0.        , 1.        ],\n       [0.        , 1.        ],\n       [0.98477157, 0.01522843],\n       [0.8       , 0.2       ],\n       [0.99441341, 0.00558659],\n       [0.        , 1.        ],\n       [0.09497207, 0.90502793],\n       [0.99492386, 0.00507614],\n       [0.01714286, 0.98285714],\n       [0.        , 1.        ],\n       [0.02747253, 0.97252747],\n       [1.        , 0.        ],\n       [0.77005348, 0.22994652],\n       [0.        , 1.        ],\n       [0.90229885, 0.09770115],\n       [0.98387097, 0.01612903],\n       [0.22222222, 0.77777778],\n       [0.20348837, 0.79651163],\n       [1.        , 0.        ],\n       [0.        , 1.        ],\n       [0.        , 1.        ],\n       [0.        , 1.        ],\n       [0.20338983, 0.79661017],\n       [0.98181818, 0.01818182],\n       [0.        , 1.        ],\n       [1.        , 0.        ],\n       [0.98969072, 0.01030928],\n       [0.        , 1.        ],\n       [0.48663102, 0.51336898],\n       [1.        , 0.        ],\n       [0.00529101, 0.99470899],\n       [1.        , 0.        ],\n       [0.        , 1.        ],\n       [0.        , 1.        ],\n       [0.08379888, 0.91620112],\n       [0.12352941, 0.87647059],\n       [0.99415205, 0.00584795],\n       [0.03517588, 0.96482412],\n       [1.        , 0.        ],\n       [0.40314136, 0.59685864],\n       [0.05434783, 0.94565217],\n       [0.53191489, 0.46808511],\n       [0.51898734, 0.48101266],\n       [0.        , 1.        ],\n       [1.        , 0.        ],\n       [0.        , 1.        ],\n       [0.        , 1.        ],\n       [0.60869565, 0.39130435],\n       [0.        , 1.        ],\n       [1.        , 0.        ],\n       [0.24157303, 0.75842697],\n       [0.81578947, 0.18421053],\n       [0.08717949, 0.91282051],\n       [0.99453552, 0.00546448],\n       [0.82142857, 0.17857143],\n       [0.        , 1.        ],\n       [0.        , 1.        ],\n       [0.11904762, 0.88095238],\n       [0.04188482, 0.95811518],\n       [0.        , 1.        ],\n       [1.        , 0.        ],\n       [0.89150943, 0.10849057],\n       [0.19230769, 0.80769231],\n       [0.95238095, 0.04761905],\n       [0.00515464, 0.99484536],\n       [0.59375   , 0.40625   ],\n       [0.07692308, 0.92307692],\n       [0.99484536, 0.00515464],\n       [0.83684211, 0.16315789],\n       [0.        , 1.        ],\n       [0.99484536, 0.00515464],\n       [0.95360825, 0.04639175],\n       [0.        , 1.        ],\n       [0.        , 1.        ],\n       [1.        , 0.        ],\n       [0.        , 1.        ],\n       [1.        , 0.        ],\n       [0.26395939, 0.73604061],\n       [0.98461538, 0.01538462],\n       [1.        , 0.        ],\n       [0.        , 1.        ],\n       [0.00574713, 0.99425287],\n       [0.85142857, 0.14857143],\n       [0.        , 1.        ],\n       [1.        , 0.        ],\n       [0.75301205, 0.24698795],\n       [0.8969697 , 0.1030303 ],\n       [1.        , 0.        ],\n       [0.75555556, 0.24444444],\n       [0.48863636, 0.51136364],\n       [0.        , 1.        ],\n       [0.92473118, 0.07526882],\n       [0.        , 1.        ],\n       [1.        , 0.        ],\n       [0.87709497, 0.12290503],\n       [1.        , 0.        ],\n       [1.        , 0.        ],\n       [0.74752475, 0.25247525],\n       [0.09146341, 0.90853659],\n       [0.42268041, 0.57731959],\n       [0.22395833, 0.77604167],\n       [0.        , 1.        ],\n       [0.87046632, 0.12953368],\n       [0.78212291, 0.21787709],\n       [0.00507614, 0.99492386],\n       [1.        , 0.        ],\n       [1.        , 0.        ],\n       [1.        , 0.        ],\n       [0.        , 1.        ],\n       [0.02884615, 0.97115385],\n       [0.96      , 0.04      ],\n       [0.93478261, 0.06521739],\n       [1.        , 0.        ],\n       [0.50731707, 0.49268293],\n       [1.        , 0.        ],\n       [0.        , 1.        ],\n       [1.        , 0.        ],\n       [0.01604278, 0.98395722],\n       [1.        , 0.        ],\n       [1.        , 0.        ],\n       [1.        , 0.        ],\n       [0.        , 1.        ],\n       [0.96987952, 0.03012048],\n       [0.        , 1.        ],\n       [0.05172414, 0.94827586],\n       [0.        , 1.        ],\n       [0.        , 1.        ],\n       [1.        , 0.        ],\n       [1.        , 0.        ],\n       [0.        , 1.        ],\n       [0.99494949, 0.00505051],\n       [0.01675978, 0.98324022],\n       [1.        , 0.        ],\n       [0.14583333, 0.85416667],\n       [0.        , 1.        ],\n       [0.00546448, 0.99453552],\n       [0.        , 1.        ],\n       [0.41836735, 0.58163265],\n       [0.13095238, 0.86904762],\n       [0.22110553, 0.77889447],\n       [1.        , 0.        ],\n       [0.97647059, 0.02352941],\n       [0.21195652, 0.78804348],\n       [0.98882682, 0.01117318],\n       [0.        , 1.        ],\n       [0.        , 1.        ],\n       [1.        , 0.        ],\n       [0.96428571, 0.03571429],\n       [0.34554974, 0.65445026],\n       [0.98235294, 0.01764706],\n       [1.        , 0.        ],\n       [0.        , 1.        ],\n       [0.99465241, 0.00534759],\n       [0.        , 1.        ],\n       [0.06043956, 0.93956044],\n       [0.98214286, 0.01785714],\n       [1.        , 0.        ],\n       [0.03108808, 0.96891192],\n       [0.58854167, 0.41145833]])"
     },
     "execution_count": 26,
     "metadata": {},
     "output_type": "execute_result"
    }
   ],
   "source": [
    "bag_clf.oob_decision_function_"
   ],
   "metadata": {
    "collapsed": false,
    "ExecuteTime": {
     "end_time": "2024-03-07T13:22:35.181966Z",
     "start_time": "2024-03-07T13:22:35.173099Z"
    }
   },
   "id": "4b71fe7a48eddef0",
   "execution_count": 26
  },
  {
   "cell_type": "code",
   "outputs": [
    {
     "data": {
      "text/plain": "0.912"
     },
     "execution_count": 27,
     "metadata": {},
     "output_type": "execute_result"
    }
   ],
   "source": [
    "from sklearn.metrics import accuracy_score\n",
    "y_pred = bag_clf.predict(X_test)\n",
    "accuracy_score(y_test, y_pred)"
   ],
   "metadata": {
    "collapsed": false,
    "ExecuteTime": {
     "end_time": "2024-03-07T13:22:46.232543Z",
     "start_time": "2024-03-07T13:22:46.204998Z"
    }
   },
   "id": "5bcfb8626be408b2",
   "execution_count": 27
  },
  {
   "cell_type": "code",
   "outputs": [],
   "source": [
    "from sklearn.ensemble import RandomForestClassifier\n",
    "rnd_clf = RandomForestClassifier(n_estimators= 500 , max_leaf_nodes= 16 , n_jobs= -1)\n",
    "rnd_clf.fit(X_train, y_train)\n",
    "y_pred_rf = rnd_clf.predict(X_test)"
   ],
   "metadata": {
    "collapsed": false,
    "ExecuteTime": {
     "end_time": "2024-03-11T13:35:32.012992Z",
     "start_time": "2024-03-11T13:35:31.742679Z"
    }
   },
   "id": "7fc4fc366956e2f",
   "execution_count": 28
  },
  {
   "cell_type": "code",
   "outputs": [],
   "source": [
    "bag_clf = BaggingClassifier(\n",
    "    DecisionTreeClassifier(max_features='sqrt', max_leaf_nodes = 16),\n",
    "    n_estimators= 500 , random_state= 42)\n",
    "bag_clf.fit(X_train, y_train)\n",
    "y_pred = bag_clf.predict(X_test)"
   ],
   "metadata": {
    "collapsed": false,
    "ExecuteTime": {
     "end_time": "2024-03-11T13:36:49.887598Z",
     "start_time": "2024-03-11T13:36:49.591837Z"
    }
   },
   "id": "96054b50be8da289",
   "execution_count": 29
  },
  {
   "cell_type": "code",
   "outputs": [
    {
     "data": {
      "text/plain": "0.992"
     },
     "execution_count": 31,
     "metadata": {},
     "output_type": "execute_result"
    }
   ],
   "source": [
    "np.sum(y_pred == y_pred_rf)/len(y_pred)"
   ],
   "metadata": {
    "collapsed": false,
    "ExecuteTime": {
     "end_time": "2024-03-11T13:37:30.201779Z",
     "start_time": "2024-03-11T13:37:30.198182Z"
    }
   },
   "id": "99e59b43153341f4",
   "execution_count": 31
  },
  {
   "cell_type": "code",
   "outputs": [
    {
     "name": "stdout",
     "output_type": "stream",
     "text": [
      "sepal length (cm) 10.11\n",
      "sepal width (cm) 2.53\n",
      "petal length (cm) 43.02\n",
      "petal width (cm) 44.34\n"
     ]
    }
   ],
   "source": [
    "from sklearn.datasets import load_iris\n",
    "iris = load_iris()\n",
    "rnd_clf = RandomForestClassifier(n_estimators= 500 , n_jobs= -1)\n",
    "rnd_clf.fit(iris[\"data\"], iris[\"target\"])\n",
    "for name,score in zip(iris[\"feature_names\"] , rnd_clf.feature_importances_):\n",
    "    print(name , round(score*100 , 2))"
   ],
   "metadata": {
    "collapsed": false,
    "ExecuteTime": {
     "end_time": "2024-03-11T13:58:02.524211Z",
     "start_time": "2024-03-11T13:58:02.239873Z"
    }
   },
   "id": "fa02a724162f1bc",
   "execution_count": 35
  },
  {
   "cell_type": "code",
   "outputs": [
    {
     "name": "stderr",
     "output_type": "stream",
     "text": [
      "/Users/bruh/anaconda3/lib/python3.11/site-packages/sklearn/datasets/_openml.py:1002: FutureWarning: The default value of `parser` will change from `'liac-arff'` to `'auto'` in 1.4. You can set `parser='auto'` to silence this warning. Therefore, an `ImportError` will be raised from 1.4 if the dataset is dense and pandas is not installed. Note that the pandas parser may return different data types. See the Notes Section in fetch_openml's API doc for details.\n",
      "  warn(\n"
     ]
    },
    {
     "name": "stdout",
     "output_type": "stream",
     "text": [
      "5 0.0\n",
      "0 0.0\n",
      "4 0.0\n",
      "1 0.0\n",
      "9 0.0\n",
      "2 0.0\n",
      "1 0.0\n",
      "3 0.0\n",
      "1 0.0\n",
      "4 0.0\n",
      "3 0.0\n",
      "5 0.0\n",
      "3 0.0\n",
      "6 0.0\n",
      "1 0.0\n",
      "7 0.0\n",
      "2 0.0\n",
      "8 0.0\n",
      "6 0.0\n",
      "9 0.0\n",
      "4 0.0\n",
      "0 0.0\n",
      "9 0.0\n",
      "1 0.0\n",
      "1 0.0\n",
      "2 0.0\n",
      "4 0.0\n",
      "3 0.0\n",
      "2 0.0\n",
      "7 0.0\n",
      "3 0.0\n",
      "8 0.0\n",
      "6 0.0\n",
      "9 0.0\n",
      "0 0.0\n",
      "5 0.0\n",
      "6 0.0\n",
      "0 0.0\n",
      "7 0.0\n",
      "6 0.0\n",
      "1 0.0\n",
      "8 0.0\n",
      "7 0.0\n",
      "9 0.0\n",
      "3 0.0\n",
      "9 0.0\n",
      "8 0.0\n",
      "5 0.0\n",
      "9 0.0\n",
      "3 0.0\n",
      "3 0.0\n",
      "0 0.0\n",
      "7 0.0\n",
      "4 0.0\n",
      "9 0.0\n",
      "8 0.0\n",
      "0 0.0\n",
      "9 0.0\n",
      "4 0.0\n",
      "1 0.0\n",
      "4 0.0\n",
      "4 0.0\n",
      "6 0.0\n",
      "0 0.0\n",
      "4 0.0\n",
      "5 0.0\n",
      "6 2.8107576974836734e-05\n",
      "1 0.00010014843944553206\n",
      "0 3.193138347758812e-05\n",
      "0 0.00014861900668064433\n",
      "1 0.00015945057069985166\n",
      "7 0.00014431887170117792\n",
      "1 0.00023292323420485677\n",
      "6 0.0\n",
      "3 3.935729016189694e-05\n",
      "0 0.0\n",
      "2 0.0\n",
      "1 0.0\n",
      "1 0.0\n",
      "7 0.0\n",
      "9 0.0\n",
      "0 0.0\n",
      "2 0.0\n",
      "6 0.0\n",
      "7 0.0\n",
      "8 0.0\n",
      "3 0.0\n",
      "9 0.0\n",
      "0 0.0\n",
      "4 0.0\n",
      "6 0.0\n",
      "7 0.0\n",
      "4 0.0\n",
      "6 0.0\n",
      "8 9.12449490647009e-05\n",
      "0 0.00019839901645793789\n",
      "7 0.0004277524266091299\n",
      "8 0.00109857566242384\n",
      "3 0.0024135456601202233\n",
      "1 0.002682575788856469\n",
      "5 0.003492194994124826\n",
      "7 0.00319209517413262\n",
      "1 0.001366193622636303\n",
      "7 0.0009624691706499265\n",
      "1 3.2175177130192623e-05\n",
      "1 2.61372241813082e-05\n",
      "6 0.0\n",
      "3 0.0\n",
      "0 0.0\n",
      "2 0.0\n",
      "9 0.0\n",
      "3 0.0\n",
      "1 0.0\n",
      "1 0.0\n",
      "0 0.0\n",
      "4 0.0\n",
      "9 0.0\n",
      "2 0.0\n",
      "0 0.0\n",
      "0 0.0\n",
      "2 0.0\n",
      "0 0.0\n",
      "2 0.0001698705094598522\n",
      "7 0.0006466341793509859\n",
      "1 0.001228653535001272\n",
      "8 0.0019049297007752521\n",
      "6 0.0018353099275004393\n",
      "4 0.0019742273929978225\n",
      "1 0.001516821641507717\n",
      "6 0.0006663135248320826\n",
      "3 0.00031815467337914256\n",
      "4 0.0\n",
      "5 0.0\n",
      "9 0.0\n",
      "1 0.0\n",
      "3 0.0\n",
      "3 0.0\n",
      "8 0.0\n",
      "5 0.0\n",
      "4 0.0\n",
      "7 0.0\n",
      "7 0.0\n",
      "4 0.0\n",
      "2 0.0\n",
      "8 0.0\n",
      "5 0.0\n",
      "8 0.0\n",
      "6 0.0\n",
      "7 9.089519830542567e-05\n",
      "3 0.000873753754080661\n",
      "4 0.001280890188306972\n",
      "6 0.002858247046243833\n",
      "1 0.004635039688422487\n",
      "9 0.0058748273504158075\n",
      "9 0.0085632226679373\n",
      "6 0.010520022007007648\n",
      "0 0.008101719676568878\n",
      "3 0.002517932462035091\n",
      "7 0.001701239246357261\n",
      "2 0.0004489825378834174\n",
      "8 0.00030802814789139223\n",
      "2 0.00022452398228628093\n",
      "9 0.00013933886166142963\n",
      "4 0.00020461407149882782\n",
      "4 0.0\n",
      "6 0.0\n",
      "4 0.0\n",
      "9 0.0\n",
      "7 0.0\n",
      "0 0.0\n",
      "9 0.0\n",
      "2 0.0\n",
      "9 0.0\n",
      "5 0.0\n",
      "1 0.0\n",
      "5 2.4735529850159437e-05\n",
      "9 0.0006104619490027997\n",
      "1 0.002218346935590764\n",
      "2 0.002625489738831346\n",
      "3 0.0027516068539763126\n",
      "2 0.0018083731333758408\n",
      "3 0.0024974479981064476\n",
      "5 0.003311162991385403\n",
      "9 0.005149854454653993\n",
      "1 0.0037247340951228943\n",
      "7 0.0007310441485895487\n",
      "6 0.0011007929558041027\n",
      "2 0.0004208604593565198\n",
      "8 0.00042722511050513975\n",
      "2 0.0003175330886475035\n",
      "2 0.00013493020700073416\n",
      "5 0.00027999279985435805\n",
      "0 4.715965050194935e-05\n",
      "7 0.0\n",
      "4 0.0\n",
      "9 0.0\n",
      "7 0.0\n",
      "8 0.0\n",
      "3 0.0\n",
      "2 0.0\n",
      "1 0.0\n",
      "1 0.0\n",
      "8 0.0\n",
      "3 0.00010205951619744447\n",
      "6 0.00045107373130275975\n",
      "1 0.001169076889036424\n",
      "0 0.0031576418434003492\n",
      "3 0.0032433819567678815\n",
      "1 0.0019495259129428432\n",
      "0 0.0025813015989205193\n",
      "0 0.005050678317035033\n",
      "1 0.006376038439674487\n",
      "7 0.0033675124801628214\n",
      "2 0.0006330321358065732\n",
      "7 0.0012705776352789292\n",
      "3 0.001654550218239598\n",
      "0 0.0006544651174358815\n",
      "4 0.0007233955714983613\n",
      "6 0.00030189617594627693\n",
      "5 0.0004696893454139539\n",
      "2 0.0004182107053853599\n",
      "6 0.0\n",
      "4 0.0\n",
      "7 0.0\n",
      "1 0.0\n",
      "8 0.0\n",
      "9 0.0\n",
      "9 0.0\n",
      "3 0.0\n",
      "0 5.2187450634123536e-05\n",
      "7 0.00011132743923450455\n",
      "1 9.881434832310908e-05\n",
      "0 0.0005942029123878669\n",
      "2 0.000922042833177886\n",
      "0 0.0029560357334845696\n",
      "3 0.0028018147778310657\n",
      "5 0.0020866098228415424\n",
      "4 0.003300957272046148\n",
      "6 0.00567983304790693\n",
      "5 0.006080348296068208\n",
      "8 0.0031229375924130796\n",
      "6 0.002053050254365225\n",
      "3 0.0033228541045387592\n",
      "7 0.0023463570881535997\n",
      "5 0.0014648545066097824\n",
      "8 0.0005153787384731236\n",
      "0 0.0004048233906445969\n",
      "9 0.0005140679317837325\n",
      "1 0.00015741697173092694\n",
      "0 2.4744054453270888e-05\n",
      "3 0.0\n",
      "1 0.0\n",
      "2 0.0\n",
      "2 0.0\n",
      "3 0.0\n",
      "3 0.0\n",
      "6 0.0\n",
      "4 0.0\n",
      "7 0.0004149238468536927\n",
      "5 0.0006237240169051801\n",
      "0 0.0010123878014497187\n",
      "6 0.0016655528603270896\n",
      "2 0.006067853936967613\n",
      "7 0.005845969818315275\n",
      "9 0.0023579123041928387\n",
      "8 0.00135733417942717\n",
      "5 0.0020677432881346953\n",
      "9 0.0035915772859659843\n",
      "2 0.001773645109693239\n",
      "1 0.001514123894590169\n",
      "1 0.003979811200231846\n",
      "4 0.0029662929550077093\n",
      "4 0.0021736451517143105\n",
      "5 0.0017945618131345485\n",
      "6 0.00030529399574806445\n",
      "4 6.040124701529835e-05\n",
      "1 0.0\n",
      "2 0.0\n",
      "5 0.0\n",
      "3 0.0\n",
      "9 0.0\n",
      "3 0.0\n",
      "9 0.0\n",
      "0 0.0\n",
      "5 0.0\n",
      "9 6.440174542306512e-05\n",
      "6 3.073950316541877e-05\n",
      "5 0.00025566749877865667\n",
      "7 0.0006204169952230345\n",
      "4 0.00254628440256543\n",
      "1 0.00870992405907879\n",
      "3 0.00541964092082383\n",
      "4 0.0017528944833618634\n",
      "0 0.0005230877584441456\n",
      "4 0.0010093310231273564\n",
      "8 0.0017592872189711023\n",
      "0 0.002170156026146541\n",
      "4 0.0023955772307709565\n",
      "3 0.0032062651045182897\n",
      "6 0.0025256428968051213\n",
      "8 0.0016249864959837477\n",
      "7 0.0014649943252731648\n",
      "6 0.0008572220616346498\n",
      "0 2.5188218522049295e-05\n",
      "9 0.0\n",
      "7 0.0\n",
      "5 0.0\n",
      "7 0.0\n",
      "2 0.0\n",
      "1 0.0\n",
      "1 0.0\n",
      "6 0.0\n",
      "8 0.0\n",
      "9 0.0\n",
      "4 8.737552769405937e-05\n",
      "1 0.00018424225213960172\n",
      "5 0.0007332335684064001\n",
      "2 0.0031279356094763536\n",
      "2 0.008207216323803487\n",
      "9 0.006162286351854391\n",
      "0 0.0021064722594002112\n",
      "3 0.0013267487497260388\n",
      "9 0.004395026583731575\n",
      "6 0.004207089917503492\n",
      "7 0.001519592173030039\n",
      "2 0.0018118597631795873\n",
      "0 0.0034857087032085163\n",
      "3 0.0027737212827625654\n",
      "5 0.001090081067158305\n",
      "4 0.0024313522212143796\n",
      "3 0.0019739953498323906\n",
      "6 0.0004384319726512069\n",
      "5 0.0\n",
      "8 0.0\n",
      "9 0.0\n",
      "5 0.0\n",
      "4 0.0\n",
      "7 0.0\n",
      "4 0.0\n",
      "2 0.0\n",
      "7 0.0\n",
      "3 0.0\n",
      "4 0.0003851244872439289\n",
      "8 0.0008966190625598662\n",
      "9 0.001509431399082887\n",
      "1 0.005381133779100955\n",
      "9 0.007780852476961183\n",
      "2 0.0067973007870439665\n",
      "8 0.0034474146567146226\n",
      "7 0.004026519455074066\n",
      "9 0.015454080266680638\n",
      "1 0.0036418523805661013\n",
      "8 0.002093491131204101\n",
      "7 0.0028355256038556397\n",
      "4 0.004403469943674086\n",
      "1 0.0009989474982229744\n",
      "3 0.0004759360994460979\n",
      "1 0.003510420530652023\n",
      "1 0.002871149935072832\n",
      "0 0.00045361207909633234\n",
      "2 3.1590548755679664e-05\n",
      "3 0.0\n",
      "9 0.0\n",
      "4 0.0\n",
      "9 0.0\n",
      "2 0.0\n",
      "1 0.0\n",
      "6 0.0\n",
      "8 0.0\n",
      "4 0.0\n",
      "7 0.0003320321674736765\n",
      "7 0.001063302387992743\n",
      "4 0.005228495476469585\n",
      "4 0.008952115277180286\n",
      "9 0.007724830042575421\n",
      "2 0.008174247903158485\n",
      "5 0.0052892401300372975\n",
      "7 0.009512656213330358\n",
      "2 0.016385997085057516\n",
      "4 0.005163674916633852\n",
      "4 0.004501388510430051\n",
      "2 0.00843413788004354\n",
      "1 0.005155923801406525\n",
      "9 0.00074176014452861\n",
      "7 0.0003555780482353744\n",
      "2 0.001986085534840062\n",
      "8 0.003863680561678224\n",
      "7 0.000542552152880442\n",
      "6 6.031612466135353e-05\n",
      "9 0.0\n",
      "2 0.0\n",
      "2 0.0\n",
      "3 0.0\n",
      "8 0.0\n",
      "1 0.0\n",
      "6 0.0\n",
      "5 0.0\n",
      "1 9.752467516836942e-05\n",
      "1 0.00046052146814425777\n",
      "0 0.002043847997859898\n",
      "2 0.006390604781963324\n",
      "6 0.008332104371445277\n",
      "4 0.007195191791582658\n",
      "5 0.007043790565175212\n",
      "8 0.004125087804657256\n",
      "3 0.010548809190067218\n",
      "1 0.01224307908503611\n",
      "5 0.004733006931355105\n",
      "1 0.0065267072950054555\n",
      "9 0.013567216797101135\n",
      "2 0.00394802758462178\n",
      "7 0.00041725829009605926\n",
      "4 0.0005730776225410679\n",
      "4 0.0023491122820630404\n",
      "4 0.0036717274473966775\n",
      "8 0.0004972754257836603\n",
      "1 0.0\n",
      "5 0.0\n",
      "8 0.0\n",
      "9 0.0\n",
      "5 0.0\n",
      "6 0.0\n",
      "7 0.0\n",
      "9 0.0\n",
      "9 0.0\n",
      "3 0.00023405441407129706\n",
      "7 0.0012630622277391495\n",
      "0 0.0032290962206870436\n",
      "9 0.005364843281068849\n",
      "0 0.005672359165754899\n",
      "6 0.007311610549232518\n",
      "6 0.004080812656191784\n",
      "2 0.0045386798700321074\n",
      "3 0.014569869392388829\n",
      "9 0.0102170599526563\n",
      "0 0.005838259856866132\n",
      "7 0.006230934605697078\n",
      "5 0.012718043846349966\n",
      "4 0.0032080724131225446\n",
      "8 0.0010148070874294241\n",
      "0 0.0011187257025603383\n",
      "9 0.0026930207708592336\n",
      "4 0.001140614795981039\n",
      "1 0.00026922397382406194\n",
      "2 0.0\n",
      "8 0.0\n",
      "7 0.0\n",
      "1 0.0\n",
      "2 0.0\n",
      "6 0.0\n",
      "1 0.0\n",
      "0 0.0\n",
      "3 0.0\n",
      "0 0.0002866464569222784\n",
      "1 0.0012539234004918275\n",
      "1 0.0036035379480554275\n",
      "8 0.0037238130608016565\n",
      "2 0.0052287484310234835\n",
      "0 0.003680738877837071\n",
      "3 0.0036616357920462154\n",
      "9 0.008750496717109483\n",
      "4 0.011442913760381913\n",
      "0 0.009700331982252664\n",
      "5 0.0033185239825360285\n",
      "0 0.0021108233460187522\n",
      "6 0.006053464021778572\n",
      "1 0.0026169201056251653\n",
      "7 0.0013550927789401682\n",
      "7 0.0011296548184962206\n",
      "8 0.001183931843844531\n",
      "1 0.000696235503708849\n",
      "9 4.189911466848666e-05\n",
      "2 0.0\n",
      "0 0.0\n",
      "5 0.0\n",
      "1 0.0\n",
      "2 0.0\n",
      "2 0.0\n",
      "7 0.0\n",
      "3 0.0\n",
      "5 0.0\n",
      "4 0.0002830339457525806\n",
      "9 0.0009809730596428454\n",
      "7 0.00384345098177479\n",
      "1 0.0038473232115510624\n",
      "8 0.002722223127233228\n",
      "3 0.004603966496416296\n",
      "9 0.0063346492756968095\n",
      "6 0.0061941011877687515\n",
      "0 0.00788820530798296\n",
      "3 0.004695119099595742\n",
      "1 0.0021132280443337567\n",
      "1 0.0005696860887764861\n",
      "2 0.003794260980592099\n",
      "6 0.003322500299044049\n",
      "3 0.001312396575325385\n",
      "5 0.001621278122052012\n",
      "7 0.00085061771966551\n",
      "6 0.00018285913647897895\n",
      "8 3.196469361843636e-05\n",
      "3 0.0\n",
      "9 0.0\n",
      "5 0.0\n",
      "8 0.0\n",
      "5 0.0\n",
      "7 0.0\n",
      "6 0.0\n",
      "1 0.0\n",
      "1 0.0\n",
      "3 0.00019281435082667476\n",
      "1 0.0013230612534463728\n",
      "7 0.004153922773507418\n",
      "5 0.0036530457172563465\n",
      "5 0.0031748315169390696\n",
      "5 0.007973989818764545\n",
      "2 0.007157717954871322\n",
      "5 0.0030140741392974263\n",
      "8 0.00437075683661041\n",
      "7 0.0016510416014096781\n",
      "0 0.0006231759094925763\n",
      "9 0.00014229213180524472\n",
      "7 0.0031605628576763696\n",
      "7 0.0023845793113384463\n",
      "5 0.0027796458036335337\n",
      "0 0.0018349579186171896\n",
      "9 0.0005558677827588574\n",
      "0 0.00023702425166891472\n",
      "0 6.013071288234617e-05\n",
      "8 0.0\n",
      "9 0.0\n",
      "2 0.0\n",
      "4 0.0\n",
      "8 0.0\n",
      "1 0.0\n",
      "6 0.0\n",
      "1 0.0\n",
      "6 0.0\n",
      "5 0.00015557313051850705\n",
      "1 0.001611933538177593\n",
      "8 0.0036331516943041266\n",
      "3 0.004935999111950726\n",
      "4 0.006823759934436311\n",
      "0 0.008271337263983531\n",
      "5 0.004796099368563711\n",
      "5 0.002337208092755368\n",
      "8 0.001150668804288204\n",
      "3 0.0003466119494800597\n",
      "6 0.00034365517932068867\n",
      "2 0.00048098672570863254\n",
      "3 0.003614581751936512\n",
      "9 0.005035606874312134\n",
      "2 0.004222829732968625\n",
      "1 0.0008575482200527135\n",
      "1 0.0006702227174986093\n",
      "5 0.00026720758489180046\n",
      "2 0.00016078299073902884\n",
      "1 0.0\n",
      "3 0.0\n",
      "2 0.0\n",
      "8 0.0\n",
      "7 0.0\n",
      "3 0.0\n",
      "7 0.0\n",
      "2 0.0\n",
      "4 0.0\n",
      "6 0.0\n",
      "9 0.0011549436644134462\n",
      "7 0.004847189307646042\n",
      "2 0.010576686534579305\n",
      "4 0.010057336128584306\n",
      "2 0.006648616310769845\n",
      "8 0.002071556088853263\n",
      "1 0.001468321775635983\n",
      "1 0.0008256062677784077\n",
      "3 0.0007806549948010911\n",
      "8 0.0004010506927604188\n",
      "4 0.0008761460066291344\n",
      "0 0.002107477223427775\n",
      "6 0.0021242071752064166\n",
      "5 0.0021590467930577588\n",
      "9 0.0008298428524517855\n",
      "3 0.0009483461475686048\n",
      "0 0.0002708568140662205\n",
      "9 0.00012477362813394775\n",
      "2 0.0\n",
      "4 0.0\n",
      "7 0.0\n",
      "1 0.0\n",
      "2 0.0\n",
      "9 0.0\n",
      "4 0.0\n",
      "2 0.0\n",
      "6 0.0\n",
      "1 0.00010532344200840773\n",
      "8 0.0008112659166965802\n",
      "9 0.003551840235633887\n",
      "0 0.007256600264343383\n",
      "6 0.006745446761926701\n",
      "6 0.0045260836292445655\n",
      "7 0.0009923643395018972\n",
      "9 0.0002875650300507804\n",
      "9 0.00022593447051741893\n",
      "8 0.00015207326700446356\n",
      "0 0.00013334206206115344\n",
      "1 0.0002504277091696818\n",
      "4 0.0014583510770581635\n",
      "4 0.0006035756092118391\n",
      "6 0.0009976086598495358\n",
      "7 0.0005401570018817848\n",
      "1 0.0005656329101745439\n",
      "5 0.0\n",
      "7 0.0\n",
      "0 0.0\n",
      "3 0.0\n",
      "5 0.0\n",
      "8 0.0\n",
      "4 0.0\n",
      "7 0.0\n",
      "1 0.0\n",
      "2 0.0\n",
      "5 0.0\n",
      "9 2.985030023389923e-05\n",
      "5 0.00010907763205378398\n",
      "6 0.0009978263692022548\n",
      "7 0.0037875112275147136\n",
      "5 0.0034327552635450434\n",
      "9 0.0034378231663339544\n",
      "8 0.0010363885479724457\n",
      "8 0.0006985907717481403\n",
      "3 0.0006660392094178647\n",
      "6 0.0006269705844132293\n",
      "9 0.000508744365573983\n",
      "7 0.0003862934023750569\n",
      "0 0.0002551267490543741\n",
      "7 5.973942499375786e-05\n",
      "5 0.00012623453627016052\n",
      "7 3.2133384869447386e-05\n",
      "1 0.0\n",
      "1 0.0\n",
      "0 0.0\n",
      "7 0.0\n",
      "9 0.0\n",
      "2 0.0\n",
      "3 0.0\n",
      "7 0.0\n",
      "3 0.0\n",
      "2 0.0\n",
      "4 0.0\n",
      "1 0.0\n",
      "6 0.0\n",
      "2 0.0\n",
      "7 7.63496584256059e-05\n",
      "5 0.001002246137577562\n",
      "5 0.0019340000851143996\n",
      "7 0.0031974579532728213\n",
      "4 0.00335571358630091\n",
      "0 0.004927681935289056\n",
      "2 0.005897731161173569\n",
      "6 0.004369149606532595\n",
      "3 0.0019237441445178775\n",
      "6 0.0006515962750658414\n",
      "4 0.00021958727089932685\n",
      "0 9.063956830228296e-05\n",
      "4 0.00011991154082799168\n",
      "2 0.0\n",
      "6 0.0\n",
      "0 0.0\n",
      "0 0.0\n",
      "0 0.0\n",
      "0 0.0\n",
      "3 0.0\n",
      "1 0.0\n",
      "6 0.0\n",
      "2 0.0\n",
      "2 0.0\n",
      "3 0.0\n",
      "1 0.0\n",
      "4 0.0\n",
      "1 0.0\n",
      "5 0.0\n",
      "4 0.00012898385450239736\n",
      "6 0.00022005752262532137\n",
      "4 0.0006603028067664755\n",
      "7 0.0007323618374240703\n",
      "2 0.0010403321713112518\n",
      "8 0.0010132755710551187\n",
      "7 0.0006625904598584992\n",
      "9 0.0002727429415648888\n",
      "2 0.0\n",
      "0 3.4799339116954004e-05\n",
      "5 0.0\n",
      "1 0.0\n",
      "4 0.0\n",
      "2 0.0\n",
      "8 0.0\n",
      "3 0.0\n",
      "2 0.0\n",
      "4 0.0\n",
      "1 0.0\n",
      "5 0.0\n",
      "4 0.0\n",
      "6 0.0\n",
      "0 0.0\n",
      "7 0.0\n",
      "9 0.0\n",
      "8 0.0\n",
      "4 2.8657640550482363e-05\n",
      "9 0.0\n",
      "8 0.0002028417954433693\n",
      "0 0.0002131968732493005\n",
      "1 0.00020166940561136776\n",
      "1 0.001217857923800699\n",
      "0 0.0016194506735729823\n",
      "2 0.0009149503398444378\n",
      "2 0.0004700662300267619\n",
      "3 0.00022259981533937596\n",
      "2 2.679292241030593e-05\n",
      "4 0.00012401149308608484\n",
      "4 0.0\n",
      "5 0.0\n",
      "8 0.0\n",
      "6 0.0\n",
      "5 0.0\n",
      "7 0.0\n",
      "7 0.0\n",
      "8 0.0\n",
      "8 0.0\n",
      "9 0.0\n",
      "7 0.0\n",
      "4 0.0\n",
      "7 0.0\n",
      "3 0.0\n",
      "2 0.0\n",
      "0 0.0\n",
      "8 0.0\n",
      "6 0.0\n",
      "8 0.0\n",
      "6 0.0\n",
      "1 0.0\n",
      "6 9.531221936962081e-05\n",
      "8 0.0003491247591018515\n",
      "9 0.000338567535561006\n",
      "4 0.00017416320693570402\n",
      "0 3.633291636471251e-05\n",
      "9 0.0\n",
      "0 0.0\n",
      "4 0.0\n",
      "1 0.0\n",
      "5 0.0\n",
      "4 0.0\n",
      "7 0.0\n",
      "5 0.0\n",
      "3 0.0\n",
      "7 0.0\n",
      "4 0.0\n",
      "9 0.0\n",
      "8 0.0\n",
      "5 0.0\n",
      "8 0.0\n",
      "6 0.0\n",
      "3 0.0\n",
      "8 0.0\n",
      "6 0.0\n",
      "9 0.0\n",
      "9 0.0\n",
      "1 0.0\n",
      "8 0.0\n",
      "3 0.0\n",
      "5 0.0\n",
      "8 0.0\n",
      "6 0.0\n",
      "5 0.0\n",
      "9 0.0\n",
      "7 0.0\n",
      "2 0.0\n",
      "5 0.0\n",
      "0 0.0\n",
      "8 0.0\n",
      "5 0.0\n",
      "1 0.0\n",
      "1 0.0\n",
      "0 0.0\n",
      "9 0.0\n",
      "1 0.0\n"
     ]
    }
   ],
   "source": [
    "from sklearn.datasets import fetch_openml\n",
    "from sklearn.ensemble import RandomForestClassifier\n",
    "\n",
    "mnist = fetch_openml('mnist_784', version=1, cache=True)\n",
    "\n",
    "X = mnist['data']\n",
    "y = mnist['target']\n",
    "y = y.astype(int)\n",
    "\n",
    "rnd_clf = RandomForestClassifier(n_estimators=500, max_leaf_nodes=25, n_jobs=-1)\n",
    "rnd_clf.fit(X, y)\n",
    "\n",
    "for i, j in zip(y, rnd_clf.feature_importances_):\n",
    "    print(i, j)\n"
   ],
   "metadata": {
    "collapsed": false,
    "ExecuteTime": {
     "end_time": "2024-03-11T15:15:19.798831Z",
     "start_time": "2024-03-11T15:14:56.088623Z"
    }
   },
   "id": "2ef344c18ea4a0b3",
   "execution_count": 37
  },
  {
   "cell_type": "code",
   "outputs": [
    {
     "data": {
      "text/plain": "<Figure size 1000x800 with 2 Axes>",
      "image/png": "[encoded data removed]"
     },
     "metadata": {},
     "output_type": "display_data"
    }
   ],
   "source": [
    "importances = rnd_clf.feature_importances_\n",
    "importances_matrix = importances.reshape(28, 28)\n",
    "\n",
    "# Create a heatmap\n",
    "plt.figure(figsize=(10, 8))\n",
    "plt.imshow(importances_matrix, cmap='viridis', interpolation='nearest')\n",
    "plt.colorbar()\n",
    "plt.title('Random Forest Feature Importances (MNIST)')\n",
    "plt.show()"
   ],
   "metadata": {
    "collapsed": false,
    "ExecuteTime": {
     "end_time": "2024-03-11T15:20:31.093754Z",
     "start_time": "2024-03-11T15:20:30.928733Z"
    }
   },
   "id": "54bfc5f22c1ffb6c",
   "execution_count": 38
  },
  {
   "cell_type": "code",
   "outputs": [
    {
     "name": "stdout",
     "output_type": "stream",
     "text": [
      "Saving figure mnist_feature_importance_plot\n"
     ]
    },
    {
     "data": {
      "text/plain": "<Figure size 640x480 with 2 Axes>",
      "image/png": "[encoded data removed]"
     },
     "metadata": {},
     "output_type": "display_data"
    }
   ],
   "source": [
    "def plot_digit(data):\n",
    "    image = data.reshape(28, 28)\n",
    "    plt.imshow(image, cmap = mpl.cm.hot,\n",
    "               interpolation=\"nearest\")\n",
    "    plt.axis(\"off\")\n",
    "plot_digit(rnd_clf.feature_importances_)\n",
    "\n",
    "cbar = plt.colorbar(ticks=[rnd_clf.feature_importances_.min(), rnd_clf.feature_importances_.max()])\n",
    "cbar.ax.set_yticklabels(['Not important', 'Very important'])\n",
    "\n",
    "save_fig(\"mnist_feature_importance_plot\")\n",
    "plt.show()"
   ],
   "metadata": {
    "collapsed": false,
    "ExecuteTime": {
     "end_time": "2024-03-11T15:21:27.300246Z",
     "start_time": "2024-03-11T15:21:27.053353Z"
    }
   },
   "id": "fa61598b53071fbe",
   "execution_count": 39
  },
  {
   "cell_type": "code",
   "outputs": [
    {
     "data": {
      "text/plain": "AdaBoostClassifier(estimator=DecisionTreeClassifier(max_depth=1),\n                   learning_rate=0.5, n_estimators=200)",
      "text/html": "<style>#sk-container-id-3 {color: black;}#sk-container-id-3 pre{padding: 0;}#sk-container-id-3 div.sk-toggleable {background-color: white;}#sk-container-id-3 label.sk-toggleable__label {cursor: pointer;display: block;width: 100%;margin-bottom: 0;padding: 0.3em;box-sizing: border-box;text-align: center;}#sk-container-id-3 label.sk-toggleable__label-arrow:before {content: \"▸\";float: left;margin-right: 0.25em;color: #696969;}#sk-container-id-3 label.sk-toggleable__label-arrow:hover:before {color: black;}#sk-container-id-3 div.sk-estimator:hover label.sk-toggleable__label-arrow:before {color: black;}#sk-container-id-3 div.sk-toggleable__content {max-height: 0;max-width: 0;overflow: hidden;text-align: left;background-color: #f0f8ff;}#sk-container-id-3 div.sk-toggleable__content pre {margin: 0.2em;color: black;border-radius: 0.25em;background-color: #f0f8ff;}#sk-container-id-3 input.sk-toggleable__control:checked~div.sk-toggleable__content {max-height: 200px;max-width: 100%;overflow: auto;}#sk-container-id-3 input.sk-toggleable__control:checked~label.sk-toggleable__label-arrow:before {content: \"▾\";}#sk-container-id-3 div.sk-estimator input.sk-toggleable__control:checked~label.sk-toggleable__label {background-color: #d4ebff;}#sk-container-id-3 div.sk-label input.sk-toggleable__control:checked~label.sk-toggleable__label {background-color: #d4ebff;}#sk-container-id-3 input.sk-hidden--visually {border: 0;clip: rect(1px 1px 1px 1px);clip: rect(1px, 1px, 1px, 1px);height: 1px;margin: -1px;overflow: hidden;padding: 0;position: absolute;width: 1px;}#sk-container-id-3 div.sk-estimator {font-family: monospace;background-color: #f0f8ff;border: 1px dotted black;border-radius: 0.25em;box-sizing: border-box;margin-bottom: 0.5em;}#sk-container-id-3 div.sk-estimator:hover {background-color: #d4ebff;}#sk-container-id-3 div.sk-parallel-item::after {content: \"\";width: 100%;border-bottom: 1px solid gray;flex-grow: 1;}#sk-container-id-3 div.sk-label:hover label.sk-toggleable__label {background-color: #d4ebff;}#sk-container-id-3 div.sk-serial::before {content: \"\";position: absolute;border-left: 1px solid gray;box-sizing: border-box;top: 0;bottom: 0;left: 50%;z-index: 0;}#sk-container-id-3 div.sk-serial {display: flex;flex-direction: column;align-items: center;background-color: white;padding-right: 0.2em;padding-left: 0.2em;position: relative;}#sk-container-id-3 div.sk-item {position: relative;z-index: 1;}#sk-container-id-3 div.sk-parallel {display: flex;align-items: stretch;justify-content: center;background-color: white;position: relative;}#sk-container-id-3 div.sk-item::before, #sk-container-id-3 div.sk-parallel-item::before {content: \"\";position: absolute;border-left: 1px solid gray;box-sizing: border-box;top: 0;bottom: 0;left: 50%;z-index: -1;}#sk-container-id-3 div.sk-parallel-item {display: flex;flex-direction: column;z-index: 1;position: relative;background-color: white;}#sk-container-id-3 div.sk-parallel-item:first-child::after {align-self: flex-end;width: 50%;}#sk-container-id-3 div.sk-parallel-item:last-child::after {align-self: flex-start;width: 50%;}#sk-container-id-3 div.sk-parallel-item:only-child::after {width: 0;}#sk-container-id-3 div.sk-dashed-wrapped {border: 1px dashed gray;margin: 0 0.4em 0.5em 0.4em;box-sizing: border-box;padding-bottom: 0.4em;background-color: white;}#sk-container-id-3 div.sk-label label {font-family: monospace;font-weight: bold;display: inline-block;line-height: 1.2em;}#sk-container-id-3 div.sk-label-container {text-align: center;}#sk-container-id-3 div.sk-container {/* jupyter's `normalize.less` sets `[hidden] { display: none; }` but bootstrap.min.css set `[hidden] { display: none !important; }` so we also need the `!important` here to be able to override the default hidden behavior on the sphinx rendered scikit-learn.org. See: https://github.com/scikit-learn/scikit-learn/issues/21755 */display: inline-block !important;position: relative;}#sk-container-id-3 div.sk-text-repr-fallback {display: none;}</style><div id=\"sk-container-id-3\" class=\"sk-top-container\"><div class=\"sk-text-repr-fallback\"><pre>AdaBoostClassifier(estimator=DecisionTreeClassifier(max_depth=1),\n                   learning_rate=0.5, n_estimators=200)</pre><b>In a Jupyter environment, please rerun this cell to show the HTML representation or trust the notebook. <br />On GitHub, the HTML representation is unable to render, please try loading this page with nbviewer.org.</b></div><div class=\"sk-container\" hidden><div class=\"sk-item sk-dashed-wrapped\"><div class=\"sk-label-container\"><div class=\"sk-label sk-toggleable\"><input class=\"sk-toggleable__control sk-hidden--visually\" id=\"sk-estimator-id-9\" type=\"checkbox\" ><label for=\"sk-estimator-id-9\" class=\"sk-toggleable__label sk-toggleable__label-arrow\">AdaBoostClassifier</label><div class=\"sk-toggleable__content\"><pre>AdaBoostClassifier(estimator=DecisionTreeClassifier(max_depth=1),\n                   learning_rate=0.5, n_estimators=200)</pre></div></div></div><div class=\"sk-parallel\"><div class=\"sk-parallel-item\"><div class=\"sk-item\"><div class=\"sk-label-container\"><div class=\"sk-label sk-toggleable\"><input class=\"sk-toggleable__control sk-hidden--visually\" id=\"sk-estimator-id-10\" type=\"checkbox\" ><label for=\"sk-estimator-id-10\" class=\"sk-toggleable__label sk-toggleable__label-arrow\">estimator: DecisionTreeClassifier</label><div class=\"sk-toggleable__content\"><pre>DecisionTreeClassifier(max_depth=1)</pre></div></div></div><div class=\"sk-serial\"><div class=\"sk-item\"><div class=\"sk-estimator sk-toggleable\"><input class=\"sk-toggleable__control sk-hidden--visually\" id=\"sk-estimator-id-11\" type=\"checkbox\" ><label for=\"sk-estimator-id-11\" class=\"sk-toggleable__label sk-toggleable__label-arrow\">DecisionTreeClassifier</label><div class=\"sk-toggleable__content\"><pre>DecisionTreeClassifier(max_depth=1)</pre></div></div></div></div></div></div></div></div></div></div>"
     },
     "execution_count": 40,
     "metadata": {},
     "output_type": "execute_result"
    }
   ],
   "source": [
    "from sklearn.ensemble import AdaBoostClassifier\n",
    "ada_clf = AdaBoostClassifier(\n",
    "    DecisionTreeClassifier(max_depth=1) , n_estimators= 200 , algorithm= \"SAMME.R\" , learning_rate= 0.5)\n",
    "ada_clf.fit(X_train, y_train)"
   ],
   "metadata": {
    "collapsed": false,
    "ExecuteTime": {
     "end_time": "2024-03-13T04:40:08.262177Z",
     "start_time": "2024-03-13T04:40:08.147388Z"
    }
   },
   "id": "9e67da6bdb9435af",
   "execution_count": 40
  },
  {
   "cell_type": "code",
   "outputs": [
    {
     "ename": "InvalidIndexError",
     "evalue": "(slice(None, None, None), 0)",
     "output_type": "error",
     "traceback": [
      "\u001B[0;31m---------------------------------------------------------------------------\u001B[0m",
      "\u001B[0;31mTypeError\u001B[0m                                 Traceback (most recent call last)",
      "File \u001B[0;32m~/anaconda3/lib/python3.11/site-packages/pandas/core/indexes/base.py:3791\u001B[0m, in \u001B[0;36mIndex.get_loc\u001B[0;34m(self, key)\u001B[0m\n\u001B[1;32m   3790\u001B[0m \u001B[38;5;28;01mtry\u001B[39;00m:\n\u001B[0;32m-> 3791\u001B[0m     \u001B[38;5;28;01mreturn\u001B[39;00m \u001B[38;5;28mself\u001B[39m\u001B[38;5;241m.\u001B[39m_engine\u001B[38;5;241m.\u001B[39mget_loc(casted_key)\n\u001B[1;32m   3792\u001B[0m \u001B[38;5;28;01mexcept\u001B[39;00m \u001B[38;5;167;01mKeyError\u001B[39;00m \u001B[38;5;28;01mas\u001B[39;00m err:\n",
      "File \u001B[0;32mindex.pyx:152\u001B[0m, in \u001B[0;36mpandas._libs.index.IndexEngine.get_loc\u001B[0;34m()\u001B[0m\n",
      "File \u001B[0;32mindex.pyx:158\u001B[0m, in \u001B[0;36mpandas._libs.index.IndexEngine.get_loc\u001B[0;34m()\u001B[0m\n",
      "\u001B[0;31mTypeError\u001B[0m: '(slice(None, None, None), 0)' is an invalid key",
      "\nDuring handling of the above exception, another exception occurred:\n",
      "\u001B[0;31mInvalidIndexError\u001B[0m                         Traceback (most recent call last)",
      "Cell \u001B[0;32mIn[45], line 26\u001B[0m\n\u001B[1;32m     22\u001B[0m     plt\u001B[38;5;241m.\u001B[39mimshow(image, cmap \u001B[38;5;241m=\u001B[39m mpl\u001B[38;5;241m.\u001B[39mcm\u001B[38;5;241m.\u001B[39mhot,\n\u001B[1;32m     23\u001B[0m                interpolation\u001B[38;5;241m=\u001B[39m\u001B[38;5;124m\"\u001B[39m\u001B[38;5;124mnearest\u001B[39m\u001B[38;5;124m\"\u001B[39m)\n\u001B[1;32m     24\u001B[0m     plt\u001B[38;5;241m.\u001B[39maxis(\u001B[38;5;124m\"\u001B[39m\u001B[38;5;124moff\u001B[39m\u001B[38;5;124m\"\u001B[39m)\n\u001B[0;32m---> 26\u001B[0m plot_decision_boundary(ada_clf, X, y)\n",
      "Cell \u001B[0;32mIn[45], line 14\u001B[0m, in \u001B[0;36mplot_decision_boundary\u001B[0;34m(clf, X, y, axes, alpha, contour)\u001B[0m\n\u001B[1;32m     12\u001B[0m     custom_cmap2 \u001B[38;5;241m=\u001B[39m ListedColormap([\u001B[38;5;124m'\u001B[39m\u001B[38;5;124m#7d7d58\u001B[39m\u001B[38;5;124m'\u001B[39m,\u001B[38;5;124m'\u001B[39m\u001B[38;5;124m#4c4c7f\u001B[39m\u001B[38;5;124m'\u001B[39m,\u001B[38;5;124m'\u001B[39m\u001B[38;5;124m#507d50\u001B[39m\u001B[38;5;124m'\u001B[39m])\n\u001B[1;32m     13\u001B[0m     plt\u001B[38;5;241m.\u001B[39mcontour(x1, x2, y_pred, cmap\u001B[38;5;241m=\u001B[39mcustom_cmap2, alpha\u001B[38;5;241m=\u001B[39m\u001B[38;5;241m0.8\u001B[39m)\n\u001B[0;32m---> 14\u001B[0m plt\u001B[38;5;241m.\u001B[39mplot(X[:, \u001B[38;5;241m0\u001B[39m][y\u001B[38;5;241m==\u001B[39m\u001B[38;5;241m0\u001B[39m], X[:, \u001B[38;5;241m1\u001B[39m][y\u001B[38;5;241m==\u001B[39m\u001B[38;5;241m0\u001B[39m], \u001B[38;5;124m\"\u001B[39m\u001B[38;5;124myo\u001B[39m\u001B[38;5;124m\"\u001B[39m, alpha\u001B[38;5;241m=\u001B[39m\u001B[38;5;241m0.5\u001B[39m, markersize\u001B[38;5;241m=\u001B[39m\u001B[38;5;241m8\u001B[39m, label\u001B[38;5;241m=\u001B[39m\u001B[38;5;124m'\u001B[39m\u001B[38;5;124mClass 0\u001B[39m\u001B[38;5;124m'\u001B[39m)\n\u001B[1;32m     15\u001B[0m plt\u001B[38;5;241m.\u001B[39mplot(X[:, \u001B[38;5;241m0\u001B[39m][y\u001B[38;5;241m==\u001B[39m\u001B[38;5;241m1\u001B[39m], X[:, \u001B[38;5;241m1\u001B[39m][y\u001B[38;5;241m==\u001B[39m\u001B[38;5;241m1\u001B[39m], \u001B[38;5;124m\"\u001B[39m\u001B[38;5;124mbs\u001B[39m\u001B[38;5;124m\"\u001B[39m, alpha\u001B[38;5;241m=\u001B[39m\u001B[38;5;241m0.5\u001B[39m, markersize\u001B[38;5;241m=\u001B[39m\u001B[38;5;241m8\u001B[39m, label\u001B[38;5;241m=\u001B[39m\u001B[38;5;124m'\u001B[39m\u001B[38;5;124mClass 1\u001B[39m\u001B[38;5;124m'\u001B[39m)\n\u001B[1;32m     16\u001B[0m plt\u001B[38;5;241m.\u001B[39maxis(axes)\n",
      "File \u001B[0;32m~/anaconda3/lib/python3.11/site-packages/pandas/core/frame.py:3893\u001B[0m, in \u001B[0;36mDataFrame.__getitem__\u001B[0;34m(self, key)\u001B[0m\n\u001B[1;32m   3891\u001B[0m \u001B[38;5;28;01mif\u001B[39;00m \u001B[38;5;28mself\u001B[39m\u001B[38;5;241m.\u001B[39mcolumns\u001B[38;5;241m.\u001B[39mnlevels \u001B[38;5;241m>\u001B[39m \u001B[38;5;241m1\u001B[39m:\n\u001B[1;32m   3892\u001B[0m     \u001B[38;5;28;01mreturn\u001B[39;00m \u001B[38;5;28mself\u001B[39m\u001B[38;5;241m.\u001B[39m_getitem_multilevel(key)\n\u001B[0;32m-> 3893\u001B[0m indexer \u001B[38;5;241m=\u001B[39m \u001B[38;5;28mself\u001B[39m\u001B[38;5;241m.\u001B[39mcolumns\u001B[38;5;241m.\u001B[39mget_loc(key)\n\u001B[1;32m   3894\u001B[0m \u001B[38;5;28;01mif\u001B[39;00m is_integer(indexer):\n\u001B[1;32m   3895\u001B[0m     indexer \u001B[38;5;241m=\u001B[39m [indexer]\n",
      "File \u001B[0;32m~/anaconda3/lib/python3.11/site-packages/pandas/core/indexes/base.py:3803\u001B[0m, in \u001B[0;36mIndex.get_loc\u001B[0;34m(self, key)\u001B[0m\n\u001B[1;32m   3798\u001B[0m     \u001B[38;5;28;01mraise\u001B[39;00m \u001B[38;5;167;01mKeyError\u001B[39;00m(key) \u001B[38;5;28;01mfrom\u001B[39;00m \u001B[38;5;21;01merr\u001B[39;00m\n\u001B[1;32m   3799\u001B[0m \u001B[38;5;28;01mexcept\u001B[39;00m \u001B[38;5;167;01mTypeError\u001B[39;00m:\n\u001B[1;32m   3800\u001B[0m     \u001B[38;5;66;03m# If we have a listlike key, _check_indexing_error will raise\u001B[39;00m\n\u001B[1;32m   3801\u001B[0m     \u001B[38;5;66;03m#  InvalidIndexError. Otherwise we fall through and re-raise\u001B[39;00m\n\u001B[1;32m   3802\u001B[0m     \u001B[38;5;66;03m#  the TypeError.\u001B[39;00m\n\u001B[0;32m-> 3803\u001B[0m     \u001B[38;5;28mself\u001B[39m\u001B[38;5;241m.\u001B[39m_check_indexing_error(key)\n\u001B[1;32m   3804\u001B[0m     \u001B[38;5;28;01mraise\u001B[39;00m\n",
      "File \u001B[0;32m~/anaconda3/lib/python3.11/site-packages/pandas/core/indexes/base.py:5975\u001B[0m, in \u001B[0;36mIndex._check_indexing_error\u001B[0;34m(self, key)\u001B[0m\n\u001B[1;32m   5971\u001B[0m \u001B[38;5;28;01mdef\u001B[39;00m \u001B[38;5;21m_check_indexing_error\u001B[39m(\u001B[38;5;28mself\u001B[39m, key):\n\u001B[1;32m   5972\u001B[0m     \u001B[38;5;28;01mif\u001B[39;00m \u001B[38;5;129;01mnot\u001B[39;00m is_scalar(key):\n\u001B[1;32m   5973\u001B[0m         \u001B[38;5;66;03m# if key is not a scalar, directly raise an error (the code below\u001B[39;00m\n\u001B[1;32m   5974\u001B[0m         \u001B[38;5;66;03m# would convert to numpy arrays and raise later any way) - GH29926\u001B[39;00m\n\u001B[0;32m-> 5975\u001B[0m         \u001B[38;5;28;01mraise\u001B[39;00m InvalidIndexError(key)\n",
      "\u001B[0;31mInvalidIndexError\u001B[0m: (slice(None, None, None), 0)"
     ]
    },
    {
     "data": {
      "text/plain": "<Figure size 640x480 with 1 Axes>",
      "image/png": "[encoded data removed]"
     },
     "metadata": {},
     "output_type": "display_data"
    }
   ],
   "source": [
    "from matplotlib.colors import ListedColormap\n",
    "\n",
    "def plot_decision_boundary(clf, X, y, axes=[-1.5, 2.45, -1, 1.5], alpha=0.5, contour=True):\n",
    "    x1s = np.linspace(axes[0], axes[1], 100)\n",
    "    x2s = np.linspace(axes[2], axes[3], 100)\n",
    "    x1, x2 = np.meshgrid(x1s, x2s)\n",
    "    X_new = np.c_[x1.ravel(), x2.ravel()]\n",
    "    y_pred = clf.predict(X_new).reshape(x1.shape)\n",
    "    custom_cmap = ListedColormap(['#fafab0','#9898ff','#a0faa0'])\n",
    "    plt.contourf(x1, x2, y_pred, alpha=0.3, cmap=custom_cmap)\n",
    "    if contour:\n",
    "        custom_cmap2 = ListedColormap(['#7d7d58','#4c4c7f','#507d50'])\n",
    "        plt.contour(x1, x2, y_pred, cmap=custom_cmap2, alpha=0.8)\n",
    "    plt.plot(X[:, 0][y==0], X[:, 1][y==0], \"yo\", alpha=alpha)\n",
    "    plt.plot(X[:, 0][y==1], X[:, 1][y==1], \"bs\", alpha=alpha)\n",
    "    plt.axis(axes)\n",
    "    plt.xlabel(r\"$x_1$\", fontsize=18)\n",
    "    plt.ylabel(r\"$x_2$\", fontsize=18, rotation=0)\n",
    "    \n",
    "def plot_digit(data):\n",
    "    image = data.reshape(28, 28)\n",
    "    plt.imshow(image, cmap = mpl.cm.hot,\n",
    "               interpolation=\"nearest\")\n",
    "    plt.axis(\"off\")\n",
    "\n",
    "plot_decision_boundary(ada_clf, X, y)"
   ],
   "metadata": {
    "collapsed": false,
    "ExecuteTime": {
     "end_time": "2024-03-13T04:47:07.592944Z",
     "start_time": "2024-03-13T04:47:07.433955Z"
    }
   },
   "id": "8cebf64c34aea014",
   "execution_count": 45
  },
  {
   "cell_type": "code",
   "outputs": [
    {
     "data": {
      "text/plain": "DecisionTreeRegressor(max_depth=2)",
      "text/html": "<style>#sk-container-id-7 {color: black;}#sk-container-id-7 pre{padding: 0;}#sk-container-id-7 div.sk-toggleable {background-color: white;}#sk-container-id-7 label.sk-toggleable__label {cursor: pointer;display: block;width: 100%;margin-bottom: 0;padding: 0.3em;box-sizing: border-box;text-align: center;}#sk-container-id-7 label.sk-toggleable__label-arrow:before {content: \"▸\";float: left;margin-right: 0.25em;color: #696969;}#sk-container-id-7 label.sk-toggleable__label-arrow:hover:before {color: black;}#sk-container-id-7 div.sk-estimator:hover label.sk-toggleable__label-arrow:before {color: black;}#sk-container-id-7 div.sk-toggleable__content {max-height: 0;max-width: 0;overflow: hidden;text-align: left;background-color: #f0f8ff;}#sk-container-id-7 div.sk-toggleable__content pre {margin: 0.2em;color: black;border-radius: 0.25em;background-color: #f0f8ff;}#sk-container-id-7 input.sk-toggleable__control:checked~div.sk-toggleable__content {max-height: 200px;max-width: 100%;overflow: auto;}#sk-container-id-7 input.sk-toggleable__control:checked~label.sk-toggleable__label-arrow:before {content: \"▾\";}#sk-container-id-7 div.sk-estimator input.sk-toggleable__control:checked~label.sk-toggleable__label {background-color: #d4ebff;}#sk-container-id-7 div.sk-label input.sk-toggleable__control:checked~label.sk-toggleable__label {background-color: #d4ebff;}#sk-container-id-7 input.sk-hidden--visually {border: 0;clip: rect(1px 1px 1px 1px);clip: rect(1px, 1px, 1px, 1px);height: 1px;margin: -1px;overflow: hidden;padding: 0;position: absolute;width: 1px;}#sk-container-id-7 div.sk-estimator {font-family: monospace;background-color: #f0f8ff;border: 1px dotted black;border-radius: 0.25em;box-sizing: border-box;margin-bottom: 0.5em;}#sk-container-id-7 div.sk-estimator:hover {background-color: #d4ebff;}#sk-container-id-7 div.sk-parallel-item::after {content: \"\";width: 100%;border-bottom: 1px solid gray;flex-grow: 1;}#sk-container-id-7 div.sk-label:hover label.sk-toggleable__label {background-color: #d4ebff;}#sk-container-id-7 div.sk-serial::before {content: \"\";position: absolute;border-left: 1px solid gray;box-sizing: border-box;top: 0;bottom: 0;left: 50%;z-index: 0;}#sk-container-id-7 div.sk-serial {display: flex;flex-direction: column;align-items: center;background-color: white;padding-right: 0.2em;padding-left: 0.2em;position: relative;}#sk-container-id-7 div.sk-item {position: relative;z-index: 1;}#sk-container-id-7 div.sk-parallel {display: flex;align-items: stretch;justify-content: center;background-color: white;position: relative;}#sk-container-id-7 div.sk-item::before, #sk-container-id-7 div.sk-parallel-item::before {content: \"\";position: absolute;border-left: 1px solid gray;box-sizing: border-box;top: 0;bottom: 0;left: 50%;z-index: -1;}#sk-container-id-7 div.sk-parallel-item {display: flex;flex-direction: column;z-index: 1;position: relative;background-color: white;}#sk-container-id-7 div.sk-parallel-item:first-child::after {align-self: flex-end;width: 50%;}#sk-container-id-7 div.sk-parallel-item:last-child::after {align-self: flex-start;width: 50%;}#sk-container-id-7 div.sk-parallel-item:only-child::after {width: 0;}#sk-container-id-7 div.sk-dashed-wrapped {border: 1px dashed gray;margin: 0 0.4em 0.5em 0.4em;box-sizing: border-box;padding-bottom: 0.4em;background-color: white;}#sk-container-id-7 div.sk-label label {font-family: monospace;font-weight: bold;display: inline-block;line-height: 1.2em;}#sk-container-id-7 div.sk-label-container {text-align: center;}#sk-container-id-7 div.sk-container {/* jupyter's `normalize.less` sets `[hidden] { display: none; }` but bootstrap.min.css set `[hidden] { display: none !important; }` so we also need the `!important` here to be able to override the default hidden behavior on the sphinx rendered scikit-learn.org. See: https://github.com/scikit-learn/scikit-learn/issues/21755 */display: inline-block !important;position: relative;}#sk-container-id-7 div.sk-text-repr-fallback {display: none;}</style><div id=\"sk-container-id-7\" class=\"sk-top-container\"><div class=\"sk-text-repr-fallback\"><pre>DecisionTreeRegressor(max_depth=2)</pre><b>In a Jupyter environment, please rerun this cell to show the HTML representation or trust the notebook. <br />On GitHub, the HTML representation is unable to render, please try loading this page with nbviewer.org.</b></div><div class=\"sk-container\" hidden><div class=\"sk-item\"><div class=\"sk-estimator sk-toggleable\"><input class=\"sk-toggleable__control sk-hidden--visually\" id=\"sk-estimator-id-15\" type=\"checkbox\" checked><label for=\"sk-estimator-id-15\" class=\"sk-toggleable__label sk-toggleable__label-arrow\">DecisionTreeRegressor</label><div class=\"sk-toggleable__content\"><pre>DecisionTreeRegressor(max_depth=2)</pre></div></div></div></div></div>"
     },
     "execution_count": 49,
     "metadata": {},
     "output_type": "execute_result"
    }
   ],
   "source": [
    "np.random.seed(42)\n",
    "X = np.random.rand(100, 1) - 0.5\n",
    "y = 3*X[:, 0]**2 + 0.05 * np.random.randn(100)\n",
    "\n",
    "from sklearn.tree import DecisionTreeRegressor\n",
    "\n",
    "tree_reg1 = DecisionTreeRegressor(max_depth= 2)\n",
    "tree_reg1.fit(X, y)"
   ],
   "metadata": {
    "collapsed": false,
    "ExecuteTime": {
     "end_time": "2024-03-13T05:01:34.990336Z",
     "start_time": "2024-03-13T05:01:34.985427Z"
    }
   },
   "id": "fb39ce2dd137fcce",
   "execution_count": 49
  },
  {
   "cell_type": "code",
   "outputs": [
    {
     "data": {
      "text/plain": "DecisionTreeRegressor(max_depth=2)",
      "text/html": "<style>#sk-container-id-8 {color: black;}#sk-container-id-8 pre{padding: 0;}#sk-container-id-8 div.sk-toggleable {background-color: white;}#sk-container-id-8 label.sk-toggleable__label {cursor: pointer;display: block;width: 100%;margin-bottom: 0;padding: 0.3em;box-sizing: border-box;text-align: center;}#sk-container-id-8 label.sk-toggleable__label-arrow:before {content: \"▸\";float: left;margin-right: 0.25em;color: #696969;}#sk-container-id-8 label.sk-toggleable__label-arrow:hover:before {color: black;}#sk-container-id-8 div.sk-estimator:hover label.sk-toggleable__label-arrow:before {color: black;}#sk-container-id-8 div.sk-toggleable__content {max-height: 0;max-width: 0;overflow: hidden;text-align: left;background-color: #f0f8ff;}#sk-container-id-8 div.sk-toggleable__content pre {margin: 0.2em;color: black;border-radius: 0.25em;background-color: #f0f8ff;}#sk-container-id-8 input.sk-toggleable__control:checked~div.sk-toggleable__content {max-height: 200px;max-width: 100%;overflow: auto;}#sk-container-id-8 input.sk-toggleable__control:checked~label.sk-toggleable__label-arrow:before {content: \"▾\";}#sk-container-id-8 div.sk-estimator input.sk-toggleable__control:checked~label.sk-toggleable__label {background-color: #d4ebff;}#sk-container-id-8 div.sk-label input.sk-toggleable__control:checked~label.sk-toggleable__label {background-color: #d4ebff;}#sk-container-id-8 input.sk-hidden--visually {border: 0;clip: rect(1px 1px 1px 1px);clip: rect(1px, 1px, 1px, 1px);height: 1px;margin: -1px;overflow: hidden;padding: 0;position: absolute;width: 1px;}#sk-container-id-8 div.sk-estimator {font-family: monospace;background-color: #f0f8ff;border: 1px dotted black;border-radius: 0.25em;box-sizing: border-box;margin-bottom: 0.5em;}#sk-container-id-8 div.sk-estimator:hover {background-color: #d4ebff;}#sk-container-id-8 div.sk-parallel-item::after {content: \"\";width: 100%;border-bottom: 1px solid gray;flex-grow: 1;}#sk-container-id-8 div.sk-label:hover label.sk-toggleable__label {background-color: #d4ebff;}#sk-container-id-8 div.sk-serial::before {content: \"\";position: absolute;border-left: 1px solid gray;box-sizing: border-box;top: 0;bottom: 0;left: 50%;z-index: 0;}#sk-container-id-8 div.sk-serial {display: flex;flex-direction: column;align-items: center;background-color: white;padding-right: 0.2em;padding-left: 0.2em;position: relative;}#sk-container-id-8 div.sk-item {position: relative;z-index: 1;}#sk-container-id-8 div.sk-parallel {display: flex;align-items: stretch;justify-content: center;background-color: white;position: relative;}#sk-container-id-8 div.sk-item::before, #sk-container-id-8 div.sk-parallel-item::before {content: \"\";position: absolute;border-left: 1px solid gray;box-sizing: border-box;top: 0;bottom: 0;left: 50%;z-index: -1;}#sk-container-id-8 div.sk-parallel-item {display: flex;flex-direction: column;z-index: 1;position: relative;background-color: white;}#sk-container-id-8 div.sk-parallel-item:first-child::after {align-self: flex-end;width: 50%;}#sk-container-id-8 div.sk-parallel-item:last-child::after {align-self: flex-start;width: 50%;}#sk-container-id-8 div.sk-parallel-item:only-child::after {width: 0;}#sk-container-id-8 div.sk-dashed-wrapped {border: 1px dashed gray;margin: 0 0.4em 0.5em 0.4em;box-sizing: border-box;padding-bottom: 0.4em;background-color: white;}#sk-container-id-8 div.sk-label label {font-family: monospace;font-weight: bold;display: inline-block;line-height: 1.2em;}#sk-container-id-8 div.sk-label-container {text-align: center;}#sk-container-id-8 div.sk-container {/* jupyter's `normalize.less` sets `[hidden] { display: none; }` but bootstrap.min.css set `[hidden] { display: none !important; }` so we also need the `!important` here to be able to override the default hidden behavior on the sphinx rendered scikit-learn.org. See: https://github.com/scikit-learn/scikit-learn/issues/21755 */display: inline-block !important;position: relative;}#sk-container-id-8 div.sk-text-repr-fallback {display: none;}</style><div id=\"sk-container-id-8\" class=\"sk-top-container\"><div class=\"sk-text-repr-fallback\"><pre>DecisionTreeRegressor(max_depth=2)</pre><b>In a Jupyter environment, please rerun this cell to show the HTML representation or trust the notebook. <br />On GitHub, the HTML representation is unable to render, please try loading this page with nbviewer.org.</b></div><div class=\"sk-container\" hidden><div class=\"sk-item\"><div class=\"sk-estimator sk-toggleable\"><input class=\"sk-toggleable__control sk-hidden--visually\" id=\"sk-estimator-id-16\" type=\"checkbox\" checked><label for=\"sk-estimator-id-16\" class=\"sk-toggleable__label sk-toggleable__label-arrow\">DecisionTreeRegressor</label><div class=\"sk-toggleable__content\"><pre>DecisionTreeRegressor(max_depth=2)</pre></div></div></div></div></div>"
     },
     "execution_count": 50,
     "metadata": {},
     "output_type": "execute_result"
    }
   ],
   "source": [
    "y2 = y - tree_reg1.predict(X)\n",
    "tree_reg2 = DecisionTreeRegressor(max_depth = 2)\n",
    "tree_reg2.fit(X , y2)"
   ],
   "metadata": {
    "collapsed": false,
    "ExecuteTime": {
     "end_time": "2024-03-13T05:01:36.500674Z",
     "start_time": "2024-03-13T05:01:36.496082Z"
    }
   },
   "id": "e778da8b04174081",
   "execution_count": 50
  },
  {
   "cell_type": "code",
   "outputs": [
    {
     "data": {
      "text/plain": "DecisionTreeRegressor(max_depth=2)",
      "text/html": "<style>#sk-container-id-9 {color: black;}#sk-container-id-9 pre{padding: 0;}#sk-container-id-9 div.sk-toggleable {background-color: white;}#sk-container-id-9 label.sk-toggleable__label {cursor: pointer;display: block;width: 100%;margin-bottom: 0;padding: 0.3em;box-sizing: border-box;text-align: center;}#sk-container-id-9 label.sk-toggleable__label-arrow:before {content: \"▸\";float: left;margin-right: 0.25em;color: #696969;}#sk-container-id-9 label.sk-toggleable__label-arrow:hover:before {color: black;}#sk-container-id-9 div.sk-estimator:hover label.sk-toggleable__label-arrow:before {color: black;}#sk-container-id-9 div.sk-toggleable__content {max-height: 0;max-width: 0;overflow: hidden;text-align: left;background-color: #f0f8ff;}#sk-container-id-9 div.sk-toggleable__content pre {margin: 0.2em;color: black;border-radius: 0.25em;background-color: #f0f8ff;}#sk-container-id-9 input.sk-toggleable__control:checked~div.sk-toggleable__content {max-height: 200px;max-width: 100%;overflow: auto;}#sk-container-id-9 input.sk-toggleable__control:checked~label.sk-toggleable__label-arrow:before {content: \"▾\";}#sk-container-id-9 div.sk-estimator input.sk-toggleable__control:checked~label.sk-toggleable__label {background-color: #d4ebff;}#sk-container-id-9 div.sk-label input.sk-toggleable__control:checked~label.sk-toggleable__label {background-color: #d4ebff;}#sk-container-id-9 input.sk-hidden--visually {border: 0;clip: rect(1px 1px 1px 1px);clip: rect(1px, 1px, 1px, 1px);height: 1px;margin: -1px;overflow: hidden;padding: 0;position: absolute;width: 1px;}#sk-container-id-9 div.sk-estimator {font-family: monospace;background-color: #f0f8ff;border: 1px dotted black;border-radius: 0.25em;box-sizing: border-box;margin-bottom: 0.5em;}#sk-container-id-9 div.sk-estimator:hover {background-color: #d4ebff;}#sk-container-id-9 div.sk-parallel-item::after {content: \"\";width: 100%;border-bottom: 1px solid gray;flex-grow: 1;}#sk-container-id-9 div.sk-label:hover label.sk-toggleable__label {background-color: #d4ebff;}#sk-container-id-9 div.sk-serial::before {content: \"\";position: absolute;border-left: 1px solid gray;box-sizing: border-box;top: 0;bottom: 0;left: 50%;z-index: 0;}#sk-container-id-9 div.sk-serial {display: flex;flex-direction: column;align-items: center;background-color: white;padding-right: 0.2em;padding-left: 0.2em;position: relative;}#sk-container-id-9 div.sk-item {position: relative;z-index: 1;}#sk-container-id-9 div.sk-parallel {display: flex;align-items: stretch;justify-content: center;background-color: white;position: relative;}#sk-container-id-9 div.sk-item::before, #sk-container-id-9 div.sk-parallel-item::before {content: \"\";position: absolute;border-left: 1px solid gray;box-sizing: border-box;top: 0;bottom: 0;left: 50%;z-index: -1;}#sk-container-id-9 div.sk-parallel-item {display: flex;flex-direction: column;z-index: 1;position: relative;background-color: white;}#sk-container-id-9 div.sk-parallel-item:first-child::after {align-self: flex-end;width: 50%;}#sk-container-id-9 div.sk-parallel-item:last-child::after {align-self: flex-start;width: 50%;}#sk-container-id-9 div.sk-parallel-item:only-child::after {width: 0;}#sk-container-id-9 div.sk-dashed-wrapped {border: 1px dashed gray;margin: 0 0.4em 0.5em 0.4em;box-sizing: border-box;padding-bottom: 0.4em;background-color: white;}#sk-container-id-9 div.sk-label label {font-family: monospace;font-weight: bold;display: inline-block;line-height: 1.2em;}#sk-container-id-9 div.sk-label-container {text-align: center;}#sk-container-id-9 div.sk-container {/* jupyter's `normalize.less` sets `[hidden] { display: none; }` but bootstrap.min.css set `[hidden] { display: none !important; }` so we also need the `!important` here to be able to override the default hidden behavior on the sphinx rendered scikit-learn.org. See: https://github.com/scikit-learn/scikit-learn/issues/21755 */display: inline-block !important;position: relative;}#sk-container-id-9 div.sk-text-repr-fallback {display: none;}</style><div id=\"sk-container-id-9\" class=\"sk-top-container\"><div class=\"sk-text-repr-fallback\"><pre>DecisionTreeRegressor(max_depth=2)</pre><b>In a Jupyter environment, please rerun this cell to show the HTML representation or trust the notebook. <br />On GitHub, the HTML representation is unable to render, please try loading this page with nbviewer.org.</b></div><div class=\"sk-container\" hidden><div class=\"sk-item\"><div class=\"sk-estimator sk-toggleable\"><input class=\"sk-toggleable__control sk-hidden--visually\" id=\"sk-estimator-id-17\" type=\"checkbox\" checked><label for=\"sk-estimator-id-17\" class=\"sk-toggleable__label sk-toggleable__label-arrow\">DecisionTreeRegressor</label><div class=\"sk-toggleable__content\"><pre>DecisionTreeRegressor(max_depth=2)</pre></div></div></div></div></div>"
     },
     "execution_count": 51,
     "metadata": {},
     "output_type": "execute_result"
    }
   ],
   "source": [
    "y3 = y2 - tree_reg1.predict(X)\n",
    "tree_reg3 = DecisionTreeRegressor(max_depth = 2)\n",
    "tree_reg3.fit(X , y3)"
   ],
   "metadata": {
    "collapsed": false,
    "ExecuteTime": {
     "end_time": "2024-03-13T05:01:37.798788Z",
     "start_time": "2024-03-13T05:01:37.793579Z"
    }
   },
   "id": "7b71b7bae18943a7",
   "execution_count": 51
  },
  {
   "cell_type": "code",
   "outputs": [],
   "source": [
    "X_new = np.array([[0.8]])\n",
    "y_pred = sum(tree.predict(X_new) for tree in (tree_reg1, tree_reg2, tree_reg3))"
   ],
   "metadata": {
    "collapsed": false,
    "ExecuteTime": {
     "end_time": "2024-03-13T05:01:54.261630Z",
     "start_time": "2024-03-13T05:01:54.258288Z"
    }
   },
   "id": "970103c4c68c5d6d",
   "execution_count": 52
  },
  {
   "cell_type": "code",
   "outputs": [
    {
     "data": {
      "text/plain": "array([0.03991297])"
     },
     "execution_count": 53,
     "metadata": {},
     "output_type": "execute_result"
    }
   ],
   "source": [
    "y_pred"
   ],
   "metadata": {
    "collapsed": false,
    "ExecuteTime": {
     "end_time": "2024-03-13T05:01:59.192968Z",
     "start_time": "2024-03-13T05:01:59.189906Z"
    }
   },
   "id": "f952f705df8ddd35",
   "execution_count": 53
  },
  {
   "cell_type": "code",
   "outputs": [
    {
     "name": "stdout",
     "output_type": "stream",
     "text": [
      "Saving figure gradient_boosting_plot\n"
     ]
    },
    {
     "data": {
      "text/plain": "<Figure size 1100x1100 with 6 Axes>",
      "image/png": "[encoded data removed]"
     },
     "metadata": {},
     "output_type": "display_data"
    }
   ],
   "source": [
    "def plot_predictions(regressors, X, y, axes, label=None, style=\"r-\", data_style=\"b.\", data_label=None):\n",
    "    x1 = np.linspace(axes[0], axes[1], 500)\n",
    "    y_pred = sum(regressor.predict(x1.reshape(-1, 1)) for regressor in regressors)\n",
    "    plt.plot(X[:, 0], y, data_style, label=data_label)\n",
    "    plt.plot(x1, y_pred, style, linewidth=2, label=label)\n",
    "    if label or data_label:\n",
    "        plt.legend(loc=\"upper center\", fontsize=16)\n",
    "    plt.axis(axes)\n",
    "plt.figure(figsize=(11,11))\n",
    "\n",
    "plt.subplot(321)\n",
    "plot_predictions([tree_reg1], X, y, axes=[-0.5, 0.5, -0.1, 0.8], label=\"$h_1(x_1)$\", style=\"g-\", data_label=\"Training set\")\n",
    "plt.ylabel(\"$y$\", fontsize=16, rotation=0)\n",
    "plt.title(\"Residuals and tree predictions\", fontsize=16)\n",
    "\n",
    "plt.subplot(322)\n",
    "plot_predictions([tree_reg1], X, y, axes=[-0.5, 0.5, -0.1, 0.8], label=\"$h(x_1) = h_1(x_1)$\", data_label=\"Training set\")\n",
    "plt.ylabel(\"$y$\", fontsize=16, rotation=0)\n",
    "plt.title(\"Ensemble predictions\", fontsize=16)\n",
    "\n",
    "plt.subplot(323)\n",
    "plot_predictions([tree_reg2], X, y2, axes=[-0.5, 0.5, -0.5, 0.5], label=\"$h_2(x_1)$\", style=\"g-\", data_style=\"k+\", data_label=\"Residuals\")\n",
    "plt.ylabel(\"$y - h_1(x_1)$\", fontsize=16)\n",
    "\n",
    "plt.subplot(324)\n",
    "plot_predictions([tree_reg1, tree_reg2], X, y, axes=[-0.5, 0.5, -0.1, 0.8], label=\"$h(x_1) = h_1(x_1) + h_2(x_1)$\")\n",
    "plt.ylabel(\"$y$\", fontsize=16, rotation=0)\n",
    "\n",
    "plt.subplot(325)\n",
    "plot_predictions([tree_reg3], X, y3, axes=[-0.5, 0.5, -0.5, 0.5], label=\"$h_3(x_1)$\", style=\"g-\", data_style=\"k+\")\n",
    "plt.ylabel(\"$y - h_1(x_1) - h_2(x_1)$\", fontsize=16)\n",
    "plt.xlabel(\"$x_1$\", fontsize=16)\n",
    "\n",
    "plt.subplot(326)\n",
    "plot_predictions([tree_reg1, tree_reg2, tree_reg3], X, y, axes=[-0.5, 0.5, -0.1, 0.8], label=\"$h(x_1) = h_1(x_1) + h_2(x_1) + h_3(x_1)$\")\n",
    "plt.xlabel(\"$x_1$\", fontsize=16)\n",
    "plt.ylabel(\"$y$\", fontsize=16, rotation=0)\n",
    "\n",
    "save_fig(\"gradient_boosting_plot\")\n",
    "plt.show()"
   ],
   "metadata": {
    "collapsed": false,
    "ExecuteTime": {
     "end_time": "2024-03-13T05:28:56.940215Z",
     "start_time": "2024-03-13T05:28:55.994949Z"
    }
   },
   "id": "dd264e0265b48ad5",
   "execution_count": 54
  },
  {
   "cell_type": "code",
   "outputs": [
    {
     "data": {
      "text/plain": "GradientBoostingRegressor(learning_rate=1.0, max_depth=2, n_estimators=3,\n                          random_state=42)",
      "text/html": "<style>#sk-container-id-10 {color: black;}#sk-container-id-10 pre{padding: 0;}#sk-container-id-10 div.sk-toggleable {background-color: white;}#sk-container-id-10 label.sk-toggleable__label {cursor: pointer;display: block;width: 100%;margin-bottom: 0;padding: 0.3em;box-sizing: border-box;text-align: center;}#sk-container-id-10 label.sk-toggleable__label-arrow:before {content: \"▸\";float: left;margin-right: 0.25em;color: #696969;}#sk-container-id-10 label.sk-toggleable__label-arrow:hover:before {color: black;}#sk-container-id-10 div.sk-estimator:hover label.sk-toggleable__label-arrow:before {color: black;}#sk-container-id-10 div.sk-toggleable__content {max-height: 0;max-width: 0;overflow: hidden;text-align: left;background-color: #f0f8ff;}#sk-container-id-10 div.sk-toggleable__content pre {margin: 0.2em;color: black;border-radius: 0.25em;background-color: #f0f8ff;}#sk-container-id-10 input.sk-toggleable__control:checked~div.sk-toggleable__content {max-height: 200px;max-width: 100%;overflow: auto;}#sk-container-id-10 input.sk-toggleable__control:checked~label.sk-toggleable__label-arrow:before {content: \"▾\";}#sk-container-id-10 div.sk-estimator input.sk-toggleable__control:checked~label.sk-toggleable__label {background-color: #d4ebff;}#sk-container-id-10 div.sk-label input.sk-toggleable__control:checked~label.sk-toggleable__label {background-color: #d4ebff;}#sk-container-id-10 input.sk-hidden--visually {border: 0;clip: rect(1px 1px 1px 1px);clip: rect(1px, 1px, 1px, 1px);height: 1px;margin: -1px;overflow: hidden;padding: 0;position: absolute;width: 1px;}#sk-container-id-10 div.sk-estimator {font-family: monospace;background-color: #f0f8ff;border: 1px dotted black;border-radius: 0.25em;box-sizing: border-box;margin-bottom: 0.5em;}#sk-container-id-10 div.sk-estimator:hover {background-color: #d4ebff;}#sk-container-id-10 div.sk-parallel-item::after {content: \"\";width: 100%;border-bottom: 1px solid gray;flex-grow: 1;}#sk-container-id-10 div.sk-label:hover label.sk-toggleable__label {background-color: #d4ebff;}#sk-container-id-10 div.sk-serial::before {content: \"\";position: absolute;border-left: 1px solid gray;box-sizing: border-box;top: 0;bottom: 0;left: 50%;z-index: 0;}#sk-container-id-10 div.sk-serial {display: flex;flex-direction: column;align-items: center;background-color: white;padding-right: 0.2em;padding-left: 0.2em;position: relative;}#sk-container-id-10 div.sk-item {position: relative;z-index: 1;}#sk-container-id-10 div.sk-parallel {display: flex;align-items: stretch;justify-content: center;background-color: white;position: relative;}#sk-container-id-10 div.sk-item::before, #sk-container-id-10 div.sk-parallel-item::before {content: \"\";position: absolute;border-left: 1px solid gray;box-sizing: border-box;top: 0;bottom: 0;left: 50%;z-index: -1;}#sk-container-id-10 div.sk-parallel-item {display: flex;flex-direction: column;z-index: 1;position: relative;background-color: white;}#sk-container-id-10 div.sk-parallel-item:first-child::after {align-self: flex-end;width: 50%;}#sk-container-id-10 div.sk-parallel-item:last-child::after {align-self: flex-start;width: 50%;}#sk-container-id-10 div.sk-parallel-item:only-child::after {width: 0;}#sk-container-id-10 div.sk-dashed-wrapped {border: 1px dashed gray;margin: 0 0.4em 0.5em 0.4em;box-sizing: border-box;padding-bottom: 0.4em;background-color: white;}#sk-container-id-10 div.sk-label label {font-family: monospace;font-weight: bold;display: inline-block;line-height: 1.2em;}#sk-container-id-10 div.sk-label-container {text-align: center;}#sk-container-id-10 div.sk-container {/* jupyter's `normalize.less` sets `[hidden] { display: none; }` but bootstrap.min.css set `[hidden] { display: none !important; }` so we also need the `!important` here to be able to override the default hidden behavior on the sphinx rendered scikit-learn.org. See: https://github.com/scikit-learn/scikit-learn/issues/21755 */display: inline-block !important;position: relative;}#sk-container-id-10 div.sk-text-repr-fallback {display: none;}</style><div id=\"sk-container-id-10\" class=\"sk-top-container\"><div class=\"sk-text-repr-fallback\"><pre>GradientBoostingRegressor(learning_rate=1.0, max_depth=2, n_estimators=3,\n                          random_state=42)</pre><b>In a Jupyter environment, please rerun this cell to show the HTML representation or trust the notebook. <br />On GitHub, the HTML representation is unable to render, please try loading this page with nbviewer.org.</b></div><div class=\"sk-container\" hidden><div class=\"sk-item\"><div class=\"sk-estimator sk-toggleable\"><input class=\"sk-toggleable__control sk-hidden--visually\" id=\"sk-estimator-id-18\" type=\"checkbox\" checked><label for=\"sk-estimator-id-18\" class=\"sk-toggleable__label sk-toggleable__label-arrow\">GradientBoostingRegressor</label><div class=\"sk-toggleable__content\"><pre>GradientBoostingRegressor(learning_rate=1.0, max_depth=2, n_estimators=3,\n                          random_state=42)</pre></div></div></div></div></div>"
     },
     "execution_count": 55,
     "metadata": {},
     "output_type": "execute_result"
    }
   ],
   "source": [
    "from sklearn.ensemble import GradientBoostingRegressor\n",
    "\n",
    "gbrt = GradientBoostingRegressor(max_depth=2, n_estimators=3, learning_rate=1.0, random_state=42)\n",
    "gbrt.fit(X, y)"
   ],
   "metadata": {
    "collapsed": false,
    "ExecuteTime": {
     "end_time": "2024-03-13T05:29:08.761347Z",
     "start_time": "2024-03-13T05:29:08.752952Z"
    }
   },
   "id": "d629e434fc820e44",
   "execution_count": 55
  },
  {
   "cell_type": "code",
   "outputs": [
    {
     "data": {
      "text/plain": "GradientBoostingRegressor(max_depth=2, n_estimators=200, random_state=42)",
      "text/html": "<style>#sk-container-id-11 {color: black;}#sk-container-id-11 pre{padding: 0;}#sk-container-id-11 div.sk-toggleable {background-color: white;}#sk-container-id-11 label.sk-toggleable__label {cursor: pointer;display: block;width: 100%;margin-bottom: 0;padding: 0.3em;box-sizing: border-box;text-align: center;}#sk-container-id-11 label.sk-toggleable__label-arrow:before {content: \"▸\";float: left;margin-right: 0.25em;color: #696969;}#sk-container-id-11 label.sk-toggleable__label-arrow:hover:before {color: black;}#sk-container-id-11 div.sk-estimator:hover label.sk-toggleable__label-arrow:before {color: black;}#sk-container-id-11 div.sk-toggleable__content {max-height: 0;max-width: 0;overflow: hidden;text-align: left;background-color: #f0f8ff;}#sk-container-id-11 div.sk-toggleable__content pre {margin: 0.2em;color: black;border-radius: 0.25em;background-color: #f0f8ff;}#sk-container-id-11 input.sk-toggleable__control:checked~div.sk-toggleable__content {max-height: 200px;max-width: 100%;overflow: auto;}#sk-container-id-11 input.sk-toggleable__control:checked~label.sk-toggleable__label-arrow:before {content: \"▾\";}#sk-container-id-11 div.sk-estimator input.sk-toggleable__control:checked~label.sk-toggleable__label {background-color: #d4ebff;}#sk-container-id-11 div.sk-label input.sk-toggleable__control:checked~label.sk-toggleable__label {background-color: #d4ebff;}#sk-container-id-11 input.sk-hidden--visually {border: 0;clip: rect(1px 1px 1px 1px);clip: rect(1px, 1px, 1px, 1px);height: 1px;margin: -1px;overflow: hidden;padding: 0;position: absolute;width: 1px;}#sk-container-id-11 div.sk-estimator {font-family: monospace;background-color: #f0f8ff;border: 1px dotted black;border-radius: 0.25em;box-sizing: border-box;margin-bottom: 0.5em;}#sk-container-id-11 div.sk-estimator:hover {background-color: #d4ebff;}#sk-container-id-11 div.sk-parallel-item::after {content: \"\";width: 100%;border-bottom: 1px solid gray;flex-grow: 1;}#sk-container-id-11 div.sk-label:hover label.sk-toggleable__label {background-color: #d4ebff;}#sk-container-id-11 div.sk-serial::before {content: \"\";position: absolute;border-left: 1px solid gray;box-sizing: border-box;top: 0;bottom: 0;left: 50%;z-index: 0;}#sk-container-id-11 div.sk-serial {display: flex;flex-direction: column;align-items: center;background-color: white;padding-right: 0.2em;padding-left: 0.2em;position: relative;}#sk-container-id-11 div.sk-item {position: relative;z-index: 1;}#sk-container-id-11 div.sk-parallel {display: flex;align-items: stretch;justify-content: center;background-color: white;position: relative;}#sk-container-id-11 div.sk-item::before, #sk-container-id-11 div.sk-parallel-item::before {content: \"\";position: absolute;border-left: 1px solid gray;box-sizing: border-box;top: 0;bottom: 0;left: 50%;z-index: -1;}#sk-container-id-11 div.sk-parallel-item {display: flex;flex-direction: column;z-index: 1;position: relative;background-color: white;}#sk-container-id-11 div.sk-parallel-item:first-child::after {align-self: flex-end;width: 50%;}#sk-container-id-11 div.sk-parallel-item:last-child::after {align-self: flex-start;width: 50%;}#sk-container-id-11 div.sk-parallel-item:only-child::after {width: 0;}#sk-container-id-11 div.sk-dashed-wrapped {border: 1px dashed gray;margin: 0 0.4em 0.5em 0.4em;box-sizing: border-box;padding-bottom: 0.4em;background-color: white;}#sk-container-id-11 div.sk-label label {font-family: monospace;font-weight: bold;display: inline-block;line-height: 1.2em;}#sk-container-id-11 div.sk-label-container {text-align: center;}#sk-container-id-11 div.sk-container {/* jupyter's `normalize.less` sets `[hidden] { display: none; }` but bootstrap.min.css set `[hidden] { display: none !important; }` so we also need the `!important` here to be able to override the default hidden behavior on the sphinx rendered scikit-learn.org. See: https://github.com/scikit-learn/scikit-learn/issues/21755 */display: inline-block !important;position: relative;}#sk-container-id-11 div.sk-text-repr-fallback {display: none;}</style><div id=\"sk-container-id-11\" class=\"sk-top-container\"><div class=\"sk-text-repr-fallback\"><pre>GradientBoostingRegressor(max_depth=2, n_estimators=200, random_state=42)</pre><b>In a Jupyter environment, please rerun this cell to show the HTML representation or trust the notebook. <br />On GitHub, the HTML representation is unable to render, please try loading this page with nbviewer.org.</b></div><div class=\"sk-container\" hidden><div class=\"sk-item\"><div class=\"sk-estimator sk-toggleable\"><input class=\"sk-toggleable__control sk-hidden--visually\" id=\"sk-estimator-id-19\" type=\"checkbox\" checked><label for=\"sk-estimator-id-19\" class=\"sk-toggleable__label sk-toggleable__label-arrow\">GradientBoostingRegressor</label><div class=\"sk-toggleable__content\"><pre>GradientBoostingRegressor(max_depth=2, n_estimators=200, random_state=42)</pre></div></div></div></div></div>"
     },
     "execution_count": 56,
     "metadata": {},
     "output_type": "execute_result"
    }
   ],
   "source": [
    "gbrt_slow = GradientBoostingRegressor(max_depth=2, n_estimators=200, learning_rate=0.1, random_state=42)\n",
    "gbrt_slow.fit(X, y)"
   ],
   "metadata": {
    "collapsed": false,
    "ExecuteTime": {
     "end_time": "2024-03-13T05:29:15.147741Z",
     "start_time": "2024-03-13T05:29:15.118088Z"
    }
   },
   "id": "3e0567592a6b7701",
   "execution_count": 56
  },
  {
   "cell_type": "code",
   "outputs": [
    {
     "name": "stdout",
     "output_type": "stream",
     "text": [
      "Saving figure gbrt_learning_rate_plot\n"
     ]
    },
    {
     "data": {
      "text/plain": "<Figure size 1000x400 with 2 Axes>",
      "image/png": "[encoded data removed]"
     },
     "metadata": {},
     "output_type": "display_data"
    }
   ],
   "source": [
    "fix, axes = plt.subplots(ncols=2, figsize=(10,4), sharey=True)\n",
    "\n",
    "plt.sca(axes[0])\n",
    "plot_predictions([gbrt], X, y, axes=[-0.5, 0.5, -0.1, 0.8], label=\"Ensemble predictions\")\n",
    "plt.title(\"learning_rate={}, n_estimators={}\".format(gbrt.learning_rate, gbrt.n_estimators), fontsize=14)\n",
    "plt.xlabel(\"$x_1$\", fontsize=16)\n",
    "plt.ylabel(\"$y$\", fontsize=16, rotation=0)\n",
    "\n",
    "plt.sca(axes[1])\n",
    "plot_predictions([gbrt_slow], X, y, axes=[-0.5, 0.5, -0.1, 0.8])\n",
    "plt.title(\"learning_rate={}, n_estimators={}\".format(gbrt_slow.learning_rate, gbrt_slow.n_estimators), fontsize=14)\n",
    "plt.xlabel(\"$x_1$\", fontsize=16)\n",
    "\n",
    "save_fig(\"gbrt_learning_rate_plot\")\n",
    "plt.show()"
   ],
   "metadata": {
    "collapsed": false,
    "ExecuteTime": {
     "end_time": "2024-03-13T05:29:21.477166Z",
     "start_time": "2024-03-13T05:29:21.210052Z"
    }
   },
   "id": "1b107fb98da106b3",
   "execution_count": 57
  },
  {
   "cell_type": "code",
   "outputs": [
    {
     "data": {
      "text/plain": "GradientBoostingRegressor(max_depth=2, n_estimators=52)",
      "text/html": "<style>#sk-container-id-12 {color: black;}#sk-container-id-12 pre{padding: 0;}#sk-container-id-12 div.sk-toggleable {background-color: white;}#sk-container-id-12 label.sk-toggleable__label {cursor: pointer;display: block;width: 100%;margin-bottom: 0;padding: 0.3em;box-sizing: border-box;text-align: center;}#sk-container-id-12 label.sk-toggleable__label-arrow:before {content: \"▸\";float: left;margin-right: 0.25em;color: #696969;}#sk-container-id-12 label.sk-toggleable__label-arrow:hover:before {color: black;}#sk-container-id-12 div.sk-estimator:hover label.sk-toggleable__label-arrow:before {color: black;}#sk-container-id-12 div.sk-toggleable__content {max-height: 0;max-width: 0;overflow: hidden;text-align: left;background-color: #f0f8ff;}#sk-container-id-12 div.sk-toggleable__content pre {margin: 0.2em;color: black;border-radius: 0.25em;background-color: #f0f8ff;}#sk-container-id-12 input.sk-toggleable__control:checked~div.sk-toggleable__content {max-height: 200px;max-width: 100%;overflow: auto;}#sk-container-id-12 input.sk-toggleable__control:checked~label.sk-toggleable__label-arrow:before {content: \"▾\";}#sk-container-id-12 div.sk-estimator input.sk-toggleable__control:checked~label.sk-toggleable__label {background-color: #d4ebff;}#sk-container-id-12 div.sk-label input.sk-toggleable__control:checked~label.sk-toggleable__label {background-color: #d4ebff;}#sk-container-id-12 input.sk-hidden--visually {border: 0;clip: rect(1px 1px 1px 1px);clip: rect(1px, 1px, 1px, 1px);height: 1px;margin: -1px;overflow: hidden;padding: 0;position: absolute;width: 1px;}#sk-container-id-12 div.sk-estimator {font-family: monospace;background-color: #f0f8ff;border: 1px dotted black;border-radius: 0.25em;box-sizing: border-box;margin-bottom: 0.5em;}#sk-container-id-12 div.sk-estimator:hover {background-color: #d4ebff;}#sk-container-id-12 div.sk-parallel-item::after {content: \"\";width: 100%;border-bottom: 1px solid gray;flex-grow: 1;}#sk-container-id-12 div.sk-label:hover label.sk-toggleable__label {background-color: #d4ebff;}#sk-container-id-12 div.sk-serial::before {content: \"\";position: absolute;border-left: 1px solid gray;box-sizing: border-box;top: 0;bottom: 0;left: 50%;z-index: 0;}#sk-container-id-12 div.sk-serial {display: flex;flex-direction: column;align-items: center;background-color: white;padding-right: 0.2em;padding-left: 0.2em;position: relative;}#sk-container-id-12 div.sk-item {position: relative;z-index: 1;}#sk-container-id-12 div.sk-parallel {display: flex;align-items: stretch;justify-content: center;background-color: white;position: relative;}#sk-container-id-12 div.sk-item::before, #sk-container-id-12 div.sk-parallel-item::before {content: \"\";position: absolute;border-left: 1px solid gray;box-sizing: border-box;top: 0;bottom: 0;left: 50%;z-index: -1;}#sk-container-id-12 div.sk-parallel-item {display: flex;flex-direction: column;z-index: 1;position: relative;background-color: white;}#sk-container-id-12 div.sk-parallel-item:first-child::after {align-self: flex-end;width: 50%;}#sk-container-id-12 div.sk-parallel-item:last-child::after {align-self: flex-start;width: 50%;}#sk-container-id-12 div.sk-parallel-item:only-child::after {width: 0;}#sk-container-id-12 div.sk-dashed-wrapped {border: 1px dashed gray;margin: 0 0.4em 0.5em 0.4em;box-sizing: border-box;padding-bottom: 0.4em;background-color: white;}#sk-container-id-12 div.sk-label label {font-family: monospace;font-weight: bold;display: inline-block;line-height: 1.2em;}#sk-container-id-12 div.sk-label-container {text-align: center;}#sk-container-id-12 div.sk-container {/* jupyter's `normalize.less` sets `[hidden] { display: none; }` but bootstrap.min.css set `[hidden] { display: none !important; }` so we also need the `!important` here to be able to override the default hidden behavior on the sphinx rendered scikit-learn.org. See: https://github.com/scikit-learn/scikit-learn/issues/21755 */display: inline-block !important;position: relative;}#sk-container-id-12 div.sk-text-repr-fallback {display: none;}</style><div id=\"sk-container-id-12\" class=\"sk-top-container\"><div class=\"sk-text-repr-fallback\"><pre>GradientBoostingRegressor(max_depth=2, n_estimators=52)</pre><b>In a Jupyter environment, please rerun this cell to show the HTML representation or trust the notebook. <br />On GitHub, the HTML representation is unable to render, please try loading this page with nbviewer.org.</b></div><div class=\"sk-container\" hidden><div class=\"sk-item\"><div class=\"sk-estimator sk-toggleable\"><input class=\"sk-toggleable__control sk-hidden--visually\" id=\"sk-estimator-id-20\" type=\"checkbox\" checked><label for=\"sk-estimator-id-20\" class=\"sk-toggleable__label sk-toggleable__label-arrow\">GradientBoostingRegressor</label><div class=\"sk-toggleable__content\"><pre>GradientBoostingRegressor(max_depth=2, n_estimators=52)</pre></div></div></div></div></div>"
     },
     "execution_count": 58,
     "metadata": {},
     "output_type": "execute_result"
    }
   ],
   "source": [
    "import numpy as np\n",
    "from sklearn.model_selection import train_test_split\n",
    "from sklearn.metrics import mean_squared_error\n",
    "\n",
    "X_train , X_val , y_train , y_val = train_test_split(X , y)\n",
    "gbrt = GradientBoostingRegressor(max_depth = 2 , n_estimators = 120)\n",
    "gbrt.fit(X_train, y_train)\n",
    "errors = [mean_squared_error(y_val , y_pred) for y_pred in gbrt.staged_predict(X_val)]\n",
    "bst_n_estimators = np.argmin(errors)\n",
    "gbrt_best = GradientBoostingRegressor(max_depth = 2 , n_estimators = bst_n_estimators)\n",
    "gbrt_best.fit(X_train , y_train)"
   ],
   "metadata": {
    "collapsed": false,
    "ExecuteTime": {
     "end_time": "2024-03-13T05:34:31.342568Z",
     "start_time": "2024-03-13T05:34:31.297093Z"
    }
   },
   "id": "6f04a17550ce03dd",
   "execution_count": 58
  },
  {
   "cell_type": "code",
   "outputs": [],
   "source": [
    "min_error = np.min(errors)"
   ],
   "metadata": {
    "collapsed": false,
    "ExecuteTime": {
     "end_time": "2024-03-13T05:34:36.731769Z",
     "start_time": "2024-03-13T05:34:36.729220Z"
    }
   },
   "id": "963de4d629557ad4",
   "execution_count": 59
  },
  {
   "cell_type": "code",
   "outputs": [
    {
     "name": "stdout",
     "output_type": "stream",
     "text": [
      "Saving figure early_stopping_gbrt_plot\n"
     ]
    },
    {
     "data": {
      "text/plain": "<Figure size 1000x400 with 2 Axes>",
      "image/png": "[encoded data removed]"
     },
     "metadata": {},
     "output_type": "display_data"
    }
   ],
   "source": [
    "plt.figure(figsize=(10, 4))\n",
    "\n",
    "plt.subplot(121)\n",
    "plt.plot(np.arange(1, len(errors) + 1), errors, \"b.-\")\n",
    "plt.plot([bst_n_estimators, bst_n_estimators], [0, min_error], \"k--\")\n",
    "plt.plot([0, 120], [min_error, min_error], \"k--\")\n",
    "plt.plot(bst_n_estimators, min_error, \"ko\")\n",
    "plt.text(bst_n_estimators, min_error*1.2, \"Minimum\", ha=\"center\", fontsize=14)\n",
    "plt.axis([0, 120, 0, 0.01])\n",
    "plt.xlabel(\"Number of trees\")\n",
    "plt.ylabel(\"Error\", fontsize=16)\n",
    "plt.title(\"Validation error\", fontsize=14)\n",
    "\n",
    "plt.subplot(122)\n",
    "plot_predictions([gbrt_best], X, y, axes=[-0.5, 0.5, -0.1, 0.8])\n",
    "plt.title(\"Best model (%d trees)\" % bst_n_estimators, fontsize=14)\n",
    "plt.ylabel(\"$y$\", fontsize=16, rotation=0)\n",
    "plt.xlabel(\"$x_1$\", fontsize=16)\n",
    "\n",
    "save_fig(\"early_stopping_gbrt_plot\")\n",
    "plt.show()"
   ],
   "metadata": {
    "collapsed": false,
    "ExecuteTime": {
     "end_time": "2024-03-13T05:34:43.230067Z",
     "start_time": "2024-03-13T05:34:42.957929Z"
    }
   },
   "id": "895c8a6ec8d6fe12",
   "execution_count": 60
  },
  {
   "cell_type": "code",
   "outputs": [],
   "source": [
    "gbrt = GradientBoostingRegressor(max_depth=2 , warm_start= True)\n",
    "min_val_error = float(\"inf\")\n",
    "error_going_up = 0\n",
    "for n_estimators in range(1,120):\n",
    "    gbrt.n_estimators = n_estimators\n",
    "    gbrt.fit(X_train, y_train)\n",
    "    y_pred = gbrt.predict(X_val)\n",
    "    val_error = mean_squared_error(y_val, y_pred)\n",
    "    if val_error < min_val_error:\n",
    "        min_val_error = val_error\n",
    "        error_going_up = 0\n",
    "    else:\n",
    "        error_going_up += 1\n",
    "        if error_going_up == 5:\n",
    "            break"
   ],
   "metadata": {
    "collapsed": false,
    "ExecuteTime": {
     "end_time": "2024-03-13T13:05:06.182614Z",
     "start_time": "2024-03-13T13:05:06.142804Z"
    }
   },
   "id": "d054223ff884bf66",
   "execution_count": 61
  },
  {
   "cell_type": "code",
   "outputs": [
    {
     "name": "stdout",
     "output_type": "stream",
     "text": [
      "47\n"
     ]
    }
   ],
   "source": [
    "print(gbrt.n_estimators)"
   ],
   "metadata": {
    "collapsed": false,
    "ExecuteTime": {
     "end_time": "2024-03-13T13:06:31.369576Z",
     "start_time": "2024-03-13T13:06:31.367627Z"
    }
   },
   "id": "ac54ccc60d35421b",
   "execution_count": 62
  },
  {
   "cell_type": "code",
   "outputs": [
    {
     "name": "stdout",
     "output_type": "stream",
     "text": [
      "Minimum validation MSE: 0.0035540712919882983\n"
     ]
    }
   ],
   "source": [
    "print(\"Minimum validation MSE:\", min_val_error)"
   ],
   "metadata": {
    "collapsed": false,
    "ExecuteTime": {
     "end_time": "2024-03-13T13:06:41.261220Z",
     "start_time": "2024-03-13T13:06:41.259409Z"
    }
   },
   "id": "dacf50ef0e7f67ff",
   "execution_count": 63
  },
  {
   "cell_type": "code",
   "outputs": [],
   "source": [
    "try:\n",
    "    import xgboost\n",
    "except ImportError as ex:\n",
    "    print(\"Error: the xgboost library is not installed.\")\n",
    "    xgboost = None"
   ],
   "metadata": {
    "collapsed": false,
    "ExecuteTime": {
     "end_time": "2024-03-13T13:07:27.973335Z",
     "start_time": "2024-03-13T13:07:27.488692Z"
    }
   },
   "id": "87dfa389fe6eff46",
   "execution_count": 65
  },
  {
   "cell_type": "code",
   "outputs": [
    {
     "name": "stdout",
     "output_type": "stream",
     "text": [
      "Validation MSE: 0.0039984110306231085\n"
     ]
    }
   ],
   "source": [
    "if xgboost is not None:\n",
    "    xgb_reg = xgboost.XGBRegressor(random_state=42)\n",
    "    xgb_reg.fit(X_train, y_train)\n",
    "    y_pred = xgb_reg.predict(X_val)\n",
    "    val_error = mean_squared_error(y_val, y_pred)\n",
    "    print(\"Validation MSE:\", val_error)  "
   ],
   "metadata": {
    "collapsed": false,
    "ExecuteTime": {
     "end_time": "2024-03-13T13:09:26.345554Z",
     "start_time": "2024-03-13T13:09:26.316749Z"
    }
   },
   "id": "720d01f628c4499",
   "execution_count": 69
  },
  {
   "cell_type": "code",
   "outputs": [
    {
     "name": "stdout",
     "output_type": "stream",
     "text": [
      "[0]\tvalidation_0-rmse:0.21083\n",
      "[1]\tvalidation_0-rmse:0.14897\n",
      "[2]\tvalidation_0-rmse:0.11373\n",
      "[3]\tvalidation_0-rmse:0.09167\n",
      "[4]\tvalidation_0-rmse:0.07759\n",
      "[5]\tvalidation_0-rmse:0.06909\n",
      "[6]\tvalidation_0-rmse:0.06445\n",
      "[7]\tvalidation_0-rmse:0.06278\n",
      "[8]\tvalidation_0-rmse:0.06152\n",
      "[9]\tvalidation_0-rmse:0.06114\n",
      "[10]\tvalidation_0-rmse:0.06077\n",
      "[11]\tvalidation_0-rmse:0.06146\n",
      "[12]\tvalidation_0-rmse:0.06154\n",
      "[13]\tvalidation_0-rmse:0.06121\n",
      "[14]\tvalidation_0-rmse:0.06218\n",
      "[15]\tvalidation_0-rmse:0.06181\n",
      "[16]\tvalidation_0-rmse:0.06192\n",
      "[17]\tvalidation_0-rmse:0.06213\n",
      "[18]\tvalidation_0-rmse:0.06213\n",
      "[19]\tvalidation_0-rmse:0.06246\n",
      "Validation MSE: 0.0036926766442669746\n"
     ]
    },
    {
     "name": "stderr",
     "output_type": "stream",
     "text": [
      "/Users/bruh/anaconda3/lib/python3.11/site-packages/xgboost/sklearn.py:835: UserWarning: `early_stopping_rounds` in `fit` method is deprecated for better compatibility with scikit-learn, use `early_stopping_rounds` in constructor or`set_params` instead.\n",
      "  warnings.warn(\n"
     ]
    }
   ],
   "source": [
    "if xgboost is not None:  # not shown in the book\n",
    "    xgb_reg.fit(X_train, y_train,\n",
    "                eval_set=[(X_val, y_val)], early_stopping_rounds=10)\n",
    "    y_pred = xgb_reg.predict(X_val)\n",
    "    val_error = mean_squared_error(y_val, y_pred)  # Not shown\n",
    "    print(\"Validation MSE:\", val_error)            # Not shown"
   ],
   "metadata": {
    "collapsed": false,
    "ExecuteTime": {
     "end_time": "2024-03-13T13:12:10.990162Z",
     "start_time": "2024-03-13T13:12:10.956989Z"
    }
   },
   "id": "899fa2cb3538e692",
   "execution_count": 75
  },
  {
   "cell_type": "code",
   "outputs": [
    {
     "name": "stdout",
     "output_type": "stream",
     "text": [
      "13.5 ms ± 1.01 ms per loop (mean ± std. dev. of 7 runs, 100 loops each)\n"
     ]
    }
   ],
   "source": [
    "%timeit xgboost.XGBRegressor().fit(X_train, y_train) if xgboost is not None else None"
   ],
   "metadata": {
    "collapsed": false,
    "ExecuteTime": {
     "end_time": "2024-03-13T13:10:02.503974Z",
     "start_time": "2024-03-13T13:09:51.144563Z"
    }
   },
   "id": "99c6c2274da243c3",
   "execution_count": 72
  },
  {
   "cell_type": "code",
   "outputs": [
    {
     "name": "stdout",
     "output_type": "stream",
     "text": [
      "9.98 ms ± 214 µs per loop (mean ± std. dev. of 7 runs, 100 loops each)\n"
     ]
    }
   ],
   "source": [
    "%timeit GradientBoostingRegressor().fit(X_train, y_train)"
   ],
   "metadata": {
    "collapsed": false,
    "ExecuteTime": {
     "end_time": "2024-03-13T13:10:15.723566Z",
     "start_time": "2024-03-13T13:10:07.449036Z"
    }
   },
   "id": "2c01881e684bfdc4",
   "execution_count": 73
  },
  {
   "cell_type": "code",
   "outputs": [
    {
     "name": "stderr",
     "output_type": "stream",
     "text": [
      "/Users/bruh/anaconda3/lib/python3.11/site-packages/sklearn/datasets/_openml.py:1002: FutureWarning: The default value of `parser` will change from `'liac-arff'` to `'auto'` in 1.4. You can set `parser='auto'` to silence this warning. Therefore, an `ImportError` will be raised from 1.4 if the dataset is dense and pandas is not installed. Note that the pandas parser may return different data types. See the Notes Section in fetch_openml's API doc for details.\n",
      "  warn(\n"
     ]
    },
    {
     "name": "stdout",
     "output_type": "stream",
     "text": [
      "Training the RandomForestClassifier(random_state=42)\n",
      "Training the ExtraTreesClassifier(random_state=42)\n",
      "Training the LinearSVC(max_iter=100, random_state=42, tol=20)\n"
     ]
    },
    {
     "name": "stderr",
     "output_type": "stream",
     "text": [
      "/Users/bruh/anaconda3/lib/python3.11/site-packages/sklearn/svm/_classes.py:32: FutureWarning: The default value of `dual` will change from `True` to `'auto'` in 1.5. Set the value of `dual` explicitly to suppress the warning.\n",
      "  warnings.warn(\n"
     ]
    },
    {
     "name": "stdout",
     "output_type": "stream",
     "text": [
      "Training the MLPClassifier(random_state=42)\n"
     ]
    },
    {
     "name": "stderr",
     "output_type": "stream",
     "text": [
      "/Users/bruh/anaconda3/lib/python3.11/site-packages/sklearn/svm/_classes.py:32: FutureWarning: The default value of `dual` will change from `True` to `'auto'` in 1.5. Set the value of `dual` explicitly to suppress the warning.\n",
      "  warnings.warn(\n"
     ]
    },
    {
     "name": "stdout",
     "output_type": "stream",
     "text": [
      "0.9716\n"
     ]
    },
    {
     "data": {
      "text/plain": "[0.9692, 0.9709, 0.859, 0.966]"
     },
     "execution_count": 76,
     "metadata": {},
     "output_type": "execute_result"
    }
   ],
   "source": [
    "from sklearn.datasets import fetch_openml\n",
    "\n",
    "mnist = fetch_openml('mnist_784', version=1, as_frame=False)\n",
    "mnist.target = mnist.target.astype(np.uint8)\n",
    "X_train_val, X_test, y_train_val, y_test = train_test_split(mnist.data, mnist.target, test_size=10000, random_state=42)\n",
    "X_train, X_val, y_train, y_val = train_test_split(X_train_val, y_train_val, test_size=10000, random_state=42)\n",
    "from sklearn.ensemble import RandomForestClassifier, ExtraTreesClassifier\n",
    "from sklearn.svm import SVC, LinearSVC\n",
    "from sklearn.neural_network import MLPClassifier\n",
    "\n",
    "rnd_clf = RandomForestClassifier(n_estimators=100, random_state=42)\n",
    "ext_clf = ExtraTreesClassifier(n_estimators=100, random_state=42)\n",
    "svc_clf = LinearSVC(random_state=42, max_iter=100, tol=20)\n",
    "mlp_clf = MLPClassifier(random_state=42)\n",
    "estimators = [rnd_clf, ext_clf, svc_clf, mlp_clf]\n",
    "for estimator in estimators:\n",
    "    print(\"Training the\", estimator)\n",
    "    estimator.fit(X_train, y_train)\n",
    "[estimator.score(X_val, y_val) for estimator in estimators]\n",
    "from sklearn.ensemble import VotingClassifier\n",
    "\n",
    "named_estimators = [('rnd_clf', rnd_clf),\n",
    "                    ('ext_clf', ext_clf),\n",
    "                    ('svc_clf', svc_clf),\n",
    "                    ('mlp_clf', mlp_clf)\n",
    "                    ]\n",
    "voting_clf = VotingClassifier(named_estimators)\n",
    "voting_clf.fit(X_train, y_train)\n",
    "print(voting_clf.score(X_val, y_val))\n",
    "[estimator.score(X_val, y_val) for estimator in voting_clf.estimators_]"
   ],
   "metadata": {
    "collapsed": false,
    "ExecuteTime": {
     "end_time": "2024-03-13T14:00:17.492686Z",
     "start_time": "2024-03-13T13:54:10.766806Z"
    }
   },
   "id": "de99cdf7428f1565",
   "execution_count": 76
  },
  {
   "cell_type": "code",
   "outputs": [],
   "source": [],
   "metadata": {
    "collapsed": false
   },
   "id": "7044dfa36f2e1a05"
  }
 ],
 "metadata": {
  "kernelspec": {
   "display_name": "Python 3",
   "language": "python",
   "name": "python3"
  },
  "language_info": {
   "codemirror_mode": {
    "name": "ipython",
    "version": 2
   },
   "file_extension": ".py",
   "mimetype": "text/x-python",
   "name": "python",
   "nbconvert_exporter": "python",
   "pygments_lexer": "ipython2",
   "version": "2.7.6"
  }
 },
 "nbformat": 4,
 "nbformat_minor": 5
}
